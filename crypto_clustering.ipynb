{
 "cells": [
  {
   "cell_type": "markdown",
   "metadata": {},
   "source": [
    "# Clustering Crypto"
   ]
  },
  {
   "cell_type": "code",
   "execution_count": 191,
   "metadata": {},
   "outputs": [],
   "source": [
    "# Initial imports\n",
    "import pandas as pd\n",
    "import hvplot.pandas\n",
    "from pathlib import Path\n",
    "import plotly.express as px\n",
    "from sklearn.preprocessing import StandardScaler, MinMaxScaler\n",
    "from sklearn.decomposition import PCA\n",
    "from sklearn.cluster import KMeans\n"
   ]
  },
  {
   "cell_type": "markdown",
   "metadata": {},
   "source": [
    "### Deliverable 1: Preprocessing the Data for PCA"
   ]
  },
  {
   "cell_type": "code",
   "execution_count": 192,
   "metadata": {},
   "outputs": [
    {
     "data": {
      "text/html": [
       "<div>\n",
       "<style scoped>\n",
       "    .dataframe tbody tr th:only-of-type {\n",
       "        vertical-align: middle;\n",
       "    }\n",
       "\n",
       "    .dataframe tbody tr th {\n",
       "        vertical-align: top;\n",
       "    }\n",
       "\n",
       "    .dataframe thead th {\n",
       "        text-align: right;\n",
       "    }\n",
       "</style>\n",
       "<table border=\"1\" class=\"dataframe\">\n",
       "  <thead>\n",
       "    <tr style=\"text-align: right;\">\n",
       "      <th></th>\n",
       "      <th>CoinName</th>\n",
       "      <th>Algorithm</th>\n",
       "      <th>IsTrading</th>\n",
       "      <th>ProofType</th>\n",
       "      <th>TotalCoinsMined</th>\n",
       "      <th>TotalCoinSupply</th>\n",
       "    </tr>\n",
       "  </thead>\n",
       "  <tbody>\n",
       "    <tr>\n",
       "      <th>42</th>\n",
       "      <td>42 Coin</td>\n",
       "      <td>Scrypt</td>\n",
       "      <td>True</td>\n",
       "      <td>PoW/PoS</td>\n",
       "      <td>4.199995e+01</td>\n",
       "      <td>42</td>\n",
       "    </tr>\n",
       "    <tr>\n",
       "      <th>365</th>\n",
       "      <td>365Coin</td>\n",
       "      <td>X11</td>\n",
       "      <td>True</td>\n",
       "      <td>PoW/PoS</td>\n",
       "      <td>NaN</td>\n",
       "      <td>2300000000</td>\n",
       "    </tr>\n",
       "    <tr>\n",
       "      <th>404</th>\n",
       "      <td>404Coin</td>\n",
       "      <td>Scrypt</td>\n",
       "      <td>True</td>\n",
       "      <td>PoW/PoS</td>\n",
       "      <td>1.055185e+09</td>\n",
       "      <td>532000000</td>\n",
       "    </tr>\n",
       "    <tr>\n",
       "      <th>611</th>\n",
       "      <td>SixEleven</td>\n",
       "      <td>SHA-256</td>\n",
       "      <td>True</td>\n",
       "      <td>PoW</td>\n",
       "      <td>NaN</td>\n",
       "      <td>611000</td>\n",
       "    </tr>\n",
       "    <tr>\n",
       "      <th>808</th>\n",
       "      <td>808</td>\n",
       "      <td>SHA-256</td>\n",
       "      <td>True</td>\n",
       "      <td>PoW/PoS</td>\n",
       "      <td>0.000000e+00</td>\n",
       "      <td>0</td>\n",
       "    </tr>\n",
       "    <tr>\n",
       "      <th>1337</th>\n",
       "      <td>EliteCoin</td>\n",
       "      <td>X13</td>\n",
       "      <td>True</td>\n",
       "      <td>PoW/PoS</td>\n",
       "      <td>2.927942e+10</td>\n",
       "      <td>314159265359</td>\n",
       "    </tr>\n",
       "    <tr>\n",
       "      <th>2015</th>\n",
       "      <td>2015 coin</td>\n",
       "      <td>X11</td>\n",
       "      <td>True</td>\n",
       "      <td>PoW/PoS</td>\n",
       "      <td>NaN</td>\n",
       "      <td>0</td>\n",
       "    </tr>\n",
       "    <tr>\n",
       "      <th>BTC</th>\n",
       "      <td>Bitcoin</td>\n",
       "      <td>SHA-256</td>\n",
       "      <td>True</td>\n",
       "      <td>PoW</td>\n",
       "      <td>1.792718e+07</td>\n",
       "      <td>21000000</td>\n",
       "    </tr>\n",
       "    <tr>\n",
       "      <th>ETH</th>\n",
       "      <td>Ethereum</td>\n",
       "      <td>Ethash</td>\n",
       "      <td>True</td>\n",
       "      <td>PoW</td>\n",
       "      <td>1.076842e+08</td>\n",
       "      <td>0</td>\n",
       "    </tr>\n",
       "    <tr>\n",
       "      <th>LTC</th>\n",
       "      <td>Litecoin</td>\n",
       "      <td>Scrypt</td>\n",
       "      <td>True</td>\n",
       "      <td>PoW</td>\n",
       "      <td>6.303924e+07</td>\n",
       "      <td>84000000</td>\n",
       "    </tr>\n",
       "  </tbody>\n",
       "</table>\n",
       "</div>"
      ],
      "text/plain": [
       "       CoinName Algorithm  IsTrading ProofType  TotalCoinsMined  \\\n",
       "42      42 Coin    Scrypt       True   PoW/PoS     4.199995e+01   \n",
       "365     365Coin       X11       True   PoW/PoS              NaN   \n",
       "404     404Coin    Scrypt       True   PoW/PoS     1.055185e+09   \n",
       "611   SixEleven   SHA-256       True       PoW              NaN   \n",
       "808         808   SHA-256       True   PoW/PoS     0.000000e+00   \n",
       "1337  EliteCoin       X13       True   PoW/PoS     2.927942e+10   \n",
       "2015  2015 coin       X11       True   PoW/PoS              NaN   \n",
       "BTC     Bitcoin   SHA-256       True       PoW     1.792718e+07   \n",
       "ETH    Ethereum    Ethash       True       PoW     1.076842e+08   \n",
       "LTC    Litecoin    Scrypt       True       PoW     6.303924e+07   \n",
       "\n",
       "     TotalCoinSupply  \n",
       "42                42  \n",
       "365       2300000000  \n",
       "404        532000000  \n",
       "611           611000  \n",
       "808                0  \n",
       "1337    314159265359  \n",
       "2015               0  \n",
       "BTC         21000000  \n",
       "ETH                0  \n",
       "LTC         84000000  "
      ]
     },
     "execution_count": 192,
     "metadata": {},
     "output_type": "execute_result"
    }
   ],
   "source": [
    "# Load the crypto_data.csv dataset.\n",
    "df = pd.read_csv('crypto_data.csv')\n",
    "df.set_index('Unnamed: 0', inplace=True)\n",
    "df.index.name = None\n",
    "df.head(10)"
   ]
  },
  {
   "cell_type": "code",
   "execution_count": 193,
   "metadata": {},
   "outputs": [
    {
     "data": {
      "text/html": [
       "<div>\n",
       "<style scoped>\n",
       "    .dataframe tbody tr th:only-of-type {\n",
       "        vertical-align: middle;\n",
       "    }\n",
       "\n",
       "    .dataframe tbody tr th {\n",
       "        vertical-align: top;\n",
       "    }\n",
       "\n",
       "    .dataframe thead th {\n",
       "        text-align: right;\n",
       "    }\n",
       "</style>\n",
       "<table border=\"1\" class=\"dataframe\">\n",
       "  <thead>\n",
       "    <tr style=\"text-align: right;\">\n",
       "      <th></th>\n",
       "      <th>CoinName</th>\n",
       "      <th>Algorithm</th>\n",
       "      <th>IsTrading</th>\n",
       "      <th>ProofType</th>\n",
       "      <th>TotalCoinsMined</th>\n",
       "      <th>TotalCoinSupply</th>\n",
       "    </tr>\n",
       "  </thead>\n",
       "  <tbody>\n",
       "    <tr>\n",
       "      <th>42</th>\n",
       "      <td>42 Coin</td>\n",
       "      <td>Scrypt</td>\n",
       "      <td>True</td>\n",
       "      <td>PoW/PoS</td>\n",
       "      <td>4.199995e+01</td>\n",
       "      <td>42</td>\n",
       "    </tr>\n",
       "    <tr>\n",
       "      <th>365</th>\n",
       "      <td>365Coin</td>\n",
       "      <td>X11</td>\n",
       "      <td>True</td>\n",
       "      <td>PoW/PoS</td>\n",
       "      <td>NaN</td>\n",
       "      <td>2300000000</td>\n",
       "    </tr>\n",
       "    <tr>\n",
       "      <th>404</th>\n",
       "      <td>404Coin</td>\n",
       "      <td>Scrypt</td>\n",
       "      <td>True</td>\n",
       "      <td>PoW/PoS</td>\n",
       "      <td>1.055185e+09</td>\n",
       "      <td>532000000</td>\n",
       "    </tr>\n",
       "    <tr>\n",
       "      <th>611</th>\n",
       "      <td>SixEleven</td>\n",
       "      <td>SHA-256</td>\n",
       "      <td>True</td>\n",
       "      <td>PoW</td>\n",
       "      <td>NaN</td>\n",
       "      <td>611000</td>\n",
       "    </tr>\n",
       "    <tr>\n",
       "      <th>808</th>\n",
       "      <td>808</td>\n",
       "      <td>SHA-256</td>\n",
       "      <td>True</td>\n",
       "      <td>PoW/PoS</td>\n",
       "      <td>0.000000e+00</td>\n",
       "      <td>0</td>\n",
       "    </tr>\n",
       "    <tr>\n",
       "      <th>1337</th>\n",
       "      <td>EliteCoin</td>\n",
       "      <td>X13</td>\n",
       "      <td>True</td>\n",
       "      <td>PoW/PoS</td>\n",
       "      <td>2.927942e+10</td>\n",
       "      <td>314159265359</td>\n",
       "    </tr>\n",
       "    <tr>\n",
       "      <th>2015</th>\n",
       "      <td>2015 coin</td>\n",
       "      <td>X11</td>\n",
       "      <td>True</td>\n",
       "      <td>PoW/PoS</td>\n",
       "      <td>NaN</td>\n",
       "      <td>0</td>\n",
       "    </tr>\n",
       "    <tr>\n",
       "      <th>BTC</th>\n",
       "      <td>Bitcoin</td>\n",
       "      <td>SHA-256</td>\n",
       "      <td>True</td>\n",
       "      <td>PoW</td>\n",
       "      <td>1.792718e+07</td>\n",
       "      <td>21000000</td>\n",
       "    </tr>\n",
       "    <tr>\n",
       "      <th>ETH</th>\n",
       "      <td>Ethereum</td>\n",
       "      <td>Ethash</td>\n",
       "      <td>True</td>\n",
       "      <td>PoW</td>\n",
       "      <td>1.076842e+08</td>\n",
       "      <td>0</td>\n",
       "    </tr>\n",
       "    <tr>\n",
       "      <th>LTC</th>\n",
       "      <td>Litecoin</td>\n",
       "      <td>Scrypt</td>\n",
       "      <td>True</td>\n",
       "      <td>PoW</td>\n",
       "      <td>6.303924e+07</td>\n",
       "      <td>84000000</td>\n",
       "    </tr>\n",
       "  </tbody>\n",
       "</table>\n",
       "</div>"
      ],
      "text/plain": [
       "       CoinName Algorithm  IsTrading ProofType  TotalCoinsMined  \\\n",
       "42      42 Coin    Scrypt       True   PoW/PoS     4.199995e+01   \n",
       "365     365Coin       X11       True   PoW/PoS              NaN   \n",
       "404     404Coin    Scrypt       True   PoW/PoS     1.055185e+09   \n",
       "611   SixEleven   SHA-256       True       PoW              NaN   \n",
       "808         808   SHA-256       True   PoW/PoS     0.000000e+00   \n",
       "1337  EliteCoin       X13       True   PoW/PoS     2.927942e+10   \n",
       "2015  2015 coin       X11       True   PoW/PoS              NaN   \n",
       "BTC     Bitcoin   SHA-256       True       PoW     1.792718e+07   \n",
       "ETH    Ethereum    Ethash       True       PoW     1.076842e+08   \n",
       "LTC    Litecoin    Scrypt       True       PoW     6.303924e+07   \n",
       "\n",
       "     TotalCoinSupply  \n",
       "42                42  \n",
       "365       2300000000  \n",
       "404        532000000  \n",
       "611           611000  \n",
       "808                0  \n",
       "1337    314159265359  \n",
       "2015               0  \n",
       "BTC         21000000  \n",
       "ETH                0  \n",
       "LTC         84000000  "
      ]
     },
     "execution_count": 193,
     "metadata": {},
     "output_type": "execute_result"
    }
   ],
   "source": [
    "# Keep all the cryptocurrencies that are being traded.\n",
    "df = df[df['IsTrading'] == True]\n",
    "df.head(10)"
   ]
  },
  {
   "cell_type": "code",
   "execution_count": 194,
   "metadata": {},
   "outputs": [
    {
     "data": {
      "text/html": [
       "<div>\n",
       "<style scoped>\n",
       "    .dataframe tbody tr th:only-of-type {\n",
       "        vertical-align: middle;\n",
       "    }\n",
       "\n",
       "    .dataframe tbody tr th {\n",
       "        vertical-align: top;\n",
       "    }\n",
       "\n",
       "    .dataframe thead th {\n",
       "        text-align: right;\n",
       "    }\n",
       "</style>\n",
       "<table border=\"1\" class=\"dataframe\">\n",
       "  <thead>\n",
       "    <tr style=\"text-align: right;\">\n",
       "      <th></th>\n",
       "      <th>CoinName</th>\n",
       "      <th>Algorithm</th>\n",
       "      <th>ProofType</th>\n",
       "      <th>TotalCoinsMined</th>\n",
       "      <th>TotalCoinSupply</th>\n",
       "    </tr>\n",
       "  </thead>\n",
       "  <tbody>\n",
       "    <tr>\n",
       "      <th>42</th>\n",
       "      <td>42 Coin</td>\n",
       "      <td>Scrypt</td>\n",
       "      <td>PoW/PoS</td>\n",
       "      <td>4.199995e+01</td>\n",
       "      <td>42</td>\n",
       "    </tr>\n",
       "    <tr>\n",
       "      <th>365</th>\n",
       "      <td>365Coin</td>\n",
       "      <td>X11</td>\n",
       "      <td>PoW/PoS</td>\n",
       "      <td>NaN</td>\n",
       "      <td>2300000000</td>\n",
       "    </tr>\n",
       "    <tr>\n",
       "      <th>404</th>\n",
       "      <td>404Coin</td>\n",
       "      <td>Scrypt</td>\n",
       "      <td>PoW/PoS</td>\n",
       "      <td>1.055185e+09</td>\n",
       "      <td>532000000</td>\n",
       "    </tr>\n",
       "    <tr>\n",
       "      <th>611</th>\n",
       "      <td>SixEleven</td>\n",
       "      <td>SHA-256</td>\n",
       "      <td>PoW</td>\n",
       "      <td>NaN</td>\n",
       "      <td>611000</td>\n",
       "    </tr>\n",
       "    <tr>\n",
       "      <th>808</th>\n",
       "      <td>808</td>\n",
       "      <td>SHA-256</td>\n",
       "      <td>PoW/PoS</td>\n",
       "      <td>0.000000e+00</td>\n",
       "      <td>0</td>\n",
       "    </tr>\n",
       "    <tr>\n",
       "      <th>1337</th>\n",
       "      <td>EliteCoin</td>\n",
       "      <td>X13</td>\n",
       "      <td>PoW/PoS</td>\n",
       "      <td>2.927942e+10</td>\n",
       "      <td>314159265359</td>\n",
       "    </tr>\n",
       "    <tr>\n",
       "      <th>2015</th>\n",
       "      <td>2015 coin</td>\n",
       "      <td>X11</td>\n",
       "      <td>PoW/PoS</td>\n",
       "      <td>NaN</td>\n",
       "      <td>0</td>\n",
       "    </tr>\n",
       "    <tr>\n",
       "      <th>BTC</th>\n",
       "      <td>Bitcoin</td>\n",
       "      <td>SHA-256</td>\n",
       "      <td>PoW</td>\n",
       "      <td>1.792718e+07</td>\n",
       "      <td>21000000</td>\n",
       "    </tr>\n",
       "    <tr>\n",
       "      <th>ETH</th>\n",
       "      <td>Ethereum</td>\n",
       "      <td>Ethash</td>\n",
       "      <td>PoW</td>\n",
       "      <td>1.076842e+08</td>\n",
       "      <td>0</td>\n",
       "    </tr>\n",
       "    <tr>\n",
       "      <th>LTC</th>\n",
       "      <td>Litecoin</td>\n",
       "      <td>Scrypt</td>\n",
       "      <td>PoW</td>\n",
       "      <td>6.303924e+07</td>\n",
       "      <td>84000000</td>\n",
       "    </tr>\n",
       "  </tbody>\n",
       "</table>\n",
       "</div>"
      ],
      "text/plain": [
       "       CoinName Algorithm ProofType  TotalCoinsMined TotalCoinSupply\n",
       "42      42 Coin    Scrypt   PoW/PoS     4.199995e+01              42\n",
       "365     365Coin       X11   PoW/PoS              NaN      2300000000\n",
       "404     404Coin    Scrypt   PoW/PoS     1.055185e+09       532000000\n",
       "611   SixEleven   SHA-256       PoW              NaN          611000\n",
       "808         808   SHA-256   PoW/PoS     0.000000e+00               0\n",
       "1337  EliteCoin       X13   PoW/PoS     2.927942e+10    314159265359\n",
       "2015  2015 coin       X11   PoW/PoS              NaN               0\n",
       "BTC     Bitcoin   SHA-256       PoW     1.792718e+07        21000000\n",
       "ETH    Ethereum    Ethash       PoW     1.076842e+08               0\n",
       "LTC    Litecoin    Scrypt       PoW     6.303924e+07        84000000"
      ]
     },
     "execution_count": 194,
     "metadata": {},
     "output_type": "execute_result"
    }
   ],
   "source": [
    "# Remove the \"IsTrading\" column. \n",
    "df = df.drop(['IsTrading'],axis=1)\n",
    "df.head(10)"
   ]
  },
  {
   "cell_type": "code",
   "execution_count": 195,
   "metadata": {},
   "outputs": [
    {
     "data": {
      "text/html": [
       "<div>\n",
       "<style scoped>\n",
       "    .dataframe tbody tr th:only-of-type {\n",
       "        vertical-align: middle;\n",
       "    }\n",
       "\n",
       "    .dataframe tbody tr th {\n",
       "        vertical-align: top;\n",
       "    }\n",
       "\n",
       "    .dataframe thead th {\n",
       "        text-align: right;\n",
       "    }\n",
       "</style>\n",
       "<table border=\"1\" class=\"dataframe\">\n",
       "  <thead>\n",
       "    <tr style=\"text-align: right;\">\n",
       "      <th></th>\n",
       "      <th>CoinName</th>\n",
       "      <th>Algorithm</th>\n",
       "      <th>ProofType</th>\n",
       "      <th>TotalCoinsMined</th>\n",
       "      <th>TotalCoinSupply</th>\n",
       "    </tr>\n",
       "  </thead>\n",
       "  <tbody>\n",
       "    <tr>\n",
       "      <th>42</th>\n",
       "      <td>42 Coin</td>\n",
       "      <td>Scrypt</td>\n",
       "      <td>PoW/PoS</td>\n",
       "      <td>4.199995e+01</td>\n",
       "      <td>42</td>\n",
       "    </tr>\n",
       "    <tr>\n",
       "      <th>404</th>\n",
       "      <td>404Coin</td>\n",
       "      <td>Scrypt</td>\n",
       "      <td>PoW/PoS</td>\n",
       "      <td>1.055185e+09</td>\n",
       "      <td>532000000</td>\n",
       "    </tr>\n",
       "    <tr>\n",
       "      <th>808</th>\n",
       "      <td>808</td>\n",
       "      <td>SHA-256</td>\n",
       "      <td>PoW/PoS</td>\n",
       "      <td>0.000000e+00</td>\n",
       "      <td>0</td>\n",
       "    </tr>\n",
       "    <tr>\n",
       "      <th>1337</th>\n",
       "      <td>EliteCoin</td>\n",
       "      <td>X13</td>\n",
       "      <td>PoW/PoS</td>\n",
       "      <td>2.927942e+10</td>\n",
       "      <td>314159265359</td>\n",
       "    </tr>\n",
       "    <tr>\n",
       "      <th>BTC</th>\n",
       "      <td>Bitcoin</td>\n",
       "      <td>SHA-256</td>\n",
       "      <td>PoW</td>\n",
       "      <td>1.792718e+07</td>\n",
       "      <td>21000000</td>\n",
       "    </tr>\n",
       "    <tr>\n",
       "      <th>ETH</th>\n",
       "      <td>Ethereum</td>\n",
       "      <td>Ethash</td>\n",
       "      <td>PoW</td>\n",
       "      <td>1.076842e+08</td>\n",
       "      <td>0</td>\n",
       "    </tr>\n",
       "    <tr>\n",
       "      <th>LTC</th>\n",
       "      <td>Litecoin</td>\n",
       "      <td>Scrypt</td>\n",
       "      <td>PoW</td>\n",
       "      <td>6.303924e+07</td>\n",
       "      <td>84000000</td>\n",
       "    </tr>\n",
       "    <tr>\n",
       "      <th>DASH</th>\n",
       "      <td>Dash</td>\n",
       "      <td>X11</td>\n",
       "      <td>PoW/PoS</td>\n",
       "      <td>9.031294e+06</td>\n",
       "      <td>22000000</td>\n",
       "    </tr>\n",
       "    <tr>\n",
       "      <th>XMR</th>\n",
       "      <td>Monero</td>\n",
       "      <td>CryptoNight-V7</td>\n",
       "      <td>PoW</td>\n",
       "      <td>1.720114e+07</td>\n",
       "      <td>0</td>\n",
       "    </tr>\n",
       "    <tr>\n",
       "      <th>ETC</th>\n",
       "      <td>Ethereum Classic</td>\n",
       "      <td>Ethash</td>\n",
       "      <td>PoW</td>\n",
       "      <td>1.133597e+08</td>\n",
       "      <td>210000000</td>\n",
       "    </tr>\n",
       "  </tbody>\n",
       "</table>\n",
       "</div>"
      ],
      "text/plain": [
       "              CoinName       Algorithm ProofType  TotalCoinsMined  \\\n",
       "42             42 Coin          Scrypt   PoW/PoS     4.199995e+01   \n",
       "404            404Coin          Scrypt   PoW/PoS     1.055185e+09   \n",
       "808                808         SHA-256   PoW/PoS     0.000000e+00   \n",
       "1337         EliteCoin             X13   PoW/PoS     2.927942e+10   \n",
       "BTC            Bitcoin         SHA-256       PoW     1.792718e+07   \n",
       "ETH           Ethereum          Ethash       PoW     1.076842e+08   \n",
       "LTC           Litecoin          Scrypt       PoW     6.303924e+07   \n",
       "DASH              Dash             X11   PoW/PoS     9.031294e+06   \n",
       "XMR             Monero  CryptoNight-V7       PoW     1.720114e+07   \n",
       "ETC   Ethereum Classic          Ethash       PoW     1.133597e+08   \n",
       "\n",
       "     TotalCoinSupply  \n",
       "42                42  \n",
       "404        532000000  \n",
       "808                0  \n",
       "1337    314159265359  \n",
       "BTC         21000000  \n",
       "ETH                0  \n",
       "LTC         84000000  \n",
       "DASH        22000000  \n",
       "XMR                0  \n",
       "ETC        210000000  "
      ]
     },
     "execution_count": 195,
     "metadata": {},
     "output_type": "execute_result"
    }
   ],
   "source": [
    "# Remove rows that have at least 1 null value.\n",
    "df.dropna(inplace=True)\n",
    "df.head(10)"
   ]
  },
  {
   "cell_type": "code",
   "execution_count": 196,
   "metadata": {},
   "outputs": [
    {
     "data": {
      "text/html": [
       "<div>\n",
       "<style scoped>\n",
       "    .dataframe tbody tr th:only-of-type {\n",
       "        vertical-align: middle;\n",
       "    }\n",
       "\n",
       "    .dataframe tbody tr th {\n",
       "        vertical-align: top;\n",
       "    }\n",
       "\n",
       "    .dataframe thead th {\n",
       "        text-align: right;\n",
       "    }\n",
       "</style>\n",
       "<table border=\"1\" class=\"dataframe\">\n",
       "  <thead>\n",
       "    <tr style=\"text-align: right;\">\n",
       "      <th></th>\n",
       "      <th>CoinName</th>\n",
       "      <th>Algorithm</th>\n",
       "      <th>ProofType</th>\n",
       "      <th>TotalCoinsMined</th>\n",
       "      <th>TotalCoinSupply</th>\n",
       "    </tr>\n",
       "  </thead>\n",
       "  <tbody>\n",
       "    <tr>\n",
       "      <th>42</th>\n",
       "      <td>42 Coin</td>\n",
       "      <td>Scrypt</td>\n",
       "      <td>PoW/PoS</td>\n",
       "      <td>4.199995e+01</td>\n",
       "      <td>42</td>\n",
       "    </tr>\n",
       "    <tr>\n",
       "      <th>404</th>\n",
       "      <td>404Coin</td>\n",
       "      <td>Scrypt</td>\n",
       "      <td>PoW/PoS</td>\n",
       "      <td>1.055185e+09</td>\n",
       "      <td>532000000</td>\n",
       "    </tr>\n",
       "    <tr>\n",
       "      <th>1337</th>\n",
       "      <td>EliteCoin</td>\n",
       "      <td>X13</td>\n",
       "      <td>PoW/PoS</td>\n",
       "      <td>2.927942e+10</td>\n",
       "      <td>314159265359</td>\n",
       "    </tr>\n",
       "    <tr>\n",
       "      <th>BTC</th>\n",
       "      <td>Bitcoin</td>\n",
       "      <td>SHA-256</td>\n",
       "      <td>PoW</td>\n",
       "      <td>1.792718e+07</td>\n",
       "      <td>21000000</td>\n",
       "    </tr>\n",
       "    <tr>\n",
       "      <th>ETH</th>\n",
       "      <td>Ethereum</td>\n",
       "      <td>Ethash</td>\n",
       "      <td>PoW</td>\n",
       "      <td>1.076842e+08</td>\n",
       "      <td>0</td>\n",
       "    </tr>\n",
       "    <tr>\n",
       "      <th>LTC</th>\n",
       "      <td>Litecoin</td>\n",
       "      <td>Scrypt</td>\n",
       "      <td>PoW</td>\n",
       "      <td>6.303924e+07</td>\n",
       "      <td>84000000</td>\n",
       "    </tr>\n",
       "    <tr>\n",
       "      <th>DASH</th>\n",
       "      <td>Dash</td>\n",
       "      <td>X11</td>\n",
       "      <td>PoW/PoS</td>\n",
       "      <td>9.031294e+06</td>\n",
       "      <td>22000000</td>\n",
       "    </tr>\n",
       "    <tr>\n",
       "      <th>XMR</th>\n",
       "      <td>Monero</td>\n",
       "      <td>CryptoNight-V7</td>\n",
       "      <td>PoW</td>\n",
       "      <td>1.720114e+07</td>\n",
       "      <td>0</td>\n",
       "    </tr>\n",
       "    <tr>\n",
       "      <th>ETC</th>\n",
       "      <td>Ethereum Classic</td>\n",
       "      <td>Ethash</td>\n",
       "      <td>PoW</td>\n",
       "      <td>1.133597e+08</td>\n",
       "      <td>210000000</td>\n",
       "    </tr>\n",
       "    <tr>\n",
       "      <th>ZEC</th>\n",
       "      <td>ZCash</td>\n",
       "      <td>Equihash</td>\n",
       "      <td>PoW</td>\n",
       "      <td>7.383056e+06</td>\n",
       "      <td>21000000</td>\n",
       "    </tr>\n",
       "  </tbody>\n",
       "</table>\n",
       "</div>"
      ],
      "text/plain": [
       "              CoinName       Algorithm ProofType  TotalCoinsMined  \\\n",
       "42             42 Coin          Scrypt   PoW/PoS     4.199995e+01   \n",
       "404            404Coin          Scrypt   PoW/PoS     1.055185e+09   \n",
       "1337         EliteCoin             X13   PoW/PoS     2.927942e+10   \n",
       "BTC            Bitcoin         SHA-256       PoW     1.792718e+07   \n",
       "ETH           Ethereum          Ethash       PoW     1.076842e+08   \n",
       "LTC           Litecoin          Scrypt       PoW     6.303924e+07   \n",
       "DASH              Dash             X11   PoW/PoS     9.031294e+06   \n",
       "XMR             Monero  CryptoNight-V7       PoW     1.720114e+07   \n",
       "ETC   Ethereum Classic          Ethash       PoW     1.133597e+08   \n",
       "ZEC              ZCash        Equihash       PoW     7.383056e+06   \n",
       "\n",
       "     TotalCoinSupply  \n",
       "42                42  \n",
       "404        532000000  \n",
       "1337    314159265359  \n",
       "BTC         21000000  \n",
       "ETH                0  \n",
       "LTC         84000000  \n",
       "DASH        22000000  \n",
       "XMR                0  \n",
       "ETC        210000000  \n",
       "ZEC         21000000  "
      ]
     },
     "execution_count": 196,
     "metadata": {},
     "output_type": "execute_result"
    }
   ],
   "source": [
    "# Keep the rows where coins are mined.\n",
    "df = df[df['TotalCoinsMined'] > 0]\n",
    "df.head(10)"
   ]
  },
  {
   "cell_type": "code",
   "execution_count": 197,
   "metadata": {},
   "outputs": [
    {
     "data": {
      "text/html": [
       "<div>\n",
       "<style scoped>\n",
       "    .dataframe tbody tr th:only-of-type {\n",
       "        vertical-align: middle;\n",
       "    }\n",
       "\n",
       "    .dataframe tbody tr th {\n",
       "        vertical-align: top;\n",
       "    }\n",
       "\n",
       "    .dataframe thead th {\n",
       "        text-align: right;\n",
       "    }\n",
       "</style>\n",
       "<table border=\"1\" class=\"dataframe\">\n",
       "  <thead>\n",
       "    <tr style=\"text-align: right;\">\n",
       "      <th></th>\n",
       "      <th>CoinName</th>\n",
       "    </tr>\n",
       "  </thead>\n",
       "  <tbody>\n",
       "    <tr>\n",
       "      <th>42</th>\n",
       "      <td>42 Coin</td>\n",
       "    </tr>\n",
       "    <tr>\n",
       "      <th>404</th>\n",
       "      <td>404Coin</td>\n",
       "    </tr>\n",
       "    <tr>\n",
       "      <th>1337</th>\n",
       "      <td>EliteCoin</td>\n",
       "    </tr>\n",
       "    <tr>\n",
       "      <th>BTC</th>\n",
       "      <td>Bitcoin</td>\n",
       "    </tr>\n",
       "    <tr>\n",
       "      <th>ETH</th>\n",
       "      <td>Ethereum</td>\n",
       "    </tr>\n",
       "  </tbody>\n",
       "</table>\n",
       "</div>"
      ],
      "text/plain": [
       "       CoinName\n",
       "42      42 Coin\n",
       "404     404Coin\n",
       "1337  EliteCoin\n",
       "BTC     Bitcoin\n",
       "ETH    Ethereum"
      ]
     },
     "execution_count": 197,
     "metadata": {},
     "output_type": "execute_result"
    }
   ],
   "source": [
    "# Create a new DataFrame that holds only the cryptocurrencies names.\n",
    "names_df = df.loc[:, ['CoinName']]\n",
    "names_df.head()"
   ]
  },
  {
   "cell_type": "code",
   "execution_count": 198,
   "metadata": {},
   "outputs": [
    {
     "data": {
      "text/html": [
       "<div>\n",
       "<style scoped>\n",
       "    .dataframe tbody tr th:only-of-type {\n",
       "        vertical-align: middle;\n",
       "    }\n",
       "\n",
       "    .dataframe tbody tr th {\n",
       "        vertical-align: top;\n",
       "    }\n",
       "\n",
       "    .dataframe thead th {\n",
       "        text-align: right;\n",
       "    }\n",
       "</style>\n",
       "<table border=\"1\" class=\"dataframe\">\n",
       "  <thead>\n",
       "    <tr style=\"text-align: right;\">\n",
       "      <th></th>\n",
       "      <th>Algorithm</th>\n",
       "      <th>ProofType</th>\n",
       "      <th>TotalCoinsMined</th>\n",
       "      <th>TotalCoinSupply</th>\n",
       "    </tr>\n",
       "  </thead>\n",
       "  <tbody>\n",
       "    <tr>\n",
       "      <th>42</th>\n",
       "      <td>Scrypt</td>\n",
       "      <td>PoW/PoS</td>\n",
       "      <td>4.199995e+01</td>\n",
       "      <td>42</td>\n",
       "    </tr>\n",
       "    <tr>\n",
       "      <th>404</th>\n",
       "      <td>Scrypt</td>\n",
       "      <td>PoW/PoS</td>\n",
       "      <td>1.055185e+09</td>\n",
       "      <td>532000000</td>\n",
       "    </tr>\n",
       "    <tr>\n",
       "      <th>1337</th>\n",
       "      <td>X13</td>\n",
       "      <td>PoW/PoS</td>\n",
       "      <td>2.927942e+10</td>\n",
       "      <td>314159265359</td>\n",
       "    </tr>\n",
       "    <tr>\n",
       "      <th>BTC</th>\n",
       "      <td>SHA-256</td>\n",
       "      <td>PoW</td>\n",
       "      <td>1.792718e+07</td>\n",
       "      <td>21000000</td>\n",
       "    </tr>\n",
       "    <tr>\n",
       "      <th>ETH</th>\n",
       "      <td>Ethash</td>\n",
       "      <td>PoW</td>\n",
       "      <td>1.076842e+08</td>\n",
       "      <td>0</td>\n",
       "    </tr>\n",
       "    <tr>\n",
       "      <th>LTC</th>\n",
       "      <td>Scrypt</td>\n",
       "      <td>PoW</td>\n",
       "      <td>6.303924e+07</td>\n",
       "      <td>84000000</td>\n",
       "    </tr>\n",
       "    <tr>\n",
       "      <th>DASH</th>\n",
       "      <td>X11</td>\n",
       "      <td>PoW/PoS</td>\n",
       "      <td>9.031294e+06</td>\n",
       "      <td>22000000</td>\n",
       "    </tr>\n",
       "    <tr>\n",
       "      <th>XMR</th>\n",
       "      <td>CryptoNight-V7</td>\n",
       "      <td>PoW</td>\n",
       "      <td>1.720114e+07</td>\n",
       "      <td>0</td>\n",
       "    </tr>\n",
       "    <tr>\n",
       "      <th>ETC</th>\n",
       "      <td>Ethash</td>\n",
       "      <td>PoW</td>\n",
       "      <td>1.133597e+08</td>\n",
       "      <td>210000000</td>\n",
       "    </tr>\n",
       "    <tr>\n",
       "      <th>ZEC</th>\n",
       "      <td>Equihash</td>\n",
       "      <td>PoW</td>\n",
       "      <td>7.383056e+06</td>\n",
       "      <td>21000000</td>\n",
       "    </tr>\n",
       "  </tbody>\n",
       "</table>\n",
       "</div>"
      ],
      "text/plain": [
       "           Algorithm ProofType  TotalCoinsMined TotalCoinSupply\n",
       "42            Scrypt   PoW/PoS     4.199995e+01              42\n",
       "404           Scrypt   PoW/PoS     1.055185e+09       532000000\n",
       "1337             X13   PoW/PoS     2.927942e+10    314159265359\n",
       "BTC          SHA-256       PoW     1.792718e+07        21000000\n",
       "ETH           Ethash       PoW     1.076842e+08               0\n",
       "LTC           Scrypt       PoW     6.303924e+07        84000000\n",
       "DASH             X11   PoW/PoS     9.031294e+06        22000000\n",
       "XMR   CryptoNight-V7       PoW     1.720114e+07               0\n",
       "ETC           Ethash       PoW     1.133597e+08       210000000\n",
       "ZEC         Equihash       PoW     7.383056e+06        21000000"
      ]
     },
     "execution_count": 198,
     "metadata": {},
     "output_type": "execute_result"
    }
   ],
   "source": [
    "# Drop the 'CoinName' column since it's not going to be used on the clustering algorithm.\n",
    "df = df.drop(['CoinName'],axis=1)\n",
    "df.head(10)"
   ]
  },
  {
   "cell_type": "code",
   "execution_count": 199,
   "metadata": {},
   "outputs": [
    {
     "data": {
      "text/html": [
       "<div>\n",
       "<style scoped>\n",
       "    .dataframe tbody tr th:only-of-type {\n",
       "        vertical-align: middle;\n",
       "    }\n",
       "\n",
       "    .dataframe tbody tr th {\n",
       "        vertical-align: top;\n",
       "    }\n",
       "\n",
       "    .dataframe thead th {\n",
       "        text-align: right;\n",
       "    }\n",
       "</style>\n",
       "<table border=\"1\" class=\"dataframe\">\n",
       "  <thead>\n",
       "    <tr style=\"text-align: right;\">\n",
       "      <th></th>\n",
       "      <th>TotalCoinsMined</th>\n",
       "      <th>TotalCoinSupply</th>\n",
       "      <th>Algorithm_1GB AES Pattern Search</th>\n",
       "      <th>Algorithm_536</th>\n",
       "      <th>Algorithm_Argon2d</th>\n",
       "      <th>Algorithm_BLAKE256</th>\n",
       "      <th>Algorithm_Blake</th>\n",
       "      <th>Algorithm_Blake2S</th>\n",
       "      <th>Algorithm_Blake2b</th>\n",
       "      <th>Algorithm_C11</th>\n",
       "      <th>...</th>\n",
       "      <th>ProofType_PoW/PoS</th>\n",
       "      <th>ProofType_PoW/PoS</th>\n",
       "      <th>ProofType_PoW/PoW</th>\n",
       "      <th>ProofType_PoW/nPoS</th>\n",
       "      <th>ProofType_Pos</th>\n",
       "      <th>ProofType_Proof of Authority</th>\n",
       "      <th>ProofType_Proof of Trust</th>\n",
       "      <th>ProofType_TPoS</th>\n",
       "      <th>ProofType_Zero-Knowledge Proof</th>\n",
       "      <th>ProofType_dPoW/PoW</th>\n",
       "    </tr>\n",
       "  </thead>\n",
       "  <tbody>\n",
       "    <tr>\n",
       "      <th>42</th>\n",
       "      <td>4.199995e+01</td>\n",
       "      <td>42</td>\n",
       "      <td>0</td>\n",
       "      <td>0</td>\n",
       "      <td>0</td>\n",
       "      <td>0</td>\n",
       "      <td>0</td>\n",
       "      <td>0</td>\n",
       "      <td>0</td>\n",
       "      <td>0</td>\n",
       "      <td>...</td>\n",
       "      <td>1</td>\n",
       "      <td>0</td>\n",
       "      <td>0</td>\n",
       "      <td>0</td>\n",
       "      <td>0</td>\n",
       "      <td>0</td>\n",
       "      <td>0</td>\n",
       "      <td>0</td>\n",
       "      <td>0</td>\n",
       "      <td>0</td>\n",
       "    </tr>\n",
       "    <tr>\n",
       "      <th>404</th>\n",
       "      <td>1.055185e+09</td>\n",
       "      <td>532000000</td>\n",
       "      <td>0</td>\n",
       "      <td>0</td>\n",
       "      <td>0</td>\n",
       "      <td>0</td>\n",
       "      <td>0</td>\n",
       "      <td>0</td>\n",
       "      <td>0</td>\n",
       "      <td>0</td>\n",
       "      <td>...</td>\n",
       "      <td>1</td>\n",
       "      <td>0</td>\n",
       "      <td>0</td>\n",
       "      <td>0</td>\n",
       "      <td>0</td>\n",
       "      <td>0</td>\n",
       "      <td>0</td>\n",
       "      <td>0</td>\n",
       "      <td>0</td>\n",
       "      <td>0</td>\n",
       "    </tr>\n",
       "    <tr>\n",
       "      <th>1337</th>\n",
       "      <td>2.927942e+10</td>\n",
       "      <td>314159265359</td>\n",
       "      <td>0</td>\n",
       "      <td>0</td>\n",
       "      <td>0</td>\n",
       "      <td>0</td>\n",
       "      <td>0</td>\n",
       "      <td>0</td>\n",
       "      <td>0</td>\n",
       "      <td>0</td>\n",
       "      <td>...</td>\n",
       "      <td>1</td>\n",
       "      <td>0</td>\n",
       "      <td>0</td>\n",
       "      <td>0</td>\n",
       "      <td>0</td>\n",
       "      <td>0</td>\n",
       "      <td>0</td>\n",
       "      <td>0</td>\n",
       "      <td>0</td>\n",
       "      <td>0</td>\n",
       "    </tr>\n",
       "    <tr>\n",
       "      <th>BTC</th>\n",
       "      <td>1.792718e+07</td>\n",
       "      <td>21000000</td>\n",
       "      <td>0</td>\n",
       "      <td>0</td>\n",
       "      <td>0</td>\n",
       "      <td>0</td>\n",
       "      <td>0</td>\n",
       "      <td>0</td>\n",
       "      <td>0</td>\n",
       "      <td>0</td>\n",
       "      <td>...</td>\n",
       "      <td>0</td>\n",
       "      <td>0</td>\n",
       "      <td>0</td>\n",
       "      <td>0</td>\n",
       "      <td>0</td>\n",
       "      <td>0</td>\n",
       "      <td>0</td>\n",
       "      <td>0</td>\n",
       "      <td>0</td>\n",
       "      <td>0</td>\n",
       "    </tr>\n",
       "    <tr>\n",
       "      <th>ETH</th>\n",
       "      <td>1.076842e+08</td>\n",
       "      <td>0</td>\n",
       "      <td>0</td>\n",
       "      <td>0</td>\n",
       "      <td>0</td>\n",
       "      <td>0</td>\n",
       "      <td>0</td>\n",
       "      <td>0</td>\n",
       "      <td>0</td>\n",
       "      <td>0</td>\n",
       "      <td>...</td>\n",
       "      <td>0</td>\n",
       "      <td>0</td>\n",
       "      <td>0</td>\n",
       "      <td>0</td>\n",
       "      <td>0</td>\n",
       "      <td>0</td>\n",
       "      <td>0</td>\n",
       "      <td>0</td>\n",
       "      <td>0</td>\n",
       "      <td>0</td>\n",
       "    </tr>\n",
       "    <tr>\n",
       "      <th>LTC</th>\n",
       "      <td>6.303924e+07</td>\n",
       "      <td>84000000</td>\n",
       "      <td>0</td>\n",
       "      <td>0</td>\n",
       "      <td>0</td>\n",
       "      <td>0</td>\n",
       "      <td>0</td>\n",
       "      <td>0</td>\n",
       "      <td>0</td>\n",
       "      <td>0</td>\n",
       "      <td>...</td>\n",
       "      <td>0</td>\n",
       "      <td>0</td>\n",
       "      <td>0</td>\n",
       "      <td>0</td>\n",
       "      <td>0</td>\n",
       "      <td>0</td>\n",
       "      <td>0</td>\n",
       "      <td>0</td>\n",
       "      <td>0</td>\n",
       "      <td>0</td>\n",
       "    </tr>\n",
       "    <tr>\n",
       "      <th>DASH</th>\n",
       "      <td>9.031294e+06</td>\n",
       "      <td>22000000</td>\n",
       "      <td>0</td>\n",
       "      <td>0</td>\n",
       "      <td>0</td>\n",
       "      <td>0</td>\n",
       "      <td>0</td>\n",
       "      <td>0</td>\n",
       "      <td>0</td>\n",
       "      <td>0</td>\n",
       "      <td>...</td>\n",
       "      <td>1</td>\n",
       "      <td>0</td>\n",
       "      <td>0</td>\n",
       "      <td>0</td>\n",
       "      <td>0</td>\n",
       "      <td>0</td>\n",
       "      <td>0</td>\n",
       "      <td>0</td>\n",
       "      <td>0</td>\n",
       "      <td>0</td>\n",
       "    </tr>\n",
       "    <tr>\n",
       "      <th>XMR</th>\n",
       "      <td>1.720114e+07</td>\n",
       "      <td>0</td>\n",
       "      <td>0</td>\n",
       "      <td>0</td>\n",
       "      <td>0</td>\n",
       "      <td>0</td>\n",
       "      <td>0</td>\n",
       "      <td>0</td>\n",
       "      <td>0</td>\n",
       "      <td>0</td>\n",
       "      <td>...</td>\n",
       "      <td>0</td>\n",
       "      <td>0</td>\n",
       "      <td>0</td>\n",
       "      <td>0</td>\n",
       "      <td>0</td>\n",
       "      <td>0</td>\n",
       "      <td>0</td>\n",
       "      <td>0</td>\n",
       "      <td>0</td>\n",
       "      <td>0</td>\n",
       "    </tr>\n",
       "    <tr>\n",
       "      <th>ETC</th>\n",
       "      <td>1.133597e+08</td>\n",
       "      <td>210000000</td>\n",
       "      <td>0</td>\n",
       "      <td>0</td>\n",
       "      <td>0</td>\n",
       "      <td>0</td>\n",
       "      <td>0</td>\n",
       "      <td>0</td>\n",
       "      <td>0</td>\n",
       "      <td>0</td>\n",
       "      <td>...</td>\n",
       "      <td>0</td>\n",
       "      <td>0</td>\n",
       "      <td>0</td>\n",
       "      <td>0</td>\n",
       "      <td>0</td>\n",
       "      <td>0</td>\n",
       "      <td>0</td>\n",
       "      <td>0</td>\n",
       "      <td>0</td>\n",
       "      <td>0</td>\n",
       "    </tr>\n",
       "    <tr>\n",
       "      <th>ZEC</th>\n",
       "      <td>7.383056e+06</td>\n",
       "      <td>21000000</td>\n",
       "      <td>0</td>\n",
       "      <td>0</td>\n",
       "      <td>0</td>\n",
       "      <td>0</td>\n",
       "      <td>0</td>\n",
       "      <td>0</td>\n",
       "      <td>0</td>\n",
       "      <td>0</td>\n",
       "      <td>...</td>\n",
       "      <td>0</td>\n",
       "      <td>0</td>\n",
       "      <td>0</td>\n",
       "      <td>0</td>\n",
       "      <td>0</td>\n",
       "      <td>0</td>\n",
       "      <td>0</td>\n",
       "      <td>0</td>\n",
       "      <td>0</td>\n",
       "      <td>0</td>\n",
       "    </tr>\n",
       "  </tbody>\n",
       "</table>\n",
       "<p>10 rows × 98 columns</p>\n",
       "</div>"
      ],
      "text/plain": [
       "      TotalCoinsMined TotalCoinSupply  Algorithm_1GB AES Pattern Search  \\\n",
       "42       4.199995e+01              42                                 0   \n",
       "404      1.055185e+09       532000000                                 0   \n",
       "1337     2.927942e+10    314159265359                                 0   \n",
       "BTC      1.792718e+07        21000000                                 0   \n",
       "ETH      1.076842e+08               0                                 0   \n",
       "LTC      6.303924e+07        84000000                                 0   \n",
       "DASH     9.031294e+06        22000000                                 0   \n",
       "XMR      1.720114e+07               0                                 0   \n",
       "ETC      1.133597e+08       210000000                                 0   \n",
       "ZEC      7.383056e+06        21000000                                 0   \n",
       "\n",
       "      Algorithm_536  Algorithm_Argon2d  Algorithm_BLAKE256  Algorithm_Blake  \\\n",
       "42                0                  0                   0                0   \n",
       "404               0                  0                   0                0   \n",
       "1337              0                  0                   0                0   \n",
       "BTC               0                  0                   0                0   \n",
       "ETH               0                  0                   0                0   \n",
       "LTC               0                  0                   0                0   \n",
       "DASH              0                  0                   0                0   \n",
       "XMR               0                  0                   0                0   \n",
       "ETC               0                  0                   0                0   \n",
       "ZEC               0                  0                   0                0   \n",
       "\n",
       "      Algorithm_Blake2S  Algorithm_Blake2b  Algorithm_C11  ...  \\\n",
       "42                    0                  0              0  ...   \n",
       "404                   0                  0              0  ...   \n",
       "1337                  0                  0              0  ...   \n",
       "BTC                   0                  0              0  ...   \n",
       "ETH                   0                  0              0  ...   \n",
       "LTC                   0                  0              0  ...   \n",
       "DASH                  0                  0              0  ...   \n",
       "XMR                   0                  0              0  ...   \n",
       "ETC                   0                  0              0  ...   \n",
       "ZEC                   0                  0              0  ...   \n",
       "\n",
       "      ProofType_PoW/PoS  ProofType_PoW/PoS   ProofType_PoW/PoW  \\\n",
       "42                    1                   0                  0   \n",
       "404                   1                   0                  0   \n",
       "1337                  1                   0                  0   \n",
       "BTC                   0                   0                  0   \n",
       "ETH                   0                   0                  0   \n",
       "LTC                   0                   0                  0   \n",
       "DASH                  1                   0                  0   \n",
       "XMR                   0                   0                  0   \n",
       "ETC                   0                   0                  0   \n",
       "ZEC                   0                   0                  0   \n",
       "\n",
       "      ProofType_PoW/nPoS  ProofType_Pos  ProofType_Proof of Authority  \\\n",
       "42                     0              0                             0   \n",
       "404                    0              0                             0   \n",
       "1337                   0              0                             0   \n",
       "BTC                    0              0                             0   \n",
       "ETH                    0              0                             0   \n",
       "LTC                    0              0                             0   \n",
       "DASH                   0              0                             0   \n",
       "XMR                    0              0                             0   \n",
       "ETC                    0              0                             0   \n",
       "ZEC                    0              0                             0   \n",
       "\n",
       "      ProofType_Proof of Trust  ProofType_TPoS  \\\n",
       "42                           0               0   \n",
       "404                          0               0   \n",
       "1337                         0               0   \n",
       "BTC                          0               0   \n",
       "ETH                          0               0   \n",
       "LTC                          0               0   \n",
       "DASH                         0               0   \n",
       "XMR                          0               0   \n",
       "ETC                          0               0   \n",
       "ZEC                          0               0   \n",
       "\n",
       "      ProofType_Zero-Knowledge Proof  ProofType_dPoW/PoW  \n",
       "42                                 0                   0  \n",
       "404                                0                   0  \n",
       "1337                               0                   0  \n",
       "BTC                                0                   0  \n",
       "ETH                                0                   0  \n",
       "LTC                                0                   0  \n",
       "DASH                               0                   0  \n",
       "XMR                                0                   0  \n",
       "ETC                                0                   0  \n",
       "ZEC                                0                   0  \n",
       "\n",
       "[10 rows x 98 columns]"
      ]
     },
     "execution_count": 199,
     "metadata": {},
     "output_type": "execute_result"
    }
   ],
   "source": [
    "# Use get_dummies() to create variables for text features.\n",
    "algorithm_dummies_df = pd.get_dummies(df['Algorithm'], prefix='Algorithm')\n",
    "prooftype_dummies_df = pd.get_dummies(df['ProofType'], prefix='ProofType')\n",
    "X = pd.concat([df, algorithm_dummies_df, prooftype_dummies_df], axis=1)\n",
    "X.drop(['Algorithm', 'ProofType'], axis=1, inplace=True)\n",
    "X.head(10)"
   ]
  },
  {
   "cell_type": "code",
   "execution_count": 200,
   "metadata": {},
   "outputs": [
    {
     "data": {
      "text/plain": [
       "array([[-0.11710817, -0.1528703 , -0.0433963 , ..., -0.0433963 ,\n",
       "        -0.0433963 , -0.0433963 ],\n",
       "       [-0.09396955, -0.145009  , -0.0433963 , ..., -0.0433963 ,\n",
       "        -0.0433963 , -0.0433963 ],\n",
       "       [ 0.52494561,  4.48942416, -0.0433963 , ..., -0.0433963 ,\n",
       "        -0.0433963 , -0.0433963 ],\n",
       "       ...,\n",
       "       [-0.09561336, -0.13217937, -0.0433963 , ..., -0.0433963 ,\n",
       "        -0.0433963 , -0.0433963 ],\n",
       "       [-0.11694817, -0.15255998, -0.0433963 , ..., -0.0433963 ,\n",
       "        -0.0433963 , -0.0433963 ],\n",
       "       [-0.11710536, -0.15285552, -0.0433963 , ..., -0.0433963 ,\n",
       "        -0.0433963 , -0.0433963 ]])"
      ]
     },
     "execution_count": 200,
     "metadata": {},
     "output_type": "execute_result"
    }
   ],
   "source": [
    "# Standardize the data with StandardScaler().\n",
    "from sklearn.preprocessing import StandardScaler\n",
    "\n",
    "scaler = StandardScaler()\n",
    "\n",
    "X_scaled = scaler.fit_transform(X)\n",
    "\n",
    "X_scaled_df = pd.DataFrame(X_scaled, columns=X.columns)\n",
    "\n",
    "\n",
    "X_scaled"
   ]
  },
  {
   "cell_type": "markdown",
   "metadata": {},
   "source": [
    "### Deliverable 2: Reducing Data Dimensions Using PCA"
   ]
  },
  {
   "cell_type": "code",
   "execution_count": 201,
   "metadata": {},
   "outputs": [
    {
     "data": {
      "text/plain": [
       "array([[-0.33353081,  1.01289846, -0.57557676],\n",
       "       [-0.31686466,  1.0130944 , -0.57605092],\n",
       "       [ 2.30434834,  1.66776037, -0.6657407 ],\n",
       "       ...,\n",
       "       [ 0.3235543 , -2.30355789,  0.43582083],\n",
       "       [-0.14577804, -1.99123064,  0.41641829],\n",
       "       [-0.28836499,  0.81365958, -0.26707354]])"
      ]
     },
     "execution_count": 201,
     "metadata": {},
     "output_type": "execute_result"
    }
   ],
   "source": [
    "# Using PCA to reduce dimension to three principal components.\n",
    "from sklearn.decomposition import PCA\n",
    "\n",
    "pca = PCA(n_components=3)\n",
    "\n",
    "pca.fit(X_scaled)\n",
    "\n",
    "X_pca = pca.transform(X_scaled)\n",
    "\n",
    "X_pca"
   ]
  },
  {
   "cell_type": "code",
   "execution_count": 202,
   "metadata": {},
   "outputs": [
    {
     "data": {
      "text/html": [
       "<div>\n",
       "<style scoped>\n",
       "    .dataframe tbody tr th:only-of-type {\n",
       "        vertical-align: middle;\n",
       "    }\n",
       "\n",
       "    .dataframe tbody tr th {\n",
       "        vertical-align: top;\n",
       "    }\n",
       "\n",
       "    .dataframe thead th {\n",
       "        text-align: right;\n",
       "    }\n",
       "</style>\n",
       "<table border=\"1\" class=\"dataframe\">\n",
       "  <thead>\n",
       "    <tr style=\"text-align: right;\">\n",
       "      <th></th>\n",
       "      <th>PC 1</th>\n",
       "      <th>PC 2</th>\n",
       "      <th>PC 3</th>\n",
       "    </tr>\n",
       "  </thead>\n",
       "  <tbody>\n",
       "    <tr>\n",
       "      <th>42</th>\n",
       "      <td>-0.333531</td>\n",
       "      <td>1.012898</td>\n",
       "      <td>-0.575577</td>\n",
       "    </tr>\n",
       "    <tr>\n",
       "      <th>404</th>\n",
       "      <td>-0.316865</td>\n",
       "      <td>1.013094</td>\n",
       "      <td>-0.576051</td>\n",
       "    </tr>\n",
       "    <tr>\n",
       "      <th>1337</th>\n",
       "      <td>2.304348</td>\n",
       "      <td>1.667760</td>\n",
       "      <td>-0.665741</td>\n",
       "    </tr>\n",
       "    <tr>\n",
       "      <th>BTC</th>\n",
       "      <td>-0.145796</td>\n",
       "      <td>-1.320675</td>\n",
       "      <td>0.187373</td>\n",
       "    </tr>\n",
       "    <tr>\n",
       "      <th>ETH</th>\n",
       "      <td>-0.155571</td>\n",
       "      <td>-2.044550</td>\n",
       "      <td>0.405376</td>\n",
       "    </tr>\n",
       "    <tr>\n",
       "      <th>LTC</th>\n",
       "      <td>-0.164285</td>\n",
       "      <td>-1.140332</td>\n",
       "      <td>0.000222</td>\n",
       "    </tr>\n",
       "    <tr>\n",
       "      <th>DASH</th>\n",
       "      <td>-0.397624</td>\n",
       "      <td>1.248515</td>\n",
       "      <td>-0.543991</td>\n",
       "    </tr>\n",
       "    <tr>\n",
       "      <th>XMR</th>\n",
       "      <td>-0.150539</td>\n",
       "      <td>-2.220398</td>\n",
       "      <td>0.434885</td>\n",
       "    </tr>\n",
       "    <tr>\n",
       "      <th>ETC</th>\n",
       "      <td>-0.154012</td>\n",
       "      <td>-2.044646</td>\n",
       "      <td>0.405353</td>\n",
       "    </tr>\n",
       "    <tr>\n",
       "      <th>ZEC</th>\n",
       "      <td>-0.145777</td>\n",
       "      <td>-1.991231</td>\n",
       "      <td>0.416418</td>\n",
       "    </tr>\n",
       "  </tbody>\n",
       "</table>\n",
       "</div>"
      ],
      "text/plain": [
       "          PC 1      PC 2      PC 3\n",
       "42   -0.333531  1.012898 -0.575577\n",
       "404  -0.316865  1.013094 -0.576051\n",
       "1337  2.304348  1.667760 -0.665741\n",
       "BTC  -0.145796 -1.320675  0.187373\n",
       "ETH  -0.155571 -2.044550  0.405376\n",
       "LTC  -0.164285 -1.140332  0.000222\n",
       "DASH -0.397624  1.248515 -0.543991\n",
       "XMR  -0.150539 -2.220398  0.434885\n",
       "ETC  -0.154012 -2.044646  0.405353\n",
       "ZEC  -0.145777 -1.991231  0.416418"
      ]
     },
     "execution_count": 202,
     "metadata": {},
     "output_type": "execute_result"
    }
   ],
   "source": [
    "# Create a DataFrame with the three principal components.\n",
    "pcs_df = pd.DataFrame(X_pca, columns=['PC 1', 'PC 2', 'PC 3'],index=X.index)\n",
    "pcs_df.head(10)"
   ]
  },
  {
   "cell_type": "markdown",
   "metadata": {},
   "source": [
    "### Deliverable 3: Clustering Crytocurrencies Using K-Means\n",
    "\n",
    "#### Finding the Best Value for `k` Using the Elbow Curve"
   ]
  },
  {
   "cell_type": "code",
   "execution_count": 203,
   "metadata": {},
   "outputs": [
    {
     "data": {},
     "metadata": {},
     "output_type": "display_data"
    },
    {
     "data": {
      "application/vnd.holoviews_exec.v0+json": "",
      "text/html": [
       "<div id='1220'>\n",
       "\n",
       "\n",
       "\n",
       "\n",
       "\n",
       "  <div class=\"bk-root\" id=\"9fd34221-c9d4-4be9-92c6-4c0afeed7c7f\" data-root-id=\"1220\"></div>\n",
       "</div>\n",
       "<script type=\"application/javascript\">(function(root) {\n",
       "  function embed_document(root) {\n",
       "    var docs_json = {\"526c4935-bb33-43cc-8e7e-e29f16dab5dc\":{\"defs\":[{\"extends\":null,\"module\":null,\"name\":\"ReactiveHTML1\",\"overrides\":[],\"properties\":[]},{\"extends\":null,\"module\":null,\"name\":\"FlexBox1\",\"overrides\":[],\"properties\":[{\"default\":\"flex-start\",\"kind\":null,\"name\":\"align_content\"},{\"default\":\"flex-start\",\"kind\":null,\"name\":\"align_items\"},{\"default\":\"row\",\"kind\":null,\"name\":\"flex_direction\"},{\"default\":\"wrap\",\"kind\":null,\"name\":\"flex_wrap\"},{\"default\":\"flex-start\",\"kind\":null,\"name\":\"justify_content\"}]},{\"extends\":null,\"module\":null,\"name\":\"GridStack1\",\"overrides\":[],\"properties\":[{\"default\":\"warn\",\"kind\":null,\"name\":\"mode\"},{\"default\":null,\"kind\":null,\"name\":\"ncols\"},{\"default\":null,\"kind\":null,\"name\":\"nrows\"},{\"default\":true,\"kind\":null,\"name\":\"allow_resize\"},{\"default\":true,\"kind\":null,\"name\":\"allow_drag\"},{\"default\":[],\"kind\":null,\"name\":\"state\"}]},{\"extends\":null,\"module\":null,\"name\":\"click1\",\"overrides\":[],\"properties\":[{\"default\":\"\",\"kind\":null,\"name\":\"terminal_output\"},{\"default\":\"\",\"kind\":null,\"name\":\"debug_name\"},{\"default\":0,\"kind\":null,\"name\":\"clears\"}]},{\"extends\":null,\"module\":null,\"name\":\"NotificationAreaBase1\",\"overrides\":[],\"properties\":[{\"default\":\"bottom-right\",\"kind\":null,\"name\":\"position\"},{\"default\":0,\"kind\":null,\"name\":\"_clear\"}]},{\"extends\":null,\"module\":null,\"name\":\"NotificationArea1\",\"overrides\":[],\"properties\":[{\"default\":[],\"kind\":null,\"name\":\"notifications\"},{\"default\":\"bottom-right\",\"kind\":null,\"name\":\"position\"},{\"default\":0,\"kind\":null,\"name\":\"_clear\"},{\"default\":[{\"background\":\"#ffc107\",\"icon\":{\"className\":\"fas fa-exclamation-triangle\",\"color\":\"white\",\"tagName\":\"i\"},\"type\":\"warning\"},{\"background\":\"#007bff\",\"icon\":{\"className\":\"fas fa-info-circle\",\"color\":\"white\",\"tagName\":\"i\"},\"type\":\"info\"}],\"kind\":null,\"name\":\"types\"}]},{\"extends\":null,\"module\":null,\"name\":\"Notification\",\"overrides\":[],\"properties\":[{\"default\":null,\"kind\":null,\"name\":\"background\"},{\"default\":3000,\"kind\":null,\"name\":\"duration\"},{\"default\":null,\"kind\":null,\"name\":\"icon\"},{\"default\":\"\",\"kind\":null,\"name\":\"message\"},{\"default\":null,\"kind\":null,\"name\":\"notification_type\"},{\"default\":false,\"kind\":null,\"name\":\"_destroyed\"}]},{\"extends\":null,\"module\":null,\"name\":\"TemplateActions1\",\"overrides\":[],\"properties\":[{\"default\":0,\"kind\":null,\"name\":\"open_modal\"},{\"default\":0,\"kind\":null,\"name\":\"close_modal\"}]},{\"extends\":null,\"module\":null,\"name\":\"MaterialTemplateActions1\",\"overrides\":[],\"properties\":[{\"default\":0,\"kind\":null,\"name\":\"open_modal\"},{\"default\":0,\"kind\":null,\"name\":\"close_modal\"}]}],\"roots\":{\"references\":[{\"attributes\":{\"callback\":null,\"renderers\":[{\"id\":\"1261\"}],\"tags\":[\"hv_created\"],\"tooltips\":[[\"k\",\"@{k}\"],[\"inertia\",\"@{inertia}\"]]},\"id\":\"1224\",\"type\":\"HoverTool\"},{\"attributes\":{},\"id\":\"1277\",\"type\":\"UnionRenderers\"},{\"attributes\":{},\"id\":\"1230\",\"type\":\"LinearScale\"},{\"attributes\":{},\"id\":\"1266\",\"type\":\"AllLabels\"},{\"attributes\":{\"end\":3996.338669456215,\"reset_end\":3996.338669456215,\"reset_start\":-257.79938565638065,\"start\":-257.79938565638065,\"tags\":[[[\"inertia\",\"inertia\",null]]]},\"id\":\"1223\",\"type\":\"Range1d\"},{\"attributes\":{\"coordinates\":null,\"group\":null,\"text\":\"Elbow Curve\",\"text_color\":\"black\",\"text_font_size\":\"12pt\"},\"id\":\"1226\",\"type\":\"Title\"},{\"attributes\":{\"axis\":{\"id\":\"1234\"},\"coordinates\":null,\"grid_line_color\":null,\"group\":null,\"ticker\":null},\"id\":\"1237\",\"type\":\"Grid\"},{\"attributes\":{},\"id\":\"1265\",\"type\":\"BasicTickFormatter\"},{\"attributes\":{\"below\":[{\"id\":\"1234\"}],\"center\":[{\"id\":\"1237\"},{\"id\":\"1241\"}],\"height\":300,\"left\":[{\"id\":\"1238\"}],\"margin\":[5,5,5,5],\"min_border_bottom\":10,\"min_border_left\":10,\"min_border_right\":10,\"min_border_top\":10,\"renderers\":[{\"id\":\"1261\"}],\"sizing_mode\":\"fixed\",\"title\":{\"id\":\"1226\"},\"toolbar\":{\"id\":\"1248\"},\"width\":700,\"x_range\":{\"id\":\"1222\"},\"x_scale\":{\"id\":\"1230\"},\"y_range\":{\"id\":\"1223\"},\"y_scale\":{\"id\":\"1232\"}},\"id\":\"1225\",\"subtype\":\"Figure\",\"type\":\"Plot\"},{\"attributes\":{\"bottom_units\":\"screen\",\"coordinates\":null,\"fill_alpha\":0.5,\"fill_color\":\"lightgrey\",\"group\":null,\"left_units\":\"screen\",\"level\":\"overlay\",\"line_alpha\":1.0,\"line_color\":\"black\",\"line_dash\":[4,4],\"line_width\":2,\"right_units\":\"screen\",\"syncable\":false,\"top_units\":\"screen\"},\"id\":\"1247\",\"type\":\"BoxAnnotation\"},{\"attributes\":{\"margin\":[5,5,5,5],\"name\":\"HSpacer02147\",\"sizing_mode\":\"stretch_width\"},\"id\":\"1280\",\"type\":\"Spacer\"},{\"attributes\":{},\"id\":\"1232\",\"type\":\"LinearScale\"},{\"attributes\":{},\"id\":\"1235\",\"type\":\"BasicTicker\"},{\"attributes\":{\"tools\":[{\"id\":\"1224\"},{\"id\":\"1242\"},{\"id\":\"1243\"},{\"id\":\"1244\"},{\"id\":\"1245\"},{\"id\":\"1246\"}]},\"id\":\"1248\",\"type\":\"Toolbar\"},{\"attributes\":{\"axis_label\":\"Number of Clusters (K)\",\"coordinates\":null,\"formatter\":{\"id\":\"1265\"},\"group\":null,\"major_label_policy\":{\"id\":\"1266\"},\"ticker\":{\"id\":\"1235\"}},\"id\":\"1234\",\"type\":\"LinearAxis\"},{\"attributes\":{\"axis\":{\"id\":\"1238\"},\"coordinates\":null,\"dimension\":1,\"grid_line_color\":null,\"group\":null,\"ticker\":null},\"id\":\"1241\",\"type\":\"Grid\"},{\"attributes\":{\"line_alpha\":0.1,\"line_color\":\"#30a2da\",\"line_width\":2,\"x\":{\"field\":\"k\"},\"y\":{\"field\":\"inertia\"}},\"id\":\"1259\",\"type\":\"Line\"},{\"attributes\":{},\"id\":\"1243\",\"type\":\"PanTool\"},{\"attributes\":{},\"id\":\"1256\",\"type\":\"Selection\"},{\"attributes\":{\"axis_label\":\"Inertia\",\"coordinates\":null,\"formatter\":{\"id\":\"1268\"},\"group\":null,\"major_label_policy\":{\"id\":\"1269\"},\"ticker\":{\"id\":\"1239\"}},\"id\":\"1238\",\"type\":\"LinearAxis\"},{\"attributes\":{\"coordinates\":null,\"data_source\":{\"id\":\"1255\"},\"glyph\":{\"id\":\"1258\"},\"group\":null,\"hover_glyph\":null,\"muted_glyph\":{\"id\":\"1260\"},\"nonselection_glyph\":{\"id\":\"1259\"},\"selection_glyph\":{\"id\":\"1263\"},\"view\":{\"id\":\"1262\"}},\"id\":\"1261\",\"type\":\"GlyphRenderer\"},{\"attributes\":{},\"id\":\"1239\",\"type\":\"BasicTicker\"},{\"attributes\":{\"line_color\":\"#30a2da\",\"line_width\":2,\"x\":{\"field\":\"k\"},\"y\":{\"field\":\"inertia\"}},\"id\":\"1263\",\"type\":\"Line\"},{\"attributes\":{},\"id\":\"1244\",\"type\":\"WheelZoomTool\"},{\"attributes\":{\"line_alpha\":0.2,\"line_color\":\"#30a2da\",\"line_width\":2,\"x\":{\"field\":\"k\"},\"y\":{\"field\":\"inertia\"}},\"id\":\"1260\",\"type\":\"Line\"},{\"attributes\":{},\"id\":\"1242\",\"type\":\"SaveTool\"},{\"attributes\":{\"source\":{\"id\":\"1255\"}},\"id\":\"1262\",\"type\":\"CDSView\"},{\"attributes\":{\"overlay\":{\"id\":\"1247\"}},\"id\":\"1245\",\"type\":\"BoxZoomTool\"},{\"attributes\":{},\"id\":\"1246\",\"type\":\"ResetTool\"},{\"attributes\":{},\"id\":\"1268\",\"type\":\"BasicTickFormatter\"},{\"attributes\":{\"end\":10.0,\"reset_end\":10.0,\"reset_start\":1.0,\"start\":1.0,\"tags\":[[[\"k\",\"k\",null]]]},\"id\":\"1222\",\"type\":\"Range1d\"},{\"attributes\":{\"margin\":[5,5,5,5],\"name\":\"HSpacer02146\",\"sizing_mode\":\"stretch_width\"},\"id\":\"1221\",\"type\":\"Spacer\"},{\"attributes\":{},\"id\":\"1269\",\"type\":\"AllLabels\"},{\"attributes\":{\"children\":[{\"id\":\"1221\"},{\"id\":\"1225\"},{\"id\":\"1280\"}],\"margin\":[0,0,0,0],\"name\":\"Row02142\",\"tags\":[\"embedded\"]},\"id\":\"1220\",\"type\":\"Row\"},{\"attributes\":{\"line_color\":\"#30a2da\",\"line_width\":2,\"x\":{\"field\":\"k\"},\"y\":{\"field\":\"inertia\"}},\"id\":\"1258\",\"type\":\"Line\"},{\"attributes\":{\"data\":{\"inertia\":{\"__ndarray__\":\"QSongqdzrEC2jgD6cVWjQAdapaxpJJdAY3jVZwfIfkBakrCyAhB0QJGGF7bfIXBAbSfCfN3WaUBsBAgHbqpkQKYfzj5I1l9AI5tNW5MtWEA=\",\"dtype\":\"float64\",\"order\":\"little\",\"shape\":[10]},\"k\":[1,2,3,4,5,6,7,8,9,10]},\"selected\":{\"id\":\"1256\"},\"selection_policy\":{\"id\":\"1277\"}},\"id\":\"1255\",\"type\":\"ColumnDataSource\"}],\"root_ids\":[\"1220\"]},\"title\":\"Bokeh Application\",\"version\":\"2.4.1\"}};\n",
       "    var render_items = [{\"docid\":\"526c4935-bb33-43cc-8e7e-e29f16dab5dc\",\"root_ids\":[\"1220\"],\"roots\":{\"1220\":\"9fd34221-c9d4-4be9-92c6-4c0afeed7c7f\"}}];\n",
       "    root.Bokeh.embed.embed_items_notebook(docs_json, render_items);\n",
       "    for (const render_item of render_items) {\n",
       "      for (const root_id of render_item.root_ids) {\n",
       "\tconst id_el = document.getElementById(root_id)\n",
       "\tif (id_el.children.length && (id_el.children[0].className === 'bk-root')) {\n",
       "\t  const root_el = id_el.children[0]\n",
       "\t  root_el.id = root_el.id + '-rendered'\n",
       "\t}\n",
       "      }\n",
       "    }\n",
       "  }\n",
       "  if (root.Bokeh !== undefined && root.Bokeh.Panel !== undefined) {\n",
       "    embed_document(root);\n",
       "  } else {\n",
       "    var attempts = 0;\n",
       "    var timer = setInterval(function(root) {\n",
       "      if (root.Bokeh !== undefined && root.Bokeh.Panel !== undefined) {\n",
       "        clearInterval(timer);\n",
       "        embed_document(root);\n",
       "      } else if (document.readyState == \"complete\") {\n",
       "        attempts++;\n",
       "        if (attempts > 200) {\n",
       "          clearInterval(timer);\n",
       "          console.log(\"Bokeh: ERROR: Unable to run BokehJS code because BokehJS library is missing\");\n",
       "        }\n",
       "      }\n",
       "    }, 25, root)\n",
       "  }\n",
       "})(window);</script>"
      ],
      "text/plain": [
       ":Curve   [k]   (inertia)"
      ]
     },
     "execution_count": 203,
     "metadata": {
      "application/vnd.holoviews_exec.v0+json": {
       "id": "1220"
      }
     },
     "output_type": "execute_result"
    }
   ],
   "source": [
    "# Create an elbow curve to find the best value for K.\n",
    "import hvplot.pandas\n",
    "from sklearn.cluster import KMeans\n",
    "\n",
    "# create an empty list to hold the inertia values for each K value\n",
    "inertia = []\n",
    "\n",
    "# loop through K values from 1 to 10 and fit KMeans models to the data\n",
    "for k in range(1, 11):\n",
    "    model = KMeans(n_clusters=k, random_state=42)\n",
    "    model.fit(pcs_df)\n",
    "    inertia.append(model.inertia_)\n",
    "\n",
    "# create a DataFrame with K and inertia values\n",
    "elbow_data = pd.DataFrame({'k': range(1, 11), 'inertia': inertia})\n",
    "\n",
    "# plot the elbow curve using hvPlot\n",
    "elbow_data.hvplot.line(x='k', y='inertia', title='Elbow Curve', xticks=range(1,11), xlabel='Number of Clusters (K)', ylabel='Inertia')\n"
   ]
  },
  {
   "cell_type": "markdown",
   "metadata": {},
   "source": [
    "Running K-Means with `k=4`"
   ]
  },
  {
   "cell_type": "code",
   "execution_count": 204,
   "metadata": {},
   "outputs": [
    {
     "data": {
      "text/plain": [
       "array([1, 1, 1, 0, 0, 0, 1, 0, 0, 0, 1, 0, 1, 1, 0, 1, 0, 0, 1, 1, 0, 0,\n",
       "       0, 0, 0, 1, 0, 0, 0, 1, 0, 1, 0, 0, 1, 1, 0, 0, 0, 0, 0, 0, 1, 1,\n",
       "       0, 0, 0, 0, 0, 1, 1, 0, 1, 0, 0, 0, 0, 1, 0, 0, 1, 0, 1, 1, 1, 0,\n",
       "       0, 0, 1, 1, 1, 1, 1, 0, 0, 0, 1, 1, 0, 1, 0, 1, 1, 0, 0, 0, 0, 1,\n",
       "       1, 0, 1, 0, 0, 1, 1, 0, 1, 1, 0, 0, 1, 1, 0, 1, 1, 0, 1, 0, 1, 0,\n",
       "       1, 0, 1, 1, 0, 0, 1, 0, 0, 0, 1, 0, 0, 0, 0, 0, 1, 1, 0, 0, 0, 1,\n",
       "       0, 1, 0, 0, 1, 0, 1, 0, 1, 1, 0, 0, 1, 0, 0, 1, 1, 0, 1, 0, 1, 1,\n",
       "       1, 0, 0, 0, 0, 1, 1, 1, 1, 1, 0, 0, 1, 1, 1, 1, 1, 0, 1, 1, 1, 1,\n",
       "       1, 0, 1, 0, 1, 1, 0, 1, 0, 1, 1, 0, 1, 0, 1, 0, 1, 0, 1, 1, 1, 1,\n",
       "       0, 1, 1, 1, 1, 1, 0, 0, 1, 1, 0, 0, 1, 1, 1, 1, 1, 0, 1, 1, 1, 1,\n",
       "       1, 1, 1, 1, 0, 1, 1, 1, 1, 1, 1, 0, 0, 0, 1, 1, 1, 1, 0, 1, 0, 1,\n",
       "       1, 0, 1, 0, 0, 1, 0, 0, 1, 0, 1, 1, 1, 0, 1, 1, 0, 1, 1, 1, 1, 1,\n",
       "       1, 1, 0, 1, 0, 1, 1, 1, 1, 0, 1, 0, 1, 0, 0, 0, 0, 1, 0, 1, 1, 0,\n",
       "       1, 0, 0, 0, 1, 0, 1, 0, 0, 0, 1, 0, 1, 0, 1, 1, 3, 0, 1, 0, 0, 0,\n",
       "       0, 0, 1, 1, 0, 1, 1, 1, 0, 1, 0, 1, 0, 1, 0, 1, 1, 1, 1, 0, 1, 1,\n",
       "       0, 1, 1, 1, 0, 0, 0, 0, 1, 1, 1, 1, 0, 1, 0, 0, 0, 1, 1, 0, 0, 1,\n",
       "       1, 0, 1, 0, 0, 0, 1, 0, 0, 1, 1, 1, 0, 0, 0, 1, 1, 1, 0, 0, 1, 0,\n",
       "       0, 0, 0, 1, 3, 3, 0, 0, 0, 1, 3, 1, 1, 1, 1, 0, 0, 0, 0, 1, 1, 1,\n",
       "       0, 1, 0, 1, 1, 1, 1, 0, 1, 1, 0, 1, 1, 0, 0, 1, 0, 1, 0, 0, 0, 0,\n",
       "       1, 1, 0, 1, 0, 1, 1, 1, 1, 1, 1, 0, 0, 0, 1, 1, 1, 1, 1, 1, 0, 1,\n",
       "       0, 0, 0, 0, 1, 1, 1, 1, 0, 1, 1, 0, 1, 1, 0, 3, 0, 1, 0, 0, 1, 1,\n",
       "       0, 1, 0, 0, 1, 0, 0, 1, 0, 1, 0, 1, 1, 0, 1, 1, 1, 1, 1, 0, 0, 0,\n",
       "       1, 1, 1, 0, 1, 0, 1, 0, 1, 1, 1, 1, 0, 1, 1, 1, 0, 1, 0, 1, 0, 1,\n",
       "       1, 1, 0, 0, 1, 1, 1, 1, 1, 1, 0, 1, 0, 1, 0, 1, 1, 3, 1, 2, 1, 1,\n",
       "       1, 0, 0, 1], dtype=int32)"
      ]
     },
     "execution_count": 204,
     "metadata": {},
     "output_type": "execute_result"
    }
   ],
   "source": [
    "# Initialize the K-Means model.\n",
    "from sklearn.cluster import KMeans\n",
    "k = 4\n",
    "model = KMeans(n_clusters=k, random_state=42)\n",
    "# Fit the model\n",
    "model.fit(pcs_df)\n",
    "\n",
    "# Predict clusters\n",
    "labels = model.predict(pcs_df)\n",
    "labels"
   ]
  },
  {
   "cell_type": "code",
   "execution_count": 205,
   "metadata": {},
   "outputs": [
    {
     "name": "stdout",
     "output_type": "stream",
     "text": [
      "(532, 9)\n"
     ]
    },
    {
     "data": {
      "text/html": [
       "<div>\n",
       "<style scoped>\n",
       "    .dataframe tbody tr th:only-of-type {\n",
       "        vertical-align: middle;\n",
       "    }\n",
       "\n",
       "    .dataframe tbody tr th {\n",
       "        vertical-align: top;\n",
       "    }\n",
       "\n",
       "    .dataframe thead th {\n",
       "        text-align: right;\n",
       "    }\n",
       "</style>\n",
       "<table border=\"1\" class=\"dataframe\">\n",
       "  <thead>\n",
       "    <tr style=\"text-align: right;\">\n",
       "      <th></th>\n",
       "      <th>Algorithm</th>\n",
       "      <th>ProofType</th>\n",
       "      <th>TotalCoinsMined</th>\n",
       "      <th>TotalCoinSupply</th>\n",
       "      <th>PC 1</th>\n",
       "      <th>PC 2</th>\n",
       "      <th>PC 3</th>\n",
       "      <th>CoinName</th>\n",
       "      <th>Class</th>\n",
       "    </tr>\n",
       "  </thead>\n",
       "  <tbody>\n",
       "    <tr>\n",
       "      <th>42</th>\n",
       "      <td>Scrypt</td>\n",
       "      <td>PoW/PoS</td>\n",
       "      <td>4.199995e+01</td>\n",
       "      <td>42</td>\n",
       "      <td>-0.333531</td>\n",
       "      <td>1.012898</td>\n",
       "      <td>-0.575577</td>\n",
       "      <td>42 Coin</td>\n",
       "      <td>1</td>\n",
       "    </tr>\n",
       "    <tr>\n",
       "      <th>404</th>\n",
       "      <td>Scrypt</td>\n",
       "      <td>PoW/PoS</td>\n",
       "      <td>1.055185e+09</td>\n",
       "      <td>532000000</td>\n",
       "      <td>-0.316865</td>\n",
       "      <td>1.013094</td>\n",
       "      <td>-0.576051</td>\n",
       "      <td>404Coin</td>\n",
       "      <td>1</td>\n",
       "    </tr>\n",
       "    <tr>\n",
       "      <th>1337</th>\n",
       "      <td>X13</td>\n",
       "      <td>PoW/PoS</td>\n",
       "      <td>2.927942e+10</td>\n",
       "      <td>314159265359</td>\n",
       "      <td>2.304348</td>\n",
       "      <td>1.667760</td>\n",
       "      <td>-0.665741</td>\n",
       "      <td>EliteCoin</td>\n",
       "      <td>1</td>\n",
       "    </tr>\n",
       "    <tr>\n",
       "      <th>BTC</th>\n",
       "      <td>SHA-256</td>\n",
       "      <td>PoW</td>\n",
       "      <td>1.792718e+07</td>\n",
       "      <td>21000000</td>\n",
       "      <td>-0.145796</td>\n",
       "      <td>-1.320675</td>\n",
       "      <td>0.187373</td>\n",
       "      <td>Bitcoin</td>\n",
       "      <td>0</td>\n",
       "    </tr>\n",
       "    <tr>\n",
       "      <th>ETH</th>\n",
       "      <td>Ethash</td>\n",
       "      <td>PoW</td>\n",
       "      <td>1.076842e+08</td>\n",
       "      <td>0</td>\n",
       "      <td>-0.155571</td>\n",
       "      <td>-2.044550</td>\n",
       "      <td>0.405376</td>\n",
       "      <td>Ethereum</td>\n",
       "      <td>0</td>\n",
       "    </tr>\n",
       "    <tr>\n",
       "      <th>LTC</th>\n",
       "      <td>Scrypt</td>\n",
       "      <td>PoW</td>\n",
       "      <td>6.303924e+07</td>\n",
       "      <td>84000000</td>\n",
       "      <td>-0.164285</td>\n",
       "      <td>-1.140332</td>\n",
       "      <td>0.000222</td>\n",
       "      <td>Litecoin</td>\n",
       "      <td>0</td>\n",
       "    </tr>\n",
       "    <tr>\n",
       "      <th>DASH</th>\n",
       "      <td>X11</td>\n",
       "      <td>PoW/PoS</td>\n",
       "      <td>9.031294e+06</td>\n",
       "      <td>22000000</td>\n",
       "      <td>-0.397624</td>\n",
       "      <td>1.248515</td>\n",
       "      <td>-0.543991</td>\n",
       "      <td>Dash</td>\n",
       "      <td>1</td>\n",
       "    </tr>\n",
       "    <tr>\n",
       "      <th>XMR</th>\n",
       "      <td>CryptoNight-V7</td>\n",
       "      <td>PoW</td>\n",
       "      <td>1.720114e+07</td>\n",
       "      <td>0</td>\n",
       "      <td>-0.150539</td>\n",
       "      <td>-2.220398</td>\n",
       "      <td>0.434885</td>\n",
       "      <td>Monero</td>\n",
       "      <td>0</td>\n",
       "    </tr>\n",
       "    <tr>\n",
       "      <th>ETC</th>\n",
       "      <td>Ethash</td>\n",
       "      <td>PoW</td>\n",
       "      <td>1.133597e+08</td>\n",
       "      <td>210000000</td>\n",
       "      <td>-0.154012</td>\n",
       "      <td>-2.044646</td>\n",
       "      <td>0.405353</td>\n",
       "      <td>Ethereum Classic</td>\n",
       "      <td>0</td>\n",
       "    </tr>\n",
       "    <tr>\n",
       "      <th>ZEC</th>\n",
       "      <td>Equihash</td>\n",
       "      <td>PoW</td>\n",
       "      <td>7.383056e+06</td>\n",
       "      <td>21000000</td>\n",
       "      <td>-0.145777</td>\n",
       "      <td>-1.991231</td>\n",
       "      <td>0.416418</td>\n",
       "      <td>ZCash</td>\n",
       "      <td>0</td>\n",
       "    </tr>\n",
       "  </tbody>\n",
       "</table>\n",
       "</div>"
      ],
      "text/plain": [
       "           Algorithm ProofType  TotalCoinsMined TotalCoinSupply      PC 1  \\\n",
       "42            Scrypt   PoW/PoS     4.199995e+01              42 -0.333531   \n",
       "404           Scrypt   PoW/PoS     1.055185e+09       532000000 -0.316865   \n",
       "1337             X13   PoW/PoS     2.927942e+10    314159265359  2.304348   \n",
       "BTC          SHA-256       PoW     1.792718e+07        21000000 -0.145796   \n",
       "ETH           Ethash       PoW     1.076842e+08               0 -0.155571   \n",
       "LTC           Scrypt       PoW     6.303924e+07        84000000 -0.164285   \n",
       "DASH             X11   PoW/PoS     9.031294e+06        22000000 -0.397624   \n",
       "XMR   CryptoNight-V7       PoW     1.720114e+07               0 -0.150539   \n",
       "ETC           Ethash       PoW     1.133597e+08       210000000 -0.154012   \n",
       "ZEC         Equihash       PoW     7.383056e+06        21000000 -0.145777   \n",
       "\n",
       "          PC 2      PC 3          CoinName  Class  \n",
       "42    1.012898 -0.575577           42 Coin      1  \n",
       "404   1.013094 -0.576051           404Coin      1  \n",
       "1337  1.667760 -0.665741         EliteCoin      1  \n",
       "BTC  -1.320675  0.187373           Bitcoin      0  \n",
       "ETH  -2.044550  0.405376          Ethereum      0  \n",
       "LTC  -1.140332  0.000222          Litecoin      0  \n",
       "DASH  1.248515 -0.543991              Dash      1  \n",
       "XMR  -2.220398  0.434885            Monero      0  \n",
       "ETC  -2.044646  0.405353  Ethereum Classic      0  \n",
       "ZEC  -1.991231  0.416418             ZCash      0  "
      ]
     },
     "execution_count": 205,
     "metadata": {},
     "output_type": "execute_result"
    }
   ],
   "source": [
    "# Create a new DataFrame including predicted clusters and cryptocurrencies features.\n",
    "# Concatentate the crypto_df and pcs_df DataFrames on the same columns.\n",
    "clustered_df = pd.concat([df, pcs_df], axis=1)\n",
    "\n",
    "#  Add a new column, \"CoinName\" to the clustered_df DataFrame that holds the names of the cryptocurrencies. \n",
    "clustered_df['CoinName'] = names_df['CoinName']\n",
    "\n",
    "#  Add a new column, \"Class\" to the clustered_df DataFrame that holds the predictions.\n",
    "clustered_df['Class'] = model.labels_\n",
    "\n",
    "# Print the shape of the clustered_df\n",
    "print(clustered_df.shape)\n",
    "clustered_df.head(10)"
   ]
  },
  {
   "cell_type": "markdown",
   "metadata": {},
   "source": [
    "### Deliverable 4: Visualizing Cryptocurrencies Results\n",
    "\n",
    "#### 3D-Scatter with Clusters"
   ]
  },
  {
   "cell_type": "code",
   "execution_count": 206,
   "metadata": {},
   "outputs": [
    {
     "data": {
      "application/vnd.plotly.v1+json": {
       "config": {
        "plotlyServerURL": "https://plot.ly"
       },
       "data": [
        {
         "customdata": [
          [
           "Scrypt",
           "PoW/PoS",
           41.99995383,
           "42"
          ],
          [
           "Scrypt",
           "PoW/PoS",
           1055184902.04,
           "532000000"
          ],
          [
           "X13",
           "PoW/PoS",
           29279424622.5027,
           "314159265359"
          ],
          [
           "X11",
           "PoW/PoS",
           9031294.37563393,
           "22000000"
          ],
          [
           "SHA-512",
           "PoS",
           2741570000,
           "3600570502"
          ],
          [
           "SHA-256",
           "PoW/PoS",
           1288862,
           "22000000"
          ],
          [
           "SHA-256",
           "PoS",
           11995334.8847328,
           "12500000"
          ],
          [
           "X15",
           "PoW/PoS",
           25542535.5881841,
           "350000000"
          ],
          [
           "Scrypt",
           "PoW/PoS",
           18135099.992959,
           "16768584"
          ],
          [
           "Scrypt",
           "PoW/PoS",
           635423900,
           "0"
          ],
          [
           "Scrypt",
           "PoW/PoS",
           123062801.128773,
           "0"
          ],
          [
           "Scrypt",
           "PoW/PoS",
           42579.476901,
           "500000"
          ],
          [
           "Scrypt",
           "PoW/PoS",
           1039116.65144562,
           "1000000"
          ],
          [
           "Scrypt",
           "PoC",
           39999997299.8568,
           "40000000000"
          ],
          [
           "Groestl",
           "PoW/PoS",
           3304487.74735637,
           "4380000"
          ],
          [
           "PoS",
           "PoS",
           5679705,
           "0"
          ],
          [
           "Scrypt",
           "PoS/PoW/PoT",
           461829905.32893,
           "0"
          ],
          [
           "Scrypt",
           "PoW/PoS",
           89266933.684704,
           "120000000"
          ],
          [
           "X11",
           "PoS",
           1678520090.7713,
           "0"
          ],
          [
           "X11",
           "PoW/PoS",
           17650913.9743456,
           "22000000"
          ],
          [
           "SHA3",
           "PoW/PoS",
           61445805,
           "100000000"
          ],
          [
           "Scrypt",
           "PoS",
           21293925445.4969,
           "0"
          ],
          [
           "SHA-256",
           "PoW/PoS",
           1613836099.99999,
           "2419200000"
          ],
          [
           "Scrypt",
           "PoS",
           16180000,
           "16180000"
          ],
          [
           "X13",
           "PoW/PoS",
           66087096.2077108,
           "0"
          ],
          [
           "X13",
           "PoW/PoS",
           15156364.3306548,
           "0"
          ],
          [
           "NeoScrypt",
           "PoW/PoS",
           3220616.279225,
           "3770000"
          ],
          [
           "Scrypt",
           "PoW/PoS",
           222677226.014206,
           "420000000"
          ],
          [
           "Scrypt",
           "PoW/PoS",
           73959274.625,
           "98000000"
          ],
          [
           "Scrypt",
           "PoW/PoS",
           29315567169.0888,
           "0"
          ],
          [
           "X11",
           "PoS",
           50707661.7493518,
           "0"
          ],
          [
           "X11",
           "PoW/PoS",
           1177,
           "1000"
          ],
          [
           "Multiple",
           "PoS",
           80260463.7331396,
           "100000000"
          ],
          [
           "PHI1612",
           "PoS",
           1622326490.46336,
           "2300000000"
          ],
          [
           "X11",
           "PoW/PoS",
           1431851.00002479,
           "10000000"
          ],
          [
           "Scrypt",
           "PoW/PoS",
           1098952592.6,
           "1600000000"
          ],
          [
           "Scrypt",
           "PoW/PoS",
           50235211.141939,
           "100000000"
          ],
          [
           "Scrypt",
           "PoST",
           32021108.4136696,
           "0"
          ],
          [
           "X11",
           "PoW/PoS",
           6950831.0970606,
           "5500000"
          ],
          [
           "Multiple",
           "PoS",
           100000000,
           "0"
          ],
          [
           "X13",
           "PoW/PoS",
           33093725.4123502,
           "0"
          ],
          [
           "Scrypt",
           "PoW/PoS",
           147990237.978331,
           "1000000000"
          ],
          [
           "Shabal256",
           "PoC",
           1813033920,
           "2158812800"
          ],
          [
           "Counterparty",
           "PoS",
           51173144,
           "500000000"
          ],
          [
           "SHA-256",
           "PoW/PoS",
           39121694,
           "68000000"
          ],
          [
           "Groestl",
           "PoW/PoS",
           53193831,
           "0"
          ],
          [
           "Scrypt",
           "PoS",
           27184490.3918338,
           "0"
          ],
          [
           "X13",
           "PoW/PoS",
           2022464.886973,
           "12000000"
          ],
          [
           "Scrypt",
           "PoS",
           174646113.934655,
           "500000000"
          ],
          [
           "Scrypt",
           "PoW/PoS",
           1467841,
           "0"
          ],
          [
           "X13",
           "PoW/PoS",
           7096834,
           "10000000"
          ],
          [
           "X11",
           "PoS",
           2689812,
           "20000000"
          ],
          [
           "Scrypt",
           "PoW/PoS",
           11604722,
           "20000000"
          ],
          [
           "X11",
           "PoW/PoS",
           1513704,
           "0"
          ],
          [
           "SHA3",
           "PoW/nPoS",
           63657220,
           "78000000"
          ],
          [
           "QUAIT",
           "PoW/PoS",
           8568038.35935056,
           "5060000"
          ],
          [
           "X11",
           "PoS/PoW",
           329200.01639,
           "0"
          ],
          [
           "Scrypt",
           "PoS",
           100000000,
           "100000000"
          ],
          [
           "X13",
           "PoW/PoS",
           23042604,
           "50000000"
          ],
          [
           "SHA-256",
           "PoW/PoS",
           43059794.804778,
           "1000000000"
          ],
          [
           "X15",
           "PoW/PoS",
           13530556.4180753,
           "26298000"
          ],
          [
           "BLAKE256",
           "PoW/PoS",
           10365046.9281661,
           "21000000"
          ],
          [
           "SHA-256",
           "PoW/PoS",
           3669691.84494672,
           "22000000"
          ],
          [
           "X11",
           "PoW/PoS",
           10996318099,
           "26550000000"
          ],
          [
           "SHA-256",
           "PoW/PoS",
           5129014,
           "10500000"
          ],
          [
           "NIST5",
           "PoW/PoS",
           10069449031.9252,
           "0"
          ],
          [
           "Scrypt",
           "PoW/PoS",
           8998743.2411911,
           "42000000"
          ],
          [
           "Scrypt",
           "PoS",
           40477042,
           "221052632"
          ],
          [
           "X11",
           "PoW/PoS",
           10407269.7881868,
           "384000000"
          ],
          [
           "Scrypt",
           "PoS",
           36971236046.8073,
           " 99000000000"
          ],
          [
           "SHA-256",
           "PoW/PoS",
           4377081.60953993,
           "40000000"
          ],
          [
           "Scrypt",
           "PoC",
           2147483647,
           "2147483647"
          ],
          [
           "PoS",
           "PoS",
           20000000,
           "20000000"
          ],
          [
           "X11",
           "PoW/PoS",
           134554941.15119,
           "75000000"
          ],
          [
           "SHA-256",
           "PoW/PoS",
           1195525,
           "222725000"
          ],
          [
           "SHA-256",
           "PoW/PoS",
           16662820,
           "525000000"
          ],
          [
           "NIST5",
           "PoW/PoS",
           83450403,
           "90000000"
          ],
          [
           "X11",
           "PoW/PoS",
           24387724.5010828,
           "139000000"
          ],
          [
           "POS 3.0",
           "PoS",
           38589808.6658096,
           "33500000"
          ],
          [
           "Scrypt",
           "PoW/PoS",
           813092338.575672,
           "2000000000"
          ],
          [
           "Scrypt",
           "PoW/PoS",
           4526324,
           "44333333"
          ],
          [
           "Scrypt",
           "PoW/PoS",
           100000000,
           "100000000"
          ],
          [
           "X13",
           "PoS",
           5000000,
           "200000000"
          ],
          [
           "X11",
           "PoS",
           657000000,
           "657000000"
          ],
          [
           "X11",
           "PoW/PoS",
           15563873,
           "50000000"
          ],
          [
           "Scrypt",
           "PoW/PoS",
           43165500,
           "90000000"
          ],
          [
           "SHA-256",
           "PoW/PoS",
           595429,
           "21000000"
          ],
          [
           "X11",
           "PoW/PoS",
           657636.34549789,
           "3000000"
          ],
          [
           "Scrypt",
           "PoW/PoS",
           2581970,
           "21000000"
          ],
          [
           "Scrypt",
           "PoW/PoS",
           1939889,
           "0"
          ],
          [
           "Scrypt",
           "PoS",
           169598616,
           "0"
          ],
          [
           "Scrypt",
           "PoW/PoW",
           665200057,
           "3100000000"
          ],
          [
           "SHA-256D",
           "PoW/PoS",
           19577787259,
           "20000000000"
          ],
          [
           "PoS",
           "PoS",
           74033806.7949683,
           "74000000"
          ],
          [
           "Scrypt",
           "PoW/PoS",
           33522957,
           "0"
          ],
          [
           "X11",
           "PoW/PoS",
           264678458.288619,
           "1500000000"
          ],
          [
           "PoS",
           "PoS",
           148716816,
           "39999898"
          ],
          [
           "X13",
           "PoS",
           2500124,
           "2500124"
          ],
          [
           "X14",
           "PoW/PoS",
           100000000,
           "100000000"
          ],
          [
           "PoS",
           "PoS",
           17818682.1654,
           "301000000"
          ],
          [
           "SHA-256D",
           "PoW/PoS",
           1082162635.53683,
           "7506000000"
          ],
          [
           "DPoS",
           "DPoS",
           108202084,
           "125000000"
          ],
          [
           "X11",
           "PoW/PoS",
           18342813,
           "30000000"
          ],
          [
           "X13",
           "PoW/PoS",
           92192822723,
           "850000000"
          ],
          [
           "X11",
           "PoW/PoS",
           3853326.77707314,
           "3853326.77707314"
          ],
          [
           "PoS",
           "PoS",
           50000000,
           "50000000"
          ],
          [
           "Scrypt",
           "PoW/PoS",
           17089600,
           "38540000 "
          ],
          [
           "Scrypt",
           "PoW/PoS",
           2449577.41533168,
           "42000000"
          ],
          [
           "PoS",
           "PoS",
           20000000,
           "20000000"
          ],
          [
           "X11",
           "PoW/PoS",
           6069482.07721352,
           "60000000"
          ],
          [
           "SHA-256",
           "PoW/PoS",
           12416554,
           "20000000"
          ],
          [
           "Scrypt",
           "PoW/PoS",
           20244023.640728,
           "33000000"
          ],
          [
           "X11",
           "TPoS",
           75590369,
           "76500000"
          ],
          [
           "Scrypt",
           "PoW/PoS",
           11080722.3769581,
           "28000000"
          ],
          [
           "Scrypt",
           "PoW/PoS",
           10914418,
           "650659833"
          ],
          [
           "X11",
           "PoW/PoS",
           814671,
           "5000000"
          ],
          [
           "Scrypt",
           "PoW/PoS",
           8377873,
           "144000000"
          ],
          [
           "Scrypt",
           "PoS",
           33813143821.8337,
           "32514916898"
          ],
          [
           "Scrypt",
           "PoW/PoS",
           3472983,
           "13000000"
          ],
          [
           "Scrypt",
           "PoW/PoS",
           3315789,
           "3315789"
          ],
          [
           "Quark",
           "PoS",
           10517772.7391666,
           "15000000"
          ],
          [
           "QuBit",
           "PoW/PoS",
           30227750,
           "78835200"
          ],
          [
           "Scrypt",
           "PoW/PoS",
           23965372,
           "500000000"
          ],
          [
           "SHA-256",
           "PoW/PoS",
           2526078.47525448,
           "21000000"
          ],
          [
           "X11",
           "PoW/PoS",
           5659096.95728771,
           "9354000"
          ],
          [
           "Scrypt",
           "PoW/PoS",
           11821728,
           "20000000"
          ],
          [
           "Scrypt",
           "PoW/PoS",
           308179,
           "21933333"
          ],
          [
           "Scrypt",
           "PoS",
           2922613.96424908,
           "55000000"
          ],
          [
           "Scrypt",
           "PoW/PoS ",
           110000000,
           "110000000"
          ],
          [
           "X13",
           "PoS",
           14524851.4827,
           "14524851.4827"
          ],
          [
           "Scrypt",
           "PoW/PoS",
           1000000000,
           "1000000000"
          ],
          [
           "Scrypt",
           "PoS",
           36050365,
           "34426423"
          ],
          [
           "X11",
           "PoW/PoS",
           13162749.0858027,
           "100000000"
          ],
          [
           "Blake2S",
           "PoW/PoS",
           12184195.9258495,
           "36900000"
          ],
          [
           "X11",
           "PoW/PoS",
           110630387.850471,
           "110000000"
          ],
          [
           "PoS",
           "PoS",
           111135836.889,
           "110290030"
          ],
          [
           "X11",
           "PoW/PoS",
           21521322.0099142,
           "100000000"
          ],
          [
           "PoS",
           "PoS",
           401421401,
           "400000000"
          ],
          [
           "X11",
           "PoW/PoS",
           121665451.643876,
           "500000000"
          ],
          [
           "Scrypt",
           "PoW/PoS",
           5368934,
           "21212121"
          ],
          [
           "Scrypt",
           "PoW/PoS",
           1148324,
           "28600000"
          ],
          [
           "Scrypt",
           "PoW/PoS",
           500000,
           "1000000000"
          ],
          [
           "SHA-256",
           "PoS",
           100545745,
           "75000000000"
          ],
          [
           "X11",
           "PoW/PoS",
           17171382,
           "40000000"
          ],
          [
           "Scrypt",
           "PoS",
           295135466.361878,
           "2000000000"
          ],
          [
           "PoS",
           "PoS",
           11390225.9742772,
           "30000000"
          ],
          [
           "Scrypt",
           "PoW/PoS",
           21358764,
           "105000000"
          ],
          [
           "X15",
           "PoW/PoS",
           40659020000,
           "90000000000"
          ],
          [
           "SHA-256",
           "PoS",
           10343113,
           "200084200"
          ],
          [
           "POS 3.0",
           "PoS",
           100000000,
           "100000000"
          ],
          [
           "536",
           "PoW/PoS",
           22801882871,
           "50000000000"
          ],
          [
           "NIST5",
           "PoW/PoS",
           4171382,
           "10000000"
          ],
          [
           "NIST5",
           "PoW/PoS",
           62942075,
           "120000000"
          ],
          [
           "Skein",
           "PoW/PoS",
           6804362,
           "100000000"
          ],
          [
           "X13",
           "PoW/PoS",
           21268092,
           "30000000"
          ],
          [
           "Scrypt",
           "PoW/PoS",
           9044930943.24243,
           "50000000000"
          ],
          [
           "X13",
           "PoW/PoS",
           21917018.0492836,
           "18898187.6216583"
          ],
          [
           "SkunkHash v2 Raptor",
           "PoS",
           107972766,
           "137500000"
          ],
          [
           "Skein",
           "PoW/PoS",
           47331802.4774238,
           "100000000"
          ],
          [
           "X11",
           "PoW/PoS",
           12569262.5359307,
           "9507271"
          ],
          [
           "Scrypt",
           "PoS",
           18663297.3489799,
           "17405891.19707116"
          ],
          [
           "PoS",
           "PoS",
           4000000,
           "61599965"
          ],
          [
           "Scrypt",
           "PoW/PoS",
           19539588,
           "48252000"
          ],
          [
           "Scrypt",
           "PoW/PoS",
           4200000,
           "4200000"
          ],
          [
           "SHA-512",
           "PoS",
           25000000,
           "91388946"
          ],
          [
           "Ouroboros",
           "PoS",
           25927070538,
           "45000000000"
          ],
          [
           "X11",
           "PoW/PoS",
           7262402.04264803,
           "27000000"
          ],
          [
           "NeoScrypt",
           "PoW/PoS",
           182638400,
           "400000000"
          ],
          [
           "Scrypt",
           "PoW/PoS",
           1140734.91680375,
           "15733333"
          ],
          [
           "Lyra2REv2",
           "PoS",
           24000000,
           "24000000"
          ],
          [
           "Scrypt",
           "PoW/PoS",
           48459472454,
           "25000000000"
          ],
          [
           "SHA-256",
           "PoW/PoS",
           92050800,
           "100000000"
          ],
          [
           "NIST5",
           "PoW/PoS",
           560563220,
           "1200000000"
          ],
          [
           "PHI1612",
           "PoW/PoS",
           8305775.31777569,
           "60000000"
          ],
          [
           "Scrypt",
           "PoW/PoS",
           2149688,
           "21000000"
          ],
          [
           "Quark",
           "PoW/PoS",
           30711550.5294042,
           "200000000"
          ],
          [
           "POS 2.0",
           "PoS",
           12330806.30517,
           "21000000"
          ],
          [
           "Scrypt",
           "PoW/PoS",
           16362544.992,
           "14788275.991"
          ],
          [
           "SHA-256",
           "PoS",
           8999999990,
           "9000000000"
          ],
          [
           "X11",
           "PoW/PoS",
           38198594.8342105,
           "144000000"
          ],
          [
           "DPoS",
           "DPoS",
           288090567.493887,
           "500000000"
          ],
          [
           "NIST5",
           "PoW/PoS",
           28399150208,
           "30000000000"
          ],
          [
           "X13",
           "PoW/PoS",
           183534024.889807,
           "210000000"
          ],
          [
           "Scrypt",
           "PoW/PoS",
           110976977.29338,
           "210000000"
          ],
          [
           "NIST5",
           "PoS",
           13247178.8807286,
           "27716121"
          ],
          [
           "Quark",
           "PoS",
           16955764.902064,
           "20000000"
          ],
          [
           "Scrypt",
           "PoW/PoS",
           4911500269.41,
           "50000000000"
          ],
          [
           "Scrypt",
           "PoW/PoS",
           8419402.321,
           "150000000"
          ],
          [
           "X11",
           "PoW/PoS",
           45174214.1078625,
           "50000000"
          ],
          [
           "Quark",
           "PoS",
           27299680,
           "120000000"
          ],
          [
           "Scrypt",
           "PoW/PoS",
           591022748,
           "900000000"
          ],
          [
           "Scrypt",
           "PoW/PoS",
           2504486.227718,
           "4000000"
          ],
          [
           "X11",
           "PoS",
           4407252,
           "21000000"
          ],
          [
           "POS 3.0",
           "PoS",
           20445861.5344251,
           "25000000"
          ],
          [
           "Ethash",
           "PoS",
           1618033,
           "1618033"
          ],
          [
           "Scrypt",
           "PoW and PoS",
           9399342.52839847,
           "30000000"
          ],
          [
           "Scrypt",
           "PoW/PoS",
           234846265.782157,
           "232000000"
          ],
          [
           "X13",
           "PoS",
           230298925,
           "800000000"
          ],
          [
           "C11",
           "PoW/PoS",
           11251342.1879021,
           "19340594"
          ],
          [
           "X11",
           "PoW/PoS",
           2167827.1,
           "25000000"
          ],
          [
           "XEVAN",
           "PoW/PoS",
           419275.38,
           "60000000"
          ],
          [
           "Scrypt",
           "PoS",
           25570013.1348022,
           "124000000"
          ],
          [
           "VBFT",
           "PoS",
           650848625,
           "1000000000"
          ],
          [
           "NIST5",
           "PoW/PoS",
           13787854.6277781,
           "50000000"
          ],
          [
           "Scrypt",
           "PoW/PoS",
           845637.81347436,
           "3000000"
          ],
          [
           "Scrypt",
           "PoW/PoS",
           1182153.5,
           "5000000"
          ],
          [
           "Scrypt",
           "PoS",
           267297676.3125,
           "500000000"
          ],
          [
           "Green Protocol",
           "PoS",
           9803691.3618195,
           "21000000"
          ],
          [
           "PoS",
           "PoS",
           21876586.8530324,
           "88000000"
          ],
          [
           "Scrypt",
           "PoW/PoS",
           9880502.37178894,
           "30000000"
          ],
          [
           "Semux BFT consensus",
           "DPoS",
           1231147,
           "100000000"
          ],
          [
           "Quark",
           "PoW/PoS",
           139739596.506702,
           "200000000"
          ],
          [
           "PoS",
           "PoS",
           11075254.0929996,
           "80000000"
          ],
          [
           "X16R",
           "PoS",
           4403800,
           "45000000"
          ],
          [
           "Scrypt",
           "PoW/PoS",
           1404157529.46026,
           "5121951220"
          ],
          [
           "XEVAN",
           "PoS/PoW",
           10904963.0923455,
           "21000000"
          ],
          [
           "Scrypt",
           "PoS",
           38706809.466535,
           "26000000"
          ],
          [
           "Scrypt",
           "PoW/PoS",
           10200000000,
           "10200000000"
          ],
          [
           "Scrypt",
           "PoS",
           7630000.0154,
           "44000000"
          ],
          [
           "SHA-256D",
           "PoW/PoS",
           33238183.7225834,
           "100000000"
          ],
          [
           "Scrypt",
           "PoW/PoS",
           21599339.6728,
           "84000000"
          ],
          [
           "X15",
           "PoS",
           30284196.369129,
           "90000000"
          ],
          [
           "Scrypt",
           "HPoW",
           77872059787.8998,
           "92000000000"
          ],
          [
           "Quark",
           "PoS",
           2716264.95302831,
           "650000000 "
          ],
          [
           "SHA-256",
           "PoS",
           57811001.000889,
           "100262205"
          ],
          [
           "DPoS",
           "PoS",
           18194936,
           "18081806 "
          ],
          [
           "X16R",
           "PoW/PoS",
           36923120.6205934,
           "82546564"
          ],
          [
           "Quark",
           "PoS",
           7082392.24744494,
           "21000000"
          ],
          [
           "Quark",
           "PoW/PoS",
           5919489.76813523,
           "5151000"
          ],
          [
           "Scrypt",
           "PoS",
           1042012.45227735,
           "16880000000"
          ],
          [
           "Lyra2REv2",
           "PoW/PoS",
           13332617.9413708,
           "52500000"
          ],
          [
           "Quark",
           "PoS",
           66053877.6256106,
           "100000000"
          ],
          [
           "Scrypt",
           "PoW/PoS",
           5403802.49590733,
           "1000000000"
          ],
          [
           "X11",
           "PoS",
           19269509.94,
           "55000000"
          ],
          [
           "X11",
           "PoW/PoS",
           30771125.9760867,
           "50000000"
          ],
          [
           "Scrypt",
           "PoS",
           107763867.917675,
           "260000000"
          ],
          [
           "PoS",
           "PoS",
           9327131.59708692,
           "210000000"
          ],
          [
           "Keccak",
           "PoW/PoS",
           4672513.84432375,
           "366000000"
          ],
          [
           "X11",
           "PoS",
           4504639,
           "100000000"
          ],
          [
           "Scrypt",
           "PoW/PoS",
           1059954080.43439,
           "18000000000"
          ],
          [
           "SHA-512",
           "Zero-Knowledge Proof",
           1000000000,
           "1000000000"
          ],
          [
           "XEVAN",
           "PoS",
           6787405.18013774,
           "50000000"
          ],
          [
           "XEVAN",
           "Pos",
           208515864.367343,
           "70000000000"
          ],
          [
           "X11",
           "PoS",
           17209923728.3266,
           "0"
          ],
          [
           "Quark",
           "PoW/PoS",
           35312185.7437239,
           "54000000"
          ],
          [
           "Equihash",
           "PoS",
           13475920,
           "105000000"
          ],
          [
           "Scrypt",
           "PoW/PoS",
           14777549.3940764,
           "21000000"
          ],
          [
           "Quark",
           "PoW/PoS",
           18265011.2486006,
           "19035999"
          ],
          [
           "Quark",
           "PoS",
           1934701.67524713,
           "13370000"
          ],
          [
           "Scrypt",
           "PoW/PoS",
           30825710000.0296,
           "74800000000"
          ],
          [
           "X11",
           "PoS",
           715659.44237941,
           "19700000"
          ],
          [
           "Scrypt",
           "PoW/PoS",
           20546528.2059957,
           "84000000"
          ],
          [
           "XEVAN",
           "PoW/PoS",
           198938144.363399,
           "500000000"
          ],
          [
           "SHA-256D",
           "PoW/PoS",
           896361168,
           "5000000000"
          ],
          [
           "X11",
           "PoW/PoS",
           15420234.5389336,
           "420000000"
          ],
          [
           "X11",
           "PoW/PoS",
           23775960.3207514,
           "30000000"
          ],
          [
           "DPoS",
           "DPoS",
           1000000000,
           "1000000000"
          ],
          [
           "Scrypt",
           "PoW/PoS",
           15318887081.0146,
           "35000000000"
          ],
          [
           "X11",
           "PoW/PoS",
           242574105.22384,
           "0"
          ],
          [
           "Scrypt",
           "PoW/PoS",
           3537150,
           "200000000"
          ],
          [
           "Scrypt",
           "PoW/PoS",
           20576532,
           "54256119"
          ],
          [
           "SHA-256",
           "PoS",
           4392258.24647793,
           "21000000"
          ],
          [
           "Scrypt",
           "PoW/PoS",
           9631199.99309942,
           "0"
          ],
          [
           "X11",
           "PoW/PoS",
           436353624.490312,
           "500000000"
          ],
          [
           "Scrypt",
           "PoW/PoS",
           980732528.97974,
           "10500000000"
          ],
          [
           "SHA-256",
           "PoW/PoS",
           17939725045.334,
           "190000000"
          ],
          [
           "X11",
           "PoW/PoS",
           494240666.028571,
           "1000000000"
          ],
          [
           "Scrypt",
           "PoW/PoS",
           60000000,
           "15000000"
          ],
          [
           "Scrypt",
           "PoW/PoS",
           404316475.545465,
           "400000000"
          ],
          [
           "X11",
           "PoW/PoS",
           201364327.427503,
           "208000000"
          ],
          [
           "Scrypt",
           "PoW/PoS",
           103621876.167052,
           "160000000"
          ],
          [
           "PoS",
           "PoS",
           3821245.74150193,
           "9000000"
          ],
          [
           "X11",
           "Proof of Trust",
           16901016.6609755,
           "16504333"
          ],
          [
           "SHA-256",
           "PoW/PoS",
           74676064.9488608,
           "105000000"
          ],
          [
           "DPoS",
           "DPoS",
           120012140,
           "159918400"
          ],
          [
           "Scrypt",
           "PoS",
           10000244677.7002,
           "10008835635"
          ],
          [
           "Scrypt",
           "PoW/PoS",
           252005564.19257,
           "300000000"
          ],
          [
           "NeoScrypt",
           "PoW/PoS",
           1120385.00502,
           "60168145"
          ],
          [
           "X13",
           "PoW/PoS",
           140777.753365,
           "120000"
          ],
          [
           "DPoS",
           "DPoS",
           1020544523.0722,
           "0"
          ],
          [
           "DPoS",
           "DPoS",
           1122382283.37,
           "0"
          ],
          [
           "SHA-256",
           "PoS",
           1000000000,
           "1000000000"
          ],
          [
           "PoS",
           "PoS",
           9283137.5558676,
           "8634140"
          ],
          [
           "PoS",
           "PoS/LPoS",
           1000000000,
           "1000000000"
          ],
          [
           "SHA-256",
           "DPoS",
           1999999995.3056,
           "2000000000"
          ],
          [
           "Scrypt",
           "PoW/PoS",
           14931046.1546605,
           "250000000"
          ],
          [
           "Scrypt",
           "PoS",
           128326.99633965,
           "1000000"
          ]
         ],
         "hovertemplate": "<b>%{hovertext}</b><br><br>Class=%{marker.color}<br>PC 1=%{x}<br>PC 2=%{y}<br>PC 3=%{z}<br>Algorithm=%{customdata[0]}<br>ProofType=%{customdata[1]}<br>TotalCoinsMined=%{customdata[2]}<br>TotalCoinSupply=%{customdata[3]}<extra></extra>",
         "hovertext": [
          "42 Coin",
          "404Coin",
          "EliteCoin",
          "Dash",
          "Bitshares",
          "BitcoinDark",
          "PayCoin",
          "KoboCoin",
          "Aurora Coin",
          "BlueCoin",
          "EnergyCoin",
          "BitBar",
          "CryptoBullion",
          "CasinoCoin",
          "Diamond",
          "Exclusive Coin",
          "FlutterCoin",
          "HoboNickels",
          "HyperStake",
          "IOCoin",
          "MaxCoin",
          "MintCoin",
          "MazaCoin",
          "Nautilus Coin",
          "NavCoin",
          "OpalCoin",
          "Orbitcoin",
          "PotCoin",
          "PhoenixCoin",
          "Reddcoin",
          "SuperCoin",
          "SyncCoin",
          "TeslaCoin",
          "TittieCoin",
          "TorCoin",
          "UnitaryStatus Dollar",
          "UltraCoin",
          "VeriCoin",
          "X11 Coin",
          "Crypti",
          "StealthCoin",
          "ZCC Coin",
          "BurstCoin",
          "StorjCoin",
          "Neutron",
          "FairCoin",
          "RubyCoin",
          "Kore",
          "Dnotes",
          "8BIT Coin",
          "Sativa Coin",
          "Ucoin",
          "Vtorrent",
          "IslaCoin",
          "Nexus",
          "Droidz",
          "Squall Coin",
          "Diggits",
          "Paycon",
          "Emercoin",
          "EverGreenCoin",
          "Decred",
          "EDRCoin",
          "Hitcoin",
          "DubaiCoin",
          "PWR Coin",
          "BillaryCoin",
          "GPU Coin",
          "EuropeCoin",
          "ZeitCoin",
          "SwingCoin",
          "SafeExchangeCoin",
          "Nebuchadnezzar",
          "Ratecoin",
          "Revenu",
          "Clockcoin",
          "VIP Tokens",
          "BitSend",
          "Let it Ride",
          "PutinCoin",
          "iBankCoin",
          "Frankywillcoin",
          "MudraCoin",
          "Lutetium Coin",
          "GoldBlocks",
          "CarterCoin",
          "BitTokens",
          "MustangCoin",
          "ZoneCoin",
          "RootCoin",
          "BitCurrency",
          "Swiscoin",
          "BuzzCoin",
          "Opair",
          "PesoBit",
          "Halloween Coin",
          "CoffeeCoin",
          "RoyalCoin",
          "GanjaCoin V2",
          "TeamUP",
          "LanaCoin",
          "ARK",
          "InsaneCoin",
          "EmberCoin",
          "XenixCoin",
          "FreeCoin",
          "PLNCoin",
          "AquariusCoin",
          "Creatio",
          "Eternity",
          "Eurocoin",
          "BitcoinFast",
          "Stakenet",
          "BitConnect Coin",
          "MoneyCoin",
          "Enigma",
          "Russiacoin",
          "PandaCoin",
          "GameUnits",
          "GAKHcoin",
          "Allsafe",
          "LiteCreed",
          "Klingon Empire Darsek",
          "Internet of People",
          "KushCoin",
          "Printerium",
          "Impeach",
          "Zilbercoin",
          "FirstCoin",
          "FindCoin",
          "OpenChat",
          "RenosCoin",
          "VirtacoinPlus",
          "TajCoin",
          "Impact",
          "Atmos",
          "HappyCoin",
          "MacronCoin",
          "Condensate",
          "Independent Money System",
          "ArgusCoin",
          "LomoCoin",
          "ProCurrency",
          "GoldReserve",
          "GrowthCoin",
          "Phreak",
          "Degas Coin",
          "HTML5 Coin",
          "Ultimate Secure Cash",
          "QTUM",
          "Espers",
          "Denarius",
          "Virta Unique Coin",
          "Bitcoin Planet",
          "BritCoin",
          "Linda",
          "DeepOnion",
          "Signatum",
          "Cream",
          "Monoeci",
          "Draftcoin",
          "Stakecoin",
          "CoinonatX",
          "Ethereum Dark",
          "Obsidian",
          "Cardano",
          "Regalcoin",
          "TrezarCoin",
          "TerraNovaCoin",
          "Rupee",
          "WomenCoin",
          "Theresa May Coin",
          "NamoCoin",
          "LUXCoin",
          "Xios",
          "Bitcloud 2.0",
          "KekCoin",
          "BlackholeCoin",
          "Infinity Economics",
          "Magnet",
          "Lamden Tau",
          "Electra",
          "Bitcoin Diamond",
          "Cash & Back Coin",
          "Bulwark",
          "Kalkulus",
          "GermanCoin",
          "LiteCoin Ultra",
          "PhantomX",
          "Digiwage",
          "Trollcoin",
          "Litecoin Plus",
          "Monkey Project",
          "TokenPay",
          "1717 Masonic Commemorative Token",
          "My Big Coin",
          "Unified Society USDEX",
          "Tokyo Coin",
          "Stipend",
          "Pushi",
          "Ellerium",
          "Velox",
          "Ontology",
          "Bitspace",
          "Briacoin",
          "Ignition",
          "MedicCoin",
          "Bitcoin Green",
          "Deviant Coin",
          "Abjcoin",
          "Semux",
          "Carebit",
          "Zealium",
          "Proton",
          "iDealCash",
          "Bitcoin Incognito",
          "HollyWoodCoin",
          "Swisscoin",
          "Xt3ch",
          "TheVig",
          "EmaratCoin",
          "Dekado",
          "Lynx",
          "Poseidon Quark",
          "BitcoinWSpectrum",
          "Muse",
          "Trivechain",
          "Dystem",
          "Giant",
          "Peony Coin",
          "Absolute Coin",
          "Vitae",
          "TPCash",
          "ARENON",
          "EUNO",
          "MMOCoin",
          "Ketan",
          "XDNA",
          "PAXEX",
          "ThunderStake",
          "Kcash",
          "Bettex coin",
          "BitMoney",
          "Junson Ming Chan Coin",
          "HerbCoin",
          "PirateCash",
          "Oduwa",
          "Galilel",
          "Crypto Sports",
          "Credit",
          "Dash Platinum",
          "Nasdacoin",
          "Beetle Coin",
          "Titan Coin",
          "Award",
          "Insane Coin",
          "ALAX",
          "LiteDoge",
          "TruckCoin",
          "OrangeCoin",
          "BitstarCoin",
          "NeosCoin",
          "HyperCoin",
          "PinkCoin",
          "AudioCoin",
          "IncaKoin",
          "Piggy Coin",
          "Genstake",
          "XiaoMiCoin",
          "CapriCoin",
          " ClubCoin",
          "Radium",
          "Creditbit ",
          "OKCash",
          "Lisk",
          "HiCoin",
          "WhiteCoin",
          "FriendshipCoin",
          "Triangles Coin",
          "EOS",
          "Oxycoin",
          "TigerCash",
          "Particl",
          "Nxt",
          "ZEPHYR",
          "Gapcoin",
          "BitcoinPlus"
         ],
         "legendgroup": "1",
         "marker": {
          "color": [
           1,
           1,
           1,
           1,
           1,
           1,
           1,
           1,
           1,
           1,
           1,
           1,
           1,
           1,
           1,
           1,
           1,
           1,
           1,
           1,
           1,
           1,
           1,
           1,
           1,
           1,
           1,
           1,
           1,
           1,
           1,
           1,
           1,
           1,
           1,
           1,
           1,
           1,
           1,
           1,
           1,
           1,
           1,
           1,
           1,
           1,
           1,
           1,
           1,
           1,
           1,
           1,
           1,
           1,
           1,
           1,
           1,
           1,
           1,
           1,
           1,
           1,
           1,
           1,
           1,
           1,
           1,
           1,
           1,
           1,
           1,
           1,
           1,
           1,
           1,
           1,
           1,
           1,
           1,
           1,
           1,
           1,
           1,
           1,
           1,
           1,
           1,
           1,
           1,
           1,
           1,
           1,
           1,
           1,
           1,
           1,
           1,
           1,
           1,
           1,
           1,
           1,
           1,
           1,
           1,
           1,
           1,
           1,
           1,
           1,
           1,
           1,
           1,
           1,
           1,
           1,
           1,
           1,
           1,
           1,
           1,
           1,
           1,
           1,
           1,
           1,
           1,
           1,
           1,
           1,
           1,
           1,
           1,
           1,
           1,
           1,
           1,
           1,
           1,
           1,
           1,
           1,
           1,
           1,
           1,
           1,
           1,
           1,
           1,
           1,
           1,
           1,
           1,
           1,
           1,
           1,
           1,
           1,
           1,
           1,
           1,
           1,
           1,
           1,
           1,
           1,
           1,
           1,
           1,
           1,
           1,
           1,
           1,
           1,
           1,
           1,
           1,
           1,
           1,
           1,
           1,
           1,
           1,
           1,
           1,
           1,
           1,
           1,
           1,
           1,
           1,
           1,
           1,
           1,
           1,
           1,
           1,
           1,
           1,
           1,
           1,
           1,
           1,
           1,
           1,
           1,
           1,
           1,
           1,
           1,
           1,
           1,
           1,
           1,
           1,
           1,
           1,
           1,
           1,
           1,
           1,
           1,
           1,
           1,
           1,
           1,
           1,
           1,
           1,
           1,
           1,
           1,
           1,
           1,
           1,
           1,
           1,
           1,
           1,
           1,
           1,
           1,
           1,
           1,
           1,
           1,
           1,
           1,
           1,
           1,
           1,
           1,
           1,
           1,
           1,
           1,
           1,
           1,
           1,
           1,
           1,
           1,
           1,
           1,
           1,
           1,
           1,
           1,
           1,
           1,
           1,
           1,
           1,
           1,
           1,
           1,
           1,
           1,
           1,
           1,
           1,
           1,
           1,
           1,
           1,
           1,
           1
          ],
          "coloraxis": "coloraxis",
          "symbol": "circle"
         },
         "mode": "markers",
         "name": "1",
         "scene": "scene",
         "showlegend": true,
         "type": "scatter3d",
         "x": [
          -0.33353080579938266,
          -0.3168646645451504,
          2.30434833561114,
          -0.3976244669556509,
          -0.27882607296967654,
          -0.3138719347730369,
          -0.26865130698222134,
          -0.24607894771404862,
          -0.3331903053025189,
          -0.32576610286858604,
          -0.33202701332783746,
          -0.33352674111741054,
          -0.3335110185260524,
          0.6631454284538177,
          -0.37120132354217233,
          -0.35218622043209474,
          -0.27405730762105524,
          -0.3315891453858135,
          -0.33222260903726464,
          -0.3975191375959098,
          -0.42245595608380426,
          -0.02816779011177127,
          -0.2771700267077163,
          -0.28806121320720535,
          -0.28013509509460566,
          -0.2807574545059835,
          -0.34617594299056326,
          -0.32783179847052557,
          -0.33193218881049,
          0.024697289769654046,
          -0.35211402523770585,
          -0.3978907934724608,
          -0.24778995861795095,
          -0.3080213537813622,
          -0.39780241445148007,
          -0.30875732333632455,
          -0.33220790954893675,
          -0.2803551821524422,
          -0.39776688069851185,
          -0.2482577836825406,
          -0.28053826493078904,
          -0.32463203976152477,
          -0.007058757570226466,
          -0.33942110045595053,
          -0.313083471172355,
          -0.3706227454191795,
          -0.28804146352949567,
          -0.28083286270635865,
          -0.2826943398047514,
          -0.3335128700006795,
          -0.28078503605823313,
          -0.35255898269364744,
          -0.3332471927835248,
          -0.3978723179025811,
          -0.43151719460495513,
          -0.41587528429798576,
          -0.35933243573458656,
          -0.28644264148630627,
          -0.2803065684852411,
          -0.3064271264383579,
          -0.24852089681138392,
          -0.07686816732927523,
          -0.3138428416929596,
          -0.07526960972431754,
          -0.3139065484040103,
          -0.233781406832544,
          -0.3331230490423494,
          -0.2863116879047615,
          -0.3950409399897649,
          0.8653509486046973,
          -0.3137065709766345,
          -0.06779002571219146,
          -0.3518694230566656,
          -0.3957148133602536,
          -0.31244986136808894,
          -0.31011761456818443,
          -0.35516940613421943,
          -0.39660724267762526,
          -0.3477070424462123,
          -0.309414309438627,
          -0.3331611565766975,
          -0.3315997976377274,
          -0.23430633286754943,
          -0.34004692984352275,
          -0.3973461103757731,
          -0.33236520312944984,
          -0.3138874986990893,
          -0.3978615077101646,
          -0.33335035794214446,
          -0.33350710170510245,
          -0.28630120243135676,
          -0.2360659007704609,
          0.03516494988327889,
          -0.35082626510176534,
          -0.33312116537775033,
          -0.38402096682037395,
          -0.3501547326603567,
          -0.23573722730235663,
          -0.4185425196664598,
          -0.3499036849707801,
          -0.2794334987428322,
          3.7187783668058194,
          -0.3974539598441645,
          0.8516548632425979,
          -0.39781640685962955,
          -0.35129012036486207,
          -0.33304871368832056,
          -0.3332030780314917,
          -0.3518694230566656,
          -0.3973912255263163,
          -0.31375013819889674,
          -0.3330494481410289,
          -0.39214855500717083,
          -0.3331968729758814,
          -0.32878401830955545,
          -0.3978454080558506,
          -0.3324074184495265,
          0.35535628508012,
          -0.3333961929481596,
          -0.33346677842730077,
          -0.35522650283422275,
          -0.35502233702607866,
          -0.32969277281201664,
          -0.3138639066982145,
          -0.3977553390560646,
          -0.33324454103041923,
          -0.333371525363543,
          -0.2879479667310373,
          -0.2804829665419496,
          -0.23550502873572554,
          -0.3142207168836213,
          -0.2876890290212507,
          -0.39702093308350406,
          -0.42317417944323515,
          -0.3957590019108812,
          -0.35011557895044076,
          -0.39691879364169186,
          -0.34451421983467506,
          -0.392858913283431,
          -0.3333147979996039,
          -0.33331398990770245,
          -0.3264343295443174,
          0.2641196652305923,
          -0.3973973707338898,
          -0.2705864425439992,
          -0.3519037284341884,
          -0.332525319884407,
          0.8861022919160427,
          -0.26734145581537366,
          -0.3464851175289672,
          0.5791238574137899,
          -0.35670540314903804,
          -0.3552073011956239,
          -0.418906624063061,
          -0.2804700598735895,
          0.1315140999876533,
          -0.28054084610373153,
          -0.34566768808735104,
          -0.4184113899859017,
          -0.39766981200244095,
          -0.2880221759839209,
          -0.35176997958945894,
          -0.33294991386848516,
          -0.33344970423355336,
          -0.3369031904015974,
          0.6578544411507986,
          -0.3976106304931071,
          -0.3411740912604221,
          -0.33340531203792556,
          -0.31446482440673595,
          0.43588968045858395,
          -0.3122098004331453,
          -0.34146891230145154,
          -0.3887838177553668,
          -0.33335564030823567,
          -0.3988251786914841,
          -0.34067682807360594,
          -0.33322600654374807,
          -0.09509570881726735,
          -0.3964030258383436,
          3.7236354418608206,
          0.20291347159430406,
          -0.27721094910204064,
          -0.33068572162854143,
          -0.31131172947473357,
          -0.3551123805203694,
          0.08100472408967498,
          -0.33236436876951836,
          -0.3969842802236545,
          -0.35427694402759924,
          -0.3199273421413366,
          -0.33347184101482374,
          -0.3525309056861945,
          -0.34798902456685193,
          -0.27957770780505414,
          -0.28007995068282027,
          -0.32901608521571013,
          -0.2272990221966577,
          -0.3711053094358566,
          -0.3976870655196832,
          -0.30507113352797227,
          -0.28718198646019605,
          -0.3246671030283932,
          -0.3563042778336935,
          -0.3334992020493566,
          -0.33348090918663337,
          -0.28156216342126833,
          -0.3483369638465191,
          -0.35136434671610495,
          -0.3331973585969002,
          3.911115276034302,
          -0.3974928862225304,
          -0.3515530589429385,
          -0.3153002395223859,
          -0.2800558762682706,
          -0.26666516917666344,
          -0.2877163144402679,
          -0.13656789139720357,
          -0.2879684378189416,
          -0.34476232400945056,
          -0.33267127782774125,
          -0.2027073452568462,
          2.2466146026393616,
          -0.35081945191955677,
          -0.2674691859949679,
          1.016748736783181,
          -0.35979379967318137,
          -0.3552259400273599,
          -0.40050968175422774,
          -0.16867551893846586,
          -0.35955025754161174,
          -0.3539451858301497,
          -0.3263744064385149,
          -0.35210822053315366,
          -0.39716028196408415,
          -0.28521331042188275,
          -0.3506526727781453,
          -0.3467874533676252,
          -0.35196957663489586,
          -0.1929518521745871,
          -0.337214879840981,
          -0.2599070642694579,
          0.5576038296712165,
          -0.142433166209824,
          -0.39980415381764517,
          -0.26782936891587145,
          -0.3332013313459543,
          -0.40026037316579893,
          -0.3553429428795539,
          0.5735102830533684,
          -0.35258523340027903,
          -0.33268414289173354,
          -0.29952552646349834,
          -0.2994724013356023,
          -0.3947244297321246,
          -0.397387568291484,
          3.735879961189223,
          0.10182459503374687,
          -0.39492662668859413,
          -0.3320695101779218,
          -0.3328946712920829,
          -0.2686839463478129,
          -0.3334131160189367,
          -0.38901351113030586,
          -0.24709767158732782,
          -0.0934780404444496,
          -0.38476096394267756,
          -0.33269126775101604,
          -0.32575402458625363,
          -0.39395540235985277,
          -0.3311301172836675,
          -0.3521451169837085,
          -0.3858277580278148,
          -0.31238666303833856,
          3.719170266691313,
          -0.09520711540089773,
          -0.32832425838053514,
          -0.3458017236762449,
          -0.2809400899633978,
          3.7290406423556837,
          3.7302850715287805,
          -0.24957642650934656,
          -0.35208096826303753,
          -0.3563765440928025,
          2.4699053415528223,
          -0.3315757615682265,
          -0.28836499197149257
         ],
         "y": [
          1.0128984639813068,
          1.0130944016750791,
          1.6677603693564915,
          1.2485146326456238,
          1.6662571574191745,
          0.83253481303211,
          0.6333052819130598,
          1.9011406448500732,
          1.012898271932047,
          1.0131660064861223,
          1.012950279046885,
          1.012898248505705,
          1.0128984346879706,
          0.3867847939309364,
          0.9244695864872688,
          1.5732043229354002,
          0.2846509945088915,
          1.0128800321389384,
          1.0499893598324077,
          1.2485182618994204,
          2.01041792237282,
          0.8226257060626339,
          0.8320947301251337,
          0.8136592497663746,
          1.8021131758680433,
          1.8020917317022187,
          0.5083280438105384,
          1.0127961607113831,
          1.0128838567537775,
          1.025241657580694,
          1.0493039764033276,
          1.2485210999256056,
          0.11596756542664027,
          1.627499461490531,
          1.2485170346629597,
          1.0126142758749332,
          1.0128729342170626,
          0.23539790051790377,
          1.2485214590546851,
          0.11602255775954523,
          1.8020992841510315,
          1.012493963777327,
          0.7090700685496518,
          1.5380365776686933,
          0.8325292690839208,
          0.9244926368124534,
          0.8136714361594821,
          1.802080599999973,
          0.8135001188126127,
          1.0128990820113752,
          1.8020836701630047,
          1.0492744224768125,
          1.0128940138843707,
          1.248521737235411,
          2.210866812505031,
          1.870991953107438,
          0.8913762646571535,
          0.8136554137309651,
          1.80207171162656,
          0.8320958594830673,
          1.9012866948667742,
          0.9460404035396573,
          0.8325358154702867,
          1.240757224058902,
          0.8325417982364968,
          1.5269530069421429,
          1.012882646809297,
          0.8135738431620316,
          1.2483462264629337,
          0.7830122952170653,
          0.8325277107182323,
          0.388517121398877,
          1.5732010162168857,
          1.2485427428621998,
          0.8324410731231461,
          0.8323064803086205,
          1.522706432148517,
          1.2484664815339572,
          1.5618956410518001,
          1.0123071912993258,
          1.0128796744912083,
          1.012893887467589,
          1.6027556195000836,
          1.0492525584524666,
          1.2485043124557127,
          1.0128746256541599,
          0.8325349878759846,
          1.248519976359224,
          1.0128897480825492,
          1.0128992807651573,
          0.813731399015164,
          0.31860286628575923,
          1.9161836268419787,
          1.5731985591326458,
          1.012912578680237,
          1.247932325334866,
          1.5732458757096297,
          1.602846762024949,
          1.9226043315505272,
          1.5730689239307971,
          1.9142284584452922,
          1.8543095051374836,
          1.2485148187336543,
          1.840505952835493,
          1.2485209235487431,
          1.5731996432621937,
          1.0128876685953465,
          1.0128798893111657,
          1.5732010162168857,
          1.2484956467746113,
          0.8325404319207341,
          1.0128915828840297,
          0.7989213963933072,
          1.012890058769703,
          1.012599324375992,
          1.2485191088562713,
          1.0128347706868563,
          0.812718552857649,
          1.0128938577266222,
          1.0128983122356268,
          1.490192599510734,
          0.5674385352503901,
          1.012675149070269,
          0.8325358007676508,
          1.2485191160865223,
          1.0128941052538147,
          1.0128883550226382,
          0.8136355462033718,
          0.289882227693855,
          1.602846211711415,
          1.0128526988268283,
          0.8136590984697738,
          1.2484799609298185,
          1.8674032758902537,
          1.2485163311517375,
          1.5731972402028978,
          1.2484834802710343,
          1.5731842239322371,
          1.2483389211826357,
          1.0128908225013804,
          1.0128855966895267,
          1.0124318636463419,
          0.5983375863380996,
          1.2485096573990675,
          0.8128506340471418,
          1.573192722999928,
          1.0128584418587672,
          1.8763996023725609,
          0.6332170199104589,
          1.56189045462683,
          1.843908610061632,
          1.5227103969261393,
          1.522683792879338,
          1.9421748874101896,
          1.8020803006931017,
          0.9933662503069279,
          1.8020857563672075,
          1.4861463285992842,
          1.94219195131487,
          1.2485219540334813,
          0.8136597230887299,
          1.5731748601702056,
          1.0128841664851973,
          1.012898271769572,
          1.6667514813519932,
          1.4999424187340027,
          1.2485115538068088,
          0.5082186224305222,
          1.01289159979406,
          0.7099881068206175,
          1.0216318451525461,
          0.832536616709072,
          1.5223891583958125,
          1.8271040150657596,
          1.0128895660720705,
          1.6893532157416793,
          1.5779272659486283,
          1.012898450034664,
          0.6328941800527761,
          1.2484699624872717,
          1.8542101923381367,
          1.520666323073635,
          1.8020645961121902,
          1.0128471600821427,
          1.3234674744371209,
          1.4901929761453736,
          0.9916258870816648,
          1.01283198730744,
          1.2485167797626104,
          1.4901506503204074,
          1.0127271817980845,
          1.0128976512429553,
          1.0492746787866853,
          1.5618919695131268,
          -0.0906165846225454,
          0.33630373763782456,
          1.0128890448749222,
          1.6025703941285783,
          0.9079254264971112,
          1.2485103423796382,
          1.468942060440151,
          0.8136128718441622,
          1.5723114815933446,
          1.522695773466231,
          1.0128974196028178,
          1.012896627669582,
          0.8135391293548595,
          1.517081792109821,
          1.573170063207255,
          1.0128886198005074,
          1.816675463458314,
          1.6893991215319815,
          1.5731692498393839,
          0.6970069156049327,
          1.0110986960252695,
          1.111819707169494,
          0.8136641505000679,
          1.0124316593879414,
          0.8136426631474996,
          1.9172440145389555,
          1.012868346180175,
          1.7020255383928795,
          0.3087435001969961,
          1.489892889823467,
          0.633283604052055,
          1.6804809267376724,
          0.8962415543179582,
          1.4901883521933803,
          1.6894337347802282,
          0.805780661669079,
          0.909208784992357,
          1.4901763038259987,
          1.0124339283713126,
          1.0492650649073019,
          1.2485107154042379,
          0.8135839929366349,
          1.5731078283881519,
          0.9619408336444727,
          1.049237841733144,
          1.0049421576192321,
          1.9830523079254068,
          1.2697109360858152,
          1.1165681159562306,
          1.0565287906008105,
          1.6894233072048908,
          -0.0372880955174694,
          1.0128948829788527,
          1.6894324511406824,
          1.4901897465472425,
          0.9909600444226212,
          1.0492737313116183,
          1.0128679028984306,
          1.468820249178683,
          1.9153200555502177,
          1.2483315319592525,
          1.2485171063369893,
          1.8542765333159896,
          1.0030100354777518,
          1.2486232346815913,
          1.0128065911130908,
          1.0128818002980606,
          0.6332981127780014,
          1.012902519158604,
          1.2484714192857038,
          1.0084098831734218,
          0.8400092902872717,
          1.248262386945953,
          1.0129167245625332,
          1.0128819753541507,
          1.2485087868228888,
          1.0128674037914027,
          1.573199339141377,
          0.8009793897804744,
          0.8325269670972333,
          1.8542981774224936,
          0.8131983171327215,
          1.012864526585328,
          0.5083008322506293,
          1.802085353436704,
          1.854751994358895,
          1.8547948727103063,
          0.6332603013081924,
          1.5732018096348785,
          1.6902115544029537,
          0.8070551280007539,
          1.012788047921124,
          0.8136595774672757
         ],
         "z": [
          -0.5755767556085797,
          -0.5760509227653283,
          -0.665740701364435,
          -0.5439910728743172,
          -0.08430654579775866,
          -0.38845190900569837,
          -0.07995188365568746,
          -0.6816480664372121,
          -0.575585659784461,
          -0.5758305813032568,
          -0.575625914115616,
          -0.5755768220928278,
          -0.5755772696648785,
          -0.28953565329795333,
          -0.4437708854886835,
          -0.06572749152296443,
          -0.3381093433711785,
          -0.5756242932004104,
          -0.23615242543265305,
          -0.5439945160578564,
          -0.645553324874708,
          -0.27557944135594054,
          -0.3893333610086447,
          -0.2670814588234175,
          -0.6229716483139637,
          -0.6229513035811557,
          -0.33002451293268187,
          -0.5757072829854398,
          -0.5756160005771013,
          -0.5872871190399312,
          -0.23550218131265882,
          -0.5439852879697336,
          0.11406666006833018,
          -0.27317719005063307,
          -0.5439868492948283,
          -0.57617413053887,
          -0.5756067217751478,
          -0.37615950175445617,
          -0.5439886084325054,
          0.11406867422202434,
          -0.622958468819216,
          -0.5757348644677196,
          -0.10355818583096689,
          -0.1364049516781421,
          -0.38847157533801707,
          -0.44379038064081006,
          -0.2670842529601825,
          -0.6229472450428676,
          -0.26719265424740635,
          -0.5755773419297578,
          -0.6229490740589072,
          -0.23548498001379056,
          -0.575583371054153,
          -0.543985892063073,
          -0.4730047187187142,
          -0.646365439275752,
          -0.3039950009043282,
          -0.2671232390482857,
          -0.6229594034528866,
          -0.38856540979867327,
          -0.6816112239567481,
          -0.4621759662133278,
          -0.38845286004930746,
          -0.5510061248455228,
          -0.3884523045705305,
          -0.5799409455297333,
          -0.5755845079158698,
          -0.267111445421514,
          -0.5440274579374879,
          -0.29164217595475295,
          -0.3884549244940188,
          -0.2706680017273149,
          -0.06573519174920558,
          -0.5440464610308308,
          -0.3884717420644831,
          -0.3885078436813728,
          -0.5759608591195341,
          -0.5440087893019548,
          -0.14857852430181456,
          -0.5760995382701727,
          -0.5755829523516373,
          -0.5756266007616704,
          -0.31446368339116104,
          -0.23580940848054122,
          -0.5439964541710738,
          -0.575602907787633,
          -0.3884515330148668,
          -0.5439858470778505,
          -0.5755798658286649,
          -0.5755775304935203,
          -0.26714114154644086,
          -0.3929425482862172,
          -0.7557516407458812,
          -0.06576212164760369,
          -0.5755901466303014,
          -0.5442395048588716,
          -0.06578858867081856,
          -0.3144431337147001,
          -0.6674327879797526,
          -0.06576213739785514,
          -0.7471265824888079,
          -0.10965180835346326,
          -0.5439955843859922,
          -0.659856634329837,
          -0.5439872080980154,
          -0.06575014530141327,
          -0.5755873973650832,
          -0.5755818917934633,
          -0.06573519174920558,
          -0.5439936514810289,
          -0.3884561560752825,
          -0.5755881090071199,
          -0.31066421327958893,
          -0.5755839536807835,
          -0.5756455261305905,
          -0.5439861077924691,
          -0.5755943571760996,
          -0.28379909905156075,
          -0.5755794298087846,
          -0.5755784083484421,
          -0.21350797973268248,
          -0.36123222283078266,
          -0.575635825201283,
          -0.38845230422993227,
          -0.5439884739563469,
          -0.5755834577391254,
          -0.5755790499359811,
          -0.2670800059459871,
          -0.25242968801858406,
          -0.31444912746104,
          -0.5760752073279011,
          -0.2670912024827581,
          -0.5440004446641311,
          -0.6491855798106151,
          -0.5440403689060267,
          -0.06578053483685438,
          -0.5440037835702597,
          -0.06592517120174596,
          -0.5440833841780209,
          -0.575581000104632,
          -0.5755800454918315,
          -0.5756759481833296,
          -0.08741048346056078,
          -0.5439961063761464,
          -0.2673892740878286,
          -0.06573274242723026,
          -0.5755956817864184,
          -0.7067541800513121,
          -0.07996979315861458,
          -0.14860963817330308,
          -0.7504538950802744,
          -0.5759212709817731,
          -0.5759556366719109,
          -0.7328217273128185,
          -0.6229567147509961,
          -0.5841394768301067,
          -0.6229558749700372,
          -0.17866729064955753,
          -0.732837916358558,
          -0.5439912494560438,
          -0.26708257215306364,
          -0.0657329185069926,
          -0.575589337453248,
          -0.5755788490849538,
          -0.0828740038639809,
          -0.17592860309853248,
          -0.5439908612389088,
          -0.33013540690193743,
          -0.5755787687520595,
          -0.017313099885773082,
          -0.597409143545363,
          -0.3884958861108221,
          -0.5762613281497231,
          -0.5808140728461241,
          -0.575579693149784,
          -0.5220377217100611,
          -0.2332028966961965,
          -0.5755847556852703,
          -0.08443192026020545,
          -0.5440148011409984,
          -0.10976078872936977,
          -0.590232693309875,
          -0.6230393520337628,
          -0.5756418748279473,
          -0.2674232884455877,
          -0.21351104641011395,
          -0.5824883412673452,
          -0.5755949677225529,
          -0.5440082822845917,
          -0.21352507766541662,
          -0.5759019384486973,
          -0.5755781519983583,
          -0.2354857650533054,
          -0.1485704351017603,
          0.13808941814327047,
          -0.3187480746474386,
          -0.5756935333575087,
          -0.3146130767658056,
          -0.409461015067086,
          -0.5439886281800062,
          -0.5001905953438566,
          -0.26709588315833005,
          -0.1079990543359446,
          -0.5759290720817509,
          -0.5755773903637723,
          -0.575577722773682,
          -0.2672296647361889,
          -0.12809548441220564,
          -0.06574267288338172,
          -0.5755836722279842,
          -0.11645275259308714,
          -0.5220812739305426,
          -0.06573756625222962,
          -0.1346384299201194,
          -0.5766446954053427,
          -0.2602005052249624,
          -0.2670914294673085,
          -0.5806609633382595,
          -0.26708079743158986,
          -0.745974439140935,
          -0.5755936990363146,
          -0.3731208606770795,
          -0.3766114584582919,
          -0.213567723821234,
          -0.07997887296230734,
          -0.10424237231388801,
          -0.4431584986066909,
          -0.21350720139665694,
          -0.5220085296403896,
          -0.2687448096976436,
          -0.3258150217154201,
          -0.2135385785162383,
          -0.575677907050753,
          -0.23549506767157977,
          -0.5440025288432243,
          -0.2671421792528217,
          -0.06574973702179797,
          -0.4284268251875229,
          -0.23549362439184035,
          -0.577782035243576,
          0.03178347838399492,
          -0.19168878750776885,
          -0.1746962690147984,
          -0.2423565824414834,
          -0.5220251065161514,
          0.14907911217011371,
          -0.5755847374610775,
          -0.522014835684348,
          -0.21350438979040776,
          -0.5952950253901051,
          -0.2354841617231729,
          -0.5755932784814315,
          -0.5003134523288792,
          -0.7468042863209796,
          -0.5440330241539275,
          -0.5439977547049032,
          -0.11009466370279862,
          -0.5851607712907635,
          -0.544082185779514,
          -0.5755979671068505,
          -0.5755903460346797,
          -0.07994968797861765,
          -0.5755806028559493,
          -0.54420908916121,
          -0.5770079429949763,
          -0.39563420732649707,
          -0.5442817090867664,
          -0.575602208013079,
          -0.5757778605382083,
          -0.5440863146842568,
          -0.5756339871242208,
          -0.0657276400807179,
          -0.36927413711316315,
          -0.38848944058305357,
          -0.10965998265763578,
          -0.27205888368033593,
          -0.5757071193064353,
          -0.3300292569906865,
          -0.6229453173509928,
          -0.11000387752860429,
          -0.1100445575256644,
          -0.08044430634214929,
          -0.06572978566434196,
          0.23483589364885163,
          -0.08630565582763476,
          -0.5756074681430914,
          -0.26707354412848383
         ]
        },
        {
         "customdata": [
          [
           "SHA-256",
           "PoW",
           17927175,
           "21000000"
          ],
          [
           "Ethash",
           "PoW",
           107684222.6865,
           "0"
          ],
          [
           "Scrypt",
           "PoW",
           63039243.3000049,
           "84000000"
          ],
          [
           "CryptoNight-V7",
           "PoW",
           17201143.1449131,
           "0"
          ],
          [
           "Ethash",
           "PoW",
           113359703,
           "210000000"
          ],
          [
           "Equihash",
           "PoW",
           7383056.25,
           "21000000"
          ],
          [
           "Multiple",
           "PoW",
           11406219141,
           "21000000000"
          ],
          [
           "Scrypt",
           "PoW",
           5768310,
           "21000000"
          ],
          [
           "X11",
           "PoW",
           11149733.9976203,
           "20000000"
          ],
          [
           "Scrypt",
           "PoW",
           12205795.4449549,
           "64000000"
          ],
          [
           "Multiple",
           "PoW",
           1688254250,
           "2000000000"
          ],
          [
           "Scrypt",
           "PoW",
           88,
           "384000000000"
          ],
          [
           "SHA-256",
           "PoW",
           170204389.754849,
           "169795588"
          ],
          [
           "Scrypt",
           "PoW",
           128940951.183046,
           "250000000"
          ],
          [
           "Scrypt",
           "PoW",
           7357794.7925,
           "100000000"
          ],
          [
           "Quark",
           "PoW",
           259557164.91477,
           "247000000"
          ],
          [
           "Groestl",
           "PoW",
           49548585.1412917,
           "84000000"
          ],
          [
           "Scrypt",
           "PoW",
           33442988.3440364,
           "48166000"
          ],
          [
           "Scrypt",
           "PoW",
           7219956.64626131,
           "21000000 "
          ],
          [
           "Scrypt",
           "PoW",
           4703879.51824446,
           "13140000"
          ],
          [
           "X11",
           "PoW",
           4996986.20575291,
           "18000000"
          ],
          [
           "Multiple",
           "PoW",
           15929530669.1206,
           "16555000000"
          ],
          [
           "SHA-256",
           "PoW",
           18773857500,
           "21000000000"
          ],
          [
           "Scrypt",
           "PoW",
           12539015186.822,
           "13500000000"
          ],
          [
           "Scrypt",
           "PoW",
           20910478.8062499,
           "21000000 "
          ],
          [
           "Scrypt",
           "PoW",
           218871896.499999,
           "299792458"
          ],
          [
           "Scrypt",
           "PoW",
           19496786.31025,
           "32000000"
          ],
          [
           "Scrypt",
           "PoW",
           1142732.14912776,
           "11235813"
          ],
          [
           "NeoScrypt",
           "PoW",
           208669093.00773,
           "336000000"
          ],
          [
           "Scrypt",
           "PoW",
           884125802,
           "1420609614"
          ],
          [
           "Scrypt",
           "PoW",
           65672720.4708748,
           "70000000"
          ],
          [
           "Scrypt",
           "PoW",
           41658647.9999715,
           "72245700"
          ],
          [
           "Scrypt",
           "PoW",
           90595753018.6314,
           "90600000000"
          ],
          [
           "SHA-256",
           "PoW",
           21089348.999,
           "21000000"
          ],
          [
           "Scrypt",
           "PoW",
           151447649.8,
           "265420800"
          ],
          [
           "Scrypt",
           "PoW",
           19326319.14375,
           "20000000"
          ],
          [
           "Scrypt",
           "PoW",
           1104344.22938102,
           "1350000"
          ],
          [
           "Scrypt",
           "PoW",
           38151999.9930997,
           "42000000"
          ],
          [
           "HybridScryptHash256",
           "PoW",
           40431856.9,
           "200000000"
          ],
          [
           "Scrypt",
           "PoW",
           5804204.88794916,
           "10000000"
          ],
          [
           "Scrypt",
           "PoW",
           2366066305.76482,
           "15000000000"
          ],
          [
           "SHA-256",
           "PoW",
           14736400,
           "21000000"
          ],
          [
           "Scrypt",
           "PoW",
           334709223.483138,
           "337000000"
          ],
          [
           "Scrypt",
           "PoW",
           1104157.42169891,
           "21000000"
          ],
          [
           "Scrypt",
           "PoW",
           24215181.725,
           "250000000"
          ],
          [
           "Scrypt",
           "PoW",
           25593737.1355044,
           "51200000"
          ],
          [
           "SHA-256",
           "PoW",
           563336541.299966,
           "888000000"
          ],
          [
           "SHA-256",
           "PoW",
           43536800,
           "47011968"
          ],
          [
           "SHA-256",
           "PoW",
           22935396,
           "42000000"
          ],
          [
           "SHA-256",
           "PoW",
           2278150,
           "80000000"
          ],
          [
           "SHA-256",
           "PoW",
           200911.79151896,
           "250000"
          ],
          [
           "X11",
           "PoW",
           1207310,
           "0"
          ],
          [
           "Scrypt",
           "PoW",
           23150892.1679687,
           "23000000"
          ],
          [
           "Lyra2REv2",
           "PoW",
           51173723.8166347,
           "84000000"
          ],
          [
           "Scrypt",
           "PoW",
           119606941,
           "265420800"
          ],
          [
           "SHA-256",
           "PoW",
           39195739.362088,
           "45000000"
          ],
          [
           "CryptoNight",
           "PoW",
           184066828814,
           "184467440735"
          ],
          [
           "CryptoNight",
           "PoW",
           6906587610.38292,
           "10000000000"
          ],
          [
           "Scrypt",
           "PoW",
           68194674.8711679,
           "105120000"
          ],
          [
           "Scrypt",
           "PoW",
           415032420,
           "1680000000"
          ],
          [
           "Scrypt",
           "PoW",
           137517654.41397,
           "166386000"
          ],
          [
           "Scrypt",
           "PoW",
           181919.2435974,
           "2628000"
          ],
          [
           "Scrypt",
           "PoW",
           152270664.860648,
           "160000000"
          ],
          [
           "Scrypt",
           "PoW",
           792537250,
           "1000000000"
          ],
          [
           "Stanford Folding",
           "PoW",
           719416990,
           "1000000000"
          ],
          [
           "Multiple",
           "PoW",
           65113302,
           "0"
          ],
          [
           "QuBit",
           "PoW",
           6365285,
           "0"
          ],
          [
           "Scrypt",
           "PoW",
           10140044.4430293,
           "3371337"
          ],
          [
           "Scrypt",
           "PoW",
           4610340640.89,
           "10000000000"
          ],
          [
           "M7 POW",
           "PoW",
           708506520,
           "1840000000"
          ],
          [
           "Scrypt",
           "PoW",
           619478,
           "619478"
          ],
          [
           "SHA-256",
           "PoW",
           12462620,
           "21000000"
          ],
          [
           "Scrypt",
           "PoW",
           88213,
           "92000000000"
          ],
          [
           "X11",
           "PoW",
           32221574.820996,
           "33000000"
          ],
          [
           "Lyra2RE",
           "PoW",
           13742738,
           "65789100"
          ],
          [
           "SHA-256",
           "PoW",
           14747200.0002,
           "53760000"
          ],
          [
           "X11",
           "PoW",
           15863837.5,
           "21000000"
          ],
          [
           "Scrypt",
           "PoW",
           32565300,
           "210240000"
          ],
          [
           "Scrypt",
           "PoW",
           75614500,
           "250000000"
          ],
          [
           "Ethash",
           "PoW",
           10495278,
           "16906397"
          ],
          [
           "Blake2b",
           "PoW",
           33098296530,
           "0"
          ],
          [
           "X11",
           "PoW",
           15867695,
           "16000000"
          ],
          [
           "SHA-256",
           "PoW",
           20997476.8650231,
           "21000000"
          ],
          [
           "Scrypt",
           "PoW",
           210000000,
           "210000000"
          ],
          [
           "1GB AES Pattern Search",
           "PoW",
           11448949,
           "81962100"
          ],
          [
           "Scrypt",
           "PoW",
           69836100,
           "84000000"
          ],
          [
           "SHA-256",
           "PoW",
           21739971929,
           "21626280000 "
          ],
          [
           "X11",
           "PoW",
           45110324,
           "84000000"
          ],
          [
           "Dagger",
           "PoW",
           5702048,
           "30000000"
          ],
          [
           "Scrypt",
           "PoW",
           636462.55983338,
           "168351300"
          ],
          [
           "X11GOST",
           "PoW",
           17263355,
           "24000000"
          ],
          [
           "Scrypt",
           "PoW",
           6570807.65677618,
           "20000000"
          ],
          [
           "X11",
           "PoW",
           13654082.4987998,
           "25000000"
          ],
          [
           "Scrypt",
           "PoW",
           616448,
           "616448"
          ],
          [
           "X11",
           "PoW",
           1377917,
           "25000000"
          ],
          [
           "Equihash",
           "dPoW/PoW",
           115898131,
           "200000000"
          ],
          [
           "CryptoNight",
           "PoW",
           7822432.72439746,
           "10000000"
          ],
          [
           "SHA-256",
           "PoW",
           6243840,
           "9736000"
          ],
          [
           "Multiple",
           "PoW",
           1000000000,
           "1200000000"
          ],
          [
           "Scrypt",
           "PoW",
           116845228,
           "200000000"
          ],
          [
           "SHA-256",
           "PoW",
           9106714,
           "10638298"
          ],
          [
           "Scrypt",
           "PoW",
           11119200,
           "30000000"
          ],
          [
           "Lyra2Z",
           "PoW",
           7568281.24956067,
           "21400000"
          ],
          [
           "Ethash",
           "PoW",
           26205539,
           "26205539"
          ],
          [
           "Equihash",
           "PoW",
           5613550,
           "21000000"
          ],
          [
           "Scrypt",
           "PoW",
           196297971,
           "10000000000"
          ],
          [
           "X11",
           "PoW",
           824000000,
           "500000000"
          ],
          [
           "X11",
           "PoW",
           61364813,
           "228000000"
          ],
          [
           "CryptoNight",
           "PoW",
           978145,
           "21000000"
          ],
          [
           "Scrypt",
           "PoW",
           894026,
           "2714286"
          ],
          [
           "CryptoNight",
           "PoW",
           9357088,
           "25000000"
          ],
          [
           "Lyra2RE",
           "PoW",
           1876146.443596,
           "9999999"
          ],
          [
           "X11",
           "PoW",
           536982074,
           "100000000000"
          ],
          [
           "CryptoNight-V7",
           "PoW",
           10969318.522954,
           "185000000"
          ],
          [
           "Scrypt",
           "PoW",
           3115258,
           "3360000"
          ],
          [
           "X11",
           "PoW",
           30385540,
           "1000000000"
          ],
          [
           "Equihash",
           "PoW",
           6921653.89980891,
           "17000000"
          ],
          [
           "Scrypt",
           "PoW",
           99843408.3158479,
           "100000000 "
          ],
          [
           "Lyra2RE",
           "PoW",
           18545757.5,
           "21000000"
          ],
          [
           "Dagger-Hashimoto",
           "PoW",
           2232901,
           "2232901"
          ],
          [
           "Scrypt",
           "PoW",
           64096052,
           "4000000000"
          ],
          [
           "NIST5",
           "PoW",
           10123200,
           "48252000"
          ],
          [
           "Scrypt",
           "PoW",
           20276099.146524,
           "35520400"
          ],
          [
           "SHA-256",
           "PoW",
           1317747500,
           "2500000000"
          ],
          [
           "Scrypt",
           "PoW",
           13673406.4325268,
           "72000000"
          ],
          [
           "CryptoNight-V7",
           "PoW",
           69036016.8340164,
           "105000000"
          ],
          [
           "Argon2d",
           "PoW",
           19784224.6512734,
           "0"
          ],
          [
           "Blake2b",
           "PoW",
           133248297,
           "340282367"
          ],
          [
           "Cloverhash",
           "PoW",
           18407259.0885883,
           "30000000"
          ],
          [
           "CryptoNight",
           "PoW",
           1809467143,
           "2000000000"
          ],
          [
           "X11",
           "PoW",
           35138975,
           "100000000"
          ],
          [
           "Scrypt",
           "PoW",
           18133195,
           "19276800"
          ],
          [
           "Scrypt",
           "PoW",
           5167775,
           " 75000000"
          ],
          [
           "X11",
           "PoW",
           26042364.3735553,
           "60000000"
          ],
          [
           "X11",
           "PoW",
           2622886,
           "18900000"
          ],
          [
           "CryptoNight",
           "PoW",
           14161803,
           "54000000"
          ],
          [
           "Time Travel",
           "PoW",
           17801865.1605478,
           "21000000"
          ],
          [
           "Scrypt",
           "PoW",
           163055097500,
           "200000000000"
          ],
          [
           "Keccak",
           "PoW",
           2241009149.22257,
           "5000000000"
          ],
          [
           "X11",
           "PoW",
           122475638.389743,
           "1100000000"
          ],
          [
           "SHA-256",
           "PoW",
           17995589.6469082,
           "21000000"
          ],
          [
           "Scrypt",
           "PoW",
           485214,
           "10500000000"
          ],
          [
           "Scrypt",
           "PoW",
           143006669741.687,
           "0"
          ],
          [
           "Scrypt",
           "PoW",
           9704042,
           "20000000"
          ],
          [
           "Scrypt",
           "PoW",
           17453749.4042601,
           "84000000"
          ],
          [
           "Scrypt",
           "PoW",
           32646731.063036,
           "100000000"
          ],
          [
           "Scrypt",
           "PoW",
           33716526,
           "100000000"
          ],
          [
           "CryptoNight",
           "PoW",
           8946653,
           "88888888"
          ],
          [
           "Equihash",
           "PoW",
           5211553258.01514,
           "21000000000"
          ],
          [
           "X11",
           "PoW",
           2702855668.85288,
           "1800000000"
          ],
          [
           "NeoScrypt",
           "PoW",
           4165967.57499639,
           "27000000"
          ],
          [
           "Equihash",
           "PoW",
           17202361.088994,
           "21000000"
          ],
          [
           "Dagger",
           "PoW",
           33986980,
           "156306732.71"
          ],
          [
           "Scrypt",
           "PoW",
           99990001.493466,
           "100000000"
          ],
          [
           "X11",
           "PoW",
           175215859,
           "350000000"
          ],
          [
           "NeoScrypt",
           "PoW",
           6375259.04,
           "45000000"
          ],
          [
           "Ethash",
           "PoW",
           12756367,
           "280000000"
          ],
          [
           "NeoScrypt",
           "PoW",
           5832306.875,
           "31800000"
          ],
          [
           "Multiple",
           "PoW",
           481730566.566176,
           "660000000"
          ],
          [
           "CryptoNight",
           "PoW",
           19281821413.4924,
           "85000000000"
          ],
          [
           "CryptoNight",
           "PoW",
           4500000,
           "12500000"
          ],
          [
           "Ethash",
           "PoW",
           520891780,
           "10000000000"
          ],
          [
           "X11",
           "PoW",
           80316207,
           "550000000"
          ],
          [
           "CryptoNight-V7",
           "PoW",
           441250233.377,
           "999481516"
          ],
          [
           "Scrypt",
           "PoW",
           3964201248.87125,
           "4999999999"
          ],
          [
           "BLAKE256",
           "PoW",
           30089671530.5228,
           " 90000000000"
          ],
          [
           "X11",
           "PoW",
           4229040.50393462,
           "19800000"
          ],
          [
           "NeoScrypt",
           "PoW",
           7847417.33355824,
           "21000000"
          ],
          [
           "NeoScrypt",
           "PoW",
           299797953,
           "500000000"
          ],
          [
           "Scrypt",
           "PoW",
           45483049.3398182,
           "64000000"
          ],
          [
           "X11",
           "PoW",
           8478104.33969947,
           "23000000"
          ],
          [
           "SHA-256",
           "PoW",
           20166000,
           "20166000"
          ],
          [
           "C11",
           "PoW",
           11916588.09471,
           "23000000"
          ],
          [
           "CryptoNight",
           "PoW",
           53139835213.77,
           "1000000000000"
          ],
          [
           "SkunkHash",
           "PoW",
           4818338.98949984,
           "16600000"
          ],
          [
           "CryptoNight",
           "PoW",
           133932467.774108,
           "336000000"
          ],
          [
           "Scrypt",
           "PoW",
           10000000000,
           "10000000000"
          ],
          [
           "Dagger",
           "PoW",
           107325266.027783,
           "100000000"
          ],
          [
           "Lyra2REv2",
           "PoW",
           643795911.540095,
           "1100000000"
          ],
          [
           "Scrypt",
           "PoW",
           12446100.00278,
           "40000000"
          ],
          [
           "Scrypt",
           "PoW",
           14491014421,
           "18406979840"
          ],
          [
           "X11",
           "PoW",
           211297638.500483,
           "500000000"
          ],
          [
           "Ethash",
           "PoW",
           247612453,
           "6500000000"
          ],
          [
           "CryptoNight",
           "PoW",
           80049082.9057215,
           "1000000000"
          ],
          [
           "Scrypt",
           "PoW",
           4070212.1493016,
           "21000000"
          ],
          [
           "IMesh",
           "PoW",
           25000000,
           "25000000"
          ],
          [
           "Equihash",
           "PoW",
           71355477,
           "70000000"
          ],
          [
           "Lyra2Z",
           "PoW",
           27340501.6514783,
           "300000000"
          ],
          [
           "X11",
           "PoW",
           31801461.1867843,
           "100000000"
          ],
          [
           "CryptoNight",
           "PoW",
           16016864,
           "18400000"
          ],
          [
           "NIST5",
           "PoW",
           21069346.2522598,
           "21000000"
          ],
          [
           "Lyra2RE",
           "PoW",
           5097689.71077377,
           "26280000"
          ],
          [
           "Tribus",
           "PoW",
           795447,
           "18000000"
          ],
          [
           "Lyra2Z",
           "PoW",
           6986399.70430446,
           "10500000"
          ],
          [
           "CryptoNight",
           "PoW",
           84300,
           "600000518"
          ],
          [
           "CryptoNight Heavy",
           "PoW",
           19153632,
           "150000000"
          ],
          [
           "CryptoNight",
           "PoW",
           41294520017,
           "184000000000"
          ],
          [
           "Jump Consistent Hash",
           "PoW",
           135862416.039898,
           "168000000"
          ],
          [
           "CryptoNight",
           "PoW",
           560085952.404637,
           "1000000000"
          ],
          [
           "X16R",
           "PoW",
           8125865.02097646,
           "22075700"
          ],
          [
           "HMQ1725",
           "PoW",
           8645406.16776286,
           "21000000"
          ],
          [
           "X11",
           "PoW",
           4993030.69736615,
           "21000000"
          ],
          [
           "Scrypt",
           "PoW",
           1416663.06600024,
           "22105263"
          ],
          [
           "CryptoNight-V7",
           "PoW",
           15580199.3087496,
           "1750000000"
          ],
          [
           "Cryptonight-GPU",
           "PoW",
           4890897,
           "88188888"
          ],
          [
           "XEVAN",
           "PoW",
           14746153.0962884,
           "210000000"
          ],
          [
           "CryptoNight Heavy",
           "PoW",
           99553110528.8022,
           "184470000000"
          ],
          [
           "SHA-256",
           "PoW",
           2100000000,
           "2100000000"
          ],
          [
           "X11",
           "PoW",
           5015881.37315389,
           "25000000"
          ],
          [
           "X16R",
           "PoW",
           9753753.61515394,
           "100000000"
          ],
          [
           "Equihash",
           "PoW",
           4235111504,
           "7600000000"
          ],
          [
           "Lyra2Z",
           "PoW",
           13634850,
           "84000000"
          ],
          [
           "SHA-256",
           "PoW",
           17992514.6469233,
           "21000000"
          ],
          [
           "CryptoNight",
           "PoW",
           1867054873.28397,
           "8080000000"
          ],
          [
           "Blake",
           "PoW",
           1578281.31341127,
           "105120001.44"
          ],
          [
           "Blake",
           "PoW",
           15846721.2482747,
           "25228800"
          ],
          [
           "Exosis",
           "PoW",
           406091.925,
           "21000000"
          ],
          [
           "Scrypt",
           "PoW",
           35284717.173946,
           "120000000"
          ],
          [
           "Equihash",
           "PoW",
           35687520,
           "262800000"
          ],
          [
           "Equihash",
           "PoW",
           25150787.5,
           "30886000"
          ],
          [
           "QuBit",
           "PoW",
           12925790.4226959,
           "100000000"
          ],
          [
           "SHA-256",
           "PoW",
           52293836.6277958,
           "64000000"
          ],
          [
           "X13",
           "PoW",
           1170292.5,
           "2100000"
          ],
          [
           "SHA-256",
           "PoW",
           84613099.9999955,
           "168000000"
          ],
          [
           "Scrypt",
           "PoW",
           55565076.3863525,
           "98100000000"
          ],
          [
           "NeoScrypt",
           "PoW",
           3824685012,
           "4000000000"
          ],
          [
           "Blake",
           "PoW",
           23356790.1494191,
           "7000000000"
          ],
          [
           "Scrypt",
           "PoW",
           780210700,
           "1000000000"
          ],
          [
           "SHA-256",
           "PoW",
           22986929.0854247,
           "42000000"
          ],
          [
           "Scrypt",
           "PoW",
           29583989322.9213,
           "50000000000"
          ],
          [
           "Groestl",
           "PoW",
           73298203.8873662,
           "105000000"
          ],
          [
           "Scrypt",
           "PoW",
           5052555.91981545,
           "5000000"
          ],
          [
           "Scrypt",
           "PoW",
           69684455.4387001,
           "182000000"
          ],
          [
           "Multiple",
           "PoW",
           3332922.5,
           "2800000"
          ],
          [
           "Equihash+Scrypt",
           "PoW",
           100000000,
           "2100000000"
          ],
          [
           "Ethash",
           "PoW",
           24487944.0958204,
           "24487944"
          ],
          [
           "CryptoNight",
           "PoW",
           980222595,
           "1400222610"
          ],
          [
           "Equihash",
           "PoW",
           7296537.5,
           "21000000"
          ]
         ],
         "hovertemplate": "<b>%{hovertext}</b><br><br>Class=%{marker.color}<br>PC 1=%{x}<br>PC 2=%{y}<br>PC 3=%{z}<br>Algorithm=%{customdata[0]}<br>ProofType=%{customdata[1]}<br>TotalCoinsMined=%{customdata[2]}<br>TotalCoinSupply=%{customdata[3]}<extra></extra>",
         "hovertext": [
          "Bitcoin",
          "Ethereum",
          "Litecoin",
          "Monero",
          "Ethereum Classic",
          "ZCash",
          "DigiByte",
          "ProsperCoin",
          "Spreadcoin",
          "Argentum",
          "MyriadCoin",
          "MoonCoin",
          "ZetaCoin",
          "SexCoin",
          "Quatloo",
          "QuarkCoin",
          "Riecoin",
          "Digitalcoin ",
          "Catcoin",
          "CannaCoin",
          "CryptCoin",
          "Verge",
          "DevCoin",
          "EarthCoin",
          "E-Gulden",
          "Einsteinium",
          "Emerald",
          "Franko",
          "FeatherCoin",
          "GrandCoin",
          "GlobalCoin",
          "GoldCoin",
          "Infinite Coin",
          "IXcoin",
          "KrugerCoin",
          "LuckyCoin",
          "Litebar ",
          "MegaCoin",
          "MediterraneanCoin",
          "MinCoin",
          "NobleCoin",
          "Namecoin",
          "NyanCoin",
          "RonPaulCoin",
          "StableCoin",
          "SmartCoin",
          "SysCoin",
          "TigerCoin",
          "TerraCoin",
          "UnbreakableCoin",
          "Unobtanium",
          "UroCoin",
          "ViaCoin",
          "Vertcoin",
          "WorldCoin",
          "JouleCoin",
          "ByteCoin",
          "DigitalNote ",
          "MonaCoin",
          "Gulden",
          "PesetaCoin",
          "Wild Beast Coin",
          "Flo",
          "ArtByte",
          "Folding Coin",
          "Unitus",
          "CypherPunkCoin",
          "OmniCron",
          "GreenCoin",
          "Cryptonite",
          "MasterCoin",
          "SoonCoin",
          "1Credit",
          "MarsCoin ",
          "Crypto",
          "Anarchists Prime",
          "BowsCoin",
          "Song Coin",
          "BitZeny",
          "Expanse",
          "Siacoin",
          "MindCoin",
          "I0coin",
          "Revolution VR",
          "HOdlcoin",
          "Gamecredits",
          "CarpeDiemCoin",
          "Adzcoin",
          "SoilCoin",
          "YoCoin",
          "SibCoin",
          "Francs",
          "BolivarCoin",
          "Omni",
          "PizzaCoin",
          "Komodo",
          "Karbo",
          "ZayedCoin",
          "Circuits of Value",
          "DopeCoin",
          "DollarCoin",
          "Shilling",
          "ZCoin",
          "Elementrem",
          "ZClassic",
          "KiloCoin",
          "ArtexCoin",
          "Kurrent",
          "Cannabis Industry Coin",
          "OsmiumCoin",
          "Bikercoins",
          "HexxCoin",
          "PacCoin",
          "Citadel",
          "BeaverCoin",
          "VaultCoin",
          "Zero",
          "Canada eCoin",
          "Zoin",
          "DubaiCoin",
          "EB3coin",
          "Coinonat",
          "BenjiRolls",
          "ILCoin",
          "EquiTrader",
          "Quantum Resistant Ledger",
          "Dynamic",
          "Nano",
          "ChanCoin",
          "Dinastycoin",
          "DigitalPrice",
          "Unify",
          "SocialCoin",
          "ArcticCoin",
          "DAS",
          "LeviarCoin",
          "Bitcore",
          "gCn Coin",
          "SmartCash",
          "Onix",
          "Bitcoin Cash",
          "Sojourn Coin",
          "NewYorkCoin",
          "FrazCoin",
          "Kronecoin",
          "AdCoin",
          "Linx",
          "Sumokoin",
          "BitcoinZ",
          "Elements",
          "VIVO Coin",
          "Bitcoin Gold",
          "Pirl",
          "eBoost",
          "Pura",
          "Innova",
          "Ellaism",
          "GoByte",
          "SHIELD",
          "UltraNote",
          "BitCoal",
          "DaxxCoin",
          "AC3",
          "Lethean",
          "PopularCoin",
          "Photon",
          "Sucre",
          "SparksPay",
          "GunCoin",
          "IrishCoin",
          "Pioneer Coin",
          "UnitedBitcoin",
          "Interzone",
          "TurtleCoin",
          "MUNcoin",
          "Niobio Cash",
          "ShareChain",
          "Travelflex",
          "KREDS",
          "BitFlip",
          "LottoCoin",
          "Crypto Improvement Fund",
          "Callisto Network",
          "BitTube",
          "Poseidon",
          "Aidos Kuneen",
          "Bitrolium",
          "Alpenschillling",
          "FuturoCoin",
          "Monero Classic",
          "Jumpcoin",
          "Infinex",
          "KEYCO",
          "GINcoin",
          "PlatinCoin",
          "Loki",
          "Newton Coin",
          "MassGrid",
          "PluraCoin",
          "Motion",
          "PlusOneCoin",
          "Axe",
          "HexCoin",
          "Webchain",
          "Ryo",
          "Urals Coin",
          "Qwertycoin",
          "Project Pai",
          "Azart",
          "Xchange",
          "CrypticCoin",
          "Actinium",
          "Bitcoin SV",
          "FREDEnergy",
          "Universal Molecule",
          "Lithium",
          "Exosis",
          "Block-Logic",
          "Beam",
          "Bithereum",
          "SLICE",
          "BLAST",
          "Bitcoin Rhodium",
          "GlobalToken",
          "SolarCoin",
          "UFO Coin",
          "BlakeCoin",
          "Crypto Escudo",
          "Crown Coin",
          "SmileyCoin",
          "Groestlcoin",
          "Bata",
          "Pakcoin",
          "JoinCoin",
          "Vollar",
          "Reality Clash",
          "Beldex",
          "Horizen"
         ],
         "legendgroup": "0",
         "marker": {
          "color": [
           0,
           0,
           0,
           0,
           0,
           0,
           0,
           0,
           0,
           0,
           0,
           0,
           0,
           0,
           0,
           0,
           0,
           0,
           0,
           0,
           0,
           0,
           0,
           0,
           0,
           0,
           0,
           0,
           0,
           0,
           0,
           0,
           0,
           0,
           0,
           0,
           0,
           0,
           0,
           0,
           0,
           0,
           0,
           0,
           0,
           0,
           0,
           0,
           0,
           0,
           0,
           0,
           0,
           0,
           0,
           0,
           0,
           0,
           0,
           0,
           0,
           0,
           0,
           0,
           0,
           0,
           0,
           0,
           0,
           0,
           0,
           0,
           0,
           0,
           0,
           0,
           0,
           0,
           0,
           0,
           0,
           0,
           0,
           0,
           0,
           0,
           0,
           0,
           0,
           0,
           0,
           0,
           0,
           0,
           0,
           0,
           0,
           0,
           0,
           0,
           0,
           0,
           0,
           0,
           0,
           0,
           0,
           0,
           0,
           0,
           0,
           0,
           0,
           0,
           0,
           0,
           0,
           0,
           0,
           0,
           0,
           0,
           0,
           0,
           0,
           0,
           0,
           0,
           0,
           0,
           0,
           0,
           0,
           0,
           0,
           0,
           0,
           0,
           0,
           0,
           0,
           0,
           0,
           0,
           0,
           0,
           0,
           0,
           0,
           0,
           0,
           0,
           0,
           0,
           0,
           0,
           0,
           0,
           0,
           0,
           0,
           0,
           0,
           0,
           0,
           0,
           0,
           0,
           0,
           0,
           0,
           0,
           0,
           0,
           0,
           0,
           0,
           0,
           0,
           0,
           0,
           0,
           0,
           0,
           0,
           0,
           0,
           0,
           0,
           0,
           0,
           0,
           0,
           0,
           0,
           0,
           0,
           0,
           0,
           0,
           0,
           0,
           0,
           0,
           0,
           0,
           0,
           0,
           0,
           0,
           0,
           0,
           0,
           0,
           0,
           0,
           0,
           0,
           0,
           0,
           0,
           0,
           0,
           0,
           0,
           0,
           0,
           0,
           0,
           0,
           0,
           0,
           0,
           0,
           0,
           0,
           0,
           0
          ],
          "coloraxis": "coloraxis",
          "symbol": "diamond"
         },
         "mode": "markers",
         "name": "0",
         "scene": "scene",
         "showlegend": true,
         "type": "scatter3d",
         "x": [
          -0.1457961279983462,
          -0.15557065542386248,
          -0.1642853121302781,
          -0.150539352988559,
          -0.15401232551623892,
          -0.14577698744308512,
          0.1615212137166771,
          -0.1654318401776818,
          -0.2297331793718983,
          -0.16504829010199776,
          -0.09194659762118566,
          2.55704978269248,
          -0.14288032733024725,
          -0.16230301059022292,
          -0.16485227810538322,
          -0.22781591995089917,
          -0.20219211689308964,
          -0.16490104637194694,
          -0.16541410145846458,
          -0.16550057750904273,
          -0.22982254497707216,
          0.18527814324522235,
          0.23214494980438943,
          0.08329201851013761,
          -0.1652468070764888,
          -0.1608510325810615,
          -0.1651860879672682,
          -0.1655575951268098,
          -0.1734302053421203,
          -0.14477480924369288,
          -0.16435239691084977,
          -0.16462991937543447,
          1.5837910072761947,
          -0.14575748710951228,
          -0.16191864584364624,
          -0.16527325543519986,
          -0.16562815826082555,
          -0.1648872227604277,
          -0.1519554127234979,
          -0.1655093955913642,
          -0.030383043239193733,
          -0.1458351183834762,
          -0.1591717174520733,
          -0.16548883482798873,
          -0.16358273043389868,
          -0.16497544986962087,
          -0.13298402851469876,
          -0.1452987510821146,
          -0.1455860312160962,
          -0.14556902307650055,
          -0.1461598631356052,
          -0.2299964803784414,
          -0.16520524911246448,
          -0.19098492158713784,
          -0.16230773047008465,
          -0.14536606323048526,
          3.858835628205138,
          0.4569484186763251,
          -0.1640725656316316,
          -0.14866782712247734,
          -0.1627910596200523,
          -0.16563036854891136,
          -0.16265606101100039,
          -0.14887627254846145,
          -0.13050998924083618,
          -0.1259616640294269,
          -0.1879933186699325,
          -0.16550341248984848,
          -0.038410469624951656,
          -0.12816024681362567,
          -0.16563926286084005,
          -0.14586290334415217,
          0.48666363574590593,
          -0.229383512550347,
          -0.1542578076958498,
          -0.14560270598084038,
          -0.22966848396795458,
          -0.16376260730561662,
          -0.16295464502676044,
          -0.15663840479729274,
          0.3698505000792725,
          -0.22970388866639913,
          -0.145758609761497,
          -0.16159610619397907,
          -0.15475900932502193,
          -0.16420225642738268,
          0.2728306002681819,
          -0.22886440688427834,
          -0.15316464774591104,
          -0.16444977510431696,
          -0.1506714784023815,
          -0.16542912424619632,
          -0.22966712509209147,
          -0.16563932137041193,
          -0.2298171364281202,
          -0.23825771580931837,
          0.30181465408497166,
          -0.14601876100637246,
          -0.10602916734460531,
          -0.16280533533146352,
          -0.14597737985632894,
          -0.16530264048179286,
          -0.155936272594563,
          -0.15638049543565538,
          -0.145798610318461,
          -0.09234884625108598,
          -0.21639699841113302,
          -0.22764476866146693,
          0.30180901282737216,
          -0.1656210550025175,
          0.30193976265467876,
          -0.15479837936406765,
          0.4855872590546526,
          -0.14930378622335175,
          -0.1655893338144513,
          -0.22254956329933206,
          -0.14581098712059476,
          -0.16372212957085494,
          -0.15451668729606596,
          -0.15413981288998915,
          -0.136506520247101,
          -0.18848187128445573,
          -0.16515160405194326,
          -0.11233566399767882,
          -0.1649736333653208,
          -0.14916145665861055,
          -0.15648152968129406,
          -0.03056051531556099,
          -0.1509241882016727,
          0.3379400832652979,
          -0.22887280812695066,
          -0.16529296283473327,
          -0.16505629871968586,
          -0.22926758087288918,
          -0.22984517449234143,
          0.3022040955877158,
          -0.1561758980912136,
          3.244910263169548,
          -0.11872369701664336,
          -0.22071521112950698,
          -0.14579529199034455,
          -0.09119644020547164,
          1.5818505979959658,
          -0.16539083699192586,
          -0.1648423542167105,
          -0.1645432543212818,
          -0.16453018172399672,
          0.3023877429290936,
          0.06656534196959762,
          -0.1842204261126689,
          -0.17812010025607303,
          -0.14565699826259412,
          -0.15192345260996273,
          -0.16372033824290083,
          -0.2253885156715234,
          -0.17796547671771365,
          -0.1547453446626042,
          -0.17806570428961635,
          -0.11619107430338536,
          1.139947882256726,
          0.3017917807969937,
          -0.07961770168124126,
          -0.2251300896454282,
          -0.1382708998073569,
          -0.08175794973715449,
          1.0965563438501287,
          -0.22981916639949163,
          -0.17811765616477385,
          -0.1711538157376808,
          -0.16464165129310981,
          -0.22974455484338502,
          -0.1457746835443198,
          -0.20319165220937296,
          8.041369408457838,
          -0.15056461403759652,
          0.30566714342928714,
          0.027449672231241562,
          -0.15142651451548528,
          -0.17653942981269719,
          -0.1652155224598962,
          0.14193719644715094,
          -0.22388405125720495,
          -0.1077733844450645,
          0.30971670724165706,
          -0.16545259046223249,
          -0.15167495015407959,
          -0.1446478342194257,
          -0.15371928524434364,
          -0.22891359161966135,
          0.3019743468459053,
          -0.18854133910163426,
          -0.1546435818140653,
          -0.15487365592974947,
          -0.1560206680281193,
          0.30590341657389986,
          0.5831475984356859,
          2.110883304428982,
          -0.14784148459069674,
          0.31558262458724273,
          -0.19269487320315362,
          -0.15016108264507136,
          -0.22980132221067257,
          -0.1654771793752009,
          -0.13815101786401252,
          -0.1492967132521055,
          -0.13595292640314705,
          3.106321416420844,
          -0.10561290238750258,
          -0.22977268151293573,
          -0.19212246895505697,
          -0.040377425868008486,
          -0.15541828382075007,
          -0.14579532956599112,
          0.3817532219553883,
          -0.14256754840354738,
          -0.1429596499813666,
          -0.1555280292419704,
          -0.16436921151889317,
          -0.14371666395980007,
          -0.1454897753271785,
          -0.18720411439358062,
          -0.14507129113944098,
          -0.1130338890779941,
          -0.14393896051961658,
          0.5305927875723232,
          -0.10326438873856729,
          -0.09341419004561878,
          -0.14902689956911447,
          -0.14558540149609162,
          0.5503752758234088,
          -0.20175300543070895,
          -0.16555403236921287,
          -0.16350925349577064,
          -0.1266967500960446,
          -0.1218634127467723,
          -0.15641366234804877,
          0.32355430304963917,
          -0.14577804467820307
         ],
         "y": [
          -1.3206753410599883,
          -2.044550323250267,
          -1.1403318321196134,
          -2.2203980490939386,
          -2.0446459638942116,
          -1.991230601435888,
          -1.8429991879611873,
          -1.1403265367158422,
          -0.9047011681659137,
          -1.140343899107224,
          -1.8382214889886952,
          -1.3195745325126003,
          -1.320680684789359,
          -1.1403815750913833,
          -1.140362745528019,
          -0.4637899962992214,
          -1.2287657365080284,
          -1.1403275657952496,
          -1.140325925506259,
          -1.1403233157563655,
          -0.9047028251322158,
          -1.839019692805873,
          -1.3225714622109994,
          -1.1413416105479004,
          -1.140320161170727,
          -1.140366953713388,
          -1.1403258913193355,
          -1.1403239262669935,
          -1.6449581679561662,
          -1.1406100610350507,
          -1.1403241879533295,
          -1.1403353472925108,
          -1.1444672737530934,
          -1.3206740096402128,
          -1.1403792973395401,
          -1.1403203613634865,
          -1.1403193276251964,
          -1.1403227047303668,
          -2.197999649663842,
          -1.1403213866829967,
          -1.1463251032541562,
          -1.3206766845220923,
          -1.1403355497892453,
          -1.1403285005372448,
          -1.1404256694266424,
          -1.140332286992894,
          -1.3208504238051408,
          -1.3206767009065634,
          -1.3206830353981094,
          -1.3207094718554504,
          -1.3206731183016087,
          -0.9046960181636239,
          -1.1403201514760268,
          -1.244007613107844,
          -1.1403927037331716,
          -1.3206775894829812,
          -2.3119278222415454,
          -2.305077084596728,
          -1.1403395204926592,
          -1.140928657037103,
          -1.1403389319841128,
          -1.140320312592552,
          -1.1403297392383027,
          -1.1404522788658196,
          -2.201256722763474,
          -1.837971283791285,
          -1.5857523372036368,
          -1.1403164667645076,
          -1.1430461068895454,
          -2.2180950439165548,
          -1.1403191907604362,
          -1.3206776418873916,
          -1.1832657243641993,
          -0.9046983644990502,
          -2.26034847533735,
          -1.3206919726985635,
          -0.9046996501237486,
          -1.140403593245437,
          -1.1404040279645282,
          -2.044599136327558,
          -2.186848568897628,
          -0.9046973144452662,
          -1.32067404832258,
          -1.1403287730927727,
          -2.2562113270076476,
          -1.1403289703323038,
          -1.3216149467802971,
          -0.9047167451004337,
          -2.2025886253928513,
          -1.1403974826451935,
          -2.225086678314179,
          -1.140325732016792,
          -0.9047024477750363,
          -1.1403191906217678,
          -0.904707616601773,
          -1.1983372871539457,
          -2.3033183395443286,
          -1.3206750021204665,
          -1.8381378267956707,
          -1.1403633274006715,
          -1.3206742179221747,
          -1.1403284850443363,
          -2.2108425933294247,
          -2.0445968625301374,
          -1.9912313464788916,
          -1.1449046205900537,
          -0.9045829902666308,
          -0.9047771219814826,
          -2.3033263562217248,
          -1.1403200530423039,
          -2.303324695547215,
          -2.2603274287565362,
          -0.9511515184751711,
          -2.220487032985971,
          -1.1403194192284216,
          -0.9051505436549903,
          -1.9912289284639262,
          -1.1403238048578244,
          -2.2603255450083486,
          -2.215283731513734,
          -1.1421594184815884,
          -0.6305225799286291,
          -1.1403272065539647,
          -1.321285281418328,
          -1.1403470156628013,
          -2.2204252393833612,
          -2.129162875785549,
          -2.20088720832076,
          -2.1948543490308365,
          -2.3034887183910056,
          -0.9047284124678424,
          -1.140320526125667,
          -1.1403519973549494,
          -0.904713570122272,
          -0.9047042448666804,
          -2.303336210057541,
          -2.22811021468461,
          -1.1650276861479483,
          -1.192498394341171,
          -0.9051584506007172,
          -1.3206753122542951,
          -1.1452204721399168,
          -1.080106818566498,
          -1.1403244127819343,
          -1.1403510256959528,
          -1.1403520977300603,
          -1.1403516472974986,
          -2.3033546923858434,
          -1.9988326329594561,
          -0.9043987602777284,
          -1.6449000285627895,
          -1.9912264670597757,
          -2.2026356774982507,
          -1.140323743135397,
          -0.904786136412632,
          -1.644907500945586,
          -2.0447209992567577,
          -1.6449015676499137,
          -1.8381039640495305,
          -2.3348773600565393,
          -2.3033209054675012,
          -2.049044452581062,
          -0.9049194556753026,
          -2.220686073872269,
          -1.1409841068051512,
          -1.2365156344476356,
          -0.9047039887320014,
          -1.6448956776390282,
          -1.6449963555222136,
          -1.1403298878624526,
          -0.9047036934766813,
          -1.3206740090920843,
          -1.2452936280475766,
          -2.74775352548343,
          -2.1927358063022964,
          -2.303417421796198,
          -1.140776813973936,
          -2.202578514133723,
          -1.2442323719154949,
          -1.1403325944673885,
          -1.1428103611352622,
          -0.9048409659633653,
          -2.0475256776584203,
          -2.3037500715747448,
          -1.140327251692646,
          -2.2561944259282147,
          -1.9912265398551263,
          -2.210964321826502,
          -0.9047298177136933,
          -2.3033188105254707,
          -0.6305052495712319,
          -2.260333672020849,
          -2.2261041383558715,
          -2.210837750089778,
          -2.3035970163009183,
          -2.2005386317491586,
          -2.3718232830048027,
          -2.200860715038934,
          -2.3035479541133985,
          -1.2569599685799244,
          -2.193546143218845,
          -0.9047042272302448,
          -1.1403288849068574,
          -2.2212156505899188,
          -2.1275807508831384,
          -0.6843395553116628,
          -2.2446728645285865,
          -1.320769193020382,
          -0.9047060848525048,
          -1.256995659073904,
          -1.9929884940440434,
          -2.210869261386538,
          -1.3206753135490106,
          -2.306302681351817,
          -2.230231296451926,
          -2.230187994706168,
          -2.1825220821089477,
          -1.1403603232345376,
          -1.9913315588289255,
          -1.9912277353011465,
          -1.585796256016991,
          -1.3206809439917404,
          -0.35113276376919533,
          -1.3207158844341755,
          -1.186089912313643,
          -1.6451460549803554,
          -2.2334407315642792,
          -1.140457468906734,
          -1.3206830137003251,
          -1.151203493804855,
          -1.228765539861154,
          -1.1403193691072664,
          -1.1403747816458492,
          -1.8379986032250313,
          -2.2292357087241244,
          -2.044596783924093,
          -2.30355788564588,
          -1.991230637864236
         ],
         "z": [
          0.18737329995178126,
          0.4053756038092974,
          0.00022150371283328666,
          0.43488525479931794,
          0.4053525481864098,
          0.4164182559923767,
          0.3748018490364682,
          0.00025061764593635097,
          0.03184003516829908,
          0.00024378944200039219,
          0.38056464080818964,
          -0.03775825997555628,
          0.187297741765297,
          0.00017874587500997155,
          0.0002421622756972988,
          0.05369796750017086,
          0.13203451637062116,
          0.00023687350988198572,
          0.00025003777280156373,
          0.0002518209260667542,
          0.03184269092373658,
          0.37343499539712655,
          0.1778043058021615,
          -0.00609022388330414,
          0.00024456897223494226,
          0.0001378930627201935,
          0.00024404476271886936,
          0.00025343195891398465,
          0.24569228673657373,
          -0.00023880141611276975,
          0.00022183764713535806,
          0.0002312079732052044,
          -0.04490303047408418,
          0.1873720367933162,
          0.00016822882533094522,
          0.0002453007717362307,
          0.0002544259182732411,
          0.00023560284340425395,
          0.46214760850448017,
          0.00025169222893354684,
          -0.0021750384773020948,
          0.18737457453516998,
          8.79375332867199e-05,
          0.0002524807830734768,
          0.00022057951295735204,
          0.00023970861857537993,
          0.18706960452540852,
          0.1873604949605459,
          0.1873692205232686,
          0.1873737105145785,
          0.18738243496689755,
          0.03184598661511903,
          0.00024347603350365396,
          0.2499985003301387,
          0.00018094787901582946,
          0.18736242820621946,
          0.3445629130969617,
          0.4326021755925163,
          0.0002173536006076884,
          -7.70956997214504e-05,
          0.00018359702431308326,
          0.0002546678762363785,
          0.00017833597181566766,
          -0.00016057820499755884,
          0.4503304590790806,
          0.3814110045961304,
          0.21461686965141638,
          0.0002506164296967558,
          -0.00257656944493857,
          0.5028397967348978,
          0.0002546919188579319,
          0.18737548281676852,
          -0.008852378233516665,
          0.031830330927229256,
          0.4129621938695227,
          0.18737132721471578,
          0.031838053084955804,
          0.00022117994047540416,
          0.00020004759915441176,
          0.40541275318301095,
          0.3998843196252424,
          0.031838546508374456,
          0.18737207349245538,
          0.00015032583329125157,
          0.4004301564628834,
          0.0002187886481091297,
          0.17655746781989898,
          0.031820133765816196,
          0.4226472807591941,
          0.00023808088040402545,
          0.3686886563222822,
          0.00025039607399221145,
          0.03183853981973544,
          0.0002546934291667127,
          0.031843443642982715,
          0.5019485365925823,
          0.43634688729624865,
          0.18737908201927045,
          0.3809187643689244,
          0.00018852726228537811,
          0.18737784909778074,
          0.0002475892496457721,
          0.42293910512219496,
          0.40540555703112124,
          0.41641896283735086,
          -0.0008133409301985912,
          0.03146781834050526,
          0.031799385793202996,
          0.4363485323861877,
          0.00025437487717483773,
          0.4363447893715865,
          0.4129724568078375,
          0.02173268000639103,
          0.4348694304767087,
          0.0002534236652615601,
          0.03173533824596989,
          0.4164188362751049,
          0.00020521807665728112,
          0.41296470906214705,
          0.4211769843298259,
          -0.00016657450300637208,
          -9.56788770195736e-05,
          0.0002433849648044403,
          0.18660867187291508,
          0.00024241124883782659,
          0.43485415464808375,
          0.4649128596901949,
          0.4130188151471915,
          0.4441030618066855,
          0.43543020852508535,
          0.03182253302380012,
          0.00024584896740411836,
          0.0002455119201938588,
          0.03183012646028818,
          0.03184355018555192,
          0.4363399992924215,
          0.44480923314190096,
          -0.08467737819951751,
          0.14605287364240244,
          0.031688652752335,
          0.18737327262294345,
          -0.0007846182198947458,
          -0.05687028257198314,
          0.0002491444757294589,
          0.00023971324289602161,
          0.00023206038568980206,
          0.00023163304660884701,
          0.436338628779345,
          0.4122626326824184,
          0.030588602044478604,
          0.24580456612046087,
          0.41641433358392216,
          0.42262347862660865,
          0.00020515951871159424,
          0.03174182985288092,
          0.24580190172778746,
          0.40538580558109255,
          0.24580342532068236,
          0.38117924784101076,
          0.42023431366334973,
          0.43634796698931805,
          0.4042206157212432,
          0.03175993978776307,
          0.43461692308717903,
          -0.0018234989996122784,
          0.09273306506205761,
          0.03184281949930266,
          0.24580368948988307,
          0.2456396496747069,
          0.00023049654762945568,
          0.03184080539587526,
          0.18737248819331812,
          0.16637011322583425,
          0.3161309569778024,
          0.3705368390960028,
          0.4362642398492497,
          -0.004729516703818364,
          0.4225997569623103,
          0.24966119538621045,
          0.00024606927900226364,
          -0.007355723298436163,
          0.03171256773593224,
          0.40467625460536366,
          0.4362200327823085,
          0.0002512959661917327,
          0.3985348719092941,
          0.41638785099077014,
          0.42290362752075994,
          0.03182386622330994,
          0.4363427824178816,
          -9.735365868520177e-05,
          0.41296955832982996,
          0.5241625288559942,
          0.4229404165821839,
          0.43629157251966916,
          0.35798011643930694,
          0.40164085210677225,
          0.3672266961011899,
          0.4360282777949358,
          0.1326907471831471,
          0.35859537462947627,
          0.031842395525200747,
          0.0002522465367683668,
          0.434712664783784,
          0.5114273888792337,
          0.07562058901415546,
          0.29997402898490233,
          0.1863357913165738,
          0.031841990425830545,
          0.13268238295879492,
          0.4139791854137326,
          0.42293048482404566,
          0.18737327385127947,
          0.4348053279684029,
          0.389519170990326,
          0.3895213799943943,
          0.4040908468942309,
          0.00022902676140332587,
          0.416383013048099,
          0.4164101798709821,
          0.21460434971268255,
          0.18735531519057533,
          -0.04711416831927967,
          0.18733210971593012,
          -0.00947839544300999,
          0.24388512722724412,
          0.3888279274382168,
          -0.00015565425521412248,
          0.18736919993792034,
          -0.0165122296772595,
          0.13202295052446752,
          0.000252487446115234,
          0.00020914792298252686,
          0.38143540613693583,
          0.27457493391229604,
          0.4054064131692998,
          0.4358208313014539,
          0.4164182905530591
         ]
        },
        {
         "customdata": [
          [
           "VeChainThor Authority",
           "Proof of Authority",
           55454734800,
           "86712634466"
          ],
          [
           "Proof-of-BibleHash",
           "POBh",
           1772091549.88818,
           "5200000000"
          ],
          [
           "SHA-256 + Hive",
           "PoW + Hive",
           638382332.208514,
           "840000000"
          ],
          [
           "Proof-of-Authority",
           "PoA",
           204479039,
           "252460800"
          ],
          [
           "ECC 256K1",
           "DPOS",
           1000000000,
           "1000000000"
          ],
          [
           "Leased POS",
           "LPoS",
           100000000,
           "100000000"
          ]
         ],
         "hovertemplate": "<b>%{hovertext}</b><br><br>Class=%{marker.color}<br>PC 1=%{x}<br>PC 2=%{y}<br>PC 3=%{z}<br>Algorithm=%{customdata[0]}<br>ProofType=%{customdata[1]}<br>TotalCoinsMined=%{customdata[2]}<br>TotalCoinSupply=%{customdata[3]}<extra></extra>",
         "hovertext": [
          "Vechain",
          "BiblePay",
          "LitecoinCash",
          "Poa Network",
          "Acute Angle Cloud",
          "Waves"
         ],
         "legendgroup": "3",
         "marker": {
          "color": [
           3,
           3,
           3,
           3,
           3,
           3
          ],
          "coloraxis": "coloraxis",
          "symbol": "square"
         },
         "mode": "markers",
         "name": "3",
         "scene": "scene",
         "showlegend": true,
         "type": "scatter3d",
         "x": [
          4.397294025763686,
          -0.1960003866486706,
          -0.3734456742757646,
          -0.39705348245959265,
          -0.3389836980540316,
          -0.41112797014014824
         ],
         "y": [
          2.041619981898386,
          3.4561484529289896,
          2.9320303304468545,
          3.4172173291211214,
          3.2090078765683145,
          3.337329023510946
         ],
         "z": [
          7.292494234893729,
          11.710165812651352,
          18.665801597109912,
          11.861259072308286,
          11.760446235904665,
          13.164914203542326
         ]
        },
        {
         "customdata": [
          [
           "TRC10",
           "DPoS",
           989988713439.649,
           "990000000000"
          ]
         ],
         "hovertemplate": "<b>%{hovertext}</b><br><br>Class=%{marker.color}<br>PC 1=%{x}<br>PC 2=%{y}<br>PC 3=%{z}<br>Algorithm=%{customdata[0]}<br>ProofType=%{customdata[1]}<br>TotalCoinsMined=%{customdata[2]}<br>TotalCoinSupply=%{customdata[3]}<extra></extra>",
         "hovertext": [
          "BitTorrent"
         ],
         "legendgroup": "2",
         "marker": {
          "color": [
           2
          ],
          "coloraxis": "coloraxis",
          "symbol": "x"
         },
         "mode": "markers",
         "name": "2",
         "scene": "scene",
         "showlegend": true,
         "type": "scatter3d",
         "x": [
          34.06516417831291
         ],
         "y": [
          1.7873051843908092
         ],
         "z": [
          -1.1317590301615625
         ]
        }
       ],
       "layout": {
        "coloraxis": {
         "colorbar": {
          "title": {
           "text": "Class"
          }
         },
         "colorscale": [
          [
           0,
           "#0d0887"
          ],
          [
           0.1111111111111111,
           "#46039f"
          ],
          [
           0.2222222222222222,
           "#7201a8"
          ],
          [
           0.3333333333333333,
           "#9c179e"
          ],
          [
           0.4444444444444444,
           "#bd3786"
          ],
          [
           0.5555555555555556,
           "#d8576b"
          ],
          [
           0.6666666666666666,
           "#ed7953"
          ],
          [
           0.7777777777777778,
           "#fb9f3a"
          ],
          [
           0.8888888888888888,
           "#fdca26"
          ],
          [
           1,
           "#f0f921"
          ]
         ]
        },
        "legend": {
         "title": {
          "text": "Class"
         },
         "tracegroupgap": 0
        },
        "margin": {
         "t": 60
        },
        "scene": {
         "domain": {
          "x": [
           0,
           1
          ],
          "y": [
           0,
           1
          ]
         },
         "xaxis": {
          "title": {
           "text": "PC 1"
          }
         },
         "yaxis": {
          "title": {
           "text": "PC 2"
          }
         },
         "zaxis": {
          "title": {
           "text": "PC 3"
          }
         }
        },
        "template": {
         "data": {
          "bar": [
           {
            "error_x": {
             "color": "#2a3f5f"
            },
            "error_y": {
             "color": "#2a3f5f"
            },
            "marker": {
             "line": {
              "color": "#E5ECF6",
              "width": 0.5
             },
             "pattern": {
              "fillmode": "overlay",
              "size": 10,
              "solidity": 0.2
             }
            },
            "type": "bar"
           }
          ],
          "barpolar": [
           {
            "marker": {
             "line": {
              "color": "#E5ECF6",
              "width": 0.5
             },
             "pattern": {
              "fillmode": "overlay",
              "size": 10,
              "solidity": 0.2
             }
            },
            "type": "barpolar"
           }
          ],
          "carpet": [
           {
            "aaxis": {
             "endlinecolor": "#2a3f5f",
             "gridcolor": "white",
             "linecolor": "white",
             "minorgridcolor": "white",
             "startlinecolor": "#2a3f5f"
            },
            "baxis": {
             "endlinecolor": "#2a3f5f",
             "gridcolor": "white",
             "linecolor": "white",
             "minorgridcolor": "white",
             "startlinecolor": "#2a3f5f"
            },
            "type": "carpet"
           }
          ],
          "choropleth": [
           {
            "colorbar": {
             "outlinewidth": 0,
             "ticks": ""
            },
            "type": "choropleth"
           }
          ],
          "contour": [
           {
            "colorbar": {
             "outlinewidth": 0,
             "ticks": ""
            },
            "colorscale": [
             [
              0,
              "#0d0887"
             ],
             [
              0.1111111111111111,
              "#46039f"
             ],
             [
              0.2222222222222222,
              "#7201a8"
             ],
             [
              0.3333333333333333,
              "#9c179e"
             ],
             [
              0.4444444444444444,
              "#bd3786"
             ],
             [
              0.5555555555555556,
              "#d8576b"
             ],
             [
              0.6666666666666666,
              "#ed7953"
             ],
             [
              0.7777777777777778,
              "#fb9f3a"
             ],
             [
              0.8888888888888888,
              "#fdca26"
             ],
             [
              1,
              "#f0f921"
             ]
            ],
            "type": "contour"
           }
          ],
          "contourcarpet": [
           {
            "colorbar": {
             "outlinewidth": 0,
             "ticks": ""
            },
            "type": "contourcarpet"
           }
          ],
          "heatmap": [
           {
            "colorbar": {
             "outlinewidth": 0,
             "ticks": ""
            },
            "colorscale": [
             [
              0,
              "#0d0887"
             ],
             [
              0.1111111111111111,
              "#46039f"
             ],
             [
              0.2222222222222222,
              "#7201a8"
             ],
             [
              0.3333333333333333,
              "#9c179e"
             ],
             [
              0.4444444444444444,
              "#bd3786"
             ],
             [
              0.5555555555555556,
              "#d8576b"
             ],
             [
              0.6666666666666666,
              "#ed7953"
             ],
             [
              0.7777777777777778,
              "#fb9f3a"
             ],
             [
              0.8888888888888888,
              "#fdca26"
             ],
             [
              1,
              "#f0f921"
             ]
            ],
            "type": "heatmap"
           }
          ],
          "heatmapgl": [
           {
            "colorbar": {
             "outlinewidth": 0,
             "ticks": ""
            },
            "colorscale": [
             [
              0,
              "#0d0887"
             ],
             [
              0.1111111111111111,
              "#46039f"
             ],
             [
              0.2222222222222222,
              "#7201a8"
             ],
             [
              0.3333333333333333,
              "#9c179e"
             ],
             [
              0.4444444444444444,
              "#bd3786"
             ],
             [
              0.5555555555555556,
              "#d8576b"
             ],
             [
              0.6666666666666666,
              "#ed7953"
             ],
             [
              0.7777777777777778,
              "#fb9f3a"
             ],
             [
              0.8888888888888888,
              "#fdca26"
             ],
             [
              1,
              "#f0f921"
             ]
            ],
            "type": "heatmapgl"
           }
          ],
          "histogram": [
           {
            "marker": {
             "pattern": {
              "fillmode": "overlay",
              "size": 10,
              "solidity": 0.2
             }
            },
            "type": "histogram"
           }
          ],
          "histogram2d": [
           {
            "colorbar": {
             "outlinewidth": 0,
             "ticks": ""
            },
            "colorscale": [
             [
              0,
              "#0d0887"
             ],
             [
              0.1111111111111111,
              "#46039f"
             ],
             [
              0.2222222222222222,
              "#7201a8"
             ],
             [
              0.3333333333333333,
              "#9c179e"
             ],
             [
              0.4444444444444444,
              "#bd3786"
             ],
             [
              0.5555555555555556,
              "#d8576b"
             ],
             [
              0.6666666666666666,
              "#ed7953"
             ],
             [
              0.7777777777777778,
              "#fb9f3a"
             ],
             [
              0.8888888888888888,
              "#fdca26"
             ],
             [
              1,
              "#f0f921"
             ]
            ],
            "type": "histogram2d"
           }
          ],
          "histogram2dcontour": [
           {
            "colorbar": {
             "outlinewidth": 0,
             "ticks": ""
            },
            "colorscale": [
             [
              0,
              "#0d0887"
             ],
             [
              0.1111111111111111,
              "#46039f"
             ],
             [
              0.2222222222222222,
              "#7201a8"
             ],
             [
              0.3333333333333333,
              "#9c179e"
             ],
             [
              0.4444444444444444,
              "#bd3786"
             ],
             [
              0.5555555555555556,
              "#d8576b"
             ],
             [
              0.6666666666666666,
              "#ed7953"
             ],
             [
              0.7777777777777778,
              "#fb9f3a"
             ],
             [
              0.8888888888888888,
              "#fdca26"
             ],
             [
              1,
              "#f0f921"
             ]
            ],
            "type": "histogram2dcontour"
           }
          ],
          "mesh3d": [
           {
            "colorbar": {
             "outlinewidth": 0,
             "ticks": ""
            },
            "type": "mesh3d"
           }
          ],
          "parcoords": [
           {
            "line": {
             "colorbar": {
              "outlinewidth": 0,
              "ticks": ""
             }
            },
            "type": "parcoords"
           }
          ],
          "pie": [
           {
            "automargin": true,
            "type": "pie"
           }
          ],
          "scatter": [
           {
            "fillpattern": {
             "fillmode": "overlay",
             "size": 10,
             "solidity": 0.2
            },
            "type": "scatter"
           }
          ],
          "scatter3d": [
           {
            "line": {
             "colorbar": {
              "outlinewidth": 0,
              "ticks": ""
             }
            },
            "marker": {
             "colorbar": {
              "outlinewidth": 0,
              "ticks": ""
             }
            },
            "type": "scatter3d"
           }
          ],
          "scattercarpet": [
           {
            "marker": {
             "colorbar": {
              "outlinewidth": 0,
              "ticks": ""
             }
            },
            "type": "scattercarpet"
           }
          ],
          "scattergeo": [
           {
            "marker": {
             "colorbar": {
              "outlinewidth": 0,
              "ticks": ""
             }
            },
            "type": "scattergeo"
           }
          ],
          "scattergl": [
           {
            "marker": {
             "colorbar": {
              "outlinewidth": 0,
              "ticks": ""
             }
            },
            "type": "scattergl"
           }
          ],
          "scattermapbox": [
           {
            "marker": {
             "colorbar": {
              "outlinewidth": 0,
              "ticks": ""
             }
            },
            "type": "scattermapbox"
           }
          ],
          "scatterpolar": [
           {
            "marker": {
             "colorbar": {
              "outlinewidth": 0,
              "ticks": ""
             }
            },
            "type": "scatterpolar"
           }
          ],
          "scatterpolargl": [
           {
            "marker": {
             "colorbar": {
              "outlinewidth": 0,
              "ticks": ""
             }
            },
            "type": "scatterpolargl"
           }
          ],
          "scatterternary": [
           {
            "marker": {
             "colorbar": {
              "outlinewidth": 0,
              "ticks": ""
             }
            },
            "type": "scatterternary"
           }
          ],
          "surface": [
           {
            "colorbar": {
             "outlinewidth": 0,
             "ticks": ""
            },
            "colorscale": [
             [
              0,
              "#0d0887"
             ],
             [
              0.1111111111111111,
              "#46039f"
             ],
             [
              0.2222222222222222,
              "#7201a8"
             ],
             [
              0.3333333333333333,
              "#9c179e"
             ],
             [
              0.4444444444444444,
              "#bd3786"
             ],
             [
              0.5555555555555556,
              "#d8576b"
             ],
             [
              0.6666666666666666,
              "#ed7953"
             ],
             [
              0.7777777777777778,
              "#fb9f3a"
             ],
             [
              0.8888888888888888,
              "#fdca26"
             ],
             [
              1,
              "#f0f921"
             ]
            ],
            "type": "surface"
           }
          ],
          "table": [
           {
            "cells": {
             "fill": {
              "color": "#EBF0F8"
             },
             "line": {
              "color": "white"
             }
            },
            "header": {
             "fill": {
              "color": "#C8D4E3"
             },
             "line": {
              "color": "white"
             }
            },
            "type": "table"
           }
          ]
         },
         "layout": {
          "annotationdefaults": {
           "arrowcolor": "#2a3f5f",
           "arrowhead": 0,
           "arrowwidth": 1
          },
          "autotypenumbers": "strict",
          "coloraxis": {
           "colorbar": {
            "outlinewidth": 0,
            "ticks": ""
           }
          },
          "colorscale": {
           "diverging": [
            [
             0,
             "#8e0152"
            ],
            [
             0.1,
             "#c51b7d"
            ],
            [
             0.2,
             "#de77ae"
            ],
            [
             0.3,
             "#f1b6da"
            ],
            [
             0.4,
             "#fde0ef"
            ],
            [
             0.5,
             "#f7f7f7"
            ],
            [
             0.6,
             "#e6f5d0"
            ],
            [
             0.7,
             "#b8e186"
            ],
            [
             0.8,
             "#7fbc41"
            ],
            [
             0.9,
             "#4d9221"
            ],
            [
             1,
             "#276419"
            ]
           ],
           "sequential": [
            [
             0,
             "#0d0887"
            ],
            [
             0.1111111111111111,
             "#46039f"
            ],
            [
             0.2222222222222222,
             "#7201a8"
            ],
            [
             0.3333333333333333,
             "#9c179e"
            ],
            [
             0.4444444444444444,
             "#bd3786"
            ],
            [
             0.5555555555555556,
             "#d8576b"
            ],
            [
             0.6666666666666666,
             "#ed7953"
            ],
            [
             0.7777777777777778,
             "#fb9f3a"
            ],
            [
             0.8888888888888888,
             "#fdca26"
            ],
            [
             1,
             "#f0f921"
            ]
           ],
           "sequentialminus": [
            [
             0,
             "#0d0887"
            ],
            [
             0.1111111111111111,
             "#46039f"
            ],
            [
             0.2222222222222222,
             "#7201a8"
            ],
            [
             0.3333333333333333,
             "#9c179e"
            ],
            [
             0.4444444444444444,
             "#bd3786"
            ],
            [
             0.5555555555555556,
             "#d8576b"
            ],
            [
             0.6666666666666666,
             "#ed7953"
            ],
            [
             0.7777777777777778,
             "#fb9f3a"
            ],
            [
             0.8888888888888888,
             "#fdca26"
            ],
            [
             1,
             "#f0f921"
            ]
           ]
          },
          "colorway": [
           "#636efa",
           "#EF553B",
           "#00cc96",
           "#ab63fa",
           "#FFA15A",
           "#19d3f3",
           "#FF6692",
           "#B6E880",
           "#FF97FF",
           "#FECB52"
          ],
          "font": {
           "color": "#2a3f5f"
          },
          "geo": {
           "bgcolor": "white",
           "lakecolor": "white",
           "landcolor": "#E5ECF6",
           "showlakes": true,
           "showland": true,
           "subunitcolor": "white"
          },
          "hoverlabel": {
           "align": "left"
          },
          "hovermode": "closest",
          "mapbox": {
           "style": "light"
          },
          "paper_bgcolor": "white",
          "plot_bgcolor": "#E5ECF6",
          "polar": {
           "angularaxis": {
            "gridcolor": "white",
            "linecolor": "white",
            "ticks": ""
           },
           "bgcolor": "#E5ECF6",
           "radialaxis": {
            "gridcolor": "white",
            "linecolor": "white",
            "ticks": ""
           }
          },
          "scene": {
           "xaxis": {
            "backgroundcolor": "#E5ECF6",
            "gridcolor": "white",
            "gridwidth": 2,
            "linecolor": "white",
            "showbackground": true,
            "ticks": "",
            "zerolinecolor": "white"
           },
           "yaxis": {
            "backgroundcolor": "#E5ECF6",
            "gridcolor": "white",
            "gridwidth": 2,
            "linecolor": "white",
            "showbackground": true,
            "ticks": "",
            "zerolinecolor": "white"
           },
           "zaxis": {
            "backgroundcolor": "#E5ECF6",
            "gridcolor": "white",
            "gridwidth": 2,
            "linecolor": "white",
            "showbackground": true,
            "ticks": "",
            "zerolinecolor": "white"
           }
          },
          "shapedefaults": {
           "line": {
            "color": "#2a3f5f"
           }
          },
          "ternary": {
           "aaxis": {
            "gridcolor": "white",
            "linecolor": "white",
            "ticks": ""
           },
           "baxis": {
            "gridcolor": "white",
            "linecolor": "white",
            "ticks": ""
           },
           "bgcolor": "#E5ECF6",
           "caxis": {
            "gridcolor": "white",
            "linecolor": "white",
            "ticks": ""
           }
          },
          "title": {
           "x": 0.05
          },
          "xaxis": {
           "automargin": true,
           "gridcolor": "white",
           "linecolor": "white",
           "ticks": "",
           "title": {
            "standoff": 15
           },
           "zerolinecolor": "white",
           "zerolinewidth": 2
          },
          "yaxis": {
           "automargin": true,
           "gridcolor": "white",
           "linecolor": "white",
           "ticks": "",
           "title": {
            "standoff": 15
           },
           "zerolinecolor": "white",
           "zerolinewidth": 2
          }
         }
        }
       }
      },
      "text/html": [
       "<div>                            <div id=\"f0088418-adbe-426b-a6a2-b3c2df3db8f9\" class=\"plotly-graph-div\" style=\"height:525px; width:100%;\"></div>            <script type=\"text/javascript\">                require([\"plotly\"], function(Plotly) {                    window.PLOTLYENV=window.PLOTLYENV || {};                                    if (document.getElementById(\"f0088418-adbe-426b-a6a2-b3c2df3db8f9\")) {                    Plotly.newPlot(                        \"f0088418-adbe-426b-a6a2-b3c2df3db8f9\",                        [{\"customdata\":[[\"Scrypt\",\"PoW/PoS\",41.99995383,\"42\"],[\"Scrypt\",\"PoW/PoS\",1055184902.04,\"532000000\"],[\"X13\",\"PoW/PoS\",29279424622.5027,\"314159265359\"],[\"X11\",\"PoW/PoS\",9031294.37563393,\"22000000\"],[\"SHA-512\",\"PoS\",2741570000.0,\"3600570502\"],[\"SHA-256\",\"PoW/PoS\",1288862.0,\"22000000\"],[\"SHA-256\",\"PoS\",11995334.8847328,\"12500000\"],[\"X15\",\"PoW/PoS\",25542535.5881841,\"350000000\"],[\"Scrypt\",\"PoW/PoS\",18135099.992959,\"16768584\"],[\"Scrypt\",\"PoW/PoS\",635423900.0,\"0\"],[\"Scrypt\",\"PoW/PoS\",123062801.128773,\"0\"],[\"Scrypt\",\"PoW/PoS\",42579.476901,\"500000\"],[\"Scrypt\",\"PoW/PoS\",1039116.65144562,\"1000000\"],[\"Scrypt\",\"PoC\",39999997299.8568,\"40000000000\"],[\"Groestl\",\"PoW/PoS\",3304487.74735637,\"4380000\"],[\"PoS\",\"PoS\",5679705.0,\"0\"],[\"Scrypt\",\"PoS/PoW/PoT\",461829905.32893,\"0\"],[\"Scrypt\",\"PoW/PoS\",89266933.684704,\"120000000\"],[\"X11\",\"PoS\",1678520090.7713,\"0\"],[\"X11\",\"PoW/PoS\",17650913.9743456,\"22000000\"],[\"SHA3\",\"PoW/PoS\",61445805.0,\"100000000\"],[\"Scrypt\",\"PoS\",21293925445.4969,\"0\"],[\"SHA-256\",\"PoW/PoS\",1613836099.99999,\"2419200000\"],[\"Scrypt\",\"PoS\",16180000.0,\"16180000\"],[\"X13\",\"PoW/PoS\",66087096.2077108,\"0\"],[\"X13\",\"PoW/PoS\",15156364.3306548,\"0\"],[\"NeoScrypt\",\"PoW/PoS\",3220616.279225,\"3770000\"],[\"Scrypt\",\"PoW/PoS\",222677226.014206,\"420000000\"],[\"Scrypt\",\"PoW/PoS\",73959274.625,\"98000000\"],[\"Scrypt\",\"PoW/PoS\",29315567169.0888,\"0\"],[\"X11\",\"PoS\",50707661.7493518,\"0\"],[\"X11\",\"PoW/PoS\",1177.0,\"1000\"],[\"Multiple\",\"PoS\",80260463.7331396,\"100000000\"],[\"PHI1612\",\"PoS\",1622326490.46336,\"2300000000\"],[\"X11\",\"PoW/PoS\",1431851.00002479,\"10000000\"],[\"Scrypt\",\"PoW/PoS\",1098952592.6,\"1600000000\"],[\"Scrypt\",\"PoW/PoS\",50235211.141939,\"100000000\"],[\"Scrypt\",\"PoST\",32021108.4136696,\"0\"],[\"X11\",\"PoW/PoS\",6950831.0970606,\"5500000\"],[\"Multiple\",\"PoS\",100000000.0,\"0\"],[\"X13\",\"PoW/PoS\",33093725.4123502,\"0\"],[\"Scrypt\",\"PoW/PoS\",147990237.978331,\"1000000000\"],[\"Shabal256\",\"PoC\",1813033920.0,\"2158812800\"],[\"Counterparty\",\"PoS\",51173144.0,\"500000000\"],[\"SHA-256\",\"PoW/PoS\",39121694.0,\"68000000\"],[\"Groestl\",\"PoW/PoS\",53193831.0,\"0\"],[\"Scrypt\",\"PoS\",27184490.3918338,\"0\"],[\"X13\",\"PoW/PoS\",2022464.886973,\"12000000\"],[\"Scrypt\",\"PoS\",174646113.934655,\"500000000\"],[\"Scrypt\",\"PoW/PoS\",1467841.0,\"0\"],[\"X13\",\"PoW/PoS\",7096834.0,\"10000000\"],[\"X11\",\"PoS\",2689812.0,\"20000000\"],[\"Scrypt\",\"PoW/PoS\",11604722.0,\"20000000\"],[\"X11\",\"PoW/PoS\",1513704.0,\"0\"],[\"SHA3\",\"PoW/nPoS\",63657220.0,\"78000000\"],[\"QUAIT\",\"PoW/PoS\",8568038.35935056,\"5060000\"],[\"X11\",\"PoS/PoW\",329200.01639,\"0\"],[\"Scrypt\",\"PoS\",100000000.0,\"100000000\"],[\"X13\",\"PoW/PoS\",23042604.0,\"50000000\"],[\"SHA-256\",\"PoW/PoS\",43059794.804778,\"1000000000\"],[\"X15\",\"PoW/PoS\",13530556.4180753,\"26298000\"],[\"BLAKE256\",\"PoW/PoS\",10365046.9281661,\"21000000\"],[\"SHA-256\",\"PoW/PoS\",3669691.84494672,\"22000000\"],[\"X11\",\"PoW/PoS\",10996318099.0,\"26550000000\"],[\"SHA-256\",\"PoW/PoS\",5129014.0,\"10500000\"],[\"NIST5\",\"PoW/PoS\",10069449031.9252,\"0\"],[\"Scrypt\",\"PoW/PoS\",8998743.2411911,\"42000000\"],[\"Scrypt\",\"PoS\",40477042.0,\"221052632\"],[\"X11\",\"PoW/PoS\",10407269.7881868,\"384000000\"],[\"Scrypt\",\"PoS\",36971236046.8073,\" 99000000000\"],[\"SHA-256\",\"PoW/PoS\",4377081.60953993,\"40000000\"],[\"Scrypt\",\"PoC\",2147483647.0,\"2147483647\"],[\"PoS\",\"PoS\",20000000.0,\"20000000\"],[\"X11\",\"PoW/PoS\",134554941.15119,\"75000000\"],[\"SHA-256\",\"PoW/PoS\",1195525.0,\"222725000\"],[\"SHA-256\",\"PoW/PoS\",16662820.0,\"525000000\"],[\"NIST5\",\"PoW/PoS\",83450403.0,\"90000000\"],[\"X11\",\"PoW/PoS\",24387724.5010828,\"139000000\"],[\"POS 3.0\",\"PoS\",38589808.6658096,\"33500000\"],[\"Scrypt\",\"PoW/PoS\",813092338.575672,\"2000000000\"],[\"Scrypt\",\"PoW/PoS\",4526324.0,\"44333333\"],[\"Scrypt\",\"PoW/PoS\",100000000.0,\"100000000\"],[\"X13\",\"PoS\",5000000.0,\"200000000\"],[\"X11\",\"PoS\",657000000.0,\"657000000\"],[\"X11\",\"PoW/PoS\",15563873.0,\"50000000\"],[\"Scrypt\",\"PoW/PoS\",43165500.0,\"90000000\"],[\"SHA-256\",\"PoW/PoS\",595429.0,\"21000000\"],[\"X11\",\"PoW/PoS\",657636.34549789,\"3000000\"],[\"Scrypt\",\"PoW/PoS\",2581970.0,\"21000000\"],[\"Scrypt\",\"PoW/PoS\",1939889.0,\"0\"],[\"Scrypt\",\"PoS\",169598616.0,\"0\"],[\"Scrypt\",\"PoW/PoW\",665200057.0,\"3100000000\"],[\"SHA-256D\",\"PoW/PoS\",19577787259.0,\"20000000000\"],[\"PoS\",\"PoS\",74033806.7949683,\"74000000\"],[\"Scrypt\",\"PoW/PoS\",33522957.0,\"0\"],[\"X11\",\"PoW/PoS\",264678458.288619,\"1500000000\"],[\"PoS\",\"PoS\",148716816.0,\"39999898\"],[\"X13\",\"PoS\",2500124.0,\"2500124\"],[\"X14\",\"PoW/PoS\",100000000.0,\"100000000\"],[\"PoS\",\"PoS\",17818682.1654,\"301000000\"],[\"SHA-256D\",\"PoW/PoS\",1082162635.53683,\"7506000000\"],[\"DPoS\",\"DPoS\",108202084.0,\"125000000\"],[\"X11\",\"PoW/PoS\",18342813.0,\"30000000\"],[\"X13\",\"PoW/PoS\",92192822723.0,\"850000000\"],[\"X11\",\"PoW/PoS\",3853326.77707314,\"3853326.77707314\"],[\"PoS\",\"PoS\",50000000.0,\"50000000\"],[\"Scrypt\",\"PoW/PoS\",17089600.0,\"38540000 \"],[\"Scrypt\",\"PoW/PoS\",2449577.41533168,\"42000000\"],[\"PoS\",\"PoS\",20000000.0,\"20000000\"],[\"X11\",\"PoW/PoS\",6069482.07721352,\"60000000\"],[\"SHA-256\",\"PoW/PoS\",12416554.0,\"20000000\"],[\"Scrypt\",\"PoW/PoS\",20244023.640728,\"33000000\"],[\"X11\",\"TPoS\",75590369.0,\"76500000\"],[\"Scrypt\",\"PoW/PoS\",11080722.3769581,\"28000000\"],[\"Scrypt\",\"PoW/PoS\",10914418.0,\"650659833\"],[\"X11\",\"PoW/PoS\",814671.0,\"5000000\"],[\"Scrypt\",\"PoW/PoS\",8377873.0,\"144000000\"],[\"Scrypt\",\"PoS\",33813143821.8337,\"32514916898\"],[\"Scrypt\",\"PoW/PoS\",3472983.0,\"13000000\"],[\"Scrypt\",\"PoW/PoS\",3315789.0,\"3315789\"],[\"Quark\",\"PoS\",10517772.7391666,\"15000000\"],[\"QuBit\",\"PoW/PoS\",30227750.0,\"78835200\"],[\"Scrypt\",\"PoW/PoS\",23965372.0,\"500000000\"],[\"SHA-256\",\"PoW/PoS\",2526078.47525448,\"21000000\"],[\"X11\",\"PoW/PoS\",5659096.95728771,\"9354000\"],[\"Scrypt\",\"PoW/PoS\",11821728.0,\"20000000\"],[\"Scrypt\",\"PoW/PoS\",308179.0,\"21933333\"],[\"Scrypt\",\"PoS\",2922613.96424908,\"55000000\"],[\"Scrypt\",\"PoW/PoS \",110000000.0,\"110000000\"],[\"X13\",\"PoS\",14524851.4827,\"14524851.4827\"],[\"Scrypt\",\"PoW/PoS\",1000000000.0,\"1000000000\"],[\"Scrypt\",\"PoS\",36050365.0,\"34426423\"],[\"X11\",\"PoW/PoS\",13162749.0858027,\"100000000\"],[\"Blake2S\",\"PoW/PoS\",12184195.9258495,\"36900000\"],[\"X11\",\"PoW/PoS\",110630387.850471,\"110000000\"],[\"PoS\",\"PoS\",111135836.889,\"110290030\"],[\"X11\",\"PoW/PoS\",21521322.0099142,\"100000000\"],[\"PoS\",\"PoS\",401421401.0,\"400000000\"],[\"X11\",\"PoW/PoS\",121665451.643876,\"500000000\"],[\"Scrypt\",\"PoW/PoS\",5368934.0,\"21212121\"],[\"Scrypt\",\"PoW/PoS\",1148324.0,\"28600000\"],[\"Scrypt\",\"PoW/PoS\",500000.0,\"1000000000\"],[\"SHA-256\",\"PoS\",100545745.0,\"75000000000\"],[\"X11\",\"PoW/PoS\",17171382.0,\"40000000\"],[\"Scrypt\",\"PoS\",295135466.361878,\"2000000000\"],[\"PoS\",\"PoS\",11390225.9742772,\"30000000\"],[\"Scrypt\",\"PoW/PoS\",21358764.0,\"105000000\"],[\"X15\",\"PoW/PoS\",40659020000.0,\"90000000000\"],[\"SHA-256\",\"PoS\",10343113.0,\"200084200\"],[\"POS 3.0\",\"PoS\",100000000.0,\"100000000\"],[\"536\",\"PoW/PoS\",22801882871.0,\"50000000000\"],[\"NIST5\",\"PoW/PoS\",4171382.0,\"10000000\"],[\"NIST5\",\"PoW/PoS\",62942075.0,\"120000000\"],[\"Skein\",\"PoW/PoS\",6804362.0,\"100000000\"],[\"X13\",\"PoW/PoS\",21268092.0,\"30000000\"],[\"Scrypt\",\"PoW/PoS\",9044930943.24243,\"50000000000\"],[\"X13\",\"PoW/PoS\",21917018.0492836,\"18898187.6216583\"],[\"SkunkHash v2 Raptor\",\"PoS\",107972766.0,\"137500000\"],[\"Skein\",\"PoW/PoS\",47331802.4774238,\"100000000\"],[\"X11\",\"PoW/PoS\",12569262.5359307,\"9507271\"],[\"Scrypt\",\"PoS\",18663297.3489799,\"17405891.19707116\"],[\"PoS\",\"PoS\",4000000.0,\"61599965\"],[\"Scrypt\",\"PoW/PoS\",19539588.0,\"48252000\"],[\"Scrypt\",\"PoW/PoS\",4200000.0,\"4200000\"],[\"SHA-512\",\"PoS\",25000000.0,\"91388946\"],[\"Ouroboros\",\"PoS\",25927070538.0,\"45000000000\"],[\"X11\",\"PoW/PoS\",7262402.04264803,\"27000000\"],[\"NeoScrypt\",\"PoW/PoS\",182638400.0,\"400000000\"],[\"Scrypt\",\"PoW/PoS\",1140734.91680375,\"15733333\"],[\"Lyra2REv2\",\"PoS\",24000000.0,\"24000000\"],[\"Scrypt\",\"PoW/PoS\",48459472454.0,\"25000000000\"],[\"SHA-256\",\"PoW/PoS\",92050800.0,\"100000000\"],[\"NIST5\",\"PoW/PoS\",560563220.0,\"1200000000\"],[\"PHI1612\",\"PoW/PoS\",8305775.31777569,\"60000000\"],[\"Scrypt\",\"PoW/PoS\",2149688.0,\"21000000\"],[\"Quark\",\"PoW/PoS\",30711550.5294042,\"200000000\"],[\"POS 2.0\",\"PoS\",12330806.30517,\"21000000\"],[\"Scrypt\",\"PoW/PoS\",16362544.992,\"14788275.991\"],[\"SHA-256\",\"PoS\",8999999990.0,\"9000000000\"],[\"X11\",\"PoW/PoS\",38198594.8342105,\"144000000\"],[\"DPoS\",\"DPoS\",288090567.493887,\"500000000\"],[\"NIST5\",\"PoW/PoS\",28399150208.0,\"30000000000\"],[\"X13\",\"PoW/PoS\",183534024.889807,\"210000000\"],[\"Scrypt\",\"PoW/PoS\",110976977.29338,\"210000000\"],[\"NIST5\",\"PoS\",13247178.8807286,\"27716121\"],[\"Quark\",\"PoS\",16955764.902064,\"20000000\"],[\"Scrypt\",\"PoW/PoS\",4911500269.41,\"50000000000\"],[\"Scrypt\",\"PoW/PoS\",8419402.321,\"150000000\"],[\"X11\",\"PoW/PoS\",45174214.1078625,\"50000000\"],[\"Quark\",\"PoS\",27299680.0,\"120000000\"],[\"Scrypt\",\"PoW/PoS\",591022748.0,\"900000000\"],[\"Scrypt\",\"PoW/PoS\",2504486.227718,\"4000000\"],[\"X11\",\"PoS\",4407252.0,\"21000000\"],[\"POS 3.0\",\"PoS\",20445861.5344251,\"25000000\"],[\"Ethash\",\"PoS\",1618033.0,\"1618033\"],[\"Scrypt\",\"PoW and PoS\",9399342.52839847,\"30000000\"],[\"Scrypt\",\"PoW/PoS\",234846265.782157,\"232000000\"],[\"X13\",\"PoS\",230298925.0,\"800000000\"],[\"C11\",\"PoW/PoS\",11251342.1879021,\"19340594\"],[\"X11\",\"PoW/PoS\",2167827.1,\"25000000\"],[\"XEVAN\",\"PoW/PoS\",419275.38,\"60000000\"],[\"Scrypt\",\"PoS\",25570013.1348022,\"124000000\"],[\"VBFT\",\"PoS\",650848625.0,\"1000000000\"],[\"NIST5\",\"PoW/PoS\",13787854.6277781,\"50000000\"],[\"Scrypt\",\"PoW/PoS\",845637.81347436,\"3000000\"],[\"Scrypt\",\"PoW/PoS\",1182153.5,\"5000000\"],[\"Scrypt\",\"PoS\",267297676.3125,\"500000000\"],[\"Green Protocol\",\"PoS\",9803691.3618195,\"21000000\"],[\"PoS\",\"PoS\",21876586.8530324,\"88000000\"],[\"Scrypt\",\"PoW/PoS\",9880502.37178894,\"30000000\"],[\"Semux BFT consensus\",\"DPoS\",1231147.0,\"100000000\"],[\"Quark\",\"PoW/PoS\",139739596.506702,\"200000000\"],[\"PoS\",\"PoS\",11075254.0929996,\"80000000\"],[\"X16R\",\"PoS\",4403800.0,\"45000000\"],[\"Scrypt\",\"PoW/PoS\",1404157529.46026,\"5121951220\"],[\"XEVAN\",\"PoS/PoW\",10904963.0923455,\"21000000\"],[\"Scrypt\",\"PoS\",38706809.466535,\"26000000\"],[\"Scrypt\",\"PoW/PoS\",10200000000.0,\"10200000000\"],[\"Scrypt\",\"PoS\",7630000.0154,\"44000000\"],[\"SHA-256D\",\"PoW/PoS\",33238183.7225834,\"100000000\"],[\"Scrypt\",\"PoW/PoS\",21599339.6728,\"84000000\"],[\"X15\",\"PoS\",30284196.369129,\"90000000\"],[\"Scrypt\",\"HPoW\",77872059787.8998,\"92000000000\"],[\"Quark\",\"PoS\",2716264.95302831,\"650000000 \"],[\"SHA-256\",\"PoS\",57811001.000889,\"100262205\"],[\"DPoS\",\"PoS\",18194936.0,\"18081806 \"],[\"X16R\",\"PoW/PoS\",36923120.6205934,\"82546564\"],[\"Quark\",\"PoS\",7082392.24744494,\"21000000\"],[\"Quark\",\"PoW/PoS\",5919489.76813523,\"5151000\"],[\"Scrypt\",\"PoS\",1042012.45227735,\"16880000000\"],[\"Lyra2REv2\",\"PoW/PoS\",13332617.9413708,\"52500000\"],[\"Quark\",\"PoS\",66053877.6256106,\"100000000\"],[\"Scrypt\",\"PoW/PoS\",5403802.49590733,\"1000000000\"],[\"X11\",\"PoS\",19269509.94,\"55000000\"],[\"X11\",\"PoW/PoS\",30771125.9760867,\"50000000\"],[\"Scrypt\",\"PoS\",107763867.917675,\"260000000\"],[\"PoS\",\"PoS\",9327131.59708692,\"210000000\"],[\"Keccak\",\"PoW/PoS\",4672513.84432375,\"366000000\"],[\"X11\",\"PoS\",4504639.0,\"100000000\"],[\"Scrypt\",\"PoW/PoS\",1059954080.43439,\"18000000000\"],[\"SHA-512\",\"Zero-Knowledge Proof\",1000000000.0,\"1000000000\"],[\"XEVAN\",\"PoS\",6787405.18013774,\"50000000\"],[\"XEVAN\",\"Pos\",208515864.367343,\"70000000000\"],[\"X11\",\"PoS\",17209923728.3266,\"0\"],[\"Quark\",\"PoW/PoS\",35312185.7437239,\"54000000\"],[\"Equihash\",\"PoS\",13475920.0,\"105000000\"],[\"Scrypt\",\"PoW/PoS\",14777549.3940764,\"21000000\"],[\"Quark\",\"PoW/PoS\",18265011.2486006,\"19035999\"],[\"Quark\",\"PoS\",1934701.67524713,\"13370000\"],[\"Scrypt\",\"PoW/PoS\",30825710000.0296,\"74800000000\"],[\"X11\",\"PoS\",715659.44237941,\"19700000\"],[\"Scrypt\",\"PoW/PoS\",20546528.2059957,\"84000000\"],[\"XEVAN\",\"PoW/PoS\",198938144.363399,\"500000000\"],[\"SHA-256D\",\"PoW/PoS\",896361168.0,\"5000000000\"],[\"X11\",\"PoW/PoS\",15420234.5389336,\"420000000\"],[\"X11\",\"PoW/PoS\",23775960.3207514,\"30000000\"],[\"DPoS\",\"DPoS\",1000000000.0,\"1000000000\"],[\"Scrypt\",\"PoW/PoS\",15318887081.0146,\"35000000000\"],[\"X11\",\"PoW/PoS\",242574105.22384,\"0\"],[\"Scrypt\",\"PoW/PoS\",3537150.0,\"200000000\"],[\"Scrypt\",\"PoW/PoS\",20576532.0,\"54256119\"],[\"SHA-256\",\"PoS\",4392258.24647793,\"21000000\"],[\"Scrypt\",\"PoW/PoS\",9631199.99309942,\"0\"],[\"X11\",\"PoW/PoS\",436353624.490312,\"500000000\"],[\"Scrypt\",\"PoW/PoS\",980732528.97974,\"10500000000\"],[\"SHA-256\",\"PoW/PoS\",17939725045.334,\"190000000\"],[\"X11\",\"PoW/PoS\",494240666.028571,\"1000000000\"],[\"Scrypt\",\"PoW/PoS\",60000000.0,\"15000000\"],[\"Scrypt\",\"PoW/PoS\",404316475.545465,\"400000000\"],[\"X11\",\"PoW/PoS\",201364327.427503,\"208000000\"],[\"Scrypt\",\"PoW/PoS\",103621876.167052,\"160000000\"],[\"PoS\",\"PoS\",3821245.74150193,\"9000000\"],[\"X11\",\"Proof of Trust\",16901016.6609755,\"16504333\"],[\"SHA-256\",\"PoW/PoS\",74676064.9488608,\"105000000\"],[\"DPoS\",\"DPoS\",120012140.0,\"159918400\"],[\"Scrypt\",\"PoS\",10000244677.7002,\"10008835635\"],[\"Scrypt\",\"PoW/PoS\",252005564.19257,\"300000000\"],[\"NeoScrypt\",\"PoW/PoS\",1120385.00502,\"60168145\"],[\"X13\",\"PoW/PoS\",140777.753365,\"120000\"],[\"DPoS\",\"DPoS\",1020544523.0722,\"0\"],[\"DPoS\",\"DPoS\",1122382283.37,\"0\"],[\"SHA-256\",\"PoS\",1000000000.0,\"1000000000\"],[\"PoS\",\"PoS\",9283137.5558676,\"8634140\"],[\"PoS\",\"PoS/LPoS\",1000000000.0,\"1000000000\"],[\"SHA-256\",\"DPoS\",1999999995.3056,\"2000000000\"],[\"Scrypt\",\"PoW/PoS\",14931046.1546605,\"250000000\"],[\"Scrypt\",\"PoS\",128326.99633965,\"1000000\"]],\"hovertemplate\":\"<b>%{hovertext}</b><br><br>Class=%{marker.color}<br>PC 1=%{x}<br>PC 2=%{y}<br>PC 3=%{z}<br>Algorithm=%{customdata[0]}<br>ProofType=%{customdata[1]}<br>TotalCoinsMined=%{customdata[2]}<br>TotalCoinSupply=%{customdata[3]}<extra></extra>\",\"hovertext\":[\"42 Coin\",\"404Coin\",\"EliteCoin\",\"Dash\",\"Bitshares\",\"BitcoinDark\",\"PayCoin\",\"KoboCoin\",\"Aurora Coin\",\"BlueCoin\",\"EnergyCoin\",\"BitBar\",\"CryptoBullion\",\"CasinoCoin\",\"Diamond\",\"Exclusive Coin\",\"FlutterCoin\",\"HoboNickels\",\"HyperStake\",\"IOCoin\",\"MaxCoin\",\"MintCoin\",\"MazaCoin\",\"Nautilus Coin\",\"NavCoin\",\"OpalCoin\",\"Orbitcoin\",\"PotCoin\",\"PhoenixCoin\",\"Reddcoin\",\"SuperCoin\",\"SyncCoin\",\"TeslaCoin\",\"TittieCoin\",\"TorCoin\",\"UnitaryStatus Dollar\",\"UltraCoin\",\"VeriCoin\",\"X11 Coin\",\"Crypti\",\"StealthCoin\",\"ZCC Coin\",\"BurstCoin\",\"StorjCoin\",\"Neutron\",\"FairCoin\",\"RubyCoin\",\"Kore\",\"Dnotes\",\"8BIT Coin\",\"Sativa Coin\",\"Ucoin\",\"Vtorrent\",\"IslaCoin\",\"Nexus\",\"Droidz\",\"Squall Coin\",\"Diggits\",\"Paycon\",\"Emercoin\",\"EverGreenCoin\",\"Decred\",\"EDRCoin\",\"Hitcoin\",\"DubaiCoin\",\"PWR Coin\",\"BillaryCoin\",\"GPU Coin\",\"EuropeCoin\",\"ZeitCoin\",\"SwingCoin\",\"SafeExchangeCoin\",\"Nebuchadnezzar\",\"Ratecoin\",\"Revenu\",\"Clockcoin\",\"VIP Tokens\",\"BitSend\",\"Let it Ride\",\"PutinCoin\",\"iBankCoin\",\"Frankywillcoin\",\"MudraCoin\",\"Lutetium Coin\",\"GoldBlocks\",\"CarterCoin\",\"BitTokens\",\"MustangCoin\",\"ZoneCoin\",\"RootCoin\",\"BitCurrency\",\"Swiscoin\",\"BuzzCoin\",\"Opair\",\"PesoBit\",\"Halloween Coin\",\"CoffeeCoin\",\"RoyalCoin\",\"GanjaCoin V2\",\"TeamUP\",\"LanaCoin\",\"ARK\",\"InsaneCoin\",\"EmberCoin\",\"XenixCoin\",\"FreeCoin\",\"PLNCoin\",\"AquariusCoin\",\"Creatio\",\"Eternity\",\"Eurocoin\",\"BitcoinFast\",\"Stakenet\",\"BitConnect Coin\",\"MoneyCoin\",\"Enigma\",\"Russiacoin\",\"PandaCoin\",\"GameUnits\",\"GAKHcoin\",\"Allsafe\",\"LiteCreed\",\"Klingon Empire Darsek\",\"Internet of People\",\"KushCoin\",\"Printerium\",\"Impeach\",\"Zilbercoin\",\"FirstCoin\",\"FindCoin\",\"OpenChat\",\"RenosCoin\",\"VirtacoinPlus\",\"TajCoin\",\"Impact\",\"Atmos\",\"HappyCoin\",\"MacronCoin\",\"Condensate\",\"Independent Money System\",\"ArgusCoin\",\"LomoCoin\",\"ProCurrency\",\"GoldReserve\",\"GrowthCoin\",\"Phreak\",\"Degas Coin\",\"HTML5 Coin\",\"Ultimate Secure Cash\",\"QTUM\",\"Espers\",\"Denarius\",\"Virta Unique Coin\",\"Bitcoin Planet\",\"BritCoin\",\"Linda\",\"DeepOnion\",\"Signatum\",\"Cream\",\"Monoeci\",\"Draftcoin\",\"Stakecoin\",\"CoinonatX\",\"Ethereum Dark\",\"Obsidian\",\"Cardano\",\"Regalcoin\",\"TrezarCoin\",\"TerraNovaCoin\",\"Rupee\",\"WomenCoin\",\"Theresa May Coin\",\"NamoCoin\",\"LUXCoin\",\"Xios\",\"Bitcloud 2.0\",\"KekCoin\",\"BlackholeCoin\",\"Infinity Economics\",\"Magnet\",\"Lamden Tau\",\"Electra\",\"Bitcoin Diamond\",\"Cash & Back Coin\",\"Bulwark\",\"Kalkulus\",\"GermanCoin\",\"LiteCoin Ultra\",\"PhantomX\",\"Digiwage\",\"Trollcoin\",\"Litecoin Plus\",\"Monkey Project\",\"TokenPay\",\"1717 Masonic Commemorative Token\",\"My Big Coin\",\"Unified Society USDEX\",\"Tokyo Coin\",\"Stipend\",\"Pushi\",\"Ellerium\",\"Velox\",\"Ontology\",\"Bitspace\",\"Briacoin\",\"Ignition\",\"MedicCoin\",\"Bitcoin Green\",\"Deviant Coin\",\"Abjcoin\",\"Semux\",\"Carebit\",\"Zealium\",\"Proton\",\"iDealCash\",\"Bitcoin Incognito\",\"HollyWoodCoin\",\"Swisscoin\",\"Xt3ch\",\"TheVig\",\"EmaratCoin\",\"Dekado\",\"Lynx\",\"Poseidon Quark\",\"BitcoinWSpectrum\",\"Muse\",\"Trivechain\",\"Dystem\",\"Giant\",\"Peony Coin\",\"Absolute Coin\",\"Vitae\",\"TPCash\",\"ARENON\",\"EUNO\",\"MMOCoin\",\"Ketan\",\"XDNA\",\"PAXEX\",\"ThunderStake\",\"Kcash\",\"Bettex coin\",\"BitMoney\",\"Junson Ming Chan Coin\",\"HerbCoin\",\"PirateCash\",\"Oduwa\",\"Galilel\",\"Crypto Sports\",\"Credit\",\"Dash Platinum\",\"Nasdacoin\",\"Beetle Coin\",\"Titan Coin\",\"Award\",\"Insane Coin\",\"ALAX\",\"LiteDoge\",\"TruckCoin\",\"OrangeCoin\",\"BitstarCoin\",\"NeosCoin\",\"HyperCoin\",\"PinkCoin\",\"AudioCoin\",\"IncaKoin\",\"Piggy Coin\",\"Genstake\",\"XiaoMiCoin\",\"CapriCoin\",\" ClubCoin\",\"Radium\",\"Creditbit \",\"OKCash\",\"Lisk\",\"HiCoin\",\"WhiteCoin\",\"FriendshipCoin\",\"Triangles Coin\",\"EOS\",\"Oxycoin\",\"TigerCash\",\"Particl\",\"Nxt\",\"ZEPHYR\",\"Gapcoin\",\"BitcoinPlus\"],\"legendgroup\":\"1\",\"marker\":{\"color\":[1,1,1,1,1,1,1,1,1,1,1,1,1,1,1,1,1,1,1,1,1,1,1,1,1,1,1,1,1,1,1,1,1,1,1,1,1,1,1,1,1,1,1,1,1,1,1,1,1,1,1,1,1,1,1,1,1,1,1,1,1,1,1,1,1,1,1,1,1,1,1,1,1,1,1,1,1,1,1,1,1,1,1,1,1,1,1,1,1,1,1,1,1,1,1,1,1,1,1,1,1,1,1,1,1,1,1,1,1,1,1,1,1,1,1,1,1,1,1,1,1,1,1,1,1,1,1,1,1,1,1,1,1,1,1,1,1,1,1,1,1,1,1,1,1,1,1,1,1,1,1,1,1,1,1,1,1,1,1,1,1,1,1,1,1,1,1,1,1,1,1,1,1,1,1,1,1,1,1,1,1,1,1,1,1,1,1,1,1,1,1,1,1,1,1,1,1,1,1,1,1,1,1,1,1,1,1,1,1,1,1,1,1,1,1,1,1,1,1,1,1,1,1,1,1,1,1,1,1,1,1,1,1,1,1,1,1,1,1,1,1,1,1,1,1,1,1,1,1,1,1,1,1,1,1,1,1,1,1,1,1,1,1,1,1,1,1,1,1,1,1,1,1,1,1,1,1,1,1,1,1,1,1,1,1,1,1],\"coloraxis\":\"coloraxis\",\"symbol\":\"circle\"},\"mode\":\"markers\",\"name\":\"1\",\"scene\":\"scene\",\"showlegend\":true,\"x\":[-0.33353080579938266,-0.3168646645451504,2.30434833561114,-0.3976244669556509,-0.27882607296967654,-0.3138719347730369,-0.26865130698222134,-0.24607894771404862,-0.3331903053025189,-0.32576610286858604,-0.33202701332783746,-0.33352674111741054,-0.3335110185260524,0.6631454284538177,-0.37120132354217233,-0.35218622043209474,-0.27405730762105524,-0.3315891453858135,-0.33222260903726464,-0.3975191375959098,-0.42245595608380426,-0.02816779011177127,-0.2771700267077163,-0.28806121320720535,-0.28013509509460566,-0.2807574545059835,-0.34617594299056326,-0.32783179847052557,-0.33193218881049,0.024697289769654046,-0.35211402523770585,-0.3978907934724608,-0.24778995861795095,-0.3080213537813622,-0.39780241445148007,-0.30875732333632455,-0.33220790954893675,-0.2803551821524422,-0.39776688069851185,-0.2482577836825406,-0.28053826493078904,-0.32463203976152477,-0.007058757570226466,-0.33942110045595053,-0.313083471172355,-0.3706227454191795,-0.28804146352949567,-0.28083286270635865,-0.2826943398047514,-0.3335128700006795,-0.28078503605823313,-0.35255898269364744,-0.3332471927835248,-0.3978723179025811,-0.43151719460495513,-0.41587528429798576,-0.35933243573458656,-0.28644264148630627,-0.2803065684852411,-0.3064271264383579,-0.24852089681138392,-0.07686816732927523,-0.3138428416929596,-0.07526960972431754,-0.3139065484040103,-0.233781406832544,-0.3331230490423494,-0.2863116879047615,-0.3950409399897649,0.8653509486046973,-0.3137065709766345,-0.06779002571219146,-0.3518694230566656,-0.3957148133602536,-0.31244986136808894,-0.31011761456818443,-0.35516940613421943,-0.39660724267762526,-0.3477070424462123,-0.309414309438627,-0.3331611565766975,-0.3315997976377274,-0.23430633286754943,-0.34004692984352275,-0.3973461103757731,-0.33236520312944984,-0.3138874986990893,-0.3978615077101646,-0.33335035794214446,-0.33350710170510245,-0.28630120243135676,-0.2360659007704609,0.03516494988327889,-0.35082626510176534,-0.33312116537775033,-0.38402096682037395,-0.3501547326603567,-0.23573722730235663,-0.4185425196664598,-0.3499036849707801,-0.2794334987428322,3.7187783668058194,-0.3974539598441645,0.8516548632425979,-0.39781640685962955,-0.35129012036486207,-0.33304871368832056,-0.3332030780314917,-0.3518694230566656,-0.3973912255263163,-0.31375013819889674,-0.3330494481410289,-0.39214855500717083,-0.3331968729758814,-0.32878401830955545,-0.3978454080558506,-0.3324074184495265,0.35535628508012,-0.3333961929481596,-0.33346677842730077,-0.35522650283422275,-0.35502233702607866,-0.32969277281201664,-0.3138639066982145,-0.3977553390560646,-0.33324454103041923,-0.333371525363543,-0.2879479667310373,-0.2804829665419496,-0.23550502873572554,-0.3142207168836213,-0.2876890290212507,-0.39702093308350406,-0.42317417944323515,-0.3957590019108812,-0.35011557895044076,-0.39691879364169186,-0.34451421983467506,-0.392858913283431,-0.3333147979996039,-0.33331398990770245,-0.3264343295443174,0.2641196652305923,-0.3973973707338898,-0.2705864425439992,-0.3519037284341884,-0.332525319884407,0.8861022919160427,-0.26734145581537366,-0.3464851175289672,0.5791238574137899,-0.35670540314903804,-0.3552073011956239,-0.418906624063061,-0.2804700598735895,0.1315140999876533,-0.28054084610373153,-0.34566768808735104,-0.4184113899859017,-0.39766981200244095,-0.2880221759839209,-0.35176997958945894,-0.33294991386848516,-0.33344970423355336,-0.3369031904015974,0.6578544411507986,-0.3976106304931071,-0.3411740912604221,-0.33340531203792556,-0.31446482440673595,0.43588968045858395,-0.3122098004331453,-0.34146891230145154,-0.3887838177553668,-0.33335564030823567,-0.3988251786914841,-0.34067682807360594,-0.33322600654374807,-0.09509570881726735,-0.3964030258383436,3.7236354418608206,0.20291347159430406,-0.27721094910204064,-0.33068572162854143,-0.31131172947473357,-0.3551123805203694,0.08100472408967498,-0.33236436876951836,-0.3969842802236545,-0.35427694402759924,-0.3199273421413366,-0.33347184101482374,-0.3525309056861945,-0.34798902456685193,-0.27957770780505414,-0.28007995068282027,-0.32901608521571013,-0.2272990221966577,-0.3711053094358566,-0.3976870655196832,-0.30507113352797227,-0.28718198646019605,-0.3246671030283932,-0.3563042778336935,-0.3334992020493566,-0.33348090918663337,-0.28156216342126833,-0.3483369638465191,-0.35136434671610495,-0.3331973585969002,3.911115276034302,-0.3974928862225304,-0.3515530589429385,-0.3153002395223859,-0.2800558762682706,-0.26666516917666344,-0.2877163144402679,-0.13656789139720357,-0.2879684378189416,-0.34476232400945056,-0.33267127782774125,-0.2027073452568462,2.2466146026393616,-0.35081945191955677,-0.2674691859949679,1.016748736783181,-0.35979379967318137,-0.3552259400273599,-0.40050968175422774,-0.16867551893846586,-0.35955025754161174,-0.3539451858301497,-0.3263744064385149,-0.35210822053315366,-0.39716028196408415,-0.28521331042188275,-0.3506526727781453,-0.3467874533676252,-0.35196957663489586,-0.1929518521745871,-0.337214879840981,-0.2599070642694579,0.5576038296712165,-0.142433166209824,-0.39980415381764517,-0.26782936891587145,-0.3332013313459543,-0.40026037316579893,-0.3553429428795539,0.5735102830533684,-0.35258523340027903,-0.33268414289173354,-0.29952552646349834,-0.2994724013356023,-0.3947244297321246,-0.397387568291484,3.735879961189223,0.10182459503374687,-0.39492662668859413,-0.3320695101779218,-0.3328946712920829,-0.2686839463478129,-0.3334131160189367,-0.38901351113030586,-0.24709767158732782,-0.0934780404444496,-0.38476096394267756,-0.33269126775101604,-0.32575402458625363,-0.39395540235985277,-0.3311301172836675,-0.3521451169837085,-0.3858277580278148,-0.31238666303833856,3.719170266691313,-0.09520711540089773,-0.32832425838053514,-0.3458017236762449,-0.2809400899633978,3.7290406423556837,3.7302850715287805,-0.24957642650934656,-0.35208096826303753,-0.3563765440928025,2.4699053415528223,-0.3315757615682265,-0.28836499197149257],\"y\":[1.0128984639813068,1.0130944016750791,1.6677603693564915,1.2485146326456238,1.6662571574191745,0.83253481303211,0.6333052819130598,1.9011406448500732,1.012898271932047,1.0131660064861223,1.012950279046885,1.012898248505705,1.0128984346879706,0.3867847939309364,0.9244695864872688,1.5732043229354002,0.2846509945088915,1.0128800321389384,1.0499893598324077,1.2485182618994204,2.01041792237282,0.8226257060626339,0.8320947301251337,0.8136592497663746,1.8021131758680433,1.8020917317022187,0.5083280438105384,1.0127961607113831,1.0128838567537775,1.025241657580694,1.0493039764033276,1.2485210999256056,0.11596756542664027,1.627499461490531,1.2485170346629597,1.0126142758749332,1.0128729342170626,0.23539790051790377,1.2485214590546851,0.11602255775954523,1.8020992841510315,1.012493963777327,0.7090700685496518,1.5380365776686933,0.8325292690839208,0.9244926368124534,0.8136714361594821,1.802080599999973,0.8135001188126127,1.0128990820113752,1.8020836701630047,1.0492744224768125,1.0128940138843707,1.248521737235411,2.210866812505031,1.870991953107438,0.8913762646571535,0.8136554137309651,1.80207171162656,0.8320958594830673,1.9012866948667742,0.9460404035396573,0.8325358154702867,1.240757224058902,0.8325417982364968,1.5269530069421429,1.012882646809297,0.8135738431620316,1.2483462264629337,0.7830122952170653,0.8325277107182323,0.388517121398877,1.5732010162168857,1.2485427428621998,0.8324410731231461,0.8323064803086205,1.522706432148517,1.2484664815339572,1.5618956410518001,1.0123071912993258,1.0128796744912083,1.012893887467589,1.6027556195000836,1.0492525584524666,1.2485043124557127,1.0128746256541599,0.8325349878759846,1.248519976359224,1.0128897480825492,1.0128992807651573,0.813731399015164,0.31860286628575923,1.9161836268419787,1.5731985591326458,1.012912578680237,1.247932325334866,1.5732458757096297,1.602846762024949,1.9226043315505272,1.5730689239307971,1.9142284584452922,1.8543095051374836,1.2485148187336543,1.840505952835493,1.2485209235487431,1.5731996432621937,1.0128876685953465,1.0128798893111657,1.5732010162168857,1.2484956467746113,0.8325404319207341,1.0128915828840297,0.7989213963933072,1.012890058769703,1.012599324375992,1.2485191088562713,1.0128347706868563,0.812718552857649,1.0128938577266222,1.0128983122356268,1.490192599510734,0.5674385352503901,1.012675149070269,0.8325358007676508,1.2485191160865223,1.0128941052538147,1.0128883550226382,0.8136355462033718,0.289882227693855,1.602846211711415,1.0128526988268283,0.8136590984697738,1.2484799609298185,1.8674032758902537,1.2485163311517375,1.5731972402028978,1.2484834802710343,1.5731842239322371,1.2483389211826357,1.0128908225013804,1.0128855966895267,1.0124318636463419,0.5983375863380996,1.2485096573990675,0.8128506340471418,1.573192722999928,1.0128584418587672,1.8763996023725609,0.6332170199104589,1.56189045462683,1.843908610061632,1.5227103969261393,1.522683792879338,1.9421748874101896,1.8020803006931017,0.9933662503069279,1.8020857563672075,1.4861463285992842,1.94219195131487,1.2485219540334813,0.8136597230887299,1.5731748601702056,1.0128841664851973,1.012898271769572,1.6667514813519932,1.4999424187340027,1.2485115538068088,0.5082186224305222,1.01289159979406,0.7099881068206175,1.0216318451525461,0.832536616709072,1.5223891583958125,1.8271040150657596,1.0128895660720705,1.6893532157416793,1.5779272659486283,1.012898450034664,0.6328941800527761,1.2484699624872717,1.8542101923381367,1.520666323073635,1.8020645961121902,1.0128471600821427,1.3234674744371209,1.4901929761453736,0.9916258870816648,1.01283198730744,1.2485167797626104,1.4901506503204074,1.0127271817980845,1.0128976512429553,1.0492746787866853,1.5618919695131268,-0.0906165846225454,0.33630373763782456,1.0128890448749222,1.6025703941285783,0.9079254264971112,1.2485103423796382,1.468942060440151,0.8136128718441622,1.5723114815933446,1.522695773466231,1.0128974196028178,1.012896627669582,0.8135391293548595,1.517081792109821,1.573170063207255,1.0128886198005074,1.816675463458314,1.6893991215319815,1.5731692498393839,0.6970069156049327,1.0110986960252695,1.111819707169494,0.8136641505000679,1.0124316593879414,0.8136426631474996,1.9172440145389555,1.012868346180175,1.7020255383928795,0.3087435001969961,1.489892889823467,0.633283604052055,1.6804809267376724,0.8962415543179582,1.4901883521933803,1.6894337347802282,0.805780661669079,0.909208784992357,1.4901763038259987,1.0124339283713126,1.0492650649073019,1.2485107154042379,0.8135839929366349,1.5731078283881519,0.9619408336444727,1.049237841733144,1.0049421576192321,1.9830523079254068,1.2697109360858152,1.1165681159562306,1.0565287906008105,1.6894233072048908,-0.0372880955174694,1.0128948829788527,1.6894324511406824,1.4901897465472425,0.9909600444226212,1.0492737313116183,1.0128679028984306,1.468820249178683,1.9153200555502177,1.2483315319592525,1.2485171063369893,1.8542765333159896,1.0030100354777518,1.2486232346815913,1.0128065911130908,1.0128818002980606,0.6332981127780014,1.012902519158604,1.2484714192857038,1.0084098831734218,0.8400092902872717,1.248262386945953,1.0129167245625332,1.0128819753541507,1.2485087868228888,1.0128674037914027,1.573199339141377,0.8009793897804744,0.8325269670972333,1.8542981774224936,0.8131983171327215,1.012864526585328,0.5083008322506293,1.802085353436704,1.854751994358895,1.8547948727103063,0.6332603013081924,1.5732018096348785,1.6902115544029537,0.8070551280007539,1.012788047921124,0.8136595774672757],\"z\":[-0.5755767556085797,-0.5760509227653283,-0.665740701364435,-0.5439910728743172,-0.08430654579775866,-0.38845190900569837,-0.07995188365568746,-0.6816480664372121,-0.575585659784461,-0.5758305813032568,-0.575625914115616,-0.5755768220928278,-0.5755772696648785,-0.28953565329795333,-0.4437708854886835,-0.06572749152296443,-0.3381093433711785,-0.5756242932004104,-0.23615242543265305,-0.5439945160578564,-0.645553324874708,-0.27557944135594054,-0.3893333610086447,-0.2670814588234175,-0.6229716483139637,-0.6229513035811557,-0.33002451293268187,-0.5757072829854398,-0.5756160005771013,-0.5872871190399312,-0.23550218131265882,-0.5439852879697336,0.11406666006833018,-0.27317719005063307,-0.5439868492948283,-0.57617413053887,-0.5756067217751478,-0.37615950175445617,-0.5439886084325054,0.11406867422202434,-0.622958468819216,-0.5757348644677196,-0.10355818583096689,-0.1364049516781421,-0.38847157533801707,-0.44379038064081006,-0.2670842529601825,-0.6229472450428676,-0.26719265424740635,-0.5755773419297578,-0.6229490740589072,-0.23548498001379056,-0.575583371054153,-0.543985892063073,-0.4730047187187142,-0.646365439275752,-0.3039950009043282,-0.2671232390482857,-0.6229594034528866,-0.38856540979867327,-0.6816112239567481,-0.4621759662133278,-0.38845286004930746,-0.5510061248455228,-0.3884523045705305,-0.5799409455297333,-0.5755845079158698,-0.267111445421514,-0.5440274579374879,-0.29164217595475295,-0.3884549244940188,-0.2706680017273149,-0.06573519174920558,-0.5440464610308308,-0.3884717420644831,-0.3885078436813728,-0.5759608591195341,-0.5440087893019548,-0.14857852430181456,-0.5760995382701727,-0.5755829523516373,-0.5756266007616704,-0.31446368339116104,-0.23580940848054122,-0.5439964541710738,-0.575602907787633,-0.3884515330148668,-0.5439858470778505,-0.5755798658286649,-0.5755775304935203,-0.26714114154644086,-0.3929425482862172,-0.7557516407458812,-0.06576212164760369,-0.5755901466303014,-0.5442395048588716,-0.06578858867081856,-0.3144431337147001,-0.6674327879797526,-0.06576213739785514,-0.7471265824888079,-0.10965180835346326,-0.5439955843859922,-0.659856634329837,-0.5439872080980154,-0.06575014530141327,-0.5755873973650832,-0.5755818917934633,-0.06573519174920558,-0.5439936514810289,-0.3884561560752825,-0.5755881090071199,-0.31066421327958893,-0.5755839536807835,-0.5756455261305905,-0.5439861077924691,-0.5755943571760996,-0.28379909905156075,-0.5755794298087846,-0.5755784083484421,-0.21350797973268248,-0.36123222283078266,-0.575635825201283,-0.38845230422993227,-0.5439884739563469,-0.5755834577391254,-0.5755790499359811,-0.2670800059459871,-0.25242968801858406,-0.31444912746104,-0.5760752073279011,-0.2670912024827581,-0.5440004446641311,-0.6491855798106151,-0.5440403689060267,-0.06578053483685438,-0.5440037835702597,-0.06592517120174596,-0.5440833841780209,-0.575581000104632,-0.5755800454918315,-0.5756759481833296,-0.08741048346056078,-0.5439961063761464,-0.2673892740878286,-0.06573274242723026,-0.5755956817864184,-0.7067541800513121,-0.07996979315861458,-0.14860963817330308,-0.7504538950802744,-0.5759212709817731,-0.5759556366719109,-0.7328217273128185,-0.6229567147509961,-0.5841394768301067,-0.6229558749700372,-0.17866729064955753,-0.732837916358558,-0.5439912494560438,-0.26708257215306364,-0.0657329185069926,-0.575589337453248,-0.5755788490849538,-0.0828740038639809,-0.17592860309853248,-0.5439908612389088,-0.33013540690193743,-0.5755787687520595,-0.017313099885773082,-0.597409143545363,-0.3884958861108221,-0.5762613281497231,-0.5808140728461241,-0.575579693149784,-0.5220377217100611,-0.2332028966961965,-0.5755847556852703,-0.08443192026020545,-0.5440148011409984,-0.10976078872936977,-0.590232693309875,-0.6230393520337628,-0.5756418748279473,-0.2674232884455877,-0.21351104641011395,-0.5824883412673452,-0.5755949677225529,-0.5440082822845917,-0.21352507766541662,-0.5759019384486973,-0.5755781519983583,-0.2354857650533054,-0.1485704351017603,0.13808941814327047,-0.3187480746474386,-0.5756935333575087,-0.3146130767658056,-0.409461015067086,-0.5439886281800062,-0.5001905953438566,-0.26709588315833005,-0.1079990543359446,-0.5759290720817509,-0.5755773903637723,-0.575577722773682,-0.2672296647361889,-0.12809548441220564,-0.06574267288338172,-0.5755836722279842,-0.11645275259308714,-0.5220812739305426,-0.06573756625222962,-0.1346384299201194,-0.5766446954053427,-0.2602005052249624,-0.2670914294673085,-0.5806609633382595,-0.26708079743158986,-0.745974439140935,-0.5755936990363146,-0.3731208606770795,-0.3766114584582919,-0.213567723821234,-0.07997887296230734,-0.10424237231388801,-0.4431584986066909,-0.21350720139665694,-0.5220085296403896,-0.2687448096976436,-0.3258150217154201,-0.2135385785162383,-0.575677907050753,-0.23549506767157977,-0.5440025288432243,-0.2671421792528217,-0.06574973702179797,-0.4284268251875229,-0.23549362439184035,-0.577782035243576,0.03178347838399492,-0.19168878750776885,-0.1746962690147984,-0.2423565824414834,-0.5220251065161514,0.14907911217011371,-0.5755847374610775,-0.522014835684348,-0.21350438979040776,-0.5952950253901051,-0.2354841617231729,-0.5755932784814315,-0.5003134523288792,-0.7468042863209796,-0.5440330241539275,-0.5439977547049032,-0.11009466370279862,-0.5851607712907635,-0.544082185779514,-0.5755979671068505,-0.5755903460346797,-0.07994968797861765,-0.5755806028559493,-0.54420908916121,-0.5770079429949763,-0.39563420732649707,-0.5442817090867664,-0.575602208013079,-0.5757778605382083,-0.5440863146842568,-0.5756339871242208,-0.0657276400807179,-0.36927413711316315,-0.38848944058305357,-0.10965998265763578,-0.27205888368033593,-0.5757071193064353,-0.3300292569906865,-0.6229453173509928,-0.11000387752860429,-0.1100445575256644,-0.08044430634214929,-0.06572978566434196,0.23483589364885163,-0.08630565582763476,-0.5756074681430914,-0.26707354412848383],\"type\":\"scatter3d\"},{\"customdata\":[[\"SHA-256\",\"PoW\",17927175.0,\"21000000\"],[\"Ethash\",\"PoW\",107684222.6865,\"0\"],[\"Scrypt\",\"PoW\",63039243.3000049,\"84000000\"],[\"CryptoNight-V7\",\"PoW\",17201143.1449131,\"0\"],[\"Ethash\",\"PoW\",113359703.0,\"210000000\"],[\"Equihash\",\"PoW\",7383056.25,\"21000000\"],[\"Multiple\",\"PoW\",11406219141.0,\"21000000000\"],[\"Scrypt\",\"PoW\",5768310.0,\"21000000\"],[\"X11\",\"PoW\",11149733.9976203,\"20000000\"],[\"Scrypt\",\"PoW\",12205795.4449549,\"64000000\"],[\"Multiple\",\"PoW\",1688254250.0,\"2000000000\"],[\"Scrypt\",\"PoW\",88.0,\"384000000000\"],[\"SHA-256\",\"PoW\",170204389.754849,\"169795588\"],[\"Scrypt\",\"PoW\",128940951.183046,\"250000000\"],[\"Scrypt\",\"PoW\",7357794.7925,\"100000000\"],[\"Quark\",\"PoW\",259557164.91477,\"247000000\"],[\"Groestl\",\"PoW\",49548585.1412917,\"84000000\"],[\"Scrypt\",\"PoW\",33442988.3440364,\"48166000\"],[\"Scrypt\",\"PoW\",7219956.64626131,\"21000000 \"],[\"Scrypt\",\"PoW\",4703879.51824446,\"13140000\"],[\"X11\",\"PoW\",4996986.20575291,\"18000000\"],[\"Multiple\",\"PoW\",15929530669.1206,\"16555000000\"],[\"SHA-256\",\"PoW\",18773857500.0,\"21000000000\"],[\"Scrypt\",\"PoW\",12539015186.822,\"13500000000\"],[\"Scrypt\",\"PoW\",20910478.8062499,\"21000000 \"],[\"Scrypt\",\"PoW\",218871896.499999,\"299792458\"],[\"Scrypt\",\"PoW\",19496786.31025,\"32000000\"],[\"Scrypt\",\"PoW\",1142732.14912776,\"11235813\"],[\"NeoScrypt\",\"PoW\",208669093.00773,\"336000000\"],[\"Scrypt\",\"PoW\",884125802.0,\"1420609614\"],[\"Scrypt\",\"PoW\",65672720.4708748,\"70000000\"],[\"Scrypt\",\"PoW\",41658647.9999715,\"72245700\"],[\"Scrypt\",\"PoW\",90595753018.6314,\"90600000000\"],[\"SHA-256\",\"PoW\",21089348.999,\"21000000\"],[\"Scrypt\",\"PoW\",151447649.8,\"265420800\"],[\"Scrypt\",\"PoW\",19326319.14375,\"20000000\"],[\"Scrypt\",\"PoW\",1104344.22938102,\"1350000\"],[\"Scrypt\",\"PoW\",38151999.9930997,\"42000000\"],[\"HybridScryptHash256\",\"PoW\",40431856.9,\"200000000\"],[\"Scrypt\",\"PoW\",5804204.88794916,\"10000000\"],[\"Scrypt\",\"PoW\",2366066305.76482,\"15000000000\"],[\"SHA-256\",\"PoW\",14736400.0,\"21000000\"],[\"Scrypt\",\"PoW\",334709223.483138,\"337000000\"],[\"Scrypt\",\"PoW\",1104157.42169891,\"21000000\"],[\"Scrypt\",\"PoW\",24215181.725,\"250000000\"],[\"Scrypt\",\"PoW\",25593737.1355044,\"51200000\"],[\"SHA-256\",\"PoW\",563336541.299966,\"888000000\"],[\"SHA-256\",\"PoW\",43536800.0,\"47011968\"],[\"SHA-256\",\"PoW\",22935396.0,\"42000000\"],[\"SHA-256\",\"PoW\",2278150.0,\"80000000\"],[\"SHA-256\",\"PoW\",200911.79151896,\"250000\"],[\"X11\",\"PoW\",1207310.0,\"0\"],[\"Scrypt\",\"PoW\",23150892.1679687,\"23000000\"],[\"Lyra2REv2\",\"PoW\",51173723.8166347,\"84000000\"],[\"Scrypt\",\"PoW\",119606941.0,\"265420800\"],[\"SHA-256\",\"PoW\",39195739.362088,\"45000000\"],[\"CryptoNight\",\"PoW\",184066828814.0,\"184467440735\"],[\"CryptoNight\",\"PoW\",6906587610.38292,\"10000000000\"],[\"Scrypt\",\"PoW\",68194674.8711679,\"105120000\"],[\"Scrypt\",\"PoW\",415032420.0,\"1680000000\"],[\"Scrypt\",\"PoW\",137517654.41397,\"166386000\"],[\"Scrypt\",\"PoW\",181919.2435974,\"2628000\"],[\"Scrypt\",\"PoW\",152270664.860648,\"160000000\"],[\"Scrypt\",\"PoW\",792537250.0,\"1000000000\"],[\"Stanford Folding\",\"PoW\",719416990.0,\"1000000000\"],[\"Multiple\",\"PoW\",65113302.0,\"0\"],[\"QuBit\",\"PoW\",6365285.0,\"0\"],[\"Scrypt\",\"PoW\",10140044.4430293,\"3371337\"],[\"Scrypt\",\"PoW\",4610340640.89,\"10000000000\"],[\"M7 POW\",\"PoW\",708506520.0,\"1840000000\"],[\"Scrypt\",\"PoW\",619478.0,\"619478\"],[\"SHA-256\",\"PoW\",12462620.0,\"21000000\"],[\"Scrypt\",\"PoW\",88213.0,\"92000000000\"],[\"X11\",\"PoW\",32221574.820996,\"33000000\"],[\"Lyra2RE\",\"PoW\",13742738.0,\"65789100\"],[\"SHA-256\",\"PoW\",14747200.0002,\"53760000\"],[\"X11\",\"PoW\",15863837.5,\"21000000\"],[\"Scrypt\",\"PoW\",32565300.0,\"210240000\"],[\"Scrypt\",\"PoW\",75614500.0,\"250000000\"],[\"Ethash\",\"PoW\",10495278.0,\"16906397\"],[\"Blake2b\",\"PoW\",33098296530.0,\"0\"],[\"X11\",\"PoW\",15867695.0,\"16000000\"],[\"SHA-256\",\"PoW\",20997476.8650231,\"21000000\"],[\"Scrypt\",\"PoW\",210000000.0,\"210000000\"],[\"1GB AES Pattern Search\",\"PoW\",11448949.0,\"81962100\"],[\"Scrypt\",\"PoW\",69836100.0,\"84000000\"],[\"SHA-256\",\"PoW\",21739971929.0,\"21626280000 \"],[\"X11\",\"PoW\",45110324.0,\"84000000\"],[\"Dagger\",\"PoW\",5702048.0,\"30000000\"],[\"Scrypt\",\"PoW\",636462.55983338,\"168351300\"],[\"X11GOST\",\"PoW\",17263355.0,\"24000000\"],[\"Scrypt\",\"PoW\",6570807.65677618,\"20000000\"],[\"X11\",\"PoW\",13654082.4987998,\"25000000\"],[\"Scrypt\",\"PoW\",616448.0,\"616448\"],[\"X11\",\"PoW\",1377917.0,\"25000000\"],[\"Equihash\",\"dPoW/PoW\",115898131.0,\"200000000\"],[\"CryptoNight\",\"PoW\",7822432.72439746,\"10000000\"],[\"SHA-256\",\"PoW\",6243840.0,\"9736000\"],[\"Multiple\",\"PoW\",1000000000.0,\"1200000000\"],[\"Scrypt\",\"PoW\",116845228.0,\"200000000\"],[\"SHA-256\",\"PoW\",9106714.0,\"10638298\"],[\"Scrypt\",\"PoW\",11119200.0,\"30000000\"],[\"Lyra2Z\",\"PoW\",7568281.24956067,\"21400000\"],[\"Ethash\",\"PoW\",26205539.0,\"26205539\"],[\"Equihash\",\"PoW\",5613550.0,\"21000000\"],[\"Scrypt\",\"PoW\",196297971.0,\"10000000000\"],[\"X11\",\"PoW\",824000000.0,\"500000000\"],[\"X11\",\"PoW\",61364813.0,\"228000000\"],[\"CryptoNight\",\"PoW\",978145.0,\"21000000\"],[\"Scrypt\",\"PoW\",894026.0,\"2714286\"],[\"CryptoNight\",\"PoW\",9357088.0,\"25000000\"],[\"Lyra2RE\",\"PoW\",1876146.443596,\"9999999\"],[\"X11\",\"PoW\",536982074.0,\"100000000000\"],[\"CryptoNight-V7\",\"PoW\",10969318.522954,\"185000000\"],[\"Scrypt\",\"PoW\",3115258.0,\"3360000\"],[\"X11\",\"PoW\",30385540.0,\"1000000000\"],[\"Equihash\",\"PoW\",6921653.89980891,\"17000000\"],[\"Scrypt\",\"PoW\",99843408.3158479,\"100000000 \"],[\"Lyra2RE\",\"PoW\",18545757.5,\"21000000\"],[\"Dagger-Hashimoto\",\"PoW\",2232901.0,\"2232901\"],[\"Scrypt\",\"PoW\",64096052.0,\"4000000000\"],[\"NIST5\",\"PoW\",10123200.0,\"48252000\"],[\"Scrypt\",\"PoW\",20276099.146524,\"35520400\"],[\"SHA-256\",\"PoW\",1317747500.0,\"2500000000\"],[\"Scrypt\",\"PoW\",13673406.4325268,\"72000000\"],[\"CryptoNight-V7\",\"PoW\",69036016.8340164,\"105000000\"],[\"Argon2d\",\"PoW\",19784224.6512734,\"0\"],[\"Blake2b\",\"PoW\",133248297.0,\"340282367\"],[\"Cloverhash\",\"PoW\",18407259.0885883,\"30000000\"],[\"CryptoNight\",\"PoW\",1809467143.0,\"2000000000\"],[\"X11\",\"PoW\",35138975.0,\"100000000\"],[\"Scrypt\",\"PoW\",18133195.0,\"19276800\"],[\"Scrypt\",\"PoW\",5167775.0,\" 75000000\"],[\"X11\",\"PoW\",26042364.3735553,\"60000000\"],[\"X11\",\"PoW\",2622886.0,\"18900000\"],[\"CryptoNight\",\"PoW\",14161803.0,\"54000000\"],[\"Time Travel\",\"PoW\",17801865.1605478,\"21000000\"],[\"Scrypt\",\"PoW\",163055097500.0,\"200000000000\"],[\"Keccak\",\"PoW\",2241009149.22257,\"5000000000\"],[\"X11\",\"PoW\",122475638.389743,\"1100000000\"],[\"SHA-256\",\"PoW\",17995589.6469082,\"21000000\"],[\"Scrypt\",\"PoW\",485214.0,\"10500000000\"],[\"Scrypt\",\"PoW\",143006669741.687,\"0\"],[\"Scrypt\",\"PoW\",9704042.0,\"20000000\"],[\"Scrypt\",\"PoW\",17453749.4042601,\"84000000\"],[\"Scrypt\",\"PoW\",32646731.063036,\"100000000\"],[\"Scrypt\",\"PoW\",33716526.0,\"100000000\"],[\"CryptoNight\",\"PoW\",8946653.0,\"88888888\"],[\"Equihash\",\"PoW\",5211553258.01514,\"21000000000\"],[\"X11\",\"PoW\",2702855668.85288,\"1800000000\"],[\"NeoScrypt\",\"PoW\",4165967.57499639,\"27000000\"],[\"Equihash\",\"PoW\",17202361.088994,\"21000000\"],[\"Dagger\",\"PoW\",33986980.0,\"156306732.71\"],[\"Scrypt\",\"PoW\",99990001.493466,\"100000000\"],[\"X11\",\"PoW\",175215859.0,\"350000000\"],[\"NeoScrypt\",\"PoW\",6375259.04,\"45000000\"],[\"Ethash\",\"PoW\",12756367.0,\"280000000\"],[\"NeoScrypt\",\"PoW\",5832306.875,\"31800000\"],[\"Multiple\",\"PoW\",481730566.566176,\"660000000\"],[\"CryptoNight\",\"PoW\",19281821413.4924,\"85000000000\"],[\"CryptoNight\",\"PoW\",4500000.0,\"12500000\"],[\"Ethash\",\"PoW\",520891780.0,\"10000000000\"],[\"X11\",\"PoW\",80316207.0,\"550000000\"],[\"CryptoNight-V7\",\"PoW\",441250233.377,\"999481516\"],[\"Scrypt\",\"PoW\",3964201248.87125,\"4999999999\"],[\"BLAKE256\",\"PoW\",30089671530.5228,\" 90000000000\"],[\"X11\",\"PoW\",4229040.50393462,\"19800000\"],[\"NeoScrypt\",\"PoW\",7847417.33355824,\"21000000\"],[\"NeoScrypt\",\"PoW\",299797953.0,\"500000000\"],[\"Scrypt\",\"PoW\",45483049.3398182,\"64000000\"],[\"X11\",\"PoW\",8478104.33969947,\"23000000\"],[\"SHA-256\",\"PoW\",20166000.0,\"20166000\"],[\"C11\",\"PoW\",11916588.09471,\"23000000\"],[\"CryptoNight\",\"PoW\",53139835213.77,\"1000000000000\"],[\"SkunkHash\",\"PoW\",4818338.98949984,\"16600000\"],[\"CryptoNight\",\"PoW\",133932467.774108,\"336000000\"],[\"Scrypt\",\"PoW\",10000000000.0,\"10000000000\"],[\"Dagger\",\"PoW\",107325266.027783,\"100000000\"],[\"Lyra2REv2\",\"PoW\",643795911.540095,\"1100000000\"],[\"Scrypt\",\"PoW\",12446100.00278,\"40000000\"],[\"Scrypt\",\"PoW\",14491014421.0,\"18406979840\"],[\"X11\",\"PoW\",211297638.500483,\"500000000\"],[\"Ethash\",\"PoW\",247612453.0,\"6500000000\"],[\"CryptoNight\",\"PoW\",80049082.9057215,\"1000000000\"],[\"Scrypt\",\"PoW\",4070212.1493016,\"21000000\"],[\"IMesh\",\"PoW\",25000000.0,\"25000000\"],[\"Equihash\",\"PoW\",71355477.0,\"70000000\"],[\"Lyra2Z\",\"PoW\",27340501.6514783,\"300000000\"],[\"X11\",\"PoW\",31801461.1867843,\"100000000\"],[\"CryptoNight\",\"PoW\",16016864.0,\"18400000\"],[\"NIST5\",\"PoW\",21069346.2522598,\"21000000\"],[\"Lyra2RE\",\"PoW\",5097689.71077377,\"26280000\"],[\"Tribus\",\"PoW\",795447.0,\"18000000\"],[\"Lyra2Z\",\"PoW\",6986399.70430446,\"10500000\"],[\"CryptoNight\",\"PoW\",84300.0,\"600000518\"],[\"CryptoNight Heavy\",\"PoW\",19153632.0,\"150000000\"],[\"CryptoNight\",\"PoW\",41294520017.0,\"184000000000\"],[\"Jump Consistent Hash\",\"PoW\",135862416.039898,\"168000000\"],[\"CryptoNight\",\"PoW\",560085952.404637,\"1000000000\"],[\"X16R\",\"PoW\",8125865.02097646,\"22075700\"],[\"HMQ1725\",\"PoW\",8645406.16776286,\"21000000\"],[\"X11\",\"PoW\",4993030.69736615,\"21000000\"],[\"Scrypt\",\"PoW\",1416663.06600024,\"22105263\"],[\"CryptoNight-V7\",\"PoW\",15580199.3087496,\"1750000000\"],[\"Cryptonight-GPU\",\"PoW\",4890897.0,\"88188888\"],[\"XEVAN\",\"PoW\",14746153.0962884,\"210000000\"],[\"CryptoNight Heavy\",\"PoW\",99553110528.8022,\"184470000000\"],[\"SHA-256\",\"PoW\",2100000000.0,\"2100000000\"],[\"X11\",\"PoW\",5015881.37315389,\"25000000\"],[\"X16R\",\"PoW\",9753753.61515394,\"100000000\"],[\"Equihash\",\"PoW\",4235111504.0,\"7600000000\"],[\"Lyra2Z\",\"PoW\",13634850.0,\"84000000\"],[\"SHA-256\",\"PoW\",17992514.6469233,\"21000000\"],[\"CryptoNight\",\"PoW\",1867054873.28397,\"8080000000\"],[\"Blake\",\"PoW\",1578281.31341127,\"105120001.44\"],[\"Blake\",\"PoW\",15846721.2482747,\"25228800\"],[\"Exosis\",\"PoW\",406091.925,\"21000000\"],[\"Scrypt\",\"PoW\",35284717.173946,\"120000000\"],[\"Equihash\",\"PoW\",35687520.0,\"262800000\"],[\"Equihash\",\"PoW\",25150787.5,\"30886000\"],[\"QuBit\",\"PoW\",12925790.4226959,\"100000000\"],[\"SHA-256\",\"PoW\",52293836.6277958,\"64000000\"],[\"X13\",\"PoW\",1170292.5,\"2100000\"],[\"SHA-256\",\"PoW\",84613099.9999955,\"168000000\"],[\"Scrypt\",\"PoW\",55565076.3863525,\"98100000000\"],[\"NeoScrypt\",\"PoW\",3824685012.0,\"4000000000\"],[\"Blake\",\"PoW\",23356790.1494191,\"7000000000\"],[\"Scrypt\",\"PoW\",780210700.0,\"1000000000\"],[\"SHA-256\",\"PoW\",22986929.0854247,\"42000000\"],[\"Scrypt\",\"PoW\",29583989322.9213,\"50000000000\"],[\"Groestl\",\"PoW\",73298203.8873662,\"105000000\"],[\"Scrypt\",\"PoW\",5052555.91981545,\"5000000\"],[\"Scrypt\",\"PoW\",69684455.4387001,\"182000000\"],[\"Multiple\",\"PoW\",3332922.5,\"2800000\"],[\"Equihash+Scrypt\",\"PoW\",100000000.0,\"2100000000\"],[\"Ethash\",\"PoW\",24487944.0958204,\"24487944\"],[\"CryptoNight\",\"PoW\",980222595.0,\"1400222610\"],[\"Equihash\",\"PoW\",7296537.5,\"21000000\"]],\"hovertemplate\":\"<b>%{hovertext}</b><br><br>Class=%{marker.color}<br>PC 1=%{x}<br>PC 2=%{y}<br>PC 3=%{z}<br>Algorithm=%{customdata[0]}<br>ProofType=%{customdata[1]}<br>TotalCoinsMined=%{customdata[2]}<br>TotalCoinSupply=%{customdata[3]}<extra></extra>\",\"hovertext\":[\"Bitcoin\",\"Ethereum\",\"Litecoin\",\"Monero\",\"Ethereum Classic\",\"ZCash\",\"DigiByte\",\"ProsperCoin\",\"Spreadcoin\",\"Argentum\",\"MyriadCoin\",\"MoonCoin\",\"ZetaCoin\",\"SexCoin\",\"Quatloo\",\"QuarkCoin\",\"Riecoin\",\"Digitalcoin \",\"Catcoin\",\"CannaCoin\",\"CryptCoin\",\"Verge\",\"DevCoin\",\"EarthCoin\",\"E-Gulden\",\"Einsteinium\",\"Emerald\",\"Franko\",\"FeatherCoin\",\"GrandCoin\",\"GlobalCoin\",\"GoldCoin\",\"Infinite Coin\",\"IXcoin\",\"KrugerCoin\",\"LuckyCoin\",\"Litebar \",\"MegaCoin\",\"MediterraneanCoin\",\"MinCoin\",\"NobleCoin\",\"Namecoin\",\"NyanCoin\",\"RonPaulCoin\",\"StableCoin\",\"SmartCoin\",\"SysCoin\",\"TigerCoin\",\"TerraCoin\",\"UnbreakableCoin\",\"Unobtanium\",\"UroCoin\",\"ViaCoin\",\"Vertcoin\",\"WorldCoin\",\"JouleCoin\",\"ByteCoin\",\"DigitalNote \",\"MonaCoin\",\"Gulden\",\"PesetaCoin\",\"Wild Beast Coin\",\"Flo\",\"ArtByte\",\"Folding Coin\",\"Unitus\",\"CypherPunkCoin\",\"OmniCron\",\"GreenCoin\",\"Cryptonite\",\"MasterCoin\",\"SoonCoin\",\"1Credit\",\"MarsCoin \",\"Crypto\",\"Anarchists Prime\",\"BowsCoin\",\"Song Coin\",\"BitZeny\",\"Expanse\",\"Siacoin\",\"MindCoin\",\"I0coin\",\"Revolution VR\",\"HOdlcoin\",\"Gamecredits\",\"CarpeDiemCoin\",\"Adzcoin\",\"SoilCoin\",\"YoCoin\",\"SibCoin\",\"Francs\",\"BolivarCoin\",\"Omni\",\"PizzaCoin\",\"Komodo\",\"Karbo\",\"ZayedCoin\",\"Circuits of Value\",\"DopeCoin\",\"DollarCoin\",\"Shilling\",\"ZCoin\",\"Elementrem\",\"ZClassic\",\"KiloCoin\",\"ArtexCoin\",\"Kurrent\",\"Cannabis Industry Coin\",\"OsmiumCoin\",\"Bikercoins\",\"HexxCoin\",\"PacCoin\",\"Citadel\",\"BeaverCoin\",\"VaultCoin\",\"Zero\",\"Canada eCoin\",\"Zoin\",\"DubaiCoin\",\"EB3coin\",\"Coinonat\",\"BenjiRolls\",\"ILCoin\",\"EquiTrader\",\"Quantum Resistant Ledger\",\"Dynamic\",\"Nano\",\"ChanCoin\",\"Dinastycoin\",\"DigitalPrice\",\"Unify\",\"SocialCoin\",\"ArcticCoin\",\"DAS\",\"LeviarCoin\",\"Bitcore\",\"gCn Coin\",\"SmartCash\",\"Onix\",\"Bitcoin Cash\",\"Sojourn Coin\",\"NewYorkCoin\",\"FrazCoin\",\"Kronecoin\",\"AdCoin\",\"Linx\",\"Sumokoin\",\"BitcoinZ\",\"Elements\",\"VIVO Coin\",\"Bitcoin Gold\",\"Pirl\",\"eBoost\",\"Pura\",\"Innova\",\"Ellaism\",\"GoByte\",\"SHIELD\",\"UltraNote\",\"BitCoal\",\"DaxxCoin\",\"AC3\",\"Lethean\",\"PopularCoin\",\"Photon\",\"Sucre\",\"SparksPay\",\"GunCoin\",\"IrishCoin\",\"Pioneer Coin\",\"UnitedBitcoin\",\"Interzone\",\"TurtleCoin\",\"MUNcoin\",\"Niobio Cash\",\"ShareChain\",\"Travelflex\",\"KREDS\",\"BitFlip\",\"LottoCoin\",\"Crypto Improvement Fund\",\"Callisto Network\",\"BitTube\",\"Poseidon\",\"Aidos Kuneen\",\"Bitrolium\",\"Alpenschillling\",\"FuturoCoin\",\"Monero Classic\",\"Jumpcoin\",\"Infinex\",\"KEYCO\",\"GINcoin\",\"PlatinCoin\",\"Loki\",\"Newton Coin\",\"MassGrid\",\"PluraCoin\",\"Motion\",\"PlusOneCoin\",\"Axe\",\"HexCoin\",\"Webchain\",\"Ryo\",\"Urals Coin\",\"Qwertycoin\",\"Project Pai\",\"Azart\",\"Xchange\",\"CrypticCoin\",\"Actinium\",\"Bitcoin SV\",\"FREDEnergy\",\"Universal Molecule\",\"Lithium\",\"Exosis\",\"Block-Logic\",\"Beam\",\"Bithereum\",\"SLICE\",\"BLAST\",\"Bitcoin Rhodium\",\"GlobalToken\",\"SolarCoin\",\"UFO Coin\",\"BlakeCoin\",\"Crypto Escudo\",\"Crown Coin\",\"SmileyCoin\",\"Groestlcoin\",\"Bata\",\"Pakcoin\",\"JoinCoin\",\"Vollar\",\"Reality Clash\",\"Beldex\",\"Horizen\"],\"legendgroup\":\"0\",\"marker\":{\"color\":[0,0,0,0,0,0,0,0,0,0,0,0,0,0,0,0,0,0,0,0,0,0,0,0,0,0,0,0,0,0,0,0,0,0,0,0,0,0,0,0,0,0,0,0,0,0,0,0,0,0,0,0,0,0,0,0,0,0,0,0,0,0,0,0,0,0,0,0,0,0,0,0,0,0,0,0,0,0,0,0,0,0,0,0,0,0,0,0,0,0,0,0,0,0,0,0,0,0,0,0,0,0,0,0,0,0,0,0,0,0,0,0,0,0,0,0,0,0,0,0,0,0,0,0,0,0,0,0,0,0,0,0,0,0,0,0,0,0,0,0,0,0,0,0,0,0,0,0,0,0,0,0,0,0,0,0,0,0,0,0,0,0,0,0,0,0,0,0,0,0,0,0,0,0,0,0,0,0,0,0,0,0,0,0,0,0,0,0,0,0,0,0,0,0,0,0,0,0,0,0,0,0,0,0,0,0,0,0,0,0,0,0,0,0,0,0,0,0,0,0,0,0,0,0,0,0,0,0,0,0,0,0,0,0,0,0,0,0],\"coloraxis\":\"coloraxis\",\"symbol\":\"diamond\"},\"mode\":\"markers\",\"name\":\"0\",\"scene\":\"scene\",\"showlegend\":true,\"x\":[-0.1457961279983462,-0.15557065542386248,-0.1642853121302781,-0.150539352988559,-0.15401232551623892,-0.14577698744308512,0.1615212137166771,-0.1654318401776818,-0.2297331793718983,-0.16504829010199776,-0.09194659762118566,2.55704978269248,-0.14288032733024725,-0.16230301059022292,-0.16485227810538322,-0.22781591995089917,-0.20219211689308964,-0.16490104637194694,-0.16541410145846458,-0.16550057750904273,-0.22982254497707216,0.18527814324522235,0.23214494980438943,0.08329201851013761,-0.1652468070764888,-0.1608510325810615,-0.1651860879672682,-0.1655575951268098,-0.1734302053421203,-0.14477480924369288,-0.16435239691084977,-0.16462991937543447,1.5837910072761947,-0.14575748710951228,-0.16191864584364624,-0.16527325543519986,-0.16562815826082555,-0.1648872227604277,-0.1519554127234979,-0.1655093955913642,-0.030383043239193733,-0.1458351183834762,-0.1591717174520733,-0.16548883482798873,-0.16358273043389868,-0.16497544986962087,-0.13298402851469876,-0.1452987510821146,-0.1455860312160962,-0.14556902307650055,-0.1461598631356052,-0.2299964803784414,-0.16520524911246448,-0.19098492158713784,-0.16230773047008465,-0.14536606323048526,3.858835628205138,0.4569484186763251,-0.1640725656316316,-0.14866782712247734,-0.1627910596200523,-0.16563036854891136,-0.16265606101100039,-0.14887627254846145,-0.13050998924083618,-0.1259616640294269,-0.1879933186699325,-0.16550341248984848,-0.038410469624951656,-0.12816024681362567,-0.16563926286084005,-0.14586290334415217,0.48666363574590593,-0.229383512550347,-0.1542578076958498,-0.14560270598084038,-0.22966848396795458,-0.16376260730561662,-0.16295464502676044,-0.15663840479729274,0.3698505000792725,-0.22970388866639913,-0.145758609761497,-0.16159610619397907,-0.15475900932502193,-0.16420225642738268,0.2728306002681819,-0.22886440688427834,-0.15316464774591104,-0.16444977510431696,-0.1506714784023815,-0.16542912424619632,-0.22966712509209147,-0.16563932137041193,-0.2298171364281202,-0.23825771580931837,0.30181465408497166,-0.14601876100637246,-0.10602916734460531,-0.16280533533146352,-0.14597737985632894,-0.16530264048179286,-0.155936272594563,-0.15638049543565538,-0.145798610318461,-0.09234884625108598,-0.21639699841113302,-0.22764476866146693,0.30180901282737216,-0.1656210550025175,0.30193976265467876,-0.15479837936406765,0.4855872590546526,-0.14930378622335175,-0.1655893338144513,-0.22254956329933206,-0.14581098712059476,-0.16372212957085494,-0.15451668729606596,-0.15413981288998915,-0.136506520247101,-0.18848187128445573,-0.16515160405194326,-0.11233566399767882,-0.1649736333653208,-0.14916145665861055,-0.15648152968129406,-0.03056051531556099,-0.1509241882016727,0.3379400832652979,-0.22887280812695066,-0.16529296283473327,-0.16505629871968586,-0.22926758087288918,-0.22984517449234143,0.3022040955877158,-0.1561758980912136,3.244910263169548,-0.11872369701664336,-0.22071521112950698,-0.14579529199034455,-0.09119644020547164,1.5818505979959658,-0.16539083699192586,-0.1648423542167105,-0.1645432543212818,-0.16453018172399672,0.3023877429290936,0.06656534196959762,-0.1842204261126689,-0.17812010025607303,-0.14565699826259412,-0.15192345260996273,-0.16372033824290083,-0.2253885156715234,-0.17796547671771365,-0.1547453446626042,-0.17806570428961635,-0.11619107430338536,1.139947882256726,0.3017917807969937,-0.07961770168124126,-0.2251300896454282,-0.1382708998073569,-0.08175794973715449,1.0965563438501287,-0.22981916639949163,-0.17811765616477385,-0.1711538157376808,-0.16464165129310981,-0.22974455484338502,-0.1457746835443198,-0.20319165220937296,8.041369408457838,-0.15056461403759652,0.30566714342928714,0.027449672231241562,-0.15142651451548528,-0.17653942981269719,-0.1652155224598962,0.14193719644715094,-0.22388405125720495,-0.1077733844450645,0.30971670724165706,-0.16545259046223249,-0.15167495015407959,-0.1446478342194257,-0.15371928524434364,-0.22891359161966135,0.3019743468459053,-0.18854133910163426,-0.1546435818140653,-0.15487365592974947,-0.1560206680281193,0.30590341657389986,0.5831475984356859,2.110883304428982,-0.14784148459069674,0.31558262458724273,-0.19269487320315362,-0.15016108264507136,-0.22980132221067257,-0.1654771793752009,-0.13815101786401252,-0.1492967132521055,-0.13595292640314705,3.106321416420844,-0.10561290238750258,-0.22977268151293573,-0.19212246895505697,-0.040377425868008486,-0.15541828382075007,-0.14579532956599112,0.3817532219553883,-0.14256754840354738,-0.1429596499813666,-0.1555280292419704,-0.16436921151889317,-0.14371666395980007,-0.1454897753271785,-0.18720411439358062,-0.14507129113944098,-0.1130338890779941,-0.14393896051961658,0.5305927875723232,-0.10326438873856729,-0.09341419004561878,-0.14902689956911447,-0.14558540149609162,0.5503752758234088,-0.20175300543070895,-0.16555403236921287,-0.16350925349577064,-0.1266967500960446,-0.1218634127467723,-0.15641366234804877,0.32355430304963917,-0.14577804467820307],\"y\":[-1.3206753410599883,-2.044550323250267,-1.1403318321196134,-2.2203980490939386,-2.0446459638942116,-1.991230601435888,-1.8429991879611873,-1.1403265367158422,-0.9047011681659137,-1.140343899107224,-1.8382214889886952,-1.3195745325126003,-1.320680684789359,-1.1403815750913833,-1.140362745528019,-0.4637899962992214,-1.2287657365080284,-1.1403275657952496,-1.140325925506259,-1.1403233157563655,-0.9047028251322158,-1.839019692805873,-1.3225714622109994,-1.1413416105479004,-1.140320161170727,-1.140366953713388,-1.1403258913193355,-1.1403239262669935,-1.6449581679561662,-1.1406100610350507,-1.1403241879533295,-1.1403353472925108,-1.1444672737530934,-1.3206740096402128,-1.1403792973395401,-1.1403203613634865,-1.1403193276251964,-1.1403227047303668,-2.197999649663842,-1.1403213866829967,-1.1463251032541562,-1.3206766845220923,-1.1403355497892453,-1.1403285005372448,-1.1404256694266424,-1.140332286992894,-1.3208504238051408,-1.3206767009065634,-1.3206830353981094,-1.3207094718554504,-1.3206731183016087,-0.9046960181636239,-1.1403201514760268,-1.244007613107844,-1.1403927037331716,-1.3206775894829812,-2.3119278222415454,-2.305077084596728,-1.1403395204926592,-1.140928657037103,-1.1403389319841128,-1.140320312592552,-1.1403297392383027,-1.1404522788658196,-2.201256722763474,-1.837971283791285,-1.5857523372036368,-1.1403164667645076,-1.1430461068895454,-2.2180950439165548,-1.1403191907604362,-1.3206776418873916,-1.1832657243641993,-0.9046983644990502,-2.26034847533735,-1.3206919726985635,-0.9046996501237486,-1.140403593245437,-1.1404040279645282,-2.044599136327558,-2.186848568897628,-0.9046973144452662,-1.32067404832258,-1.1403287730927727,-2.2562113270076476,-1.1403289703323038,-1.3216149467802971,-0.9047167451004337,-2.2025886253928513,-1.1403974826451935,-2.225086678314179,-1.140325732016792,-0.9047024477750363,-1.1403191906217678,-0.904707616601773,-1.1983372871539457,-2.3033183395443286,-1.3206750021204665,-1.8381378267956707,-1.1403633274006715,-1.3206742179221747,-1.1403284850443363,-2.2108425933294247,-2.0445968625301374,-1.9912313464788916,-1.1449046205900537,-0.9045829902666308,-0.9047771219814826,-2.3033263562217248,-1.1403200530423039,-2.303324695547215,-2.2603274287565362,-0.9511515184751711,-2.220487032985971,-1.1403194192284216,-0.9051505436549903,-1.9912289284639262,-1.1403238048578244,-2.2603255450083486,-2.215283731513734,-1.1421594184815884,-0.6305225799286291,-1.1403272065539647,-1.321285281418328,-1.1403470156628013,-2.2204252393833612,-2.129162875785549,-2.20088720832076,-2.1948543490308365,-2.3034887183910056,-0.9047284124678424,-1.140320526125667,-1.1403519973549494,-0.904713570122272,-0.9047042448666804,-2.303336210057541,-2.22811021468461,-1.1650276861479483,-1.192498394341171,-0.9051584506007172,-1.3206753122542951,-1.1452204721399168,-1.080106818566498,-1.1403244127819343,-1.1403510256959528,-1.1403520977300603,-1.1403516472974986,-2.3033546923858434,-1.9988326329594561,-0.9043987602777284,-1.6449000285627895,-1.9912264670597757,-2.2026356774982507,-1.140323743135397,-0.904786136412632,-1.644907500945586,-2.0447209992567577,-1.6449015676499137,-1.8381039640495305,-2.3348773600565393,-2.3033209054675012,-2.049044452581062,-0.9049194556753026,-2.220686073872269,-1.1409841068051512,-1.2365156344476356,-0.9047039887320014,-1.6448956776390282,-1.6449963555222136,-1.1403298878624526,-0.9047036934766813,-1.3206740090920843,-1.2452936280475766,-2.74775352548343,-2.1927358063022964,-2.303417421796198,-1.140776813973936,-2.202578514133723,-1.2442323719154949,-1.1403325944673885,-1.1428103611352622,-0.9048409659633653,-2.0475256776584203,-2.3037500715747448,-1.140327251692646,-2.2561944259282147,-1.9912265398551263,-2.210964321826502,-0.9047298177136933,-2.3033188105254707,-0.6305052495712319,-2.260333672020849,-2.2261041383558715,-2.210837750089778,-2.3035970163009183,-2.2005386317491586,-2.3718232830048027,-2.200860715038934,-2.3035479541133985,-1.2569599685799244,-2.193546143218845,-0.9047042272302448,-1.1403288849068574,-2.2212156505899188,-2.1275807508831384,-0.6843395553116628,-2.2446728645285865,-1.320769193020382,-0.9047060848525048,-1.256995659073904,-1.9929884940440434,-2.210869261386538,-1.3206753135490106,-2.306302681351817,-2.230231296451926,-2.230187994706168,-2.1825220821089477,-1.1403603232345376,-1.9913315588289255,-1.9912277353011465,-1.585796256016991,-1.3206809439917404,-0.35113276376919533,-1.3207158844341755,-1.186089912313643,-1.6451460549803554,-2.2334407315642792,-1.140457468906734,-1.3206830137003251,-1.151203493804855,-1.228765539861154,-1.1403193691072664,-1.1403747816458492,-1.8379986032250313,-2.2292357087241244,-2.044596783924093,-2.30355788564588,-1.991230637864236],\"z\":[0.18737329995178126,0.4053756038092974,0.00022150371283328666,0.43488525479931794,0.4053525481864098,0.4164182559923767,0.3748018490364682,0.00025061764593635097,0.03184003516829908,0.00024378944200039219,0.38056464080818964,-0.03775825997555628,0.187297741765297,0.00017874587500997155,0.0002421622756972988,0.05369796750017086,0.13203451637062116,0.00023687350988198572,0.00025003777280156373,0.0002518209260667542,0.03184269092373658,0.37343499539712655,0.1778043058021615,-0.00609022388330414,0.00024456897223494226,0.0001378930627201935,0.00024404476271886936,0.00025343195891398465,0.24569228673657373,-0.00023880141611276975,0.00022183764713535806,0.0002312079732052044,-0.04490303047408418,0.1873720367933162,0.00016822882533094522,0.0002453007717362307,0.0002544259182732411,0.00023560284340425395,0.46214760850448017,0.00025169222893354684,-0.0021750384773020948,0.18737457453516998,8.79375332867199e-05,0.0002524807830734768,0.00022057951295735204,0.00023970861857537993,0.18706960452540852,0.1873604949605459,0.1873692205232686,0.1873737105145785,0.18738243496689755,0.03184598661511903,0.00024347603350365396,0.2499985003301387,0.00018094787901582946,0.18736242820621946,0.3445629130969617,0.4326021755925163,0.0002173536006076884,-7.70956997214504e-05,0.00018359702431308326,0.0002546678762363785,0.00017833597181566766,-0.00016057820499755884,0.4503304590790806,0.3814110045961304,0.21461686965141638,0.0002506164296967558,-0.00257656944493857,0.5028397967348978,0.0002546919188579319,0.18737548281676852,-0.008852378233516665,0.031830330927229256,0.4129621938695227,0.18737132721471578,0.031838053084955804,0.00022117994047540416,0.00020004759915441176,0.40541275318301095,0.3998843196252424,0.031838546508374456,0.18737207349245538,0.00015032583329125157,0.4004301564628834,0.0002187886481091297,0.17655746781989898,0.031820133765816196,0.4226472807591941,0.00023808088040402545,0.3686886563222822,0.00025039607399221145,0.03183853981973544,0.0002546934291667127,0.031843443642982715,0.5019485365925823,0.43634688729624865,0.18737908201927045,0.3809187643689244,0.00018852726228537811,0.18737784909778074,0.0002475892496457721,0.42293910512219496,0.40540555703112124,0.41641896283735086,-0.0008133409301985912,0.03146781834050526,0.031799385793202996,0.4363485323861877,0.00025437487717483773,0.4363447893715865,0.4129724568078375,0.02173268000639103,0.4348694304767087,0.0002534236652615601,0.03173533824596989,0.4164188362751049,0.00020521807665728112,0.41296470906214705,0.4211769843298259,-0.00016657450300637208,-9.56788770195736e-05,0.0002433849648044403,0.18660867187291508,0.00024241124883782659,0.43485415464808375,0.4649128596901949,0.4130188151471915,0.4441030618066855,0.43543020852508535,0.03182253302380012,0.00024584896740411836,0.0002455119201938588,0.03183012646028818,0.03184355018555192,0.4363399992924215,0.44480923314190096,-0.08467737819951751,0.14605287364240244,0.031688652752335,0.18737327262294345,-0.0007846182198947458,-0.05687028257198314,0.0002491444757294589,0.00023971324289602161,0.00023206038568980206,0.00023163304660884701,0.436338628779345,0.4122626326824184,0.030588602044478604,0.24580456612046087,0.41641433358392216,0.42262347862660865,0.00020515951871159424,0.03174182985288092,0.24580190172778746,0.40538580558109255,0.24580342532068236,0.38117924784101076,0.42023431366334973,0.43634796698931805,0.4042206157212432,0.03175993978776307,0.43461692308717903,-0.0018234989996122784,0.09273306506205761,0.03184281949930266,0.24580368948988307,0.2456396496747069,0.00023049654762945568,0.03184080539587526,0.18737248819331812,0.16637011322583425,0.3161309569778024,0.3705368390960028,0.4362642398492497,-0.004729516703818364,0.4225997569623103,0.24966119538621045,0.00024606927900226364,-0.007355723298436163,0.03171256773593224,0.40467625460536366,0.4362200327823085,0.0002512959661917327,0.3985348719092941,0.41638785099077014,0.42290362752075994,0.03182386622330994,0.4363427824178816,-9.735365868520177e-05,0.41296955832982996,0.5241625288559942,0.4229404165821839,0.43629157251966916,0.35798011643930694,0.40164085210677225,0.3672266961011899,0.4360282777949358,0.1326907471831471,0.35859537462947627,0.031842395525200747,0.0002522465367683668,0.434712664783784,0.5114273888792337,0.07562058901415546,0.29997402898490233,0.1863357913165738,0.031841990425830545,0.13268238295879492,0.4139791854137326,0.42293048482404566,0.18737327385127947,0.4348053279684029,0.389519170990326,0.3895213799943943,0.4040908468942309,0.00022902676140332587,0.416383013048099,0.4164101798709821,0.21460434971268255,0.18735531519057533,-0.04711416831927967,0.18733210971593012,-0.00947839544300999,0.24388512722724412,0.3888279274382168,-0.00015565425521412248,0.18736919993792034,-0.0165122296772595,0.13202295052446752,0.000252487446115234,0.00020914792298252686,0.38143540613693583,0.27457493391229604,0.4054064131692998,0.4358208313014539,0.4164182905530591],\"type\":\"scatter3d\"},{\"customdata\":[[\"VeChainThor Authority\",\"Proof of Authority\",55454734800.0,\"86712634466\"],[\"Proof-of-BibleHash\",\"POBh\",1772091549.88818,\"5200000000\"],[\"SHA-256 + Hive\",\"PoW + Hive\",638382332.208514,\"840000000\"],[\"Proof-of-Authority\",\"PoA\",204479039.0,\"252460800\"],[\"ECC 256K1\",\"DPOS\",1000000000.0,\"1000000000\"],[\"Leased POS\",\"LPoS\",100000000.0,\"100000000\"]],\"hovertemplate\":\"<b>%{hovertext}</b><br><br>Class=%{marker.color}<br>PC 1=%{x}<br>PC 2=%{y}<br>PC 3=%{z}<br>Algorithm=%{customdata[0]}<br>ProofType=%{customdata[1]}<br>TotalCoinsMined=%{customdata[2]}<br>TotalCoinSupply=%{customdata[3]}<extra></extra>\",\"hovertext\":[\"Vechain\",\"BiblePay\",\"LitecoinCash\",\"Poa Network\",\"Acute Angle Cloud\",\"Waves\"],\"legendgroup\":\"3\",\"marker\":{\"color\":[3,3,3,3,3,3],\"coloraxis\":\"coloraxis\",\"symbol\":\"square\"},\"mode\":\"markers\",\"name\":\"3\",\"scene\":\"scene\",\"showlegend\":true,\"x\":[4.397294025763686,-0.1960003866486706,-0.3734456742757646,-0.39705348245959265,-0.3389836980540316,-0.41112797014014824],\"y\":[2.041619981898386,3.4561484529289896,2.9320303304468545,3.4172173291211214,3.2090078765683145,3.337329023510946],\"z\":[7.292494234893729,11.710165812651352,18.665801597109912,11.861259072308286,11.760446235904665,13.164914203542326],\"type\":\"scatter3d\"},{\"customdata\":[[\"TRC10\",\"DPoS\",989988713439.649,\"990000000000\"]],\"hovertemplate\":\"<b>%{hovertext}</b><br><br>Class=%{marker.color}<br>PC 1=%{x}<br>PC 2=%{y}<br>PC 3=%{z}<br>Algorithm=%{customdata[0]}<br>ProofType=%{customdata[1]}<br>TotalCoinsMined=%{customdata[2]}<br>TotalCoinSupply=%{customdata[3]}<extra></extra>\",\"hovertext\":[\"BitTorrent\"],\"legendgroup\":\"2\",\"marker\":{\"color\":[2],\"coloraxis\":\"coloraxis\",\"symbol\":\"x\"},\"mode\":\"markers\",\"name\":\"2\",\"scene\":\"scene\",\"showlegend\":true,\"x\":[34.06516417831291],\"y\":[1.7873051843908092],\"z\":[-1.1317590301615625],\"type\":\"scatter3d\"}],                        {\"template\":{\"data\":{\"histogram2dcontour\":[{\"type\":\"histogram2dcontour\",\"colorbar\":{\"outlinewidth\":0,\"ticks\":\"\"},\"colorscale\":[[0.0,\"#0d0887\"],[0.1111111111111111,\"#46039f\"],[0.2222222222222222,\"#7201a8\"],[0.3333333333333333,\"#9c179e\"],[0.4444444444444444,\"#bd3786\"],[0.5555555555555556,\"#d8576b\"],[0.6666666666666666,\"#ed7953\"],[0.7777777777777778,\"#fb9f3a\"],[0.8888888888888888,\"#fdca26\"],[1.0,\"#f0f921\"]]}],\"choropleth\":[{\"type\":\"choropleth\",\"colorbar\":{\"outlinewidth\":0,\"ticks\":\"\"}}],\"histogram2d\":[{\"type\":\"histogram2d\",\"colorbar\":{\"outlinewidth\":0,\"ticks\":\"\"},\"colorscale\":[[0.0,\"#0d0887\"],[0.1111111111111111,\"#46039f\"],[0.2222222222222222,\"#7201a8\"],[0.3333333333333333,\"#9c179e\"],[0.4444444444444444,\"#bd3786\"],[0.5555555555555556,\"#d8576b\"],[0.6666666666666666,\"#ed7953\"],[0.7777777777777778,\"#fb9f3a\"],[0.8888888888888888,\"#fdca26\"],[1.0,\"#f0f921\"]]}],\"heatmap\":[{\"type\":\"heatmap\",\"colorbar\":{\"outlinewidth\":0,\"ticks\":\"\"},\"colorscale\":[[0.0,\"#0d0887\"],[0.1111111111111111,\"#46039f\"],[0.2222222222222222,\"#7201a8\"],[0.3333333333333333,\"#9c179e\"],[0.4444444444444444,\"#bd3786\"],[0.5555555555555556,\"#d8576b\"],[0.6666666666666666,\"#ed7953\"],[0.7777777777777778,\"#fb9f3a\"],[0.8888888888888888,\"#fdca26\"],[1.0,\"#f0f921\"]]}],\"heatmapgl\":[{\"type\":\"heatmapgl\",\"colorbar\":{\"outlinewidth\":0,\"ticks\":\"\"},\"colorscale\":[[0.0,\"#0d0887\"],[0.1111111111111111,\"#46039f\"],[0.2222222222222222,\"#7201a8\"],[0.3333333333333333,\"#9c179e\"],[0.4444444444444444,\"#bd3786\"],[0.5555555555555556,\"#d8576b\"],[0.6666666666666666,\"#ed7953\"],[0.7777777777777778,\"#fb9f3a\"],[0.8888888888888888,\"#fdca26\"],[1.0,\"#f0f921\"]]}],\"contourcarpet\":[{\"type\":\"contourcarpet\",\"colorbar\":{\"outlinewidth\":0,\"ticks\":\"\"}}],\"contour\":[{\"type\":\"contour\",\"colorbar\":{\"outlinewidth\":0,\"ticks\":\"\"},\"colorscale\":[[0.0,\"#0d0887\"],[0.1111111111111111,\"#46039f\"],[0.2222222222222222,\"#7201a8\"],[0.3333333333333333,\"#9c179e\"],[0.4444444444444444,\"#bd3786\"],[0.5555555555555556,\"#d8576b\"],[0.6666666666666666,\"#ed7953\"],[0.7777777777777778,\"#fb9f3a\"],[0.8888888888888888,\"#fdca26\"],[1.0,\"#f0f921\"]]}],\"surface\":[{\"type\":\"surface\",\"colorbar\":{\"outlinewidth\":0,\"ticks\":\"\"},\"colorscale\":[[0.0,\"#0d0887\"],[0.1111111111111111,\"#46039f\"],[0.2222222222222222,\"#7201a8\"],[0.3333333333333333,\"#9c179e\"],[0.4444444444444444,\"#bd3786\"],[0.5555555555555556,\"#d8576b\"],[0.6666666666666666,\"#ed7953\"],[0.7777777777777778,\"#fb9f3a\"],[0.8888888888888888,\"#fdca26\"],[1.0,\"#f0f921\"]]}],\"mesh3d\":[{\"type\":\"mesh3d\",\"colorbar\":{\"outlinewidth\":0,\"ticks\":\"\"}}],\"scatter\":[{\"fillpattern\":{\"fillmode\":\"overlay\",\"size\":10,\"solidity\":0.2},\"type\":\"scatter\"}],\"parcoords\":[{\"type\":\"parcoords\",\"line\":{\"colorbar\":{\"outlinewidth\":0,\"ticks\":\"\"}}}],\"scatterpolargl\":[{\"type\":\"scatterpolargl\",\"marker\":{\"colorbar\":{\"outlinewidth\":0,\"ticks\":\"\"}}}],\"bar\":[{\"error_x\":{\"color\":\"#2a3f5f\"},\"error_y\":{\"color\":\"#2a3f5f\"},\"marker\":{\"line\":{\"color\":\"#E5ECF6\",\"width\":0.5},\"pattern\":{\"fillmode\":\"overlay\",\"size\":10,\"solidity\":0.2}},\"type\":\"bar\"}],\"scattergeo\":[{\"type\":\"scattergeo\",\"marker\":{\"colorbar\":{\"outlinewidth\":0,\"ticks\":\"\"}}}],\"scatterpolar\":[{\"type\":\"scatterpolar\",\"marker\":{\"colorbar\":{\"outlinewidth\":0,\"ticks\":\"\"}}}],\"histogram\":[{\"marker\":{\"pattern\":{\"fillmode\":\"overlay\",\"size\":10,\"solidity\":0.2}},\"type\":\"histogram\"}],\"scattergl\":[{\"type\":\"scattergl\",\"marker\":{\"colorbar\":{\"outlinewidth\":0,\"ticks\":\"\"}}}],\"scatter3d\":[{\"type\":\"scatter3d\",\"line\":{\"colorbar\":{\"outlinewidth\":0,\"ticks\":\"\"}},\"marker\":{\"colorbar\":{\"outlinewidth\":0,\"ticks\":\"\"}}}],\"scattermapbox\":[{\"type\":\"scattermapbox\",\"marker\":{\"colorbar\":{\"outlinewidth\":0,\"ticks\":\"\"}}}],\"scatterternary\":[{\"type\":\"scatterternary\",\"marker\":{\"colorbar\":{\"outlinewidth\":0,\"ticks\":\"\"}}}],\"scattercarpet\":[{\"type\":\"scattercarpet\",\"marker\":{\"colorbar\":{\"outlinewidth\":0,\"ticks\":\"\"}}}],\"carpet\":[{\"aaxis\":{\"endlinecolor\":\"#2a3f5f\",\"gridcolor\":\"white\",\"linecolor\":\"white\",\"minorgridcolor\":\"white\",\"startlinecolor\":\"#2a3f5f\"},\"baxis\":{\"endlinecolor\":\"#2a3f5f\",\"gridcolor\":\"white\",\"linecolor\":\"white\",\"minorgridcolor\":\"white\",\"startlinecolor\":\"#2a3f5f\"},\"type\":\"carpet\"}],\"table\":[{\"cells\":{\"fill\":{\"color\":\"#EBF0F8\"},\"line\":{\"color\":\"white\"}},\"header\":{\"fill\":{\"color\":\"#C8D4E3\"},\"line\":{\"color\":\"white\"}},\"type\":\"table\"}],\"barpolar\":[{\"marker\":{\"line\":{\"color\":\"#E5ECF6\",\"width\":0.5},\"pattern\":{\"fillmode\":\"overlay\",\"size\":10,\"solidity\":0.2}},\"type\":\"barpolar\"}],\"pie\":[{\"automargin\":true,\"type\":\"pie\"}]},\"layout\":{\"autotypenumbers\":\"strict\",\"colorway\":[\"#636efa\",\"#EF553B\",\"#00cc96\",\"#ab63fa\",\"#FFA15A\",\"#19d3f3\",\"#FF6692\",\"#B6E880\",\"#FF97FF\",\"#FECB52\"],\"font\":{\"color\":\"#2a3f5f\"},\"hovermode\":\"closest\",\"hoverlabel\":{\"align\":\"left\"},\"paper_bgcolor\":\"white\",\"plot_bgcolor\":\"#E5ECF6\",\"polar\":{\"bgcolor\":\"#E5ECF6\",\"angularaxis\":{\"gridcolor\":\"white\",\"linecolor\":\"white\",\"ticks\":\"\"},\"radialaxis\":{\"gridcolor\":\"white\",\"linecolor\":\"white\",\"ticks\":\"\"}},\"ternary\":{\"bgcolor\":\"#E5ECF6\",\"aaxis\":{\"gridcolor\":\"white\",\"linecolor\":\"white\",\"ticks\":\"\"},\"baxis\":{\"gridcolor\":\"white\",\"linecolor\":\"white\",\"ticks\":\"\"},\"caxis\":{\"gridcolor\":\"white\",\"linecolor\":\"white\",\"ticks\":\"\"}},\"coloraxis\":{\"colorbar\":{\"outlinewidth\":0,\"ticks\":\"\"}},\"colorscale\":{\"sequential\":[[0.0,\"#0d0887\"],[0.1111111111111111,\"#46039f\"],[0.2222222222222222,\"#7201a8\"],[0.3333333333333333,\"#9c179e\"],[0.4444444444444444,\"#bd3786\"],[0.5555555555555556,\"#d8576b\"],[0.6666666666666666,\"#ed7953\"],[0.7777777777777778,\"#fb9f3a\"],[0.8888888888888888,\"#fdca26\"],[1.0,\"#f0f921\"]],\"sequentialminus\":[[0.0,\"#0d0887\"],[0.1111111111111111,\"#46039f\"],[0.2222222222222222,\"#7201a8\"],[0.3333333333333333,\"#9c179e\"],[0.4444444444444444,\"#bd3786\"],[0.5555555555555556,\"#d8576b\"],[0.6666666666666666,\"#ed7953\"],[0.7777777777777778,\"#fb9f3a\"],[0.8888888888888888,\"#fdca26\"],[1.0,\"#f0f921\"]],\"diverging\":[[0,\"#8e0152\"],[0.1,\"#c51b7d\"],[0.2,\"#de77ae\"],[0.3,\"#f1b6da\"],[0.4,\"#fde0ef\"],[0.5,\"#f7f7f7\"],[0.6,\"#e6f5d0\"],[0.7,\"#b8e186\"],[0.8,\"#7fbc41\"],[0.9,\"#4d9221\"],[1,\"#276419\"]]},\"xaxis\":{\"gridcolor\":\"white\",\"linecolor\":\"white\",\"ticks\":\"\",\"title\":{\"standoff\":15},\"zerolinecolor\":\"white\",\"automargin\":true,\"zerolinewidth\":2},\"yaxis\":{\"gridcolor\":\"white\",\"linecolor\":\"white\",\"ticks\":\"\",\"title\":{\"standoff\":15},\"zerolinecolor\":\"white\",\"automargin\":true,\"zerolinewidth\":2},\"scene\":{\"xaxis\":{\"backgroundcolor\":\"#E5ECF6\",\"gridcolor\":\"white\",\"linecolor\":\"white\",\"showbackground\":true,\"ticks\":\"\",\"zerolinecolor\":\"white\",\"gridwidth\":2},\"yaxis\":{\"backgroundcolor\":\"#E5ECF6\",\"gridcolor\":\"white\",\"linecolor\":\"white\",\"showbackground\":true,\"ticks\":\"\",\"zerolinecolor\":\"white\",\"gridwidth\":2},\"zaxis\":{\"backgroundcolor\":\"#E5ECF6\",\"gridcolor\":\"white\",\"linecolor\":\"white\",\"showbackground\":true,\"ticks\":\"\",\"zerolinecolor\":\"white\",\"gridwidth\":2}},\"shapedefaults\":{\"line\":{\"color\":\"#2a3f5f\"}},\"annotationdefaults\":{\"arrowcolor\":\"#2a3f5f\",\"arrowhead\":0,\"arrowwidth\":1},\"geo\":{\"bgcolor\":\"white\",\"landcolor\":\"#E5ECF6\",\"subunitcolor\":\"white\",\"showland\":true,\"showlakes\":true,\"lakecolor\":\"white\"},\"title\":{\"x\":0.05},\"mapbox\":{\"style\":\"light\"}}},\"scene\":{\"domain\":{\"x\":[0.0,1.0],\"y\":[0.0,1.0]},\"xaxis\":{\"title\":{\"text\":\"PC 1\"}},\"yaxis\":{\"title\":{\"text\":\"PC 2\"}},\"zaxis\":{\"title\":{\"text\":\"PC 3\"}}},\"coloraxis\":{\"colorbar\":{\"title\":{\"text\":\"Class\"}},\"colorscale\":[[0.0,\"#0d0887\"],[0.1111111111111111,\"#46039f\"],[0.2222222222222222,\"#7201a8\"],[0.3333333333333333,\"#9c179e\"],[0.4444444444444444,\"#bd3786\"],[0.5555555555555556,\"#d8576b\"],[0.6666666666666666,\"#ed7953\"],[0.7777777777777778,\"#fb9f3a\"],[0.8888888888888888,\"#fdca26\"],[1.0,\"#f0f921\"]]},\"legend\":{\"title\":{\"text\":\"Class\"},\"tracegroupgap\":0},\"margin\":{\"t\":60}},                        {\"responsive\": true}                    ).then(function(){\n",
       "                            \n",
       "var gd = document.getElementById('f0088418-adbe-426b-a6a2-b3c2df3db8f9');\n",
       "var x = new MutationObserver(function (mutations, observer) {{\n",
       "        var display = window.getComputedStyle(gd).display;\n",
       "        if (!display || display === 'none') {{\n",
       "            console.log([gd, 'removed!']);\n",
       "            Plotly.purge(gd);\n",
       "            observer.disconnect();\n",
       "        }}\n",
       "}});\n",
       "\n",
       "// Listen for the removal of the full notebook cells\n",
       "var notebookContainer = gd.closest('#notebook-container');\n",
       "if (notebookContainer) {{\n",
       "    x.observe(notebookContainer, {childList: true});\n",
       "}}\n",
       "\n",
       "// Listen for the clearing of the current output cell\n",
       "var outputEl = gd.closest('.output');\n",
       "if (outputEl) {{\n",
       "    x.observe(outputEl, {childList: true});\n",
       "}}\n",
       "\n",
       "                        })                };                });            </script>        </div>"
      ]
     },
     "metadata": {},
     "output_type": "display_data"
    }
   ],
   "source": [
    "# Creating a 3D-Scatter with the PCA data and the clusters\n",
    "import plotly.express as px\n",
    "\n",
    "# create 3D scatter plot with PCA data and clusters\n",
    "fig = px.scatter_3d(\n",
    "    clustered_df,\n",
    "    x='PC 1',\n",
    "    y='PC 2',\n",
    "    z='PC 3',\n",
    "    color='Class',\n",
    "    symbol='Class',\n",
    "    hover_name='CoinName',\n",
    "    hover_data=['Algorithm', 'ProofType', 'TotalCoinsMined', 'TotalCoinSupply']\n",
    ")\n",
    "\n",
    "# show the plot\n",
    "fig.show()\n"
   ]
  },
  {
   "cell_type": "code",
   "execution_count": 207,
   "metadata": {},
   "outputs": [
    {
     "name": "stderr",
     "output_type": "stream",
     "text": [
      "WARNING:param.main: max_rows option not found for table plot with bokeh; similar options include: []\n",
      "WARNING:param.main: paginate option not found for table plot with bokeh; similar options include: []\n"
     ]
    },
    {
     "data": {},
     "metadata": {},
     "output_type": "display_data"
    },
    {
     "data": {
      "application/vnd.holoviews_exec.v0+json": "",
      "text/html": [
       "<div id='1332'>\n",
       "\n",
       "\n",
       "\n",
       "\n",
       "\n",
       "  <div class=\"bk-root\" id=\"2dac628d-8818-47c2-8a75-d9e5f0fab899\" data-root-id=\"1332\"></div>\n",
       "</div>\n",
       "<script type=\"application/javascript\">(function(root) {\n",
       "  function embed_document(root) {\n",
       "    var docs_json = {\"9c56b30b-896d-4a7a-a1d2-41c432f5181b\":{\"defs\":[{\"extends\":null,\"module\":null,\"name\":\"ReactiveHTML1\",\"overrides\":[],\"properties\":[]},{\"extends\":null,\"module\":null,\"name\":\"FlexBox1\",\"overrides\":[],\"properties\":[{\"default\":\"flex-start\",\"kind\":null,\"name\":\"align_content\"},{\"default\":\"flex-start\",\"kind\":null,\"name\":\"align_items\"},{\"default\":\"row\",\"kind\":null,\"name\":\"flex_direction\"},{\"default\":\"wrap\",\"kind\":null,\"name\":\"flex_wrap\"},{\"default\":\"flex-start\",\"kind\":null,\"name\":\"justify_content\"}]},{\"extends\":null,\"module\":null,\"name\":\"GridStack1\",\"overrides\":[],\"properties\":[{\"default\":\"warn\",\"kind\":null,\"name\":\"mode\"},{\"default\":null,\"kind\":null,\"name\":\"ncols\"},{\"default\":null,\"kind\":null,\"name\":\"nrows\"},{\"default\":true,\"kind\":null,\"name\":\"allow_resize\"},{\"default\":true,\"kind\":null,\"name\":\"allow_drag\"},{\"default\":[],\"kind\":null,\"name\":\"state\"}]},{\"extends\":null,\"module\":null,\"name\":\"click1\",\"overrides\":[],\"properties\":[{\"default\":\"\",\"kind\":null,\"name\":\"terminal_output\"},{\"default\":\"\",\"kind\":null,\"name\":\"debug_name\"},{\"default\":0,\"kind\":null,\"name\":\"clears\"}]},{\"extends\":null,\"module\":null,\"name\":\"NotificationAreaBase1\",\"overrides\":[],\"properties\":[{\"default\":\"bottom-right\",\"kind\":null,\"name\":\"position\"},{\"default\":0,\"kind\":null,\"name\":\"_clear\"}]},{\"extends\":null,\"module\":null,\"name\":\"NotificationArea1\",\"overrides\":[],\"properties\":[{\"default\":[],\"kind\":null,\"name\":\"notifications\"},{\"default\":\"bottom-right\",\"kind\":null,\"name\":\"position\"},{\"default\":0,\"kind\":null,\"name\":\"_clear\"},{\"default\":[{\"background\":\"#ffc107\",\"icon\":{\"className\":\"fas fa-exclamation-triangle\",\"color\":\"white\",\"tagName\":\"i\"},\"type\":\"warning\"},{\"background\":\"#007bff\",\"icon\":{\"className\":\"fas fa-info-circle\",\"color\":\"white\",\"tagName\":\"i\"},\"type\":\"info\"}],\"kind\":null,\"name\":\"types\"}]},{\"extends\":null,\"module\":null,\"name\":\"Notification\",\"overrides\":[],\"properties\":[{\"default\":null,\"kind\":null,\"name\":\"background\"},{\"default\":3000,\"kind\":null,\"name\":\"duration\"},{\"default\":null,\"kind\":null,\"name\":\"icon\"},{\"default\":\"\",\"kind\":null,\"name\":\"message\"},{\"default\":null,\"kind\":null,\"name\":\"notification_type\"},{\"default\":false,\"kind\":null,\"name\":\"_destroyed\"}]},{\"extends\":null,\"module\":null,\"name\":\"TemplateActions1\",\"overrides\":[],\"properties\":[{\"default\":0,\"kind\":null,\"name\":\"open_modal\"},{\"default\":0,\"kind\":null,\"name\":\"close_modal\"}]},{\"extends\":null,\"module\":null,\"name\":\"MaterialTemplateActions1\",\"overrides\":[],\"properties\":[{\"default\":0,\"kind\":null,\"name\":\"open_modal\"},{\"default\":0,\"kind\":null,\"name\":\"close_modal\"}]}],\"roots\":{\"references\":[{\"attributes\":{},\"id\":\"1361\",\"type\":\"NumberFormatter\"},{\"attributes\":{},\"id\":\"1362\",\"type\":\"IntEditor\"},{\"attributes\":{},\"id\":\"1351\",\"type\":\"StringFormatter\"},{\"attributes\":{\"editor\":{\"id\":\"1357\"},\"field\":\"TotalCoinsMined\",\"formatter\":{\"id\":\"1356\"},\"title\":\"TotalCoinsMined\"},\"id\":\"1358\",\"type\":\"TableColumn\"},{\"attributes\":{\"data\":{\"Algorithm\":[\"Scrypt\",\"Scrypt\",\"X13\",\"SHA-256\",\"Ethash\",\"Scrypt\",\"X11\",\"CryptoNight-V7\",\"Ethash\",\"Equihash\",\"SHA-512\",\"Multiple\",\"SHA-256\",\"SHA-256\",\"Scrypt\",\"X15\",\"X11\",\"Scrypt\",\"Scrypt\",\"Scrypt\",\"Multiple\",\"Scrypt\",\"SHA-256\",\"Scrypt\",\"Scrypt\",\"Scrypt\",\"Quark\",\"Groestl\",\"Scrypt\",\"Scrypt\",\"Scrypt\",\"Scrypt\",\"Scrypt\",\"X11\",\"Scrypt\",\"Groestl\",\"Multiple\",\"SHA-256\",\"Scrypt\",\"Scrypt\",\"Scrypt\",\"Scrypt\",\"PoS\",\"Scrypt\",\"Scrypt\",\"NeoScrypt\",\"Scrypt\",\"Scrypt\",\"Scrypt\",\"Scrypt\",\"X11\",\"Scrypt\",\"X11\",\"SHA-256\",\"Scrypt\",\"Scrypt\",\"Scrypt\",\"SHA3\",\"Scrypt\",\"HybridScryptHash256\",\"Scrypt\",\"Scrypt\",\"SHA-256\",\"Scrypt\",\"X13\",\"Scrypt\",\"SHA-256\",\"Scrypt\",\"X13\",\"NeoScrypt\",\"Scrypt\",\"Scrypt\",\"Scrypt\",\"Scrypt\",\"Scrypt\",\"Scrypt\",\"X11\",\"X11\",\"SHA-256\",\"Multiple\",\"SHA-256\",\"PHI1612\",\"X11\",\"SHA-256\",\"SHA-256\",\"SHA-256\",\"X11\",\"Scrypt\",\"Scrypt\",\"Scrypt\",\"Scrypt\",\"Lyra2REv2\",\"Scrypt\",\"X11\",\"Multiple\",\"SHA-256\",\"X13\",\"Scrypt\",\"CryptoNight\",\"CryptoNight\",\"Shabal256\",\"Counterparty\",\"Scrypt\",\"SHA-256\",\"Groestl\",\"Scrypt\",\"Scrypt\",\"Scrypt\",\"X13\",\"Scrypt\",\"Scrypt\",\"Scrypt\",\"Scrypt\",\"X13\",\"Scrypt\",\"Stanford Folding\",\"X11\",\"Multiple\",\"QuBit\",\"Scrypt\",\"Scrypt\",\"Scrypt\",\"M7 POW\",\"Scrypt\",\"SHA-256\",\"Scrypt\",\"X11\",\"SHA3\",\"X11\",\"Lyra2RE\",\"SHA-256\",\"QUAIT\",\"X11\",\"X11\",\"Scrypt\",\"Scrypt\",\"Scrypt\",\"Ethash\",\"X13\",\"Blake2b\",\"SHA-256\",\"X15\",\"X11\",\"SHA-256\",\"BLAKE256\",\"Scrypt\",\"1GB AES Pattern Search\",\"SHA-256\",\"X11\",\"Scrypt\",\"SHA-256\",\"SHA-256\",\"NIST5\",\"Scrypt\",\"Scrypt\",\"X11\",\"Dagger\",\"Scrypt\",\"X11GOST\",\"X11\",\"Scrypt\",\"SHA-256\",\"Scrypt\",\"PoS\",\"Scrypt\",\"X11\",\"X11\",\"SHA-256\",\"SHA-256\",\"NIST5\",\"X11\",\"Scrypt\",\"POS 3.0\",\"Scrypt\",\"Scrypt\",\"Scrypt\",\"X13\",\"X11\",\"X11\",\"Equihash\",\"X11\",\"Scrypt\",\"CryptoNight\",\"SHA-256\",\"SHA-256\",\"X11\",\"Scrypt\",\"Multiple\",\"Scrypt\",\"Scrypt\",\"Scrypt\",\"SHA-256\",\"Scrypt\",\"Scrypt\",\"SHA-256D\",\"PoS\",\"Scrypt\",\"X11\",\"Lyra2Z\",\"PoS\",\"X13\",\"X14\",\"PoS\",\"SHA-256D\",\"Ethash\",\"Equihash\",\"DPoS\",\"X11\",\"Scrypt\",\"X11\",\"X13\",\"X11\",\"PoS\",\"Scrypt\",\"Scrypt\",\"X11\",\"PoS\",\"X11\",\"SHA-256\",\"Scrypt\",\"X11\",\"Scrypt\",\"Scrypt\",\"X11\",\"CryptoNight\",\"Scrypt\",\"Scrypt\",\"Scrypt\",\"Scrypt\",\"Quark\",\"QuBit\",\"Scrypt\",\"CryptoNight\",\"Lyra2RE\",\"Scrypt\",\"SHA-256\",\"X11\",\"Scrypt\",\"X11\",\"Scrypt\",\"CryptoNight-V7\",\"Scrypt\",\"Scrypt\",\"Scrypt\",\"X13\",\"X11\",\"Equihash\",\"Scrypt\",\"Scrypt\",\"Lyra2RE\",\"Scrypt\",\"Dagger-Hashimoto\",\"X11\",\"Blake2S\",\"X11\",\"Scrypt\",\"PoS\",\"X11\",\"NIST5\",\"PoS\",\"X11\",\"Scrypt\",\"Scrypt\",\"Scrypt\",\"SHA-256\",\"X11\",\"Scrypt\",\"Scrypt\",\"SHA-256\",\"PoS\",\"Scrypt\",\"X15\",\"SHA-256\",\"Scrypt\",\"POS 3.0\",\"CryptoNight-V7\",\"536\",\"Argon2d\",\"Blake2b\",\"Cloverhash\",\"CryptoNight\",\"NIST5\",\"X11\",\"NIST5\",\"Skein\",\"Scrypt\",\"X13\",\"Scrypt\",\"X11\",\"X11\",\"Scrypt\",\"CryptoNight\",\"X13\",\"Time Travel\",\"Scrypt\",\"Keccak\",\"SkunkHash v2 Raptor\",\"X11\",\"Skein\",\"SHA-256\",\"X11\",\"Scrypt\",\"VeChainThor Authority\",\"Scrypt\",\"PoS\",\"Scrypt\",\"Scrypt\",\"Scrypt\",\"Scrypt\",\"Scrypt\",\"Scrypt\",\"Scrypt\",\"CryptoNight\",\"SHA-512\",\"Ouroboros\",\"X11\",\"Equihash\",\"NeoScrypt\",\"X11\",\"Scrypt\",\"NeoScrypt\",\"Lyra2REv2\",\"Equihash\",\"Scrypt\",\"SHA-256\",\"NIST5\",\"PHI1612\",\"Dagger\",\"Scrypt\",\"Quark\",\"Scrypt\",\"POS 2.0\",\"Scrypt\",\"SHA-256\",\"X11\",\"NeoScrypt\",\"Ethash\",\"NeoScrypt\",\"X11\",\"DPoS\",\"NIST5\",\"X13\",\"Multiple\",\"Scrypt\",\"CryptoNight\",\"CryptoNight\",\"Ethash\",\"NIST5\",\"Quark\",\"X11\",\"CryptoNight-V7\",\"Scrypt\",\"Scrypt\",\"Scrypt\",\"X11\",\"BLAKE256\",\"X11\",\"NeoScrypt\",\"Quark\",\"NeoScrypt\",\"Scrypt\",\"Scrypt\",\"Scrypt\",\"X11\",\"X11\",\"SHA-256\",\"C11\",\"POS 3.0\",\"Ethash\",\"Scrypt\",\"CryptoNight\",\"SkunkHash\",\"Scrypt\",\"CryptoNight\",\"Scrypt\",\"Dagger\",\"Lyra2REv2\",\"X13\",\"Proof-of-BibleHash\",\"SHA-256 + Hive\",\"Scrypt\",\"Scrypt\",\"X11\",\"C11\",\"Proof-of-Authority\",\"X11\",\"XEVAN\",\"Scrypt\",\"VBFT\",\"Ethash\",\"CryptoNight\",\"Scrypt\",\"IMesh\",\"NIST5\",\"Scrypt\",\"Scrypt\",\"Equihash\",\"Scrypt\",\"Lyra2Z\",\"Green Protocol\",\"PoS\",\"Scrypt\",\"Semux BFT consensus\",\"X11\",\"Quark\",\"PoS\",\"CryptoNight\",\"X16R\",\"Scrypt\",\"NIST5\",\"Lyra2RE\",\"XEVAN\",\"Tribus\",\"Scrypt\",\"Lyra2Z\",\"CryptoNight\",\"CryptoNight Heavy\",\"CryptoNight\",\"Scrypt\",\"Scrypt\",\"Jump Consistent Hash\",\"SHA-256D\",\"CryptoNight\",\"Scrypt\",\"X15\",\"Scrypt\",\"Quark\",\"SHA-256\",\"DPoS\",\"X16R\",\"HMQ1725\",\"X11\",\"X16R\",\"Quark\",\"Quark\",\"Scrypt\",\"Lyra2REv2\",\"Quark\",\"Scrypt\",\"Scrypt\",\"CryptoNight-V7\",\"Cryptonight-GPU\",\"XEVAN\",\"CryptoNight Heavy\",\"X11\",\"X11\",\"Scrypt\",\"PoS\",\"SHA-256\",\"Keccak\",\"X11\",\"X11\",\"Scrypt\",\"SHA-512\",\"X16R\",\"ECC 256K1\",\"Equihash\",\"XEVAN\",\"Lyra2Z\",\"SHA-256\",\"XEVAN\",\"X11\",\"CryptoNight\",\"Quark\",\"Blake\",\"Blake\",\"Equihash\",\"Exosis\",\"Scrypt\",\"Scrypt\",\"Equihash\",\"Quark\",\"Equihash\",\"Quark\",\"Scrypt\",\"QuBit\",\"X11\",\"Scrypt\",\"XEVAN\",\"SHA-256D\",\"X11\",\"SHA-256\",\"X13\",\"SHA-256\",\"X11\",\"DPoS\",\"Scrypt\",\"Scrypt\",\"X11\",\"NeoScrypt\",\"Scrypt\",\"Blake\",\"Scrypt\",\"SHA-256\",\"Scrypt\",\"X11\",\"Scrypt\",\"Scrypt\",\"SHA-256\",\"X11\",\"SHA-256\",\"Scrypt\",\"Scrypt\",\"Scrypt\",\"Groestl\",\"X11\",\"Scrypt\",\"PoS\",\"Scrypt\",\"Scrypt\",\"X11\",\"SHA-256\",\"DPoS\",\"Scrypt\",\"Scrypt\",\"NeoScrypt\",\"Multiple\",\"X13\",\"Equihash+Scrypt\",\"DPoS\",\"Ethash\",\"DPoS\",\"SHA-256\",\"Leased POS\",\"PoS\",\"TRC10\",\"PoS\",\"SHA-256\",\"Scrypt\",\"CryptoNight\",\"Equihash\",\"Scrypt\"],\"Class\":{\"__ndarray__\":\"AQAAAAEAAAABAAAAAAAAAAAAAAAAAAAAAQAAAAAAAAAAAAAAAAAAAAEAAAAAAAAAAQAAAAEAAAAAAAAAAQAAAAAAAAAAAAAAAQAAAAEAAAAAAAAAAAAAAAAAAAAAAAAAAAAAAAEAAAAAAAAAAAAAAAAAAAABAAAAAAAAAAEAAAAAAAAAAAAAAAEAAAABAAAAAAAAAAAAAAAAAAAAAAAAAAAAAAAAAAAAAQAAAAEAAAAAAAAAAAAAAAAAAAAAAAAAAAAAAAEAAAABAAAAAAAAAAEAAAAAAAAAAAAAAAAAAAAAAAAAAQAAAAAAAAAAAAAAAQAAAAAAAAABAAAAAQAAAAEAAAAAAAAAAAAAAAAAAAABAAAAAQAAAAEAAAABAAAAAQAAAAAAAAAAAAAAAAAAAAEAAAABAAAAAAAAAAEAAAAAAAAAAQAAAAEAAAAAAAAAAAAAAAAAAAAAAAAAAQAAAAEAAAAAAAAAAQAAAAAAAAAAAAAAAQAAAAEAAAAAAAAAAQAAAAEAAAAAAAAAAAAAAAEAAAABAAAAAAAAAAEAAAABAAAAAAAAAAEAAAAAAAAAAQAAAAAAAAABAAAAAAAAAAEAAAABAAAAAAAAAAAAAAABAAAAAAAAAAAAAAAAAAAAAQAAAAAAAAAAAAAAAAAAAAAAAAAAAAAAAQAAAAEAAAAAAAAAAAAAAAAAAAABAAAAAAAAAAEAAAAAAAAAAAAAAAEAAAAAAAAAAQAAAAAAAAABAAAAAQAAAAAAAAAAAAAAAQAAAAAAAAAAAAAAAQAAAAEAAAAAAAAAAQAAAAAAAAABAAAAAQAAAAEAAAAAAAAAAAAAAAAAAAAAAAAAAQAAAAEAAAABAAAAAQAAAAEAAAAAAAAAAAAAAAEAAAABAAAAAQAAAAEAAAABAAAAAAAAAAEAAAABAAAAAQAAAAEAAAABAAAAAAAAAAEAAAAAAAAAAQAAAAEAAAAAAAAAAQAAAAAAAAABAAAAAQAAAAAAAAABAAAAAAAAAAEAAAAAAAAAAQAAAAAAAAABAAAAAQAAAAEAAAABAAAAAAAAAAEAAAABAAAAAQAAAAEAAAABAAAAAAAAAAAAAAABAAAAAQAAAAAAAAAAAAAAAQAAAAEAAAABAAAAAQAAAAEAAAAAAAAAAQAAAAEAAAABAAAAAQAAAAEAAAABAAAAAQAAAAEAAAAAAAAAAQAAAAEAAAABAAAAAQAAAAEAAAABAAAAAAAAAAAAAAAAAAAAAQAAAAEAAAABAAAAAQAAAAAAAAABAAAAAAAAAAEAAAABAAAAAAAAAAEAAAAAAAAAAAAAAAEAAAAAAAAAAAAAAAEAAAAAAAAAAQAAAAEAAAABAAAAAAAAAAEAAAABAAAAAAAAAAEAAAABAAAAAQAAAAEAAAABAAAAAQAAAAEAAAAAAAAAAQAAAAAAAAABAAAAAQAAAAEAAAABAAAAAAAAAAEAAAAAAAAAAQAAAAAAAAAAAAAAAAAAAAAAAAABAAAAAAAAAAEAAAABAAAAAAAAAAEAAAAAAAAAAAAAAAAAAAABAAAAAAAAAAEAAAAAAAAAAAAAAAAAAAABAAAAAAAAAAEAAAAAAAAAAQAAAAEAAAADAAAAAAAAAAEAAAAAAAAAAAAAAAAAAAAAAAAAAAAAAAEAAAABAAAAAAAAAAEAAAABAAAAAQAAAAAAAAABAAAAAAAAAAEAAAAAAAAAAQAAAAAAAAABAAAAAQAAAAEAAAABAAAAAAAAAAEAAAABAAAAAAAAAAEAAAABAAAAAQAAAAAAAAAAAAAAAAAAAAAAAAABAAAAAQAAAAEAAAABAAAAAAAAAAEAAAAAAAAAAAAAAAAAAAABAAAAAQAAAAAAAAAAAAAAAQAAAAEAAAAAAAAAAQAAAAAAAAAAAAAAAAAAAAEAAAAAAAAAAAAAAAEAAAABAAAAAQAAAAAAAAAAAAAAAAAAAAEAAAABAAAAAQAAAAAAAAAAAAAAAQAAAAAAAAAAAAAAAAAAAAAAAAABAAAAAwAAAAMAAAAAAAAAAAAAAAAAAAABAAAAAwAAAAEAAAABAAAAAQAAAAEAAAAAAAAAAAAAAAAAAAAAAAAAAQAAAAEAAAABAAAAAAAAAAEAAAAAAAAAAQAAAAEAAAABAAAAAQAAAAAAAAABAAAAAQAAAAAAAAABAAAAAQAAAAAAAAAAAAAAAQAAAAAAAAABAAAAAAAAAAAAAAAAAAAAAAAAAAEAAAABAAAAAAAAAAEAAAAAAAAAAQAAAAEAAAABAAAAAQAAAAEAAAABAAAAAAAAAAAAAAAAAAAAAQAAAAEAAAABAAAAAQAAAAEAAAABAAAAAAAAAAEAAAAAAAAAAAAAAAAAAAAAAAAAAQAAAAEAAAABAAAAAQAAAAAAAAABAAAAAQAAAAAAAAABAAAAAQAAAAAAAAADAAAAAAAAAAEAAAAAAAAAAAAAAAEAAAABAAAAAAAAAAEAAAAAAAAAAAAAAAEAAAAAAAAAAAAAAAEAAAAAAAAAAQAAAAAAAAABAAAAAQAAAAAAAAABAAAAAQAAAAEAAAABAAAAAQAAAAAAAAAAAAAAAAAAAAEAAAABAAAAAQAAAAAAAAABAAAAAAAAAAEAAAAAAAAAAQAAAAEAAAABAAAAAQAAAAAAAAABAAAAAQAAAAEAAAAAAAAAAQAAAAAAAAABAAAAAAAAAAEAAAABAAAAAQAAAAAAAAAAAAAAAQAAAAEAAAABAAAAAQAAAAEAAAABAAAAAAAAAAEAAAAAAAAAAQAAAAAAAAABAAAAAQAAAAMAAAABAAAAAgAAAAEAAAABAAAAAQAAAAAAAAAAAAAAAQAAAA==\",\"dtype\":\"int32\",\"order\":\"little\",\"shape\":[532]},\"CoinName\":[\"42 Coin\",\"404Coin\",\"EliteCoin\",\"Bitcoin\",\"Ethereum\",\"Litecoin\",\"Dash\",\"Monero\",\"Ethereum Classic\",\"ZCash\",\"Bitshares\",\"DigiByte\",\"BitcoinDark\",\"PayCoin\",\"ProsperCoin\",\"KoboCoin\",\"Spreadcoin\",\"Argentum\",\"Aurora Coin\",\"BlueCoin\",\"MyriadCoin\",\"MoonCoin\",\"ZetaCoin\",\"SexCoin\",\"Quatloo\",\"EnergyCoin\",\"QuarkCoin\",\"Riecoin\",\"Digitalcoin \",\"BitBar\",\"Catcoin\",\"CryptoBullion\",\"CannaCoin\",\"CryptCoin\",\"CasinoCoin\",\"Diamond\",\"Verge\",\"DevCoin\",\"EarthCoin\",\"E-Gulden\",\"Einsteinium\",\"Emerald\",\"Exclusive Coin\",\"FlutterCoin\",\"Franko\",\"FeatherCoin\",\"GrandCoin\",\"GlobalCoin\",\"GoldCoin\",\"HoboNickels\",\"HyperStake\",\"Infinite Coin\",\"IOCoin\",\"IXcoin\",\"KrugerCoin\",\"LuckyCoin\",\"Litebar \",\"MaxCoin\",\"MegaCoin\",\"MediterraneanCoin\",\"MintCoin\",\"MinCoin\",\"MazaCoin\",\"Nautilus Coin\",\"NavCoin\",\"NobleCoin\",\"Namecoin\",\"NyanCoin\",\"OpalCoin\",\"Orbitcoin\",\"PotCoin\",\"PhoenixCoin\",\"Reddcoin\",\"RonPaulCoin\",\"StableCoin\",\"SmartCoin\",\"SuperCoin\",\"SyncCoin\",\"SysCoin\",\"TeslaCoin\",\"TigerCoin\",\"TittieCoin\",\"TorCoin\",\"TerraCoin\",\"UnbreakableCoin\",\"Unobtanium\",\"UroCoin\",\"UnitaryStatus Dollar\",\"UltraCoin\",\"ViaCoin\",\"VeriCoin\",\"Vertcoin\",\"WorldCoin\",\"X11 Coin\",\"Crypti\",\"JouleCoin\",\"StealthCoin\",\"ZCC Coin\",\"ByteCoin\",\"DigitalNote \",\"BurstCoin\",\"StorjCoin\",\"MonaCoin\",\"Neutron\",\"FairCoin\",\"Gulden\",\"RubyCoin\",\"PesetaCoin\",\"Kore\",\"Wild Beast Coin\",\"Dnotes\",\"Flo\",\"8BIT Coin\",\"Sativa Coin\",\"ArtByte\",\"Folding Coin\",\"Ucoin\",\"Unitus\",\"CypherPunkCoin\",\"OmniCron\",\"Vtorrent\",\"GreenCoin\",\"Cryptonite\",\"MasterCoin\",\"SoonCoin\",\"1Credit\",\"IslaCoin\",\"Nexus\",\"MarsCoin \",\"Crypto\",\"Anarchists Prime\",\"Droidz\",\"BowsCoin\",\"Squall Coin\",\"Song Coin\",\"BitZeny\",\"Diggits\",\"Expanse\",\"Paycon\",\"Siacoin\",\"Emercoin\",\"EverGreenCoin\",\"MindCoin\",\"I0coin\",\"Decred\",\"Revolution VR\",\"HOdlcoin\",\"EDRCoin\",\"Hitcoin\",\"Gamecredits\",\"DubaiCoin\",\"CarpeDiemCoin\",\"PWR Coin\",\"BillaryCoin\",\"GPU Coin\",\"Adzcoin\",\"SoilCoin\",\"YoCoin\",\"SibCoin\",\"EuropeCoin\",\"ZeitCoin\",\"SwingCoin\",\"SafeExchangeCoin\",\"Nebuchadnezzar\",\"Francs\",\"BolivarCoin\",\"Ratecoin\",\"Revenu\",\"Clockcoin\",\"VIP Tokens\",\"BitSend\",\"Omni\",\"Let it Ride\",\"PutinCoin\",\"iBankCoin\",\"Frankywillcoin\",\"MudraCoin\",\"PizzaCoin\",\"Lutetium Coin\",\"Komodo\",\"GoldBlocks\",\"CarterCoin\",\"Karbo\",\"BitTokens\",\"ZayedCoin\",\"MustangCoin\",\"ZoneCoin\",\"Circuits of Value\",\"RootCoin\",\"DopeCoin\",\"BitCurrency\",\"DollarCoin\",\"Swiscoin\",\"Shilling\",\"BuzzCoin\",\"Opair\",\"PesoBit\",\"Halloween Coin\",\"ZCoin\",\"CoffeeCoin\",\"RoyalCoin\",\"GanjaCoin V2\",\"TeamUP\",\"LanaCoin\",\"Elementrem\",\"ZClassic\",\"ARK\",\"InsaneCoin\",\"KiloCoin\",\"ArtexCoin\",\"EmberCoin\",\"XenixCoin\",\"FreeCoin\",\"PLNCoin\",\"AquariusCoin\",\"Kurrent\",\"Creatio\",\"Eternity\",\"Eurocoin\",\"BitcoinFast\",\"Stakenet\",\"BitConnect Coin\",\"MoneyCoin\",\"Enigma\",\"Cannabis Industry Coin\",\"Russiacoin\",\"PandaCoin\",\"GameUnits\",\"GAKHcoin\",\"Allsafe\",\"LiteCreed\",\"OsmiumCoin\",\"Bikercoins\",\"HexxCoin\",\"Klingon Empire Darsek\",\"Internet of People\",\"KushCoin\",\"Printerium\",\"PacCoin\",\"Impeach\",\"Citadel\",\"Zilbercoin\",\"FirstCoin\",\"BeaverCoin\",\"FindCoin\",\"VaultCoin\",\"Zero\",\"OpenChat\",\"Canada eCoin\",\"Zoin\",\"RenosCoin\",\"DubaiCoin\",\"VirtacoinPlus\",\"TajCoin\",\"Impact\",\"EB3coin\",\"Atmos\",\"HappyCoin\",\"Coinonat\",\"MacronCoin\",\"Condensate\",\"Independent Money System\",\"ArgusCoin\",\"LomoCoin\",\"ProCurrency\",\"GoldReserve\",\"BenjiRolls\",\"GrowthCoin\",\"ILCoin\",\"Phreak\",\"Degas Coin\",\"HTML5 Coin\",\"Ultimate Secure Cash\",\"EquiTrader\",\"QTUM\",\"Quantum Resistant Ledger\",\"Espers\",\"Dynamic\",\"Nano\",\"ChanCoin\",\"Dinastycoin\",\"Denarius\",\"DigitalPrice\",\"Virta Unique Coin\",\"Bitcoin Planet\",\"Unify\",\"BritCoin\",\"SocialCoin\",\"ArcticCoin\",\"DAS\",\"Linda\",\"LeviarCoin\",\"DeepOnion\",\"Bitcore\",\"gCn Coin\",\"SmartCash\",\"Signatum\",\"Onix\",\"Cream\",\"Bitcoin Cash\",\"Monoeci\",\"Draftcoin\",\"Vechain\",\"Sojourn Coin\",\"Stakecoin\",\"NewYorkCoin\",\"FrazCoin\",\"Kronecoin\",\"AdCoin\",\"Linx\",\"CoinonatX\",\"Ethereum Dark\",\"Sumokoin\",\"Obsidian\",\"Cardano\",\"Regalcoin\",\"BitcoinZ\",\"TrezarCoin\",\"Elements\",\"TerraNovaCoin\",\"VIVO Coin\",\"Rupee\",\"Bitcoin Gold\",\"WomenCoin\",\"Theresa May Coin\",\"NamoCoin\",\"LUXCoin\",\"Pirl\",\"Xios\",\"Bitcloud 2.0\",\"eBoost\",\"KekCoin\",\"BlackholeCoin\",\"Infinity Economics\",\"Pura\",\"Innova\",\"Ellaism\",\"GoByte\",\"Magnet\",\"Lamden Tau\",\"Electra\",\"Bitcoin Diamond\",\"SHIELD\",\"Cash & Back Coin\",\"UltraNote\",\"BitCoal\",\"DaxxCoin\",\"Bulwark\",\"Kalkulus\",\"AC3\",\"Lethean\",\"GermanCoin\",\"LiteCoin Ultra\",\"PopularCoin\",\"PhantomX\",\"Photon\",\"Sucre\",\"SparksPay\",\"Digiwage\",\"GunCoin\",\"IrishCoin\",\"Trollcoin\",\"Litecoin Plus\",\"Monkey Project\",\"Pioneer Coin\",\"UnitedBitcoin\",\"Interzone\",\"TokenPay\",\"1717 Masonic Commemorative Token\",\"My Big Coin\",\"TurtleCoin\",\"MUNcoin\",\"Unified Society USDEX\",\"Niobio Cash\",\"ShareChain\",\"Travelflex\",\"KREDS\",\"Tokyo Coin\",\"BiblePay\",\"LitecoinCash\",\"BitFlip\",\"LottoCoin\",\"Crypto Improvement Fund\",\"Stipend\",\"Poa Network\",\"Pushi\",\"Ellerium\",\"Velox\",\"Ontology\",\"Callisto Network\",\"BitTube\",\"Poseidon\",\"Aidos Kuneen\",\"Bitspace\",\"Briacoin\",\"Ignition\",\"Bitrolium\",\"MedicCoin\",\"Alpenschillling\",\"Bitcoin Green\",\"Deviant Coin\",\"Abjcoin\",\"Semux\",\"FuturoCoin\",\"Carebit\",\"Zealium\",\"Monero Classic\",\"Proton\",\"iDealCash\",\"Jumpcoin\",\"Infinex\",\"Bitcoin Incognito\",\"KEYCO\",\"HollyWoodCoin\",\"GINcoin\",\"PlatinCoin\",\"Loki\",\"Newton Coin\",\"Swisscoin\",\"Xt3ch\",\"MassGrid\",\"TheVig\",\"PluraCoin\",\"EmaratCoin\",\"Dekado\",\"Lynx\",\"Poseidon Quark\",\"BitcoinWSpectrum\",\"Muse\",\"Motion\",\"PlusOneCoin\",\"Axe\",\"Trivechain\",\"Dystem\",\"Giant\",\"Peony Coin\",\"Absolute Coin\",\"Vitae\",\"HexCoin\",\"TPCash\",\"Webchain\",\"Ryo\",\"Urals Coin\",\"Qwertycoin\",\"ARENON\",\"EUNO\",\"MMOCoin\",\"Ketan\",\"Project Pai\",\"XDNA\",\"PAXEX\",\"Azart\",\"ThunderStake\",\"Kcash\",\"Xchange\",\"Acute Angle Cloud\",\"CrypticCoin\",\"Bettex coin\",\"Actinium\",\"Bitcoin SV\",\"BitMoney\",\"Junson Ming Chan Coin\",\"FREDEnergy\",\"HerbCoin\",\"Universal Molecule\",\"Lithium\",\"PirateCash\",\"Exosis\",\"Block-Logic\",\"Oduwa\",\"Beam\",\"Galilel\",\"Bithereum\",\"Crypto Sports\",\"Credit\",\"SLICE\",\"Dash Platinum\",\"Nasdacoin\",\"Beetle Coin\",\"Titan Coin\",\"Award\",\"BLAST\",\"Bitcoin Rhodium\",\"GlobalToken\",\"Insane Coin\",\"ALAX\",\"LiteDoge\",\"SolarCoin\",\"TruckCoin\",\"UFO Coin\",\"OrangeCoin\",\"BlakeCoin\",\"BitstarCoin\",\"NeosCoin\",\"HyperCoin\",\"PinkCoin\",\"Crypto Escudo\",\"AudioCoin\",\"IncaKoin\",\"Piggy Coin\",\"Crown Coin\",\"Genstake\",\"SmileyCoin\",\"XiaoMiCoin\",\"Groestlcoin\",\"CapriCoin\",\" ClubCoin\",\"Radium\",\"Bata\",\"Pakcoin\",\"Creditbit \",\"OKCash\",\"Lisk\",\"HiCoin\",\"WhiteCoin\",\"FriendshipCoin\",\"JoinCoin\",\"Triangles Coin\",\"Vollar\",\"EOS\",\"Reality Clash\",\"Oxycoin\",\"TigerCash\",\"Waves\",\"Particl\",\"BitTorrent\",\"Nxt\",\"ZEPHYR\",\"Gapcoin\",\"Beldex\",\"Horizen\",\"BitcoinPlus\"],\"ProofType\":[\"PoW/PoS\",\"PoW/PoS\",\"PoW/PoS\",\"PoW\",\"PoW\",\"PoW\",\"PoW/PoS\",\"PoW\",\"PoW\",\"PoW\",\"PoS\",\"PoW\",\"PoW/PoS\",\"PoS\",\"PoW\",\"PoW/PoS\",\"PoW\",\"PoW\",\"PoW/PoS\",\"PoW/PoS\",\"PoW\",\"PoW\",\"PoW\",\"PoW\",\"PoW\",\"PoW/PoS\",\"PoW\",\"PoW\",\"PoW\",\"PoW/PoS\",\"PoW\",\"PoW/PoS\",\"PoW\",\"PoW\",\"PoC\",\"PoW/PoS\",\"PoW\",\"PoW\",\"PoW\",\"PoW\",\"PoW\",\"PoW\",\"PoS\",\"PoS/PoW/PoT\",\"PoW\",\"PoW\",\"PoW\",\"PoW\",\"PoW\",\"PoW/PoS\",\"PoS\",\"PoW\",\"PoW/PoS\",\"PoW\",\"PoW\",\"PoW\",\"PoW\",\"PoW/PoS\",\"PoW\",\"PoW\",\"PoS\",\"PoW\",\"PoW/PoS\",\"PoS\",\"PoW/PoS\",\"PoW\",\"PoW\",\"PoW\",\"PoW/PoS\",\"PoW/PoS\",\"PoW/PoS\",\"PoW/PoS\",\"PoW/PoS\",\"PoW\",\"PoW\",\"PoW\",\"PoS\",\"PoW/PoS\",\"PoW\",\"PoS\",\"PoW\",\"PoS\",\"PoW/PoS\",\"PoW\",\"PoW\",\"PoW\",\"PoW\",\"PoW/PoS\",\"PoW/PoS\",\"PoW\",\"PoST\",\"PoW\",\"PoW\",\"PoW/PoS\",\"PoS\",\"PoW\",\"PoW/PoS\",\"PoW/PoS\",\"PoW\",\"PoW\",\"PoC\",\"PoS\",\"PoW\",\"PoW/PoS\",\"PoW/PoS\",\"PoW\",\"PoS\",\"PoW\",\"PoW/PoS\",\"PoW\",\"PoS\",\"PoW\",\"PoW/PoS\",\"PoW/PoS\",\"PoW\",\"PoW\",\"PoS\",\"PoW\",\"PoW\",\"PoW\",\"PoW/PoS\",\"PoW\",\"PoW\",\"PoW\",\"PoW\",\"PoW\",\"PoW/PoS\",\"PoW/nPoS\",\"PoW\",\"PoW\",\"PoW\",\"PoW/PoS\",\"PoW\",\"PoS/PoW\",\"PoW\",\"PoW\",\"PoS\",\"PoW\",\"PoW/PoS\",\"PoW\",\"PoW/PoS\",\"PoW/PoS\",\"PoW\",\"PoW\",\"PoW/PoS\",\"PoW\",\"PoW\",\"PoW/PoS\",\"PoW/PoS\",\"PoW\",\"PoW/PoS\",\"PoW\",\"PoW/PoS\",\"PoW/PoS\",\"PoS\",\"PoW\",\"PoW\",\"PoW\",\"PoW\",\"PoW/PoS\",\"PoS\",\"PoW/PoS\",\"PoC\",\"PoS\",\"PoW\",\"PoW\",\"PoW/PoS\",\"PoW/PoS\",\"PoW/PoS\",\"PoW/PoS\",\"PoW/PoS\",\"PoW\",\"PoS\",\"PoW/PoS\",\"PoW/PoS\",\"PoW/PoS\",\"PoS\",\"PoW\",\"PoS\",\"dPoW/PoW\",\"PoW/PoS\",\"PoW/PoS\",\"PoW\",\"PoW/PoS\",\"PoW\",\"PoW/PoS\",\"PoW/PoS\",\"PoW\",\"PoW/PoS\",\"PoW\",\"PoS\",\"PoW\",\"PoW/PoW\",\"PoW\",\"PoW/PoS\",\"PoS\",\"PoW/PoS\",\"PoW/PoS\",\"PoW\",\"PoS\",\"PoS\",\"PoW/PoS\",\"PoS\",\"PoW/PoS\",\"PoW\",\"PoW\",\"DPoS\",\"PoW/PoS\",\"PoW\",\"PoW\",\"PoW/PoS\",\"PoW/PoS\",\"PoS\",\"PoW/PoS\",\"PoW/PoS\",\"PoW\",\"PoS\",\"PoW/PoS\",\"PoW/PoS\",\"PoW/PoS\",\"TPoS\",\"PoW/PoS\",\"PoW/PoS\",\"PoW/PoS\",\"PoW\",\"PoW/PoS\",\"PoS\",\"PoW/PoS\",\"PoW/PoS\",\"PoS\",\"PoW/PoS\",\"PoW\",\"PoW\",\"PoW\",\"PoW/PoS\",\"PoW/PoS\",\"PoW/PoS\",\"PoW/PoS\",\"PoW\",\"PoW/PoS\",\"PoW\",\"PoS\",\"PoW/PoS \",\"PoW\",\"PoS\",\"PoW\",\"PoW\",\"PoW/PoS\",\"PoW\",\"PoW\",\"PoS\",\"PoW\",\"PoW/PoS\",\"PoW/PoS\",\"PoW/PoS\",\"PoW\",\"PoS\",\"PoW/PoS\",\"PoW\",\"PoS\",\"PoW/PoS\",\"PoW/PoS\",\"PoW/PoS\",\"PoW/PoS\",\"PoS\",\"PoW/PoS\",\"PoW\",\"PoS\",\"PoW\",\"PoS\",\"PoW/PoS\",\"PoW/PoS\",\"PoS\",\"PoW\",\"PoS\",\"PoW\",\"PoW/PoS\",\"PoW\",\"PoW\",\"PoW\",\"PoW\",\"PoW/PoS\",\"PoW\",\"PoW/PoS\",\"PoW/PoS\",\"PoW\",\"PoW/PoS\",\"PoW\",\"PoW\",\"PoW\",\"PoW/PoS\",\"PoW\",\"PoW/PoS\",\"PoW\",\"PoW\",\"PoW\",\"PoS\",\"PoW\",\"PoW/PoS\",\"PoW\",\"PoW/PoS\",\"PoS\",\"Proof of Authority\",\"PoW\",\"PoS\",\"PoW\",\"PoW\",\"PoW\",\"PoW\",\"PoW\",\"PoW/PoS\",\"PoW/PoS\",\"PoW\",\"PoS\",\"PoS\",\"PoW/PoS\",\"PoW\",\"PoW/PoS\",\"PoW\",\"PoW/PoS\",\"PoW\",\"PoS\",\"PoW\",\"PoW/PoS\",\"PoW/PoS\",\"PoW/PoS\",\"PoW/PoS\",\"PoW\",\"PoW/PoS\",\"PoW/PoS\",\"PoW\",\"PoS\",\"PoW/PoS\",\"PoS\",\"PoW\",\"PoW\",\"PoW\",\"PoW\",\"PoW/PoS\",\"DPoS\",\"PoW/PoS\",\"PoW/PoS\",\"PoW\",\"PoW/PoS\",\"PoW\",\"PoW\",\"PoW\",\"PoS\",\"PoS\",\"PoW\",\"PoW\",\"PoW/PoS\",\"PoW/PoS\",\"PoW\",\"PoW/PoS\",\"PoW\",\"PoW\",\"PoW\",\"PoS\",\"PoW\",\"PoW\",\"PoW/PoS\",\"PoW/PoS\",\"PoS\",\"PoW\",\"PoW\",\"PoW\",\"PoS\",\"PoS\",\"PoW and PoS\",\"PoW\",\"PoW\",\"PoW/PoS\",\"PoW\",\"PoW\",\"PoW\",\"PoW\",\"PoS\",\"POBh\",\"PoW + Hive\",\"PoW\",\"PoW\",\"PoW\",\"PoW/PoS\",\"PoA\",\"PoW/PoS\",\"PoW/PoS\",\"PoS\",\"PoS\",\"PoW\",\"PoW\",\"PoW\",\"PoW\",\"PoW/PoS\",\"PoW/PoS\",\"PoW/PoS\",\"PoW\",\"PoS\",\"PoW\",\"PoS\",\"PoS\",\"PoW/PoS\",\"DPoS\",\"PoW\",\"PoW/PoS\",\"PoS\",\"PoW\",\"PoS\",\"PoW/PoS\",\"PoW\",\"PoW\",\"PoS/PoW\",\"PoW\",\"PoS\",\"PoW\",\"PoW\",\"PoW\",\"PoW\",\"PoW/PoS\",\"PoS\",\"PoW\",\"PoW/PoS\",\"PoW\",\"PoW/PoS\",\"PoS\",\"HPoW\",\"PoS\",\"PoS\",\"PoS\",\"PoW\",\"PoW\",\"PoW\",\"PoW/PoS\",\"PoS\",\"PoW/PoS\",\"PoS\",\"PoW/PoS\",\"PoS\",\"PoW\",\"PoW/PoS\",\"PoW\",\"PoW\",\"PoW\",\"PoW\",\"PoS\",\"PoW/PoS\",\"PoS\",\"PoS\",\"PoW\",\"PoW/PoS\",\"PoS\",\"PoW\",\"PoW/PoS\",\"Zero-Knowledge Proof\",\"PoW\",\"DPOS\",\"PoW\",\"PoS\",\"PoW\",\"PoW\",\"Pos\",\"PoS\",\"PoW\",\"PoW/PoS\",\"PoW\",\"PoW\",\"PoS\",\"PoW\",\"PoW\",\"PoW/PoS\",\"PoW\",\"PoW/PoS\",\"PoW\",\"PoS\",\"PoW/PoS\",\"PoW\",\"PoS\",\"PoW/PoS\",\"PoW/PoS\",\"PoW/PoS\",\"PoW/PoS\",\"PoW\",\"PoW\",\"PoW\",\"PoW/PoS\",\"DPoS\",\"PoW/PoS\",\"PoW\",\"PoW/PoS\",\"PoW\",\"PoW/PoS\",\"PoW\",\"PoW/PoS\",\"PoS\",\"PoW/PoS\",\"PoW/PoS\",\"PoW\",\"PoW/PoS\",\"PoW/PoS\",\"PoW/PoS\",\"PoW\",\"PoW/PoS\",\"PoW\",\"PoW/PoS\",\"PoW\",\"PoW/PoS\",\"PoW/PoS\",\"PoS\",\"PoW\",\"PoW\",\"Proof of Trust\",\"PoW/PoS\",\"DPoS\",\"PoS\",\"PoW/PoS\",\"PoW/PoS\",\"PoW\",\"PoW/PoS\",\"PoW\",\"DPoS\",\"PoW\",\"DPoS\",\"PoS\",\"LPoS\",\"PoS\",\"DPoS\",\"PoS/LPoS\",\"DPoS\",\"PoW/PoS\",\"PoW\",\"PoW\",\"PoS\"],\"TotalCoinSupply\":[\"42\",\"532000000\",\"314159265359\",\"21000000\",\"0\",\"84000000\",\"22000000\",\"0\",\"210000000\",\"21000000\",\"3600570502\",\"21000000000\",\"22000000\",\"12500000\",\"21000000\",\"350000000\",\"20000000\",\"64000000\",\"16768584\",\"0\",\"2000000000\",\"384000000000\",\"169795588\",\"250000000\",\"100000000\",\"0\",\"247000000\",\"84000000\",\"48166000\",\"500000\",\"21000000 \",\"1000000\",\"13140000\",\"18000000\",\"40000000000\",\"4380000\",\"16555000000\",\"21000000000\",\"13500000000\",\"21000000 \",\"299792458\",\"32000000\",\"0\",\"0\",\"11235813\",\"336000000\",\"1420609614\",\"70000000\",\"72245700\",\"120000000\",\"0\",\"90600000000\",\"22000000\",\"21000000\",\"265420800\",\"20000000\",\"1350000\",\"100000000\",\"42000000\",\"200000000\",\"0\",\"10000000\",\"2419200000\",\"16180000\",\"0\",\"15000000000\",\"21000000\",\"337000000\",\"0\",\"3770000\",\"420000000\",\"98000000\",\"0\",\"21000000\",\"250000000\",\"51200000\",\"0\",\"1000\",\"888000000\",\"100000000\",\"47011968\",\"2300000000\",\"10000000\",\"42000000\",\"80000000\",\"250000\",\"0\",\"1600000000\",\"100000000\",\"23000000\",\"0\",\"84000000\",\"265420800\",\"5500000\",\"0\",\"45000000\",\"0\",\"1000000000\",\"184467440735\",\"10000000000\",\"2158812800\",\"500000000\",\"105120000\",\"68000000\",\"0\",\"1680000000\",\"0\",\"166386000\",\"12000000\",\"2628000\",\"500000000\",\"160000000\",\"0\",\"10000000\",\"1000000000\",\"1000000000\",\"20000000\",\"0\",\"0\",\"3371337\",\"20000000\",\"10000000000\",\"1840000000\",\"619478\",\"21000000\",\"92000000000\",\"0\",\"78000000\",\"33000000\",\"65789100\",\"53760000\",\"5060000\",\"21000000\",\"0\",\"210240000\",\"250000000\",\"100000000\",\"16906397\",\"50000000\",\"0\",\"1000000000\",\"26298000\",\"16000000\",\"21000000\",\"21000000\",\"210000000\",\"81962100\",\"22000000\",\"26550000000\",\"84000000\",\"10500000\",\"21626280000 \",\"0\",\"42000000\",\"221052632\",\"84000000\",\"30000000\",\"168351300\",\"24000000\",\"384000000\",\" 99000000000\",\"40000000\",\"2147483647\",\"20000000\",\"20000000\",\"25000000\",\"75000000\",\"222725000\",\"525000000\",\"90000000\",\"139000000\",\"616448\",\"33500000\",\"2000000000\",\"44333333\",\"100000000\",\"200000000\",\"25000000\",\"657000000\",\"200000000\",\"50000000\",\"90000000\",\"10000000\",\"21000000\",\"9736000\",\"3000000\",\"21000000\",\"1200000000\",\"0\",\"200000000\",\"0\",\"10638298\",\"3100000000\",\"30000000\",\"20000000000\",\"74000000\",\"0\",\"1500000000\",\"21400000\",\"39999898\",\"2500124\",\"100000000\",\"301000000\",\"7506000000\",\"26205539\",\"21000000\",\"125000000\",\"30000000\",\"10000000000\",\"500000000\",\"850000000\",\"3853326.77707314\",\"50000000\",\"38540000 \",\"42000000\",\"228000000\",\"20000000\",\"60000000\",\"20000000\",\"33000000\",\"76500000\",\"28000000\",\"650659833\",\"5000000\",\"21000000\",\"144000000\",\"32514916898\",\"13000000\",\"3315789\",\"15000000\",\"78835200\",\"2714286\",\"25000000\",\"9999999\",\"500000000\",\"21000000\",\"9354000\",\"20000000\",\"100000000000\",\"21933333\",\"185000000\",\"55000000\",\"110000000\",\"3360000\",\"14524851.4827\",\"1000000000\",\"17000000\",\"1000000000\",\"100000000 \",\"21000000\",\"34426423\",\"2232901\",\"100000000\",\"36900000\",\"110000000\",\"4000000000\",\"110290030\",\"100000000\",\"48252000\",\"400000000\",\"500000000\",\"21212121\",\"28600000\",\"1000000000\",\"75000000000\",\"40000000\",\"35520400\",\"2000000000\",\"2500000000\",\"30000000\",\"105000000\",\"90000000000\",\"200084200\",\"72000000\",\"100000000\",\"105000000\",\"50000000000\",\"0\",\"340282367\",\"30000000\",\"2000000000\",\"10000000\",\"100000000\",\"120000000\",\"100000000\",\"19276800\",\"30000000\",\" 75000000\",\"60000000\",\"18900000\",\"50000000000\",\"54000000\",\"18898187.6216583\",\"21000000\",\"200000000000\",\"5000000000\",\"137500000\",\"1100000000\",\"100000000\",\"21000000\",\"9507271\",\"17405891.19707116\",\"86712634466\",\"10500000000\",\"61599965\",\"0\",\"20000000\",\"84000000\",\"100000000\",\"100000000\",\"48252000\",\"4200000\",\"88888888\",\"91388946\",\"45000000000\",\"27000000\",\"21000000000\",\"400000000\",\"1800000000\",\"15733333\",\"27000000\",\"24000000\",\"21000000\",\"25000000000\",\"100000000\",\"1200000000\",\"60000000\",\"156306732.71\",\"21000000\",\"200000000\",\"100000000\",\"21000000\",\"14788275.991\",\"9000000000\",\"350000000\",\"45000000\",\"280000000\",\"31800000\",\"144000000\",\"500000000\",\"30000000000\",\"210000000\",\"660000000\",\"210000000\",\"85000000000\",\"12500000\",\"10000000000\",\"27716121\",\"20000000\",\"550000000\",\"999481516\",\"50000000000\",\"150000000\",\"4999999999\",\"50000000\",\" 90000000000\",\"19800000\",\"21000000\",\"120000000\",\"500000000\",\"64000000\",\"900000000\",\"4000000\",\"21000000\",\"23000000\",\"20166000\",\"23000000\",\"25000000\",\"1618033\",\"30000000\",\"1000000000000\",\"16600000\",\"232000000\",\"336000000\",\"10000000000\",\"100000000\",\"1100000000\",\"800000000\",\"5200000000\",\"840000000\",\"40000000\",\"18406979840\",\"500000000\",\"19340594\",\"252460800\",\"25000000\",\"60000000\",\"124000000\",\"1000000000\",\"6500000000\",\"1000000000\",\"21000000\",\"25000000\",\"50000000\",\"3000000\",\"5000000\",\"70000000\",\"500000000\",\"300000000\",\"21000000\",\"88000000\",\"30000000\",\"100000000\",\"100000000\",\"200000000\",\"80000000\",\"18400000\",\"45000000\",\"5121951220\",\"21000000\",\"26280000\",\"21000000\",\"18000000\",\"26000000\",\"10500000\",\"600000518\",\"150000000\",\"184000000000\",\"10200000000\",\"44000000\",\"168000000\",\"100000000\",\"1000000000\",\"84000000\",\"90000000\",\"92000000000\",\"650000000 \",\"100262205\",\"18081806 \",\"22075700\",\"21000000\",\"21000000\",\"82546564\",\"21000000\",\"5151000\",\"16880000000\",\"52500000\",\"100000000\",\"22105263\",\"1000000000\",\"1750000000\",\"88188888\",\"210000000\",\"184470000000\",\"55000000\",\"50000000\",\"260000000\",\"210000000\",\"2100000000\",\"366000000\",\"100000000\",\"25000000\",\"18000000000\",\"1000000000\",\"100000000\",\"1000000000\",\"7600000000\",\"50000000\",\"84000000\",\"21000000\",\"70000000000\",\"0\",\"8080000000\",\"54000000\",\"105120001.44\",\"25228800\",\"105000000\",\"21000000\",\"120000000\",\"21000000\",\"262800000\",\"19035999\",\"30886000\",\"13370000\",\"74800000000\",\"100000000\",\"19700000\",\"84000000\",\"500000000\",\"5000000000\",\"420000000\",\"64000000\",\"2100000\",\"168000000\",\"30000000\",\"1000000000\",\"35000000000\",\"98100000000\",\"0\",\"4000000000\",\"200000000\",\"7000000000\",\"54256119\",\"21000000\",\"0\",\"500000000\",\"1000000000\",\"10500000000\",\"190000000\",\"1000000000\",\"42000000\",\"15000000\",\"50000000000\",\"400000000\",\"105000000\",\"208000000\",\"160000000\",\"9000000\",\"5000000\",\"182000000\",\"16504333\",\"105000000\",\"159918400\",\"10008835635\",\"300000000\",\"60168145\",\"2800000\",\"120000\",\"2100000000\",\"0\",\"24487944\",\"0\",\"1000000000\",\"100000000\",\"8634140\",\"990000000000\",\"1000000000\",\"2000000000\",\"250000000\",\"1400222610\",\"21000000\",\"1000000\"],\"TotalCoinsMined\":{\"__ndarray__\":\"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\",\"dtype\":\"float64\",\"order\":\"little\",\"shape\":[532]}},\"selected\":{\"id\":\"1335\"},\"selection_policy\":{\"id\":\"1371\"}},\"id\":\"1334\",\"type\":\"ColumnDataSource\"},{\"attributes\":{\"format\":\"0,0.0[00000]\"},\"id\":\"1356\",\"type\":\"NumberFormatter\"},{\"attributes\":{\"style\":{\"white-space\":\"nowrap\"},\"text\":\"<span style=\\\"color:black;font-family:Arial;font-style:bold;font-weight:bold;font-size:12pt\\\">Tradable Cryptocurrencies</span>\",\"width\":450},\"id\":\"1369\",\"type\":\"Div\"},{\"attributes\":{},\"id\":\"1346\",\"type\":\"StringFormatter\"},{\"attributes\":{},\"id\":\"1342\",\"type\":\"StringEditor\"},{\"attributes\":{\"children\":[{\"id\":\"1369\"},{\"id\":\"1366\"}]},\"id\":\"1370\",\"type\":\"Column\"},{\"attributes\":{\"columns\":[{\"id\":\"1338\"},{\"id\":\"1343\"},{\"id\":\"1348\"},{\"id\":\"1353\"},{\"id\":\"1358\"},{\"id\":\"1363\"}],\"height\":300,\"reorderable\":false,\"source\":{\"id\":\"1334\"},\"view\":{\"id\":\"1368\"},\"width\":900},\"id\":\"1366\",\"type\":\"DataTable\"},{\"attributes\":{},\"id\":\"1347\",\"type\":\"StringEditor\"},{\"attributes\":{\"margin\":[5,5,5,5],\"name\":\"HSpacer02307\",\"sizing_mode\":\"stretch_width\"},\"id\":\"1333\",\"type\":\"Spacer\"},{\"attributes\":{\"source\":{\"id\":\"1334\"}},\"id\":\"1368\",\"type\":\"CDSView\"},{\"attributes\":{},\"id\":\"1335\",\"type\":\"Selection\"},{\"attributes\":{\"editor\":{\"id\":\"1362\"},\"field\":\"Class\",\"formatter\":{\"id\":\"1361\"},\"title\":\"Class\"},\"id\":\"1363\",\"type\":\"TableColumn\"},{\"attributes\":{},\"id\":\"1341\",\"type\":\"StringFormatter\"},{\"attributes\":{\"editor\":{\"id\":\"1342\"},\"field\":\"Algorithm\",\"formatter\":{\"id\":\"1341\"},\"title\":\"Algorithm\"},\"id\":\"1343\",\"type\":\"TableColumn\"},{\"attributes\":{},\"id\":\"1371\",\"type\":\"UnionRenderers\"},{\"attributes\":{},\"id\":\"1337\",\"type\":\"StringEditor\"},{\"attributes\":{\"editor\":{\"id\":\"1337\"},\"field\":\"CoinName\",\"formatter\":{\"id\":\"1336\"},\"title\":\"CoinName\"},\"id\":\"1338\",\"type\":\"TableColumn\"},{\"attributes\":{},\"id\":\"1357\",\"type\":\"NumberEditor\"},{\"attributes\":{},\"id\":\"1336\",\"type\":\"StringFormatter\"},{\"attributes\":{\"margin\":[5,5,5,5],\"name\":\"HSpacer02308\",\"sizing_mode\":\"stretch_width\"},\"id\":\"1373\",\"type\":\"Spacer\"},{\"attributes\":{\"children\":[{\"id\":\"1333\"},{\"id\":\"1370\"},{\"id\":\"1373\"}],\"margin\":[0,0,0,0],\"name\":\"Row02303\",\"tags\":[\"embedded\"]},\"id\":\"1332\",\"type\":\"Row\"},{\"attributes\":{\"editor\":{\"id\":\"1352\"},\"field\":\"TotalCoinSupply\",\"formatter\":{\"id\":\"1351\"},\"title\":\"TotalCoinSupply\"},\"id\":\"1353\",\"type\":\"TableColumn\"},{\"attributes\":{\"editor\":{\"id\":\"1347\"},\"field\":\"ProofType\",\"formatter\":{\"id\":\"1346\"},\"title\":\"ProofType\"},\"id\":\"1348\",\"type\":\"TableColumn\"},{\"attributes\":{},\"id\":\"1352\",\"type\":\"StringEditor\"}],\"root_ids\":[\"1332\"]},\"title\":\"Bokeh Application\",\"version\":\"2.4.1\"}};\n",
       "    var render_items = [{\"docid\":\"9c56b30b-896d-4a7a-a1d2-41c432f5181b\",\"root_ids\":[\"1332\"],\"roots\":{\"1332\":\"2dac628d-8818-47c2-8a75-d9e5f0fab899\"}}];\n",
       "    root.Bokeh.embed.embed_items_notebook(docs_json, render_items);\n",
       "    for (const render_item of render_items) {\n",
       "      for (const root_id of render_item.root_ids) {\n",
       "\tconst id_el = document.getElementById(root_id)\n",
       "\tif (id_el.children.length && (id_el.children[0].className === 'bk-root')) {\n",
       "\t  const root_el = id_el.children[0]\n",
       "\t  root_el.id = root_el.id + '-rendered'\n",
       "\t}\n",
       "      }\n",
       "    }\n",
       "  }\n",
       "  if (root.Bokeh !== undefined && root.Bokeh.Panel !== undefined) {\n",
       "    embed_document(root);\n",
       "  } else {\n",
       "    var attempts = 0;\n",
       "    var timer = setInterval(function(root) {\n",
       "      if (root.Bokeh !== undefined && root.Bokeh.Panel !== undefined) {\n",
       "        clearInterval(timer);\n",
       "        embed_document(root);\n",
       "      } else if (document.readyState == \"complete\") {\n",
       "        attempts++;\n",
       "        if (attempts > 200) {\n",
       "          clearInterval(timer);\n",
       "          console.log(\"Bokeh: ERROR: Unable to run BokehJS code because BokehJS library is missing\");\n",
       "        }\n",
       "      }\n",
       "    }, 25, root)\n",
       "  }\n",
       "})(window);</script>"
      ],
      "text/plain": [
       ":Table   [CoinName,Algorithm,ProofType,TotalCoinSupply,TotalCoinsMined,Class]"
      ]
     },
     "execution_count": 207,
     "metadata": {
      "application/vnd.holoviews_exec.v0+json": {
       "id": "1332"
      }
     },
     "output_type": "execute_result"
    }
   ],
   "source": [
    "# Create a table with tradable cryptocurrencies.\n",
    "\n",
    "tradable_crypto_table = clustered_df[['CoinName', 'Algorithm', 'ProofType', 'TotalCoinSupply', 'TotalCoinsMined', 'Class']].hvplot.table(\n",
    "    title=\"Tradable Cryptocurrencies\",\n",
    "    sortable=True,\n",
    "    selectable=True,\n",
    "    paginate=True,\n",
    "    max_rows=10,\n",
    "    width=900,\n",
    "    height=300\n",
    ")\n",
    "\n",
    "# Show\n",
    "tradable_crypto_table"
   ]
  },
  {
   "cell_type": "code",
   "execution_count": 208,
   "metadata": {},
   "outputs": [
    {
     "name": "stdout",
     "output_type": "stream",
     "text": [
      "There are 532 tradable cryptocurrencies.\n"
     ]
    }
   ],
   "source": [
    "# Print the total number of tradable cryptocurrencies.\n",
    "total_tradable = clustered_df['Algorithm'].count()\n",
    "print(f'There are {total_tradable} tradable cryptocurrencies.')"
   ]
  },
  {
   "cell_type": "code",
   "execution_count": 209,
   "metadata": {},
   "outputs": [
    {
     "data": {
      "text/plain": [
       "array([[4.20000000e-11, 0.00000000e+00],\n",
       "       [5.32000000e-04, 1.06585544e-03],\n",
       "       [3.14159265e-01, 2.95755135e-02],\n",
       "       ...,\n",
       "       [1.40022261e-03, 9.90135079e-04],\n",
       "       [2.10000000e-05, 7.37028150e-06],\n",
       "       [1.00000000e-06, 1.29582282e-07]])"
      ]
     },
     "execution_count": 209,
     "metadata": {},
     "output_type": "execute_result"
    }
   ],
   "source": [
    "# Scaling data to create the scatter plot with tradable cryptocurrencies.\n",
    "from sklearn.preprocessing import MinMaxScaler\n",
    "\n",
    "scaler = MinMaxScaler()\n",
    "\n",
    "scaled_data = scaler.fit_transform(clustered_df[['TotalCoinSupply', 'TotalCoinsMined']])\n",
    "scaled_data"
   ]
  },
  {
   "cell_type": "code",
   "execution_count": 210,
   "metadata": {},
   "outputs": [
    {
     "data": {
      "text/html": [
       "<div>\n",
       "<style scoped>\n",
       "    .dataframe tbody tr th:only-of-type {\n",
       "        vertical-align: middle;\n",
       "    }\n",
       "\n",
       "    .dataframe tbody tr th {\n",
       "        vertical-align: top;\n",
       "    }\n",
       "\n",
       "    .dataframe thead th {\n",
       "        text-align: right;\n",
       "    }\n",
       "</style>\n",
       "<table border=\"1\" class=\"dataframe\">\n",
       "  <thead>\n",
       "    <tr style=\"text-align: right;\">\n",
       "      <th></th>\n",
       "      <th>TotalCoinSupply</th>\n",
       "      <th>TotalCoinsMined</th>\n",
       "      <th>CoinName</th>\n",
       "      <th>Class</th>\n",
       "    </tr>\n",
       "  </thead>\n",
       "  <tbody>\n",
       "    <tr>\n",
       "      <th>42</th>\n",
       "      <td>4.200000e-11</td>\n",
       "      <td>0.000000</td>\n",
       "      <td>42 Coin</td>\n",
       "      <td>1</td>\n",
       "    </tr>\n",
       "    <tr>\n",
       "      <th>404</th>\n",
       "      <td>5.320000e-04</td>\n",
       "      <td>0.001066</td>\n",
       "      <td>404Coin</td>\n",
       "      <td>1</td>\n",
       "    </tr>\n",
       "    <tr>\n",
       "      <th>1337</th>\n",
       "      <td>3.141593e-01</td>\n",
       "      <td>0.029576</td>\n",
       "      <td>EliteCoin</td>\n",
       "      <td>1</td>\n",
       "    </tr>\n",
       "    <tr>\n",
       "      <th>BTC</th>\n",
       "      <td>2.100000e-05</td>\n",
       "      <td>0.000018</td>\n",
       "      <td>Bitcoin</td>\n",
       "      <td>0</td>\n",
       "    </tr>\n",
       "    <tr>\n",
       "      <th>ETH</th>\n",
       "      <td>0.000000e+00</td>\n",
       "      <td>0.000109</td>\n",
       "      <td>Ethereum</td>\n",
       "      <td>0</td>\n",
       "    </tr>\n",
       "    <tr>\n",
       "      <th>LTC</th>\n",
       "      <td>8.400000e-05</td>\n",
       "      <td>0.000064</td>\n",
       "      <td>Litecoin</td>\n",
       "      <td>0</td>\n",
       "    </tr>\n",
       "    <tr>\n",
       "      <th>DASH</th>\n",
       "      <td>2.200000e-05</td>\n",
       "      <td>0.000009</td>\n",
       "      <td>Dash</td>\n",
       "      <td>1</td>\n",
       "    </tr>\n",
       "    <tr>\n",
       "      <th>XMR</th>\n",
       "      <td>0.000000e+00</td>\n",
       "      <td>0.000017</td>\n",
       "      <td>Monero</td>\n",
       "      <td>0</td>\n",
       "    </tr>\n",
       "    <tr>\n",
       "      <th>ETC</th>\n",
       "      <td>2.100000e-04</td>\n",
       "      <td>0.000115</td>\n",
       "      <td>Ethereum Classic</td>\n",
       "      <td>0</td>\n",
       "    </tr>\n",
       "    <tr>\n",
       "      <th>ZEC</th>\n",
       "      <td>2.100000e-05</td>\n",
       "      <td>0.000007</td>\n",
       "      <td>ZCash</td>\n",
       "      <td>0</td>\n",
       "    </tr>\n",
       "  </tbody>\n",
       "</table>\n",
       "</div>"
      ],
      "text/plain": [
       "      TotalCoinSupply  TotalCoinsMined          CoinName  Class\n",
       "42       4.200000e-11         0.000000           42 Coin      1\n",
       "404      5.320000e-04         0.001066           404Coin      1\n",
       "1337     3.141593e-01         0.029576         EliteCoin      1\n",
       "BTC      2.100000e-05         0.000018           Bitcoin      0\n",
       "ETH      0.000000e+00         0.000109          Ethereum      0\n",
       "LTC      8.400000e-05         0.000064          Litecoin      0\n",
       "DASH     2.200000e-05         0.000009              Dash      1\n",
       "XMR      0.000000e+00         0.000017            Monero      0\n",
       "ETC      2.100000e-04         0.000115  Ethereum Classic      0\n",
       "ZEC      2.100000e-05         0.000007             ZCash      0"
      ]
     },
     "execution_count": 210,
     "metadata": {},
     "output_type": "execute_result"
    }
   ],
   "source": [
    "# Create a new DataFrame that has the scaled data with the clustered_df DataFrame index.\n",
    "plot_df = pd.DataFrame(\n",
    "    data=scaled_data, \n",
    "    columns=['TotalCoinSupply', 'TotalCoinsMined'], \n",
    "    index=clustered_df.index\n",
    ")\n",
    "\n",
    "# Add the \"CoinName\" column from the clustered_df DataFrame to the new DataFrame.\n",
    "plot_df['CoinName'] = clustered_df['CoinName']\n",
    "\n",
    "# Add the \"Class\" column from the clustered_df DataFrame to the new DataFrame. \n",
    "plot_df['Class'] = clustered_df['Class']\n",
    "\n",
    "plot_df.head(10)"
   ]
  },
  {
   "cell_type": "code",
   "execution_count": 211,
   "metadata": {},
   "outputs": [
    {
     "data": {},
     "metadata": {},
     "output_type": "display_data"
    },
    {
     "data": {
      "application/vnd.holoviews_exec.v0+json": "",
      "text/html": [
       "<div id='1385'>\n",
       "\n",
       "\n",
       "\n",
       "\n",
       "\n",
       "  <div class=\"bk-root\" id=\"511fb24e-b391-42dc-b5eb-a43bdc4428ce\" data-root-id=\"1385\"></div>\n",
       "</div>\n",
       "<script type=\"application/javascript\">(function(root) {\n",
       "  function embed_document(root) {\n",
       "    var docs_json = {\"913c3733-82ce-4d2e-b1cc-0ffe1400bff6\":{\"defs\":[{\"extends\":null,\"module\":null,\"name\":\"ReactiveHTML1\",\"overrides\":[],\"properties\":[]},{\"extends\":null,\"module\":null,\"name\":\"FlexBox1\",\"overrides\":[],\"properties\":[{\"default\":\"flex-start\",\"kind\":null,\"name\":\"align_content\"},{\"default\":\"flex-start\",\"kind\":null,\"name\":\"align_items\"},{\"default\":\"row\",\"kind\":null,\"name\":\"flex_direction\"},{\"default\":\"wrap\",\"kind\":null,\"name\":\"flex_wrap\"},{\"default\":\"flex-start\",\"kind\":null,\"name\":\"justify_content\"}]},{\"extends\":null,\"module\":null,\"name\":\"GridStack1\",\"overrides\":[],\"properties\":[{\"default\":\"warn\",\"kind\":null,\"name\":\"mode\"},{\"default\":null,\"kind\":null,\"name\":\"ncols\"},{\"default\":null,\"kind\":null,\"name\":\"nrows\"},{\"default\":true,\"kind\":null,\"name\":\"allow_resize\"},{\"default\":true,\"kind\":null,\"name\":\"allow_drag\"},{\"default\":[],\"kind\":null,\"name\":\"state\"}]},{\"extends\":null,\"module\":null,\"name\":\"click1\",\"overrides\":[],\"properties\":[{\"default\":\"\",\"kind\":null,\"name\":\"terminal_output\"},{\"default\":\"\",\"kind\":null,\"name\":\"debug_name\"},{\"default\":0,\"kind\":null,\"name\":\"clears\"}]},{\"extends\":null,\"module\":null,\"name\":\"NotificationAreaBase1\",\"overrides\":[],\"properties\":[{\"default\":\"bottom-right\",\"kind\":null,\"name\":\"position\"},{\"default\":0,\"kind\":null,\"name\":\"_clear\"}]},{\"extends\":null,\"module\":null,\"name\":\"NotificationArea1\",\"overrides\":[],\"properties\":[{\"default\":[],\"kind\":null,\"name\":\"notifications\"},{\"default\":\"bottom-right\",\"kind\":null,\"name\":\"position\"},{\"default\":0,\"kind\":null,\"name\":\"_clear\"},{\"default\":[{\"background\":\"#ffc107\",\"icon\":{\"className\":\"fas fa-exclamation-triangle\",\"color\":\"white\",\"tagName\":\"i\"},\"type\":\"warning\"},{\"background\":\"#007bff\",\"icon\":{\"className\":\"fas fa-info-circle\",\"color\":\"white\",\"tagName\":\"i\"},\"type\":\"info\"}],\"kind\":null,\"name\":\"types\"}]},{\"extends\":null,\"module\":null,\"name\":\"Notification\",\"overrides\":[],\"properties\":[{\"default\":null,\"kind\":null,\"name\":\"background\"},{\"default\":3000,\"kind\":null,\"name\":\"duration\"},{\"default\":null,\"kind\":null,\"name\":\"icon\"},{\"default\":\"\",\"kind\":null,\"name\":\"message\"},{\"default\":null,\"kind\":null,\"name\":\"notification_type\"},{\"default\":false,\"kind\":null,\"name\":\"_destroyed\"}]},{\"extends\":null,\"module\":null,\"name\":\"TemplateActions1\",\"overrides\":[],\"properties\":[{\"default\":0,\"kind\":null,\"name\":\"open_modal\"},{\"default\":0,\"kind\":null,\"name\":\"close_modal\"}]},{\"extends\":null,\"module\":null,\"name\":\"MaterialTemplateActions1\",\"overrides\":[],\"properties\":[{\"default\":0,\"kind\":null,\"name\":\"open_modal\"},{\"default\":0,\"kind\":null,\"name\":\"close_modal\"}]}],\"roots\":{\"references\":[{\"attributes\":{\"callback\":null,\"renderers\":[{\"id\":\"1435\"},{\"id\":\"1456\"},{\"id\":\"1478\"},{\"id\":\"1502\"}],\"tags\":[\"hv_created\"],\"tooltips\":[[\"Class\",\"@{Class}\"],[\"TotalCoinsMined\",\"@{TotalCoinsMined}\"],[\"TotalCoinSupply\",\"@{TotalCoinSupply}\"],[\"CoinName\",\"@{CoinName}\"]]},\"id\":\"1389\",\"type\":\"HoverTool\"},{\"attributes\":{},\"id\":\"1398\",\"type\":\"LinearScale\"},{\"attributes\":{\"label\":{\"value\":\"0\"},\"renderers\":[{\"id\":\"1435\"}]},\"id\":\"1448\",\"type\":\"LegendItem\"},{\"attributes\":{\"data\":{\"Class\":[1,1,1,1,1,1,1,1,1,1,1,1,1,1,1,1,1,1,1,1,1,1,1,1,1,1,1,1,1,1,1,1,1,1,1,1,1,1,1,1,1,1,1,1,1,1,1,1,1,1,1,1,1,1,1,1,1,1,1,1,1,1,1,1,1,1,1,1,1,1,1,1,1,1,1,1,1,1,1,1,1,1,1,1,1,1,1,1,1,1,1,1,1,1,1,1,1,1,1,1,1,1,1,1,1,1,1,1,1,1,1,1,1,1,1,1,1,1,1,1,1,1,1,1,1,1,1,1,1,1,1,1,1,1,1,1,1,1,1,1,1,1,1,1,1,1,1,1,1,1,1,1,1,1,1,1,1,1,1,1,1,1,1,1,1,1,1,1,1,1,1,1,1,1,1,1,1,1,1,1,1,1,1,1,1,1,1,1,1,1,1,1,1,1,1,1,1,1,1,1,1,1,1,1,1,1,1,1,1,1,1,1,1,1,1,1,1,1,1,1,1,1,1,1,1,1,1,1,1,1,1,1,1,1,1,1,1,1,1,1,1,1,1,1,1,1,1,1,1,1,1,1,1,1,1,1,1,1,1,1,1,1,1,1,1,1,1,1,1,1,1,1,1,1,1,1,1,1,1,1,1,1,1,1,1,1,1],\"CoinName\":[\"42 Coin\",\"404Coin\",\"EliteCoin\",\"Dash\",\"Bitshares\",\"BitcoinDark\",\"PayCoin\",\"KoboCoin\",\"Aurora Coin\",\"BlueCoin\",\"EnergyCoin\",\"BitBar\",\"CryptoBullion\",\"CasinoCoin\",\"Diamond\",\"Exclusive Coin\",\"FlutterCoin\",\"HoboNickels\",\"HyperStake\",\"IOCoin\",\"MaxCoin\",\"MintCoin\",\"MazaCoin\",\"Nautilus Coin\",\"NavCoin\",\"OpalCoin\",\"Orbitcoin\",\"PotCoin\",\"PhoenixCoin\",\"Reddcoin\",\"SuperCoin\",\"SyncCoin\",\"TeslaCoin\",\"TittieCoin\",\"TorCoin\",\"UnitaryStatus Dollar\",\"UltraCoin\",\"VeriCoin\",\"X11 Coin\",\"Crypti\",\"StealthCoin\",\"ZCC Coin\",\"BurstCoin\",\"StorjCoin\",\"Neutron\",\"FairCoin\",\"RubyCoin\",\"Kore\",\"Dnotes\",\"8BIT Coin\",\"Sativa Coin\",\"Ucoin\",\"Vtorrent\",\"IslaCoin\",\"Nexus\",\"Droidz\",\"Squall Coin\",\"Diggits\",\"Paycon\",\"Emercoin\",\"EverGreenCoin\",\"Decred\",\"EDRCoin\",\"Hitcoin\",\"DubaiCoin\",\"PWR Coin\",\"BillaryCoin\",\"GPU Coin\",\"EuropeCoin\",\"ZeitCoin\",\"SwingCoin\",\"SafeExchangeCoin\",\"Nebuchadnezzar\",\"Ratecoin\",\"Revenu\",\"Clockcoin\",\"VIP Tokens\",\"BitSend\",\"Let it Ride\",\"PutinCoin\",\"iBankCoin\",\"Frankywillcoin\",\"MudraCoin\",\"Lutetium Coin\",\"GoldBlocks\",\"CarterCoin\",\"BitTokens\",\"MustangCoin\",\"ZoneCoin\",\"RootCoin\",\"BitCurrency\",\"Swiscoin\",\"BuzzCoin\",\"Opair\",\"PesoBit\",\"Halloween Coin\",\"CoffeeCoin\",\"RoyalCoin\",\"GanjaCoin V2\",\"TeamUP\",\"LanaCoin\",\"ARK\",\"InsaneCoin\",\"EmberCoin\",\"XenixCoin\",\"FreeCoin\",\"PLNCoin\",\"AquariusCoin\",\"Creatio\",\"Eternity\",\"Eurocoin\",\"BitcoinFast\",\"Stakenet\",\"BitConnect Coin\",\"MoneyCoin\",\"Enigma\",\"Russiacoin\",\"PandaCoin\",\"GameUnits\",\"GAKHcoin\",\"Allsafe\",\"LiteCreed\",\"Klingon Empire Darsek\",\"Internet of People\",\"KushCoin\",\"Printerium\",\"Impeach\",\"Zilbercoin\",\"FirstCoin\",\"FindCoin\",\"OpenChat\",\"RenosCoin\",\"VirtacoinPlus\",\"TajCoin\",\"Impact\",\"Atmos\",\"HappyCoin\",\"MacronCoin\",\"Condensate\",\"Independent Money System\",\"ArgusCoin\",\"LomoCoin\",\"ProCurrency\",\"GoldReserve\",\"GrowthCoin\",\"Phreak\",\"Degas Coin\",\"HTML5 Coin\",\"Ultimate Secure Cash\",\"QTUM\",\"Espers\",\"Denarius\",\"Virta Unique Coin\",\"Bitcoin Planet\",\"BritCoin\",\"Linda\",\"DeepOnion\",\"Signatum\",\"Cream\",\"Monoeci\",\"Draftcoin\",\"Stakecoin\",\"CoinonatX\",\"Ethereum Dark\",\"Obsidian\",\"Cardano\",\"Regalcoin\",\"TrezarCoin\",\"TerraNovaCoin\",\"Rupee\",\"WomenCoin\",\"Theresa May Coin\",\"NamoCoin\",\"LUXCoin\",\"Xios\",\"Bitcloud 2.0\",\"KekCoin\",\"BlackholeCoin\",\"Infinity Economics\",\"Magnet\",\"Lamden Tau\",\"Electra\",\"Bitcoin Diamond\",\"Cash & Back Coin\",\"Bulwark\",\"Kalkulus\",\"GermanCoin\",\"LiteCoin Ultra\",\"PhantomX\",\"Digiwage\",\"Trollcoin\",\"Litecoin Plus\",\"Monkey Project\",\"TokenPay\",\"1717 Masonic Commemorative Token\",\"My Big Coin\",\"Unified Society USDEX\",\"Tokyo Coin\",\"Stipend\",\"Pushi\",\"Ellerium\",\"Velox\",\"Ontology\",\"Bitspace\",\"Briacoin\",\"Ignition\",\"MedicCoin\",\"Bitcoin Green\",\"Deviant Coin\",\"Abjcoin\",\"Semux\",\"Carebit\",\"Zealium\",\"Proton\",\"iDealCash\",\"Bitcoin Incognito\",\"HollyWoodCoin\",\"Swisscoin\",\"Xt3ch\",\"TheVig\",\"EmaratCoin\",\"Dekado\",\"Lynx\",\"Poseidon Quark\",\"BitcoinWSpectrum\",\"Muse\",\"Trivechain\",\"Dystem\",\"Giant\",\"Peony Coin\",\"Absolute Coin\",\"Vitae\",\"TPCash\",\"ARENON\",\"EUNO\",\"MMOCoin\",\"Ketan\",\"XDNA\",\"PAXEX\",\"ThunderStake\",\"Kcash\",\"Bettex coin\",\"BitMoney\",\"Junson Ming Chan Coin\",\"HerbCoin\",\"PirateCash\",\"Oduwa\",\"Galilel\",\"Crypto Sports\",\"Credit\",\"Dash Platinum\",\"Nasdacoin\",\"Beetle Coin\",\"Titan Coin\",\"Award\",\"Insane Coin\",\"ALAX\",\"LiteDoge\",\"TruckCoin\",\"OrangeCoin\",\"BitstarCoin\",\"NeosCoin\",\"HyperCoin\",\"PinkCoin\",\"AudioCoin\",\"IncaKoin\",\"Piggy Coin\",\"Genstake\",\"XiaoMiCoin\",\"CapriCoin\",\" ClubCoin\",\"Radium\",\"Creditbit \",\"OKCash\",\"Lisk\",\"HiCoin\",\"WhiteCoin\",\"FriendshipCoin\",\"Triangles Coin\",\"EOS\",\"Oxycoin\",\"TigerCash\",\"Particl\",\"Nxt\",\"ZEPHYR\",\"Gapcoin\",\"BitcoinPlus\"],\"TotalCoinSupply\":{\"__ndarray__\":\"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\",\"dtype\":\"float64\",\"order\":\"little\",\"shape\":[287]},\"TotalCoinsMined\":{\"__ndarray__\":\"AAAAAAAAAADVQ6eRhXZRP0gFXx0LSZ4/fb2YAaYh4z6ruJV6oa9mP4fxacJq17U+W7PlNwxp6T7W0pn52A37PoFADD9SNfM+Y2BMhDkIRT+TanQDD0sgP35ukl9tEWc+7S9W9+ubsT49x1z95a+kP28YHhABAMw+ye+KsSkQ2D76DhvNkpI+P1ecpQYuoxc/Ypyz9GrHWz/7kyPDCLLyPpO8/kFBRRA/0/9nDoYGlj/8i/ixXrVaP7x4IiUyI/E+j6uxX+B/ET9yUL0Vow3wPvxfgvURSss+cvkNgl17LT+LzHsEg5UTPwaytCCdUp4/8TiBm6/aCj9doxA1Q7ITPkOS6FanQBU/dL+NX1fZWj+VBQyzwkO4PlcDUAL0L1I/fTIxK6KaCj/j5byfQfUAPxuOVInTct0++0V+YL96Gj9FarAorYYBPzHwJWnxlyM/L/f3qVABXj+Tp6kxyxkLP8ZkQxXrtwQ/ibYLlr8rDD876RpKEMv8PqXMCj0KI8E+Y9QbIWkfJz/NWTdK5t+4PhEtw1ouEd4+SuSuQabKxj5dOKHlN5XoPj9ykiLfprk+IXp/RSnbED9yRrm5bCbiPvbV3K8TUJY++0V+YL96Gj+usZO2/Wf4PjQmLIvTzQY/1efNMZmp7D5+56xI8fTlPuaDOXY0GM8+uMNU6Ym/hj8I144k4rrVPosWSaGt1IQ/AkyV+P4P4z7jP4drq28FPzwUggjXC+Y+7L0e6OUeoz9rTh5jVovSPvn/Em4kxWE/kQBSK/0u9T7vjyYFktAhP3lc7dd7QrQ+QPXFzhym8T4+Nd5F5BgWP9J6jnO41Pk+ObDN1M5vBD+HQ9Dqr+lKP3YCdaw0LdM++0V+YL96Gj/CsEps9C7VPlS9UGUMv0U/pqRxDiJ88D7oqXRGKNwGP54PeOINLqQ+9FiPodBJpj5CAX3zt+DFPsR5KJfqb8A+T/4f/1R0Jj9wy+L1hwRGP4Iw9VQZQJQ/QVxHa5CaEz9q4x6W3sABP+anRel4hTE//jSGyJGwIz9a3dieLS/FPvtFfmC/eho/0CaSSobf8j7om9ie0ehRP4yfDBK/phw/2bdahaRt8z5pi0xWDNe3PzoFWd5FU9A+qVTopb56Cj8Kl7V81RnyPnWw/lSIwcQ+kQBSK/0u9T4WN5ZE6rbZPjz585B5Teo+mJbD7Cdx9T4t+OpgFAQUP+s1WKcNeec+4Jew0N0e5z5bwhuTX5yrPv5ylEtMv+E+qgjVT8Z8oT9eSCgLgW3NPrZMGtKEGMw+gWG4BsRH5j7bwMkrHwIAP/7gqRozYvk+ycQ2iXpnxT4Swqe2z/nXPmWo1pTmCuk+NMilXEnjlD75z9m7pMPIPrZ+M2OfIB0/oIVe/s3E7j56Q0MFuIxQP8DjwNiFFwM/Yojc8CLi6z6/xleSd8/pPjaSA+NaSx0/RxRsP55tHT8TzIbUfsv2PvWgsIfWkjo/vX+hfbIbID9qIh3CGb/WPtzbifm0dbM+ClzCLAnyoD4HdZcEvp8aP4T+AFYCMPI+MqZkmp+JMz9Xk1ir5SDoPkAjePZqn/Y+EiXgvSYHpT8A2wc5DOnlPvtFfmC/eho/PAT7udKVlz/kKuRSPKzRPvzVMe6uqhA/LSuoRvfT3D741RgF1Yb2PjQa6ZQatoI/cEzD1ck29z5MptGTM5ccP79RNfoAEQk/A/IJ6Umg6j460UXAisTzPpjvW85a8tA+hFHN8SWy9D6gfFhURsvRPgdyvDC9evo+e/z7ZVvRmj/C5iuVwcTePgYf7plMLig/MA/ITshUsz68wUDJlmv5Pq6e2lfpD6k/QlKjIeRfGD++L0e45Y1CPzHGVg8zmOE+o0LUKwM3wj4fcKeItkMAP8Q04FD5Huo+ELOcZbFU8T5IMTwRT56CP34izOTEOgQ/uooRAzwSMz+5S1yC81+dP2K6gsKnTCg/4boxdtliHT9rpYs67A/sPseJT2eL9fE+cKEqXilSdD+HGerC0dXhPn4cKx997Ac/cvaEG0zq/D53OzGI/o9DPwhHMQikOMU+4aYHbQ+s0j673Mph4qf1Pm5x4hl+a7s+RIhXsT3p4z4SYLbW0RcvP+7nRXixfS4/5zpHmZTV5z675foWXF7CPr3GtnU1a5w+0BICUEwV+z4YmxHV7IpFP9oXMpkhNe0+8OWc8hCprD50qFQMeQi0PrhnnCDcsTE/2g6h9YTE5D7nUt5T0yv3PpDfXIos7uQ+mhHUuAbdtD5VKY49TIAiP6Jvk38Wduc+w3Op81Co0j5GNcFNBT1XP5ITnjO9Gec+oSQJmqt/BD8u8B4U0RmFP/TH2vq5KeA+KikY50KaAT+8pDhhpuD2PnIyP0TGCQA/fCaYJAgjtD8ryv/7BwTHPjZJd6O4nQ4/wKsguotF8z6GP57A2I0DPzXp732EAd4+rDHFwjsU2T5GhHshfKixPjmttaFBPuw+h6Fq6Z99ET99KAFD6+TWPlZtDKPqaPQ+io8aO8pLAD+b+oRxCokcP8RoNbwUwuM+7om/ZcPL0z6LmxGrrxXTPuttXDi6ilE/ekNDBbiMUD+PpPcVk8HcPuXrojJimys/qyDjxRnNkT/It8W1cbMCP5hG8hX4i+w+ImlavtdN7z7j92z1i1jzPgfZcP2pZMA+iirv8H3inz/i1s0RRUGoPkBWWhkuw/U+omxXO8JWKj8jMEysQqtNPyjBbHovVfA+C5KNNNcu+T56Q0MFuIxQP2D1pTy6sI8/zCNKYd8OMD+tHcn0sfjNPmOsZctQy/U+f2HIS8yb0j5kYzQw+mbkPiMYZ3/U4jw/nNMshRY7UD+cQ8suWY6SP4nBtdPqW0A/H8ZSq37GDz84uK+F5sM6P2MAAb39qCo/GCSU+ENwGz9L9hxTejDQPsPpRhaz5vE+mJIs6RnGEz8y4x8SUscfP/Gwxj8HsIQ/W6H50rSuMD+k9GATf/yyPqtJN1OLFIM+RW+UnMLjUD8RwmraN5NSP3pDQwW4jFA/s0VJGDmq4z56Q0MFuIxQPwcccQq4jGA/OcIUhBWh7z5CDuXNaWSBPg==\",\"dtype\":\"float64\",\"order\":\"little\",\"shape\":[287]}},\"selected\":{\"id\":\"1451\"},\"selection_policy\":{\"id\":\"1467\"}},\"id\":\"1450\",\"type\":\"ColumnDataSource\"},{\"attributes\":{\"click_policy\":\"mute\",\"coordinates\":null,\"group\":null,\"items\":[{\"id\":\"1448\"},{\"id\":\"1470\"},{\"id\":\"1494\"},{\"id\":\"1520\"}],\"location\":\"top_left\",\"title\":\"Class\"},\"id\":\"1447\",\"type\":\"Legend\"},{\"attributes\":{\"angle\":{\"value\":0.0},\"fill_alpha\":{\"value\":1.0},\"fill_color\":{\"value\":\"#30a2da\"},\"hatch_alpha\":{\"value\":1.0},\"hatch_color\":{\"value\":\"#30a2da\"},\"hatch_scale\":{\"value\":12.0},\"hatch_weight\":{\"value\":1.0},\"line_alpha\":{\"value\":1.0},\"line_cap\":{\"value\":\"butt\"},\"line_color\":{\"value\":\"#30a2da\"},\"line_dash\":{\"value\":[]},\"line_dash_offset\":{\"value\":0},\"line_join\":{\"value\":\"bevel\"},\"line_width\":{\"value\":1},\"marker\":{\"value\":\"circle\"},\"size\":{\"value\":5.477225575051661},\"x\":{\"field\":\"TotalCoinsMined\"},\"y\":{\"field\":\"TotalCoinSupply\"}},\"id\":\"1449\",\"type\":\"Scatter\"},{\"attributes\":{\"fill_alpha\":{\"value\":0.2},\"fill_color\":{\"value\":\"#6d904f\"},\"hatch_alpha\":{\"value\":0.2},\"hatch_color\":{\"value\":\"#6d904f\"},\"line_alpha\":{\"value\":0.2},\"line_color\":{\"value\":\"#6d904f\"},\"size\":{\"value\":5.477225575051661},\"x\":{\"field\":\"TotalCoinsMined\"},\"y\":{\"field\":\"TotalCoinSupply\"}},\"id\":\"1501\",\"type\":\"Scatter\"},{\"attributes\":{\"end\":1.0625,\"reset_end\":1.0625,\"reset_start\":-0.0625,\"start\":-0.0625,\"tags\":[[[\"TotalCoinsMined\",\"TotalCoinsMined\",null]]]},\"id\":\"1387\",\"type\":\"Range1d\"},{\"attributes\":{\"label\":{\"value\":\"3\"},\"renderers\":[{\"id\":\"1502\"}]},\"id\":\"1520\",\"type\":\"LegendItem\"},{\"attributes\":{\"fill_alpha\":{\"value\":0.2},\"fill_color\":{\"value\":\"#e5ae38\"},\"hatch_alpha\":{\"value\":0.2},\"hatch_color\":{\"value\":\"#e5ae38\"},\"line_alpha\":{\"value\":0.2},\"line_color\":{\"value\":\"#e5ae38\"},\"size\":{\"value\":5.477225575051661},\"x\":{\"field\":\"TotalCoinsMined\"},\"y\":{\"field\":\"TotalCoinSupply\"}},\"id\":\"1477\",\"type\":\"Scatter\"},{\"attributes\":{},\"id\":\"1517\",\"type\":\"UnionRenderers\"},{\"attributes\":{\"data\":{\"Class\":[3,3,3,3,3,3],\"CoinName\":[\"Vechain\",\"BiblePay\",\"LitecoinCash\",\"Poa Network\",\"Acute Angle Cloud\",\"Waves\"],\"TotalCoinSupply\":{\"__ndarray__\":\"+nQumcwytj+U9gZfmEx1P7x5qkNuhks/hFoo4ZaLMD/8qfHSTWJQPyxDHOviNho/\",\"dtype\":\"float64\",\"order\":\"little\",\"shape\":[6]},\"TotalCoinsMined\":{\"__ndarray__\":\"zaDgBxGurD+PWA2R2lNdP5CkxfJKIUU/nBkleI8SKz96Q0MFuIxQP/tFfmC/eho/\",\"dtype\":\"float64\",\"order\":\"little\",\"shape\":[6]}},\"selected\":{\"id\":\"1497\"},\"selection_policy\":{\"id\":\"1517\"}},\"id\":\"1496\",\"type\":\"ColumnDataSource\"},{\"attributes\":{},\"id\":\"1400\",\"type\":\"LinearScale\"},{\"attributes\":{\"coordinates\":null,\"data_source\":{\"id\":\"1472\"},\"glyph\":{\"id\":\"1475\"},\"group\":null,\"hover_glyph\":null,\"muted_glyph\":{\"id\":\"1477\"},\"nonselection_glyph\":{\"id\":\"1476\"},\"selection_glyph\":{\"id\":\"1495\"},\"view\":{\"id\":\"1479\"}},\"id\":\"1478\",\"type\":\"GlyphRenderer\"},{\"attributes\":{\"coordinates\":null,\"data_source\":{\"id\":\"1496\"},\"glyph\":{\"id\":\"1499\"},\"group\":null,\"hover_glyph\":null,\"muted_glyph\":{\"id\":\"1501\"},\"nonselection_glyph\":{\"id\":\"1500\"},\"selection_glyph\":{\"id\":\"1521\"},\"view\":{\"id\":\"1503\"}},\"id\":\"1502\",\"type\":\"GlyphRenderer\"},{\"attributes\":{\"data\":{\"Class\":[2],\"CoinName\":[\"BitTorrent\"],\"TotalCoinSupply\":{\"__ndarray__\":\"rkfhehSu7z8=\",\"dtype\":\"float64\",\"order\":\"little\",\"shape\":[1]},\"TotalCoinsMined\":{\"__ndarray__\":\"AAAAAAAA8D8=\",\"dtype\":\"float64\",\"order\":\"little\",\"shape\":[1]}},\"selected\":{\"id\":\"1473\"},\"selection_policy\":{\"id\":\"1491\"}},\"id\":\"1472\",\"type\":\"ColumnDataSource\"},{\"attributes\":{},\"id\":\"1451\",\"type\":\"Selection\"},{\"attributes\":{\"coordinates\":null,\"group\":null,\"text\":\"Cryptocurrencies\",\"text_color\":\"black\",\"text_font_size\":\"12pt\"},\"id\":\"1394\",\"type\":\"Title\"},{\"attributes\":{},\"id\":\"1403\",\"type\":\"BasicTicker\"},{\"attributes\":{\"axis\":{\"id\":\"1402\"},\"coordinates\":null,\"grid_line_color\":null,\"group\":null,\"ticker\":null},\"id\":\"1405\",\"type\":\"Grid\"},{\"attributes\":{\"source\":{\"id\":\"1496\"}},\"id\":\"1503\",\"type\":\"CDSView\"},{\"attributes\":{\"fill_alpha\":{\"value\":0.1},\"fill_color\":{\"value\":\"#6d904f\"},\"hatch_alpha\":{\"value\":0.1},\"hatch_color\":{\"value\":\"#6d904f\"},\"line_alpha\":{\"value\":0.1},\"line_color\":{\"value\":\"#6d904f\"},\"size\":{\"value\":5.477225575051661},\"x\":{\"field\":\"TotalCoinsMined\"},\"y\":{\"field\":\"TotalCoinSupply\"}},\"id\":\"1500\",\"type\":\"Scatter\"},{\"attributes\":{\"axis_label\":\"Total Coins Mined\",\"coordinates\":null,\"formatter\":{\"id\":\"1424\"},\"group\":null,\"major_label_policy\":{\"id\":\"1425\"},\"ticker\":{\"id\":\"1403\"}},\"id\":\"1402\",\"type\":\"LinearAxis\"},{\"attributes\":{},\"id\":\"1412\",\"type\":\"WheelZoomTool\"},{\"attributes\":{\"fill_alpha\":{\"value\":0.2},\"fill_color\":{\"value\":\"#fc4f30\"},\"hatch_alpha\":{\"value\":0.2},\"hatch_color\":{\"value\":\"#fc4f30\"},\"line_alpha\":{\"value\":0.2},\"line_color\":{\"value\":\"#fc4f30\"},\"size\":{\"value\":5.477225575051661},\"x\":{\"field\":\"TotalCoinsMined\"},\"y\":{\"field\":\"TotalCoinSupply\"}},\"id\":\"1455\",\"type\":\"Scatter\"},{\"attributes\":{},\"id\":\"1411\",\"type\":\"PanTool\"},{\"attributes\":{},\"id\":\"1425\",\"type\":\"AllLabels\"},{\"attributes\":{\"axis_label\":\"Total Coin Supply\",\"coordinates\":null,\"formatter\":{\"id\":\"1427\"},\"group\":null,\"major_label_policy\":{\"id\":\"1428\"},\"ticker\":{\"id\":\"1407\"}},\"id\":\"1406\",\"type\":\"LinearAxis\"},{\"attributes\":{\"axis\":{\"id\":\"1406\"},\"coordinates\":null,\"dimension\":1,\"grid_line_color\":null,\"group\":null,\"ticker\":null},\"id\":\"1409\",\"type\":\"Grid\"},{\"attributes\":{\"label\":{\"value\":\"2\"},\"renderers\":[{\"id\":\"1478\"}]},\"id\":\"1494\",\"type\":\"LegendItem\"},{\"attributes\":{},\"id\":\"1407\",\"type\":\"BasicTicker\"},{\"attributes\":{\"data\":{\"Class\":[0,0,0,0,0,0,0,0,0,0,0,0,0,0,0,0,0,0,0,0,0,0,0,0,0,0,0,0,0,0,0,0,0,0,0,0,0,0,0,0,0,0,0,0,0,0,0,0,0,0,0,0,0,0,0,0,0,0,0,0,0,0,0,0,0,0,0,0,0,0,0,0,0,0,0,0,0,0,0,0,0,0,0,0,0,0,0,0,0,0,0,0,0,0,0,0,0,0,0,0,0,0,0,0,0,0,0,0,0,0,0,0,0,0,0,0,0,0,0,0,0,0,0,0,0,0,0,0,0,0,0,0,0,0,0,0,0,0,0,0,0,0,0,0,0,0,0,0,0,0,0,0,0,0,0,0,0,0,0,0,0,0,0,0,0,0,0,0,0,0,0,0,0,0,0,0,0,0,0,0,0,0,0,0,0,0,0,0,0,0,0,0,0,0,0,0,0,0,0,0,0,0,0,0,0,0,0,0,0,0,0,0,0,0,0,0,0,0,0,0,0,0,0,0,0,0,0,0,0,0,0,0,0,0,0,0,0,0],\"CoinName\":[\"Bitcoin\",\"Ethereum\",\"Litecoin\",\"Monero\",\"Ethereum Classic\",\"ZCash\",\"DigiByte\",\"ProsperCoin\",\"Spreadcoin\",\"Argentum\",\"MyriadCoin\",\"MoonCoin\",\"ZetaCoin\",\"SexCoin\",\"Quatloo\",\"QuarkCoin\",\"Riecoin\",\"Digitalcoin \",\"Catcoin\",\"CannaCoin\",\"CryptCoin\",\"Verge\",\"DevCoin\",\"EarthCoin\",\"E-Gulden\",\"Einsteinium\",\"Emerald\",\"Franko\",\"FeatherCoin\",\"GrandCoin\",\"GlobalCoin\",\"GoldCoin\",\"Infinite Coin\",\"IXcoin\",\"KrugerCoin\",\"LuckyCoin\",\"Litebar \",\"MegaCoin\",\"MediterraneanCoin\",\"MinCoin\",\"NobleCoin\",\"Namecoin\",\"NyanCoin\",\"RonPaulCoin\",\"StableCoin\",\"SmartCoin\",\"SysCoin\",\"TigerCoin\",\"TerraCoin\",\"UnbreakableCoin\",\"Unobtanium\",\"UroCoin\",\"ViaCoin\",\"Vertcoin\",\"WorldCoin\",\"JouleCoin\",\"ByteCoin\",\"DigitalNote \",\"MonaCoin\",\"Gulden\",\"PesetaCoin\",\"Wild Beast Coin\",\"Flo\",\"ArtByte\",\"Folding Coin\",\"Unitus\",\"CypherPunkCoin\",\"OmniCron\",\"GreenCoin\",\"Cryptonite\",\"MasterCoin\",\"SoonCoin\",\"1Credit\",\"MarsCoin \",\"Crypto\",\"Anarchists Prime\",\"BowsCoin\",\"Song Coin\",\"BitZeny\",\"Expanse\",\"Siacoin\",\"MindCoin\",\"I0coin\",\"Revolution VR\",\"HOdlcoin\",\"Gamecredits\",\"CarpeDiemCoin\",\"Adzcoin\",\"SoilCoin\",\"YoCoin\",\"SibCoin\",\"Francs\",\"BolivarCoin\",\"Omni\",\"PizzaCoin\",\"Komodo\",\"Karbo\",\"ZayedCoin\",\"Circuits of Value\",\"DopeCoin\",\"DollarCoin\",\"Shilling\",\"ZCoin\",\"Elementrem\",\"ZClassic\",\"KiloCoin\",\"ArtexCoin\",\"Kurrent\",\"Cannabis Industry Coin\",\"OsmiumCoin\",\"Bikercoins\",\"HexxCoin\",\"PacCoin\",\"Citadel\",\"BeaverCoin\",\"VaultCoin\",\"Zero\",\"Canada eCoin\",\"Zoin\",\"DubaiCoin\",\"EB3coin\",\"Coinonat\",\"BenjiRolls\",\"ILCoin\",\"EquiTrader\",\"Quantum Resistant Ledger\",\"Dynamic\",\"Nano\",\"ChanCoin\",\"Dinastycoin\",\"DigitalPrice\",\"Unify\",\"SocialCoin\",\"ArcticCoin\",\"DAS\",\"LeviarCoin\",\"Bitcore\",\"gCn Coin\",\"SmartCash\",\"Onix\",\"Bitcoin Cash\",\"Sojourn Coin\",\"NewYorkCoin\",\"FrazCoin\",\"Kronecoin\",\"AdCoin\",\"Linx\",\"Sumokoin\",\"BitcoinZ\",\"Elements\",\"VIVO Coin\",\"Bitcoin Gold\",\"Pirl\",\"eBoost\",\"Pura\",\"Innova\",\"Ellaism\",\"GoByte\",\"SHIELD\",\"UltraNote\",\"BitCoal\",\"DaxxCoin\",\"AC3\",\"Lethean\",\"PopularCoin\",\"Photon\",\"Sucre\",\"SparksPay\",\"GunCoin\",\"IrishCoin\",\"Pioneer Coin\",\"UnitedBitcoin\",\"Interzone\",\"TurtleCoin\",\"MUNcoin\",\"Niobio Cash\",\"ShareChain\",\"Travelflex\",\"KREDS\",\"BitFlip\",\"LottoCoin\",\"Crypto Improvement Fund\",\"Callisto Network\",\"BitTube\",\"Poseidon\",\"Aidos Kuneen\",\"Bitrolium\",\"Alpenschillling\",\"FuturoCoin\",\"Monero Classic\",\"Jumpcoin\",\"Infinex\",\"KEYCO\",\"GINcoin\",\"PlatinCoin\",\"Loki\",\"Newton Coin\",\"MassGrid\",\"PluraCoin\",\"Motion\",\"PlusOneCoin\",\"Axe\",\"HexCoin\",\"Webchain\",\"Ryo\",\"Urals Coin\",\"Qwertycoin\",\"Project Pai\",\"Azart\",\"Xchange\",\"CrypticCoin\",\"Actinium\",\"Bitcoin SV\",\"FREDEnergy\",\"Universal Molecule\",\"Lithium\",\"Exosis\",\"Block-Logic\",\"Beam\",\"Bithereum\",\"SLICE\",\"BLAST\",\"Bitcoin Rhodium\",\"GlobalToken\",\"SolarCoin\",\"UFO Coin\",\"BlakeCoin\",\"Crypto Escudo\",\"Crown Coin\",\"SmileyCoin\",\"Groestlcoin\",\"Bata\",\"Pakcoin\",\"JoinCoin\",\"Vollar\",\"Reality Clash\",\"Beldex\",\"Horizen\"],\"TotalCoinSupply\":{\"__ndarray__\":\"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\",\"dtype\":\"float64\",\"order\":\"little\",\"shape\":[238]},\"TotalCoinsMined\":{\"__ndarray__\":\"r6i7QfH88j5vitZPpIMcP2safiZFsRA/CBAnMBQ48j7wDEJVXgQePwFvcySeR98+S6ekP56Yhz8O0fKLQ3DYPunoanR6nuc+P/QHNS7b6T4I4yegqPBbP4pk9hRmi8k9cMqzLN2IJj8v7oqMShIhP+hFNhs4LN8+ICzRsK4uMT8QbyRNiz0KP59NHRkHtgE/NhWLS7iW3j4HjNNQyO3TPhf3vZ6vK9U+zGWKHw96kD/YQKTwOGuTP/QR9hSJ8Ik/v+Nbg90l9j7UJEJsY/osP53eB+SKpvQ+7OKrfnJdsz7h8m27k6ArPzOFKreVQ00/sp9rdsljET8a/IWo3Q8GPxfWq/5Sbbc/2g1Vrl1W9j4aGveuIA0kP+mrkQNSePQ+w6aYs+e2sj5zk5i3czQEP8Q38CuLaQU/dwwlCTKX2D6/GiTQLZRjP2kcsAWHN+8+WPbFZkYoNj/9tCw6GLayPlG7VH/vpfk+lXaTGbsb+z4TJNibZaVCP11sMg9/Dgc/sbwJ7+tK+D5svacTrE3DPrI5aeKgO4s+Bn6fn5x1tD5Ljct4WoX4PjXfW1HfGQs/ZX20aNqrHz8+VYv99MEEP1hQT91+zMc/EkNUVVGTfD8sNwB0vg4SP7x3FpSAeTs/V09i5Pw0Ij+8Wu9Dc6iIPv0vK9IFKSQ/u43+0IM7Sj+Fn7ZW789HP0XtoIndPRE/RXvZM7732j6tXPx07HrlPkRv+e0tE3M/aJCDWHxzRz/wOSf9uP6kPlQsp9p0Zuo+JVthYlbodz5RI4lAbxABP9C9WRyqHO0+cq2VX2I97z5yy9npd83wPjtGyf0IPwE/zcFpI7cFFD+pIsEbkTvmPi7peHQhHqE/CZb2rYPO8D68ZXludD32PgDbI7+vzSs/t2n0Hb5A6D768QgXA34SP8VZIm+ifJY/qfDDrNPjBz/IH81lZSjYPmbzzSAYkqU+io1ClvJI8j6EVzYip9bbPvB/UyyW7Ow+VIp4kW7kpD5Ztqr0xVm3PvBZKjNxsB4/i2oALxWS4D4AgcASBnTaPnpDQwW4jFA/1DtNvqTwHj/WFD5sjErjPri9zHTrjec+2DMeo0EI4D5jADv2nsH7PoUw/kBpyNc+ov9i+UX9KT9aPV7RHEZLPzuCQ8HDPxA/tcMN/maTsD7UrHW860yuPgxwAoxT0uM+xv90wUrLvz6OM6x+FcZBP9Kf4ZajPOc+Ck3M5oZlyj6rD9eegxcAP/OI8EMuU90+6fmC8iFwGj/Wo9/Kq6TzPsujJZ6E68I+XGxBluj4ED+Bh4j2yXHlPjXeTm3aefU+yXvl+uzOVT9z1k/kEPfsPv9UEsTGRxI/YSp/QHv09D61h4qHSKQhPy+N/AEef/M+hKwqIzTyXT/m4rwM9psCP8kEKAPONPM+528Abuzk1T728NdKYJX7PtQZrzp5OcY+CdfFZ+z/7T70aOzy9tryPhgd90IFFcU/gc0bUEOLYj9LwcxRKDcgPyRl/jd+D/M+/Y1TnL1xoD4ENdImbn3CP/jx38F6juQ+1996s5J88j6p3Vc8E0oBP3gVJ9Mc2wE/uBZMWL/z4j4pupu9+I91P3sMH7KeXWY/uNaq91ym0T7bHSC7aDjyPl7TxYbH/wE/Esjo3RF6Gj88xJCxuDInP9pcGpKPAts+LsltZsEF6z491TfErLXYPniYzdXT4z8/5YO/i7rxkz8tUFOdpxDTPpkfTG2+PUE/YzWXr25EFT+/sGvyzzU9P0ryBjnNZnA/wKP4upcfnz8oDYelxerRPlT2YcShn+A+M9MbVqPYMz/pmLbtWxYIP2UO7kqn9eE+wa/X9f9b9T6YqjPlVz7pPq1f7GWUe6s/m6YY3Oxp1D4N1FrxeLshP1CfshPmr4Q/2fEHH09rHD9QMtgVKk9FP3y2D2d/Xeo+ZkXpZEv6jT9nddkYq/krP9gv1r9BZDA/Fan1HlMyFT/aQYC+gT7RPgdyvDC9evo+92CWwAHlEj9ZXda3XfX8PjbwhEh61wA/ypskKPb28D7608Uz8VD2PvZNHrfomNU+/HzuDZL1qj7LOmFuZ5ndPo+bLwi42HY+GNnqCX9J9D6DWcI4SlulP5GAC7ji/CE/gs5PbtqJQj/1l+lTojbhPh/lK5thUOI+z17SV2Un1T541mKE3gG4PurwYFaPgPA+0YDfJJ+41D6WvW8I0TzvPriw3DhKvrk/v5TwC45gYT/bWtoBLkDVPhsOYClwqeQ+T6v8ir6FcT9aK/QlKOLsPteY+cSoDvM+rhUfyy/mXj+0RLaqCL+6PnZqj8zTyPA+aswyrG2Gmz4bDlRauK8CP5ubDoNU5gI/cW/NA6Cj+j6UzYNAomHrPrJ5rky7sQs/sl813APVsz5+NrhAtWcWPxqIBuE6bQ0/sNggyQ6mbz+XJ/DBLr34PiCh/w8R00k/WGx5EuVY+D5ls63LsJmeP+wERg+zaBM/FZl2+fRn1T5WOcGCu3MSPyAxdFCvPcw++0V+YL96Gj+Cx4Ui5e/5PqkaH3LtOFA/fthsjcfp3j4=\",\"dtype\":\"float64\",\"order\":\"little\",\"shape\":[238]}},\"selected\":{\"id\":\"1430\"},\"selection_policy\":{\"id\":\"1444\"}},\"id\":\"1429\",\"type\":\"ColumnDataSource\"},{\"attributes\":{},\"id\":\"1410\",\"type\":\"SaveTool\"},{\"attributes\":{},\"id\":\"1491\",\"type\":\"UnionRenderers\"},{\"attributes\":{\"overlay\":{\"id\":\"1415\"}},\"id\":\"1413\",\"type\":\"BoxZoomTool\"},{\"attributes\":{\"fill_color\":{\"value\":\"#e5ae38\"},\"hatch_color\":{\"value\":\"#e5ae38\"},\"line_color\":{\"value\":\"#e5ae38\"},\"size\":{\"value\":5.477225575051661},\"x\":{\"field\":\"TotalCoinsMined\"},\"y\":{\"field\":\"TotalCoinSupply\"}},\"id\":\"1475\",\"type\":\"Scatter\"},{\"attributes\":{},\"id\":\"1414\",\"type\":\"ResetTool\"},{\"attributes\":{\"source\":{\"id\":\"1472\"}},\"id\":\"1479\",\"type\":\"CDSView\"},{\"attributes\":{\"children\":[{\"id\":\"1386\"},{\"id\":\"1393\"},{\"id\":\"1650\"}],\"margin\":[0,0,0,0],\"name\":\"Row02546\",\"tags\":[\"embedded\"]},\"id\":\"1385\",\"type\":\"Row\"},{\"attributes\":{\"fill_alpha\":{\"value\":0.1},\"fill_color\":{\"value\":\"#e5ae38\"},\"hatch_alpha\":{\"value\":0.1},\"hatch_color\":{\"value\":\"#e5ae38\"},\"line_alpha\":{\"value\":0.1},\"line_color\":{\"value\":\"#e5ae38\"},\"size\":{\"value\":5.477225575051661},\"x\":{\"field\":\"TotalCoinsMined\"},\"y\":{\"field\":\"TotalCoinSupply\"}},\"id\":\"1476\",\"type\":\"Scatter\"},{\"attributes\":{\"label\":{\"value\":\"1\"},\"renderers\":[{\"id\":\"1456\"}]},\"id\":\"1470\",\"type\":\"LegendItem\"},{\"attributes\":{\"bottom_units\":\"screen\",\"coordinates\":null,\"fill_alpha\":0.5,\"fill_color\":\"lightgrey\",\"group\":null,\"left_units\":\"screen\",\"level\":\"overlay\",\"line_alpha\":1.0,\"line_color\":\"black\",\"line_dash\":[4,4],\"line_width\":2,\"right_units\":\"screen\",\"syncable\":false,\"top_units\":\"screen\"},\"id\":\"1415\",\"type\":\"BoxAnnotation\"},{\"attributes\":{\"margin\":[5,5,5,5],\"name\":\"HSpacer02550\",\"sizing_mode\":\"stretch_width\"},\"id\":\"1386\",\"type\":\"Spacer\"},{\"attributes\":{},\"id\":\"1444\",\"type\":\"UnionRenderers\"},{\"attributes\":{\"fill_color\":{\"value\":\"#fc4f30\"},\"hatch_color\":{\"value\":\"#fc4f30\"},\"line_color\":{\"value\":\"#fc4f30\"},\"size\":{\"value\":5.477225575051661},\"x\":{\"field\":\"TotalCoinsMined\"},\"y\":{\"field\":\"TotalCoinSupply\"}},\"id\":\"1453\",\"type\":\"Scatter\"},{\"attributes\":{\"fill_alpha\":{\"value\":0.1},\"fill_color\":{\"value\":\"#fc4f30\"},\"hatch_alpha\":{\"value\":0.1},\"hatch_color\":{\"value\":\"#fc4f30\"},\"line_alpha\":{\"value\":0.1},\"line_color\":{\"value\":\"#fc4f30\"},\"size\":{\"value\":5.477225575051661},\"x\":{\"field\":\"TotalCoinsMined\"},\"y\":{\"field\":\"TotalCoinSupply\"}},\"id\":\"1454\",\"type\":\"Scatter\"},{\"attributes\":{\"coordinates\":null,\"data_source\":{\"id\":\"1450\"},\"glyph\":{\"id\":\"1453\"},\"group\":null,\"hover_glyph\":null,\"muted_glyph\":{\"id\":\"1455\"},\"nonselection_glyph\":{\"id\":\"1454\"},\"selection_glyph\":{\"id\":\"1471\"},\"view\":{\"id\":\"1457\"}},\"id\":\"1456\",\"type\":\"GlyphRenderer\"},{\"attributes\":{},\"id\":\"1430\",\"type\":\"Selection\"},{\"attributes\":{},\"id\":\"1467\",\"type\":\"UnionRenderers\"},{\"attributes\":{},\"id\":\"1427\",\"type\":\"BasicTickFormatter\"},{\"attributes\":{\"angle\":{\"value\":0.0},\"fill_alpha\":{\"value\":1.0},\"fill_color\":{\"value\":\"#6d904f\"},\"hatch_alpha\":{\"value\":1.0},\"hatch_color\":{\"value\":\"#6d904f\"},\"hatch_scale\":{\"value\":12.0},\"hatch_weight\":{\"value\":1.0},\"line_alpha\":{\"value\":1.0},\"line_cap\":{\"value\":\"butt\"},\"line_color\":{\"value\":\"#6d904f\"},\"line_dash\":{\"value\":[]},\"line_dash_offset\":{\"value\":0},\"line_join\":{\"value\":\"bevel\"},\"line_width\":{\"value\":1},\"marker\":{\"value\":\"circle\"},\"size\":{\"value\":5.477225575051661},\"x\":{\"field\":\"TotalCoinsMined\"},\"y\":{\"field\":\"TotalCoinSupply\"}},\"id\":\"1521\",\"type\":\"Scatter\"},{\"attributes\":{},\"id\":\"1428\",\"type\":\"AllLabels\"},{\"attributes\":{\"source\":{\"id\":\"1450\"}},\"id\":\"1457\",\"type\":\"CDSView\"},{\"attributes\":{},\"id\":\"1424\",\"type\":\"BasicTickFormatter\"},{\"attributes\":{\"fill_alpha\":{\"value\":0.1},\"fill_color\":{\"value\":\"#30a2da\"},\"hatch_alpha\":{\"value\":0.1},\"hatch_color\":{\"value\":\"#30a2da\"},\"line_alpha\":{\"value\":0.1},\"line_color\":{\"value\":\"#30a2da\"},\"size\":{\"value\":5.477225575051661},\"x\":{\"field\":\"TotalCoinsMined\"},\"y\":{\"field\":\"TotalCoinSupply\"}},\"id\":\"1433\",\"type\":\"Scatter\"},{\"attributes\":{\"fill_alpha\":{\"value\":0.2},\"fill_color\":{\"value\":\"#30a2da\"},\"hatch_alpha\":{\"value\":0.2},\"hatch_color\":{\"value\":\"#30a2da\"},\"line_alpha\":{\"value\":0.2},\"line_color\":{\"value\":\"#30a2da\"},\"size\":{\"value\":5.477225575051661},\"x\":{\"field\":\"TotalCoinsMined\"},\"y\":{\"field\":\"TotalCoinSupply\"}},\"id\":\"1434\",\"type\":\"Scatter\"},{\"attributes\":{\"source\":{\"id\":\"1429\"}},\"id\":\"1436\",\"type\":\"CDSView\"},{\"attributes\":{\"angle\":{\"value\":0.0},\"fill_alpha\":{\"value\":1.0},\"fill_color\":{\"value\":\"#e5ae38\"},\"hatch_alpha\":{\"value\":1.0},\"hatch_color\":{\"value\":\"#e5ae38\"},\"hatch_scale\":{\"value\":12.0},\"hatch_weight\":{\"value\":1.0},\"line_alpha\":{\"value\":1.0},\"line_cap\":{\"value\":\"butt\"},\"line_color\":{\"value\":\"#e5ae38\"},\"line_dash\":{\"value\":[]},\"line_dash_offset\":{\"value\":0},\"line_join\":{\"value\":\"bevel\"},\"line_width\":{\"value\":1},\"marker\":{\"value\":\"circle\"},\"size\":{\"value\":5.477225575051661},\"x\":{\"field\":\"TotalCoinsMined\"},\"y\":{\"field\":\"TotalCoinSupply\"}},\"id\":\"1495\",\"type\":\"Scatter\"},{\"attributes\":{\"fill_color\":{\"value\":\"#6d904f\"},\"hatch_color\":{\"value\":\"#6d904f\"},\"line_color\":{\"value\":\"#6d904f\"},\"size\":{\"value\":5.477225575051661},\"x\":{\"field\":\"TotalCoinsMined\"},\"y\":{\"field\":\"TotalCoinSupply\"}},\"id\":\"1499\",\"type\":\"Scatter\"},{\"attributes\":{\"tools\":[{\"id\":\"1389\"},{\"id\":\"1410\"},{\"id\":\"1411\"},{\"id\":\"1412\"},{\"id\":\"1413\"},{\"id\":\"1414\"}]},\"id\":\"1416\",\"type\":\"Toolbar\"},{\"attributes\":{\"end\":1.1,\"reset_end\":1.1,\"reset_start\":-0.1,\"start\":-0.1,\"tags\":[[[\"TotalCoinSupply\",\"TotalCoinSupply\",null]]]},\"id\":\"1388\",\"type\":\"Range1d\"},{\"attributes\":{\"coordinates\":null,\"data_source\":{\"id\":\"1429\"},\"glyph\":{\"id\":\"1432\"},\"group\":null,\"hover_glyph\":null,\"muted_glyph\":{\"id\":\"1434\"},\"nonselection_glyph\":{\"id\":\"1433\"},\"selection_glyph\":{\"id\":\"1449\"},\"view\":{\"id\":\"1436\"}},\"id\":\"1435\",\"type\":\"GlyphRenderer\"},{\"attributes\":{},\"id\":\"1497\",\"type\":\"Selection\"},{\"attributes\":{\"margin\":[5,5,5,5],\"name\":\"HSpacer02551\",\"sizing_mode\":\"stretch_width\"},\"id\":\"1650\",\"type\":\"Spacer\"},{\"attributes\":{\"angle\":{\"value\":0.0},\"fill_alpha\":{\"value\":1.0},\"fill_color\":{\"value\":\"#fc4f30\"},\"hatch_alpha\":{\"value\":1.0},\"hatch_color\":{\"value\":\"#fc4f30\"},\"hatch_scale\":{\"value\":12.0},\"hatch_weight\":{\"value\":1.0},\"line_alpha\":{\"value\":1.0},\"line_cap\":{\"value\":\"butt\"},\"line_color\":{\"value\":\"#fc4f30\"},\"line_dash\":{\"value\":[]},\"line_dash_offset\":{\"value\":0},\"line_join\":{\"value\":\"bevel\"},\"line_width\":{\"value\":1},\"marker\":{\"value\":\"circle\"},\"size\":{\"value\":5.477225575051661},\"x\":{\"field\":\"TotalCoinsMined\"},\"y\":{\"field\":\"TotalCoinSupply\"}},\"id\":\"1471\",\"type\":\"Scatter\"},{\"attributes\":{\"below\":[{\"id\":\"1402\"}],\"center\":[{\"id\":\"1405\"},{\"id\":\"1409\"},{\"id\":\"1447\"}],\"height\":500,\"left\":[{\"id\":\"1406\"}],\"margin\":[5,5,5,5],\"min_border_bottom\":10,\"min_border_left\":10,\"min_border_right\":10,\"min_border_top\":10,\"renderers\":[{\"id\":\"1435\"},{\"id\":\"1456\"},{\"id\":\"1478\"},{\"id\":\"1502\"}],\"sizing_mode\":\"fixed\",\"title\":{\"id\":\"1394\"},\"toolbar\":{\"id\":\"1416\"},\"width\":800,\"x_range\":{\"id\":\"1387\"},\"x_scale\":{\"id\":\"1398\"},\"y_range\":{\"id\":\"1388\"},\"y_scale\":{\"id\":\"1400\"}},\"id\":\"1393\",\"subtype\":\"Figure\",\"type\":\"Plot\"},{\"attributes\":{\"fill_color\":{\"value\":\"#30a2da\"},\"hatch_color\":{\"value\":\"#30a2da\"},\"line_color\":{\"value\":\"#30a2da\"},\"size\":{\"value\":5.477225575051661},\"x\":{\"field\":\"TotalCoinsMined\"},\"y\":{\"field\":\"TotalCoinSupply\"}},\"id\":\"1432\",\"type\":\"Scatter\"},{\"attributes\":{},\"id\":\"1473\",\"type\":\"Selection\"}],\"root_ids\":[\"1385\"]},\"title\":\"Bokeh Application\",\"version\":\"2.4.1\"}};\n",
       "    var render_items = [{\"docid\":\"913c3733-82ce-4d2e-b1cc-0ffe1400bff6\",\"root_ids\":[\"1385\"],\"roots\":{\"1385\":\"511fb24e-b391-42dc-b5eb-a43bdc4428ce\"}}];\n",
       "    root.Bokeh.embed.embed_items_notebook(docs_json, render_items);\n",
       "    for (const render_item of render_items) {\n",
       "      for (const root_id of render_item.root_ids) {\n",
       "\tconst id_el = document.getElementById(root_id)\n",
       "\tif (id_el.children.length && (id_el.children[0].className === 'bk-root')) {\n",
       "\t  const root_el = id_el.children[0]\n",
       "\t  root_el.id = root_el.id + '-rendered'\n",
       "\t}\n",
       "      }\n",
       "    }\n",
       "  }\n",
       "  if (root.Bokeh !== undefined && root.Bokeh.Panel !== undefined) {\n",
       "    embed_document(root);\n",
       "  } else {\n",
       "    var attempts = 0;\n",
       "    var timer = setInterval(function(root) {\n",
       "      if (root.Bokeh !== undefined && root.Bokeh.Panel !== undefined) {\n",
       "        clearInterval(timer);\n",
       "        embed_document(root);\n",
       "      } else if (document.readyState == \"complete\") {\n",
       "        attempts++;\n",
       "        if (attempts > 200) {\n",
       "          clearInterval(timer);\n",
       "          console.log(\"Bokeh: ERROR: Unable to run BokehJS code because BokehJS library is missing\");\n",
       "        }\n",
       "      }\n",
       "    }, 25, root)\n",
       "  }\n",
       "})(window);</script>"
      ],
      "text/plain": [
       ":NdOverlay   [Class]\n",
       "   :Scatter   [TotalCoinsMined]   (TotalCoinSupply,CoinName)"
      ]
     },
     "execution_count": 211,
     "metadata": {
      "application/vnd.holoviews_exec.v0+json": {
       "id": "1385"
      }
     },
     "output_type": "execute_result"
    }
   ],
   "source": [
    "# Create a hvplot.scatter plot using x=\"TotalCoinsMined\" and y=\"TotalCoinSupply\".\n",
    "plot_df.hvplot.scatter(\n",
    "    x=\"TotalCoinsMined\",\n",
    "    y=\"TotalCoinSupply\",\n",
    "    by=\"Class\",\n",
    "    hover_cols=[\"CoinName\"],\n",
    "    xlabel=\"Total Coins Mined\",\n",
    "    ylabel=\"Total Coin Supply\",\n",
    "    title=\"Cryptocurrencies\",\n",
    "    width=800,\n",
    "    height=500,\n",
    "    legend=\"top_left\",\n",
    ")\n"
   ]
  },
  {
   "cell_type": "code",
   "execution_count": null,
   "metadata": {},
   "outputs": [],
   "source": []
  }
 ],
 "metadata": {
  "file_extension": ".py",
  "kernelspec": {
   "display_name": "Python 3 (ipykernel)",
   "language": "python",
   "name": "python3"
  },
  "language_info": {
   "codemirror_mode": {
    "name": "ipython",
    "version": 3
   },
   "file_extension": ".py",
   "mimetype": "text/x-python",
   "name": "python",
   "nbconvert_exporter": "python",
   "pygments_lexer": "ipython3",
   "version": "3.9.7"
  },
  "latex_envs": {
   "LaTeX_envs_menu_present": true,
   "autoclose": false,
   "autocomplete": true,
   "bibliofile": "biblio.bib",
   "cite_by": "apalike",
   "current_citInitial": 1,
   "eqLabelWithNumbers": true,
   "eqNumInitial": 1,
   "hotkeys": {
    "equation": "Ctrl-E",
    "itemize": "Ctrl-I"
   },
   "labels_anchors": false,
   "latex_user_defs": false,
   "report_style_numbering": false,
   "user_envs_cfg": false
  },
  "mimetype": "text/x-python",
  "name": "python",
  "npconvert_exporter": "python",
  "pygments_lexer": "ipython3",
  "version": 3,
  "vscode": {
   "interpreter": {
    "hash": "5384d77d82de63fd599f73e77f9ec786e7719288bf80a29ec0288c670ac3cf32"
   }
  }
 },
 "nbformat": 4,
 "nbformat_minor": 2
}
